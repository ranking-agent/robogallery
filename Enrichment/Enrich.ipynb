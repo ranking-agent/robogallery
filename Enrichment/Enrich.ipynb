{
 "cells": [
  {
   "cell_type": "code",
   "execution_count": 1,
   "id": "affected-profit",
   "metadata": {},
   "outputs": [],
   "source": [
    "from use_translator import *"
   ]
  },
  {
   "cell_type": "code",
   "execution_count": 2,
   "id": "permanent-consultation",
   "metadata": {},
   "outputs": [],
   "source": [
    "def create_query(disease_id, inferred = True):\n",
    "    query_graph = {'nodes': {'disease': {'ids': [disease_id]}},\n",
    "                   'edges': {}}\n",
    "    pnode = 'disease'\n",
    "    cnode = 'chemical'\n",
    "    query_graph['nodes'][cnode] = {'categories': ['biolink:ChemicalEntity']}\n",
    "    query_graph['edges']['t_edge'] = {'object': pnode, 'subject': cnode, 'predicates':['biolink:treats']}\n",
    "    if inferred:\n",
    "        query_graph['edges']['t_edge']['knowledge_type']= 'inferred'\n",
    "    m = {'message':{'query_graph':query_graph}}\n",
    "    return m"
   ]
  },
  {
   "cell_type": "code",
   "execution_count": 30,
   "id": "cooperative-walnut",
   "metadata": {},
   "outputs": [],
   "source": [
    "aragorn_url=\"https://aragorn.ci.transltr.io/aragorn/query\"\n",
    "ars_url='https://ars.ci.transltr.io/ars/api'"
   ]
  },
  {
   "cell_type": "code",
   "execution_count": 4,
   "id": "twenty-width",
   "metadata": {},
   "outputs": [],
   "source": [
    "creative_at = create_query(\"MONDO:0011399\")"
   ]
  },
  {
   "cell_type": "code",
   "execution_count": 5,
   "id": "expected-cartridge",
   "metadata": {},
   "outputs": [
    {
     "name": "stdout",
     "output_type": "stream",
     "text": [
      "https://ars.ci.transltr.io/ars/api/submit\n",
      "201\n",
      "https://arax.ncats.io/?source=ARS&id=39f06992-1462-47d2-bd0d-5b2808c9d946\n"
     ]
    },
    {
     "data": {
      "text/plain": [
       "'39f06992-1462-47d2-bd0d-5b2808c9d946'"
      ]
     },
     "execution_count": 5,
     "metadata": {},
     "output_type": "execute_result"
    }
   ],
   "source": [
    "x = submit_to_ars(creative_at, ars_url=ars_url)"
   ]
  },
  {
   "cell_type": "code",
   "execution_count": 7,
   "id": "empty-phrase",
   "metadata": {},
   "outputs": [],
   "source": [
    "ars_results = retrieve_ars_results('39f06992-1462-47d2-bd0d-5b2808c9d946',ars_url=ars_url)"
   ]
  },
  {
   "cell_type": "code",
   "execution_count": 20,
   "id": "swiss-complex",
   "metadata": {},
   "outputs": [],
   "source": [
    "def get_results(ares):\n",
    "    chem_ids = {}\n",
    "    for responder in ares:\n",
    "        if responder.startswith('ara'):\n",
    "            results = ares[responder]['message'].get('results',[])\n",
    "            if len(results) > 0:\n",
    "                for res in results:\n",
    "                    cids = [ chem['id'] for chem in  res['node_bindings']['chemical'] ]\n",
    "                    for cid in cids:\n",
    "                        chem_ids[cid] = ares[responder]['message']['knowledge_graph']['nodes'][cid]\n",
    "    return chem_ids\n",
    "                "
   ]
  },
  {
   "cell_type": "code",
   "execution_count": 24,
   "id": "dramatic-latin",
   "metadata": {},
   "outputs": [
    {
     "data": {
      "text/plain": [
       "{'disease': [{'id': 'MONDO:0000984',\n",
       "   'query_id': 'MONDO:0011399',\n",
       "   'attributes': None}],\n",
       " 'chemical': [{'id': 'PUBCHEM.COMPOUND:2973',\n",
       "   'query_id': None,\n",
       "   'attributes': None}]}"
      ]
     },
     "execution_count": 24,
     "metadata": {},
     "output_type": "execute_result"
    }
   ],
   "source": [
    "ars_results['ara-aragorn']['message']['results'][0]['node_bindings']"
   ]
  },
  {
   "cell_type": "code",
   "execution_count": 21,
   "id": "toxic-genetics",
   "metadata": {},
   "outputs": [],
   "source": [
    "chem_ids = get_results(ars_results)"
   ]
  },
  {
   "cell_type": "code",
   "execution_count": 22,
   "id": "residential-moment",
   "metadata": {},
   "outputs": [
    {
     "data": {
      "text/plain": [
       "1416"
      ]
     },
     "execution_count": 22,
     "metadata": {},
     "output_type": "execute_result"
    }
   ],
   "source": [
    "len(chem_ids)"
   ]
  },
  {
   "cell_type": "code",
   "execution_count": 56,
   "id": "circular-bronze",
   "metadata": {},
   "outputs": [],
   "source": [
    "def create_enrichment_query(identifiers):\n",
    "    trapi = {\"message\": {\n",
    "        \"query_graph\": {\"nodes\": {\"input_chemical\": {\"categories\": [\"biolink:ChemicalEntity\"]}}, \"edges\": {}},\n",
    "        \"knowledge_graph\": {\"nodes\": {}, \"edges\": {}},\n",
    "        \"results\": []\n",
    "    },\n",
    "    \"workflow\": [{\"id\": \"enrich_results\"}]\n",
    "    }\n",
    "    for ident in identifiers:\n",
    "        trapi['message']['knowledge_graph']['nodes'][ident] = identifiers[ident]\n",
    "        result = {'node_bindings': {'input_chemical': [{'id': ident}]}, 'edge_bindings':{}}\n",
    "        trapi['message']['results'].append(result)\n",
    "    return trapi\n",
    "        "
   ]
  },
  {
   "cell_type": "code",
   "execution_count": 57,
   "id": "fifteen-spokesman",
   "metadata": {},
   "outputs": [],
   "source": [
    "trapi = create_enrichment_query(chem_ids)"
   ]
  },
  {
   "cell_type": "code",
   "execution_count": 58,
   "id": "perfect-fiber",
   "metadata": {},
   "outputs": [],
   "source": [
    "enriched = requests.post(aragorn_url, json=trapi)"
   ]
  },
  {
   "cell_type": "code",
   "execution_count": 59,
   "id": "divided-norwegian",
   "metadata": {},
   "outputs": [
    {
     "data": {
      "text/plain": [
       "200"
      ]
     },
     "execution_count": 59,
     "metadata": {},
     "output_type": "execute_result"
    }
   ],
   "source": [
    "enriched.status_code"
   ]
  },
  {
   "cell_type": "code",
   "execution_count": 60,
   "id": "wrong-christmas",
   "metadata": {},
   "outputs": [
    {
     "data": {
      "text/plain": [
       "2868"
      ]
     },
     "execution_count": 60,
     "metadata": {},
     "output_type": "execute_result"
    }
   ],
   "source": [
    "len(enriched.json()['message']['results'])"
   ]
  },
  {
   "cell_type": "code",
   "execution_count": 118,
   "id": "chemical-place",
   "metadata": {},
   "outputs": [],
   "source": [
    "def extract(res,kg):\n",
    "    nchems = len( result['node_bindings']['input_chemical'])\n",
    "    if nchems == 1:\n",
    "        return\n",
    "    nnb = len(result['node_bindings'])\n",
    "    if nnb == 1:\n",
    "        rules = extract_property(result['node_bindings'])\n",
    "        for prop,pvalue,num in rules:\n",
    "            print(prop,pvalue,num)\n",
    "    elif nnb == 2:\n",
    "        rule, pvalue, num = extract_edge(result,kg)\n",
    "        #I don't like all these\n",
    "        if pvalue == 0:\n",
    "            return\n",
    "        pred = rule[1]\n",
    "        if pred in ['biolink:causes','biolink:contributes_to','biolink:part_of','biolink:biomarker_for','biolink:contraindicated_for']:\n",
    "            return\n",
    "        print (rule, pvalue,num)\n",
    "    else:\n",
    "        print('wtf')"
   ]
  },
  {
   "cell_type": "code",
   "execution_count": 119,
   "id": "fewer-governor",
   "metadata": {},
   "outputs": [],
   "source": [
    "def extract_property(nb):\n",
    "    chem = nb['input_chemical']\n",
    "    n = len(chem)\n",
    "    atts = chem[0]['attributes']\n",
    "    for att in atts:\n",
    "        if att['original_attribute_name'] == 'p_value':\n",
    "            pvalues = att['value']\n",
    "        if att['original_attribute_name'] == 'properties':\n",
    "            props = att['value']\n",
    "    rules = [ (pr,pv,n) for pv,pr in zip(pvalues,props)]\n",
    "    return rules"
   ]
  },
  {
   "cell_type": "code",
   "execution_count": 123,
   "id": "generous-limit",
   "metadata": {},
   "outputs": [],
   "source": [
    "def extract_edge(res,kg):\n",
    "    nb = res['node_bindings']\n",
    "    chem = nb['input_chemical']\n",
    "    chem_ids = [ c['id'] for c in chem]\n",
    "    num_chem = len(chem)\n",
    "    atts = chem[0]['attributes']\n",
    "    for att in atts:\n",
    "        if att['original_attribute_name'] == 'p_value':\n",
    "            p = att['value']\n",
    "    kk = set(nb.keys())\n",
    "    kk.remove('input_chemical')\n",
    "    ok = list(kk)[0]\n",
    "    if len( nb[ok] ) > 1:\n",
    "        raise 'y'\n",
    "    othernode_id = nb[ok][0]['id']\n",
    "    othernode_name = kg['nodes'][othernode_id]['name']\n",
    "    for k,v in res['edge_bindings'].items():\n",
    "        predicate = kg['edges'][v[0]['id']]['predicate']\n",
    "        subject = kg['edges'][v[0]['id']]['subject']\n",
    "        if subject in chem_ids:\n",
    "            rule = ('?',predicate,(othernode_id,othernode_name))\n",
    "        else:\n",
    "            rule = ((othernode_id,othernode_name),predicate,'?')\n",
    "    return rule, p, num_chem"
   ]
  },
  {
   "cell_type": "code",
   "execution_count": 124,
   "id": "distinguished-pepper",
   "metadata": {},
   "outputs": [
    {
     "name": "stdout",
     "output_type": "stream",
     "text": [
      "CHEBI_ROLE:drug 5.754933058996342e-39 503\n",
      "CHEBI_ROLE:pharmaceutical 4.5686170998782305e-37 503\n",
      "CHEBI_ROLE:immunomodulator 1.831972150882083e-22 42\n",
      "CHEBI_ROLE:cardiovascular_drug 6.085125607211122e-19 79\n",
      "CHEBI_ROLE:immunosuppressive_agent 1.9829640637427237e-18 29\n",
      "CHEBI_ROLE:antihypertensive_agent 6.2594322686768574e-18 50\n",
      "CHEBI_ROLE:drug_allergen 8.937639169023616e-15 30\n",
      "CHEBI_ROLE:micronutrient 1.4875496653146656e-14 22\n",
      "CHEBI_ROLE:nutrient 1.9247602497041452e-14 25\n",
      "CHEBI_ROLE:prodrug 1.008080563614563e-12 40\n",
      "CHEBI_ROLE:pro-agent 8.108650948311721e-10 40\n",
      "CHEBI_ROLE:nutraceutical 1.6781866196274058e-12 23\n",
      "CHEBI_ROLE:xenobiotic 1.6151276408977996e-11 58\n",
      "CHEBI_ROLE:anti-inflammatory_drug 2.9796418567800253e-11 42\n",
      "CHEBI_ROLE:antimetabolite 1.5796757493803551e-10 23\n",
      "CHEBI_ROLE:antagonist 2.4871427836008957e-10 64\n",
      "CHEBI_ROLE:diuretic 5.350713674687563e-10 15\n",
      "CHEBI_ROLE:environmental_contaminant 9.91827688942707e-10 53\n",
      "CHEBI_ROLE:central_nervous_system_drug 1.5579141009865073e-09 59\n",
      "CHEBI_ROLE:psychotropic_drug 2.470243976934965e-09 43\n",
      "CHEBI_ROLE:pharmacological_role 3.621964963815126e-09 172\n",
      "CHEBI_ROLE:anticonvulsant 9.199542023964262e-09 22\n",
      "CHEBI_ROLE:antiinfective_agent 3.8109677207587746e-08 95\n",
      "CHEBI_ROLE:anti-arrhythmia_drug 4.6261231939201716e-08 19\n",
      "CHEBI_ROLE:antimicrobial_drug 1.7622333095680263e-07 78\n",
      "CHEBI_ROLE:central_nervous_system_depressant 2.3572038352970254e-07 40\n",
      "CHEBI_ROLE:vasodilator_agent 2.5620816722408946e-07 27\n",
      "CHEBI_ROLE:antibacterial_drug 4.6991534478489155e-07 43\n",
      "CHEBI_ROLE:enzyme_inhibitor 4.956698288527062e-07 200\n",
      "CHEBI_ROLE:receptor_modulator 1.1777137914644634e-06 26\n",
      "CHEBI_ROLE:hormone_antagonist 1.553787360845789e-06 19\n",
      "CHEBI_ROLE:inhibitor 1.9115502561575655e-06 212\n",
      "CHEBI_ROLE:EC_3.5.1.98_(histone_deacetylase)_inhibitor 2.020125349652528e-06 12\n",
      "CHEBI_ROLE:DNA_synthesis_inhibitor 2.7269322407043657e-06 12\n",
      "CHEBI_ROLE:antineoplastic_agent 3.4182307384882603e-06 149\n",
      "CHEBI_ROLE:alkylating_agent 4.014560851093382e-06 15\n",
      "CHEBI_ROLE:hormone_receptor_modulator 4.363759509176951e-06 23\n",
      "CHEBI_ROLE:antidepressant 5.219946272753209e-06 20\n",
      "CHEBI_ROLE:angiotensin_receptor_antagonist 7.048449607484022e-06 7\n",
      "CHEBI_ROLE:EC_3.5.1.*_(non-peptide_linear_amide_C-N_hydrolase)_inhibitor 8.737485103346423e-06 14\n",
      "CHEBI_ROLE:tranquilizing_drug 1.1982130768988228e-05 23\n",
      "CHEBI_ROLE:beta-adrenergic_antagonist 1.3525446331392627e-05 12\n",
      "CHEBI_ROLE:antiemetic 1.6100627238121545e-05 14\n",
      "CHEBI_ROLE:EC_3.5.*_(hydrolases_acting_on_non-peptide_C-N_bonds)_inhibitor 2.0987381950947837e-05 16\n",
      "CHEBI_ROLE:tubulin_modulator 2.6330601612772512e-05 9\n",
      "CHEBI_ROLE:sedative 3.1939560490934617e-05 15\n",
      "CHEBI_ROLE:tyrosine_kinase_inhibitor 3.970492692614802e-05 20\n",
      "CHEBI_ROLE:EC_3.*_(hydrolase)_inhibitor 4.0077404365068e-05 80\n",
      "CHEBI_ROLE:EC_3.4.21.26_(prolyl_oligopeptidase)_inhibitor 4.884182805970379e-05 9\n",
      "CHEBI_ROLE:dermatologic_drug 7.125357347329147e-05 16\n",
      "CHEBI_ROLE:bone_density_conservation_agent 7.381716914110575e-05 11\n",
      "CHEBI_ROLE:calcium_channel_blocker 7.381716914110575e-05 11\n",
      "CHEBI_ROLE:microtubule-destabilising_agent 7.904153661894302e-05 7\n",
      "CHEBI_ROLE:EC_3.4.15.*_(peptidyl-dipeptidase)_inhibitor 8.28519326614158e-05 10\n",
      "CHEBI_ROLE:EC_3.4.15.1_(peptidyl-dipeptidase_A)_inhibitor 8.28519326614158e-05 10\n",
      "CHEBI_ROLE:sympatholytic_agent 9.750831308648536e-05 6\n",
      "('?', 'biolink:molecularly_interacts_with', ('NCBIGene:5243', 'ABCB1')) 1.7722012257259013e-232 135\n",
      "('?', 'biolink:molecularly_interacts_with', ('NCBIGene:1559', 'CYP2C9')) 6.108866925766563e-224 130\n",
      "('?', 'biolink:increases_transport_of', ('UniProtKB:P08684', 'CP3A4_HUMAN Cytochrome P450 3A4 (sprot)')) 3.15626985569002e-222 147\n",
      "('?', 'biolink:related_to', ('CHEBI:23924', 'enzyme inhibitor')) 1.5237945039510061e-190 198\n",
      "('?', 'biolink:molecularly_interacts_with', ('NCBIGene:1565', 'CYP2D6')) 2.322171041339876e-174 109\n",
      "('?', 'biolink:molecularly_interacts_with', ('NCBIGene:1557', 'CYP2C19')) 1.1688225173807548e-160 95\n",
      "('?', 'biolink:molecularly_interacts_with', ('NCBIGene:1544', 'CYP1A2')) 1.1884613520186742e-160 97\n",
      "('?', 'biolink:molecularly_interacts_with', ('NCBIGene:1558', 'CYP2C8')) 1.9788806745197373e-154 88\n",
      "(('NCBIGene:836', 'CASP3'), 'biolink:activity_increased_by', '?') 2.290837241208869e-154 128\n",
      "('?', 'biolink:treats', ('MONDO:0005044', 'hypertensive disorder')) 1.5159264215052115e-146 114\n",
      "('?', 'biolink:related_to', ('CHEBI:35610', 'antineoplastic agent')) 3.9699830115491103e-146 149\n",
      "('?', 'biolink:entity_negatively_regulates_entity', ('NCBIGene:991', 'CDC20')) 2.4998725765764847e-131 77\n",
      "('?', 'biolink:molecularly_interacts_with', ('NCBIGene:1577', 'CYP3A5')) 1.9355465664685353e-130 76\n",
      "('?', 'biolink:treats', ('MONDO:0005240', 'kidney disease')) 9.968125215308994e-130 84\n",
      "('?', 'biolink:increases_degradation_of', ('NCBIGene:836', 'CASP3')) 9.005997751137168e-127 100\n",
      "('?', 'biolink:increases_transport_of', ('UniProtKB:P11712', 'CP2C9_HUMAN Cytochrome P450 2C9 (sprot)')) 1.7002831050413002e-123 81\n",
      "('?', 'biolink:entity_positively_regulates_entity', ('NCBIGene:54541', 'DDIT4')) 9.276123975820895e-120 67\n",
      "('?', 'biolink:increases_transport_of', ('UniProtKB:P08183', 'MDR1_HUMAN ATP-dependent translocase ABCB1 (sprot)')) 1.3243707366530077e-116 72\n",
      "('?', 'biolink:entity_negatively_regulates_entity', ('NCBIGene:6192', 'RPS4Y1')) 1.2336906154378771e-111 64\n",
      "('?', 'biolink:increases_transport_of', ('UniProtKB:P10635', 'CP2D6_HUMAN Cytochrome P450 2D6 (sprot)')) 1.766814431846472e-110 74\n",
      "('?', 'biolink:increases_degradation_of', ('NCBIGene:142', 'PARP1')) 2.5992144875664186e-107 83\n",
      "('?', 'biolink:treats', ('MONDO:0021100', 'breast neoplasm')) 2.643470458393966e-104 73\n",
      "('?', 'biolink:treats', ('MONDO:0001386', 'visual epilepsy')) 1.797499869008704e-103 83\n",
      "('?', 'biolink:entity_negatively_regulates_entity', ('NCBIGene:5111', 'PCNA')) 4.3429402481301046e-103 59\n",
      "('?', 'biolink:entity_positively_regulates_entity', ('NCBIGene:1831', 'TSC22D3')) 4.12539715063872e-101 55\n",
      "('?', 'biolink:treats', ('MONDO:0021668', 'disorder involving pain')) 3.050084083556413e-100 80\n",
      "('?', 'biolink:treats', ('MONDO:0003634', 'proteinuria')) 1.800746016156333e-99 60\n",
      "('?', 'biolink:treats', ('MONDO:0005252', 'heart failure')) 2.3662456648407588e-99 66\n",
      "('?', 'biolink:treats', ('MONDO:0002334', 'hematopoietic and lymphoid system neoplasm')) 6.737423494362622e-99 51\n",
      "('?', 'biolink:molecularly_interacts_with', ('NCBIGene:9356', 'SLC22A6')) 1.481824461893488e-98 55\n",
      "('?', 'biolink:entity_positively_regulates_entity', ('NCBIGene:4792', 'NFKBIA')) 1.9712055771529011e-97 52\n",
      "('?', 'biolink:molecularly_interacts_with', ('NCBIGene:1555', 'CYP2B6')) 2.8932574276177605e-96 56\n",
      "('?', 'biolink:treats', ('MONDO:0005070', 'neoplasm (disease)')) 6.856844996844336e-96 65\n",
      "('?', 'biolink:ameliorates', ('MONDO:0005044', 'hypertensive disorder')) 1.2351117725077359e-95 72\n",
      "('?', 'biolink:entity_positively_regulates_entity', ('NCBIGene:1026', 'CDKN1A')) 1.7736131988623054e-95 52\n",
      "('?', 'biolink:treats', ('UMLS:C0027659', 'Neoplasms, Experimental')) 2.2632407551166783e-94 62\n",
      "('?', 'biolink:entity_negatively_regulates_entity', ('NCBIGene:11065', 'UBE2C')) 4.6692913539797645e-94 50\n",
      "('?', 'biolink:ameliorates', ('MONDO:0021100', 'breast neoplasm')) 1.339682524156634e-93 66\n",
      "('?', 'biolink:entity_negatively_regulates_entity', ('NCBIGene:6182', 'MRPL12')) 3.4155707270503716e-93 52\n",
      "('?', 'biolink:related_to', ('CHEBI:35441', 'antiinfective agent')) 1.8581139746112752e-91 87\n",
      "('?', 'biolink:molecularly_interacts_with', ('NCBIGene:100861540', 'CYP3A7-CYP3A51P')) 2.4218617928798533e-91 53\n",
      "('?', 'biolink:molecularly_interacts_with', ('NCBIGene:1551', 'CYP3A7')) 2.4218617928798533e-91 53\n"
     ]
    }
   ],
   "source": [
    "knowledge_graph = enriched.json()['message']['knowledge_graph']\n",
    "for result in enriched.json()['message']['results']:\n",
    "    extract(result,knowledge_graph)"
   ]
  },
  {
   "cell_type": "code",
   "execution_count": null,
   "id": "legislative-knock",
   "metadata": {},
   "outputs": [],
   "source": []
  }
 ],
 "metadata": {
  "kernelspec": {
   "display_name": "Python 3",
   "language": "python",
   "name": "python3"
  },
  "language_info": {
   "codemirror_mode": {
    "name": "ipython",
    "version": 3
   },
   "file_extension": ".py",
   "mimetype": "text/x-python",
   "name": "python",
   "nbconvert_exporter": "python",
   "pygments_lexer": "ipython3",
   "version": "3.9.1"
  }
 },
 "nbformat": 4,
 "nbformat_minor": 5
}
