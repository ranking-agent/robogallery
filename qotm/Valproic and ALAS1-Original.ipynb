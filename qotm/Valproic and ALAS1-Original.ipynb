{
 "cells": [
  {
   "cell_type": "code",
   "execution_count": 8,
   "id": "parliamentary-nigeria",
   "metadata": {},
   "outputs": [],
   "source": [
    "from use_translator import *"
   ]
  },
  {
   "cell_type": "markdown",
   "id": "going-forty",
   "metadata": {},
   "source": [
    "PUBCHEM.COMPOUND:3121 is valproic acid\n",
    "\n",
    "NCBIGene:211 is ALAS1\n",
    "\n",
    "NB: ARAX UI displays valproic acid as \"Convulsifin\"\n",
    "\n",
    "\n",
    "This initial query is just looking for direct links between the two."
   ]
  },
  {
   "cell_type": "code",
   "execution_count": 9,
   "id": "asian-union",
   "metadata": {},
   "outputs": [],
   "source": [
    "query={\n",
    "    \"message\": {\n",
    "        \"query_graph\": {\n",
    "            \"edges\": {\n",
    "                \"e00\": {\n",
    "                    \"subject\": \"n01\",\n",
    "                    \"object\": \"n00\"\n",
    "                }\n",
    "            },\n",
    "            \"nodes\": {\n",
    "                \"n00\": {\n",
    "                    \"ids\": [\n",
    "                        \"PUBCHEM.COMPOUND:3121\"\n",
    "                    ]\n",
    "                },\n",
    "                \"n01\": {\n",
    "                    \"ids\": [\n",
    "                        \"NCBIGene:211\"\n",
    "                    ]\n",
    "                }\n",
    "            }\n",
    "        }\n",
    "    }\n",
    "}\n"
   ]
  },
  {
   "cell_type": "code",
   "execution_count": 10,
   "id": "universal-distribution",
   "metadata": {},
   "outputs": [
    {
     "name": "stdout",
     "output_type": "stream",
     "text": [
      "https://ars.transltr.io/ars/api/submit\n",
      "201\n",
      "https://arax.ncats.io/?source=ARS&id=b3ffebd5-95a6-4cc3-8007-8dc6bf6d2a17\n"
     ]
    }
   ],
   "source": [
    "va_alas1_pk = submit_to_ars(query)"
   ]
  },
  {
   "cell_type": "markdown",
   "id": "ultimate-judgment",
   "metadata": {},
   "source": [
    "The single translator edge found is: \n",
    "\n",
    "NCBIGene:211 biolink:entity_positively_regulated_by_entity PUBCHEM.COMPOUND:3121\n",
    "\n",
    "coming from the textminer KP.  It's correct, but is that surprising?  There's really nothing about this in chembl or other structured sources?"
   ]
  },
  {
   "cell_type": "markdown",
   "id": "present-illinois",
   "metadata": {},
   "source": [
    "What other entities connect? VP and ALFA1"
   ]
  },
  {
   "cell_type": "code",
   "execution_count": 21,
   "id": "premier-worry",
   "metadata": {},
   "outputs": [],
   "source": [
    "query={\n",
    "    \"message\": {\n",
    "        \"query_graph\": {\n",
    "            \"edges\": {\n",
    "                \"e00\": {\n",
    "                    \"subject\": \"n01\",\n",
    "                    \"object\": \"n00\"\n",
    "                },\n",
    "                \"e01\": {\n",
    "                    \"subject\": \"n01\",\n",
    "                    \"object\": \"n02\"\n",
    "                }\n",
    "            },\n",
    "            \"nodes\": {\n",
    "                \"n00\": {\n",
    "                    \"ids\": [\n",
    "                        \"PUBCHEM.COMPOUND:3121\"\n",
    "                    ]\n",
    "                },\n",
    "                \"n01\": {\n",
    "                    \"categories\": [\n",
    "                        \"biolink:NamedThing\"\n",
    "                    ]\n",
    "                },\n",
    "                \"n02\": {\n",
    "                    \"ids\": [\n",
    "                        \"NCBIGene:211\"\n",
    "                    ]\n",
    "                }\n",
    "            }\n",
    "        }\n",
    "    }\n",
    "}"
   ]
  },
  {
   "cell_type": "code",
   "execution_count": 22,
   "id": "resident-insert",
   "metadata": {},
   "outputs": [
    {
     "name": "stdout",
     "output_type": "stream",
     "text": [
      "https://ars.transltr.io/ars/api/submit\n",
      "201\n",
      "https://arax.ncats.io/?source=ARS&id=3568272b-ac28-42f8-b47d-3d64a9db3da8\n"
     ]
    }
   ],
   "source": [
    "va_alas1_x_valp = submit_to_ars(query)"
   ]
  },
  {
   "cell_type": "code",
   "execution_count": 19,
   "id": "announced-garbage",
   "metadata": {},
   "outputs": [],
   "source": [
    "query={\n",
    "    \"message\": {\n",
    "        \"query_graph\": {\n",
    "            \"edges\": {\n",
    "                \"e00\": {\n",
    "                    \"subject\": \"n00\",\n",
    "                    \"object\": \"n01\",\n",
    "                    \"predicates\": [\"biolink:affects_expression_of\",\"biolink:entity_regulates_entity\"]\n",
    "                },\n",
    "                \"e01\": {\n",
    "                    \"subject\": \"n01\",\n",
    "                    \"object\": \"n02\",\n",
    "                    \"predicates\": [\"biolink:affects_expression_of\",\"biolink:entity_regulates_entity\"]\n",
    "                }\n",
    "            },\n",
    "            \"nodes\": {\n",
    "                \"n00\": {\n",
    "                    \"ids\": [\n",
    "                        \"PUBCHEM.COMPOUND:3121\"\n",
    "                    ]\n",
    "                },\n",
    "                \"n01\": {\n",
    "                    \"categories\": [\n",
    "                        \"biolink:Gene\"\n",
    "                    ]\n",
    "                },\n",
    "                \"n02\": {\n",
    "                    \"ids\": [\n",
    "                        \"NCBIGene:211\"\n",
    "                    ]\n",
    "                }\n",
    "            }\n",
    "        }\n",
    "    }\n",
    "}"
   ]
  },
  {
   "cell_type": "code",
   "execution_count": 20,
   "id": "impaired-pencil",
   "metadata": {},
   "outputs": [
    {
     "name": "stdout",
     "output_type": "stream",
     "text": [
      "https://ars.transltr.io/ars/api/submit\n",
      "201\n",
      "https://arax.ncats.io/?source=ARS&id=715f6076-4fe1-4cda-a0e6-ca14e88d9b7b\n"
     ]
    }
   ],
   "source": [
    "expresssion_result = submit_to_ars(query)"
   ]
  },
  {
   "cell_type": "code",
   "execution_count": 17,
   "id": "declared-companion",
   "metadata": {},
   "outputs": [],
   "source": [
    "query={\n",
    "    \"message\": {\n",
    "        \"query_graph\": {\n",
    "            \"edges\": {\n",
    "                \"e00\": {\n",
    "                    \"subject\": \"n00\",\n",
    "                    \"object\": \"n01\",\n",
    "                    \"predicates\": [\"biolink:affects_expression_of\"]\n",
    "                }\n",
    "            },\n",
    "            \"nodes\": {\n",
    "                \"n00\": {\n",
    "                    \"ids\": [\n",
    "                        \"PUBCHEM.COMPOUND:3121\"\n",
    "                    ]\n",
    "                },\n",
    "                \"n01\": {\n",
    "                    \"categories\": [\n",
    "                        \"biolink:Gene\"\n",
    "                    ]\n",
    "                }\n",
    "            }\n",
    "        }\n",
    "    }\n",
    "}"
   ]
  },
  {
   "cell_type": "code",
   "execution_count": 18,
   "id": "together-calibration",
   "metadata": {},
   "outputs": [
    {
     "name": "stdout",
     "output_type": "stream",
     "text": [
      "https://ars.transltr.io/ars/api/submit\n",
      "201\n",
      "https://arax.ncats.io/?source=ARS&id=a6aa6bc9-46c3-4b08-a914-ecbe596084be\n"
     ]
    }
   ],
   "source": [
    "expresssion_1hop = submit_to_ars(query)"
   ]
  },
  {
   "cell_type": "code",
   "execution_count": 25,
   "id": "critical-modem",
   "metadata": {},
   "outputs": [],
   "source": [
    "query={\n",
    "    \"message\": {\n",
    "        \"query_graph\": {\n",
    "            \"edges\": {\n",
    "                \"e00\": {\n",
    "                    \"subject\": \"n01\",\n",
    "                    \"object\": \"n00\"\n",
    "                },\n",
    "                \"e01\": {\n",
    "                    \"subject\": \"n01\",\n",
    "                    \"object\": \"n02\"\n",
    "                },\n",
    "                \"e02\": {\n",
    "                    \"subject\": \"n03\",\n",
    "                    \"object\": \"n02\"\n",
    "                },\n",
    "                \"e03\": {\n",
    "                    \"subject\": \"n01\",\n",
    "                    \"object\": \"n03\"\n",
    "                }\n",
    "            },\n",
    "            \"nodes\": {\n",
    "                \"n00\": {\n",
    "                    \"ids\": [\n",
    "                        \"PUBCHEM.COMPOUND:3121\"\n",
    "                    ]\n",
    "                },\n",
    "                \"n01\": {\n",
    "                    \"categories\": [\n",
    "                        \"biolink:Gene\"\n",
    "                    ]\n",
    "                },\n",
    "                \"n02\": {\n",
    "                    \"ids\": [\n",
    "                        \"NCBIGene:211\"\n",
    "                    ]\n",
    "                },\n",
    "                \"n03\": {\n",
    "                    \"categories\": [ \"biolink:BiologicalProcessOrActivity\"]\n",
    "                }\n",
    "            }\n",
    "        }\n",
    "    }\n",
    "}"
   ]
  },
  {
   "cell_type": "code",
   "execution_count": 26,
   "id": "extra-contest",
   "metadata": {},
   "outputs": [
    {
     "name": "stdout",
     "output_type": "stream",
     "text": [
      "https://ars.transltr.io/ars/api/submit\n",
      "201\n",
      "https://arax.ncats.io/?source=ARS&id=fad0a409-906d-41f9-a5bc-0b42187793c4\n"
     ]
    }
   ],
   "source": [
    "triangle_hop = submit_to_ars(query)"
   ]
  },
  {
   "cell_type": "code",
   "execution_count": 27,
   "id": "homeless-house",
   "metadata": {},
   "outputs": [],
   "source": [
    "query={\n",
    "    \"message\": {\n",
    "        \"query_graph\": {\n",
    "            \"edges\": {\n",
    "                \"e00\": {\n",
    "                    \"subject\": \"n01\",\n",
    "                    \"object\": \"n00\"\n",
    "                },\n",
    "                \"e01\": {\n",
    "                    \"subject\": \"n01\",\n",
    "                    \"object\": \"n02\"\n",
    "                },\n",
    "                \"e02\": {\n",
    "                    \"subject\": \"n03\",\n",
    "                    \"object\": \"n02\"\n",
    "                },\n",
    "                \"e03\": {\n",
    "                    \"subject\": \"n01\",\n",
    "                    \"object\": \"n03\"\n",
    "                },\n",
    "                \"e04\": {\n",
    "                    \"subject\": \"n04\",\n",
    "                    \"object\": \"n03\"\n",
    "                }\n",
    "            },\n",
    "            \"nodes\": {\n",
    "                \"n00\": {\n",
    "                    \"ids\": [\n",
    "                        \"PUBCHEM.COMPOUND:3121\"\n",
    "                    ]\n",
    "                },\n",
    "                \"n01\": {\n",
    "                    \"categories\": [\n",
    "                        \"biolink:Gene\"\n",
    "                    ]\n",
    "                },\n",
    "                \"n02\": {\n",
    "                    \"ids\": [\n",
    "                        \"NCBIGene:211\"\n",
    "                    ]\n",
    "                },\n",
    "                \"n03\": {\n",
    "                    \"categories\": [ \"biolink:BiologicalProcessOrActivity\"]\n",
    "                },\n",
    "                \"n04\": {\n",
    "                    \"ids\": [\"MONDO:0005154\"]\n",
    "                }\n",
    "            }\n",
    "        }\n",
    "    }\n",
    "}"
   ]
  },
  {
   "cell_type": "code",
   "execution_count": 28,
   "id": "identical-conservation",
   "metadata": {},
   "outputs": [
    {
     "name": "stdout",
     "output_type": "stream",
     "text": [
      "https://ars.transltr.io/ars/api/submit\n",
      "201\n",
      "https://arax.ncats.io/?source=ARS&id=4c90a4b3-f145-4fa7-91c8-3193b2bf282a\n"
     ]
    }
   ],
   "source": [
    "ggpd = submit_to_ars(query)"
   ]
  },
  {
   "cell_type": "code",
   "execution_count": 29,
   "id": "wooden-tissue",
   "metadata": {},
   "outputs": [],
   "source": [
    "query={\n",
    "    \"message\": {\n",
    "        \"query_graph\": {\n",
    "            \"edges\": {\n",
    "                \"e00\": {\n",
    "                    \"subject\": \"n01\",\n",
    "                    \"object\": \"n00\"\n",
    "                },\n",
    "                \"e01\": {\n",
    "                    \"subject\": \"n01\",\n",
    "                    \"object\": \"n02\"\n",
    "                },\n",
    "                \"e02\": {\n",
    "                    \"subject\": \"n03\",\n",
    "                    \"object\": \"n02\"\n",
    "                },\n",
    "                \"e03\": {\n",
    "                    \"subject\": \"n01\",\n",
    "                    \"object\": \"n03\"\n",
    "                },\n",
    "                \"e04\": {\n",
    "                    \"subject\": \"n04\",\n",
    "                    \"object\": \"n02\"\n",
    "                },\n",
    "                \"e05\": {\n",
    "                    \"subject\": \"n04\",\n",
    "                    \"object\": \"n01\"\n",
    "                }\n",
    "            },\n",
    "            \"nodes\": {\n",
    "                \"n00\": {\n",
    "                    \"ids\": [\n",
    "                        \"PUBCHEM.COMPOUND:3121\"\n",
    "                    ]\n",
    "                },\n",
    "                \"n01\": {\n",
    "                    \"categories\": [\n",
    "                        \"biolink:Gene\"\n",
    "                    ]\n",
    "                },\n",
    "                \"n02\": {\n",
    "                    \"ids\": [\n",
    "                        \"NCBIGene:211\"\n",
    "                    ]\n",
    "                },\n",
    "                \"n03\": {\n",
    "                    \"categories\": [ \"biolink:BiologicalProcessOrActivity\"]\n",
    "                },\n",
    "                \"n04\": {\n",
    "                    \"categories\": [ \"biolink:Disease\" ]\n",
    "                }\n",
    "            }\n",
    "        }\n",
    "    }\n",
    "}"
   ]
  },
  {
   "cell_type": "code",
   "execution_count": 30,
   "id": "animal-program",
   "metadata": {},
   "outputs": [
    {
     "name": "stdout",
     "output_type": "stream",
     "text": [
      "https://ars.transltr.io/ars/api/submit\n",
      "201\n",
      "https://arax.ncats.io/?source=ARS&id=1da43769-a82b-4f1a-bef3-878a50960f78\n"
     ]
    }
   ],
   "source": [
    "doubleTriangle = submit_to_ars(query)"
   ]
  },
  {
   "cell_type": "code",
   "execution_count": null,
   "id": "dietary-clark",
   "metadata": {},
   "outputs": [],
   "source": []
  }
 ],
 "metadata": {
  "kernelspec": {
   "display_name": "Python 3",
   "language": "python",
   "name": "python3"
  },
  "language_info": {
   "codemirror_mode": {
    "name": "ipython",
    "version": 3
   },
   "file_extension": ".py",
   "mimetype": "text/x-python",
   "name": "python",
   "nbconvert_exporter": "python",
   "pygments_lexer": "ipython3",
   "version": "3.9.1"
  }
 },
 "nbformat": 4,
 "nbformat_minor": 5
}
