{
 "cells": [
  {
   "cell_type": "code",
   "execution_count": 34,
   "id": "parliamentary-nigeria",
   "metadata": {},
   "outputs": [],
   "source": [
    "from use_translator import *"
   ]
  },
  {
   "cell_type": "markdown",
   "id": "going-forty",
   "metadata": {},
   "source": [
    "PUBCHEM.COMPOUND:3121 is valproic acid\n",
    "\n",
    "NCBIGene:211 is ALAS1\n",
    "\n",
    "NB: ARAX UI displays valproic acid as \"Convulsifin\"\n",
    "\n",
    "\n",
    "This initial query is just looking for direct links between the two."
   ]
  },
  {
   "cell_type": "code",
   "execution_count": 5,
   "id": "asian-union",
   "metadata": {},
   "outputs": [],
   "source": [
    "query={\n",
    "    \"message\": {\n",
    "        \"query_graph\": {\n",
    "            \"edges\": {\n",
    "                \"e00\": {\n",
    "                    \"subject\": \"n01\",\n",
    "                    \"object\": \"n00\"\n",
    "                }\n",
    "            },\n",
    "            \"nodes\": {\n",
    "                \"n00\": {\n",
    "                    \"ids\": [\n",
    "                        \"PUBCHEM.COMPOUND:3121\"\n",
    "                    ]\n",
    "                },\n",
    "                \"n01\": {\n",
    "                    \"ids\": [\n",
    "                        \"NCBIGene:211\"\n",
    "                    ]\n",
    "                }\n",
    "            }\n",
    "        }\n",
    "    }\n",
    "}\n"
   ]
  },
  {
   "cell_type": "code",
   "execution_count": 7,
   "id": "studied-antenna",
   "metadata": {},
   "outputs": [
    {
     "name": "stdout",
     "output_type": "stream",
     "text": [
      "aragorn returned in 0:00:42.755804s\n",
      "Num Results: 1\n"
     ]
    }
   ],
   "source": [
    "r = aragorn(query)"
   ]
  },
  {
   "cell_type": "code",
   "execution_count": 10,
   "id": "universal-distribution",
   "metadata": {},
   "outputs": [
    {
     "name": "stdout",
     "output_type": "stream",
     "text": [
      "https://ars.transltr.io/ars/api/submit\n",
      "201\n",
      "https://arax.ncats.io/?source=ARS&id=b3ffebd5-95a6-4cc3-8007-8dc6bf6d2a17\n"
     ]
    }
   ],
   "source": [
    "va_alas1_pk = submit_to_ars(query)"
   ]
  },
  {
   "cell_type": "markdown",
   "id": "ultimate-judgment",
   "metadata": {},
   "source": [
    "The single translator edge found is: \n",
    "\n",
    "NCBIGene:211 biolink:entity_positively_regulated_by_entity PUBCHEM.COMPOUND:3121\n",
    "\n",
    "coming from the textminer KP.  It's correct, but is that surprising?  There's really nothing about this in chembl or other structured sources?"
   ]
  },
  {
   "cell_type": "code",
   "execution_count": 48,
   "id": "effective-booking",
   "metadata": {},
   "outputs": [],
   "source": [
    "query={\n",
    "    \"message\": {\n",
    "        \"query_graph\": {\n",
    "            \"edges\": {\n",
    "                \"e00\": {\n",
    "                    \"subject\": \"disease\",\n",
    "                    \"object\": \"n00\"\n",
    "                },\n",
    "                \"e01\": {\n",
    "                    \"subject\": \"disease\",\n",
    "                    \"object\": \"n01\"\n",
    "                }\n",
    "            },\n",
    "            \"nodes\": {\n",
    "                \n",
    "                \"n00\": {\n",
    "                    \"ids\": [\n",
    "                        \"PUBCHEM.COMPOUND:3121\"\n",
    "                    ]\n",
    "                },\n",
    "                \"n01\": {\n",
    "                    \"ids\": [\n",
    "                        \"NCBIGene:211\"\n",
    "                    ]\n",
    "                },\n",
    "                \"disease\":{\n",
    "                    \"categories\":[\"biolink:DiseaseOrPhenotypicFeature\"]\n",
    "                }\n",
    "            }\n",
    "        }\n",
    "    }\n",
    "}\n"
   ]
  },
  {
   "cell_type": "code",
   "execution_count": 49,
   "id": "confirmed-score",
   "metadata": {},
   "outputs": [
    {
     "name": "stdout",
     "output_type": "stream",
     "text": [
      "https://ars.transltr.io/ars/api/submit\n",
      "201\n",
      "https://arax.ncats.io/?source=ARS&id=52df4555-0b63-48a2-a783-cb7e5f5fba0b\n"
     ]
    }
   ],
   "source": [
    "diseasepk = submit_to_ars(query)"
   ]
  },
  {
   "cell_type": "code",
   "execution_count": 9,
   "id": "declared-mention",
   "metadata": {},
   "outputs": [
    {
     "name": "stdout",
     "output_type": "stream",
     "text": [
      "aragorn returned in 0:01:48.191320s\n",
      "Num Results: 19\n"
     ]
    }
   ],
   "source": [
    "wha = aragorn(query)"
   ]
  },
  {
   "cell_type": "code",
   "execution_count": 40,
   "id": "educational-junction",
   "metadata": {},
   "outputs": [],
   "source": [
    "btequery = {\"message\": {\n",
    "                    \"query_graph\": {\n",
    "                        \"nodes\": {\n",
    "                            \"n00\": {\n",
    "                                \"ids\": [\n",
    "                                    \"CHEBI:39867\"\n",
    "                                ],\n",
    "                                \"categories\": [\n",
    "                                    \"biolink:SmallMolecule\"\n",
    "                                ],\n",
    "                                \"is_set\": False,\n",
    "                                \"constraints\": []\n",
    "                            },\n",
    "                            \"disease\": {\n",
    "                                \"categories\": [\n",
    "                                    \"biolink:DiseaseOrPhenotypicFeature\"\n",
    "                                ],\n",
    "                                \"is_set\": False,\n",
    "                                \"constraints\": []\n",
    "                            }\n",
    "                        },\n",
    "                        \"edges\": {\n",
    "                            \"e00\": {\n",
    "                                \"subject\": \"disease\",\n",
    "                                \"object\": \"n00\",\n",
    "                                \"predicates\": [\n",
    "                                    \"biolink:related_to\"\n",
    "                                ],\n",
    "                                \"constraints\": []\n",
    "                            }\n",
    "                        }\n",
    "                    }\n",
    "                },\n",
    "                \"submitter\": \"infores:aragorn\"\n",
    "            }"
   ]
  },
  {
   "cell_type": "code",
   "execution_count": 42,
   "id": "amber-serial",
   "metadata": {},
   "outputs": [
    {
     "name": "stdout",
     "output_type": "stream",
     "text": [
      "bte returned in 0:01:05.374704s\n",
      "Num Results: 4489\n",
      "The following APIs were unavailable at the time of execution: Translator Knowledge Collaboratory API (1 times)\n"
     ]
    }
   ],
   "source": [
    "r = bte(btequery)"
   ]
  },
  {
   "cell_type": "markdown",
   "id": "present-illinois",
   "metadata": {},
   "source": [
    "But what is the role of ALFA1 with liver disease?"
   ]
  },
  {
   "cell_type": "code",
   "execution_count": 4,
   "id": "premier-worry",
   "metadata": {},
   "outputs": [],
   "source": [
    "query={\n",
    "    \"message\": {\n",
    "        \"query_graph\": {\n",
    "            \"edges\": {\n",
    "                \"e00\": {\n",
    "                    \"subject\": \"n01\",\n",
    "                    \"object\": \"n00\"\n",
    "                },\n",
    "                \"e01\": {\n",
    "                    \"subject\": \"n01\",\n",
    "                    \"object\": \"n02\"\n",
    "                }\n",
    "            },\n",
    "            \"nodes\": {\n",
    "                \"n00\": {\n",
    "                    \"categories\": [\"biolink:DiseaseOrPhenotypicFeature\"]\n",
    "                },\n",
    "                \"n01\": {\n",
    "                    \"categories\": [\n",
    "                        \"biolink:Gene\"\n",
    "                    ]\n",
    "                },\n",
    "                \"n02\": {\n",
    "                    \"ids\": [\n",
    "                        \"NCBIGene:211\"\n",
    "                    ]\n",
    "                }\n",
    "            }\n",
    "        }\n",
    "    }\n",
    "}"
   ]
  },
  {
   "cell_type": "code",
   "execution_count": 5,
   "id": "resident-insert",
   "metadata": {},
   "outputs": [
    {
     "name": "stdout",
     "output_type": "stream",
     "text": [
      "https://ars.transltr.io/ars/api/submit\n",
      "201\n",
      "https://arax.ncats.io/?source=ARS&id=55c064f1-fca4-439a-9412-c45afb760ba9\n"
     ]
    }
   ],
   "source": [
    "alas_gene_disease = submit_to_ars(query)"
   ]
  },
  {
   "cell_type": "code",
   "execution_count": 43,
   "id": "dietary-clark",
   "metadata": {},
   "outputs": [],
   "source": [
    "query={\n",
    "    \"message\": {\n",
    "        \"query_graph\": {\n",
    "            \"edges\": {\n",
    "                \"e00\": {\n",
    "                    \"subject\": \"n01\",\n",
    "                    \"object\": \"n00\"\n",
    "                },\n",
    "                \"e01\": {\n",
    "                    \"subject\": \"n01\",\n",
    "                    \"object\": \"n02\"\n",
    "                },\n",
    "                \"e02\": {\n",
    "                    \"subject\": \"liver\",\n",
    "                    \"object\": \"n00\"\n",
    "                }\n",
    "            },\n",
    "            \"nodes\": {\n",
    "                \"liver\":\n",
    "                {\n",
    "                    \"ids\": [\"UBERON:0002107\"]\n",
    "                },\n",
    "                \"n00\": {\n",
    "                    \"categories\": [\"biolink:DiseaseOrPhenotypicFeature\"]\n",
    "                },\n",
    "                \"n01\": {\n",
    "                    \"categories\": [\n",
    "                        \"biolink:Gene\"\n",
    "                    ]\n",
    "                },\n",
    "                \"n02\": {\n",
    "                    \"ids\": [\n",
    "                        \"NCBIGene:211\"\n",
    "                    ]\n",
    "                }\n",
    "            }\n",
    "        }\n",
    "    }\n",
    "}"
   ]
  },
  {
   "cell_type": "code",
   "execution_count": 44,
   "id": "documentary-perspective",
   "metadata": {},
   "outputs": [
    {
     "name": "stdout",
     "output_type": "stream",
     "text": [
      "https://ars.transltr.io/ars/api/submit\n",
      "201\n",
      "https://arax.ncats.io/?source=ARS&id=26ae39c7-d601-4315-b978-5a48d4596677\n"
     ]
    }
   ],
   "source": [
    "alas_gene_disease_liver = submit_to_ars(query)"
   ]
  },
  {
   "cell_type": "code",
   "execution_count": 7,
   "id": "indonesian-decade",
   "metadata": {},
   "outputs": [],
   "source": [
    "query={\n",
    "    \"message\": {\n",
    "        \"query_graph\": {\n",
    "            \"edges\": {\n",
    "                \"e00\": {\n",
    "                    \"subject\": \"n01\",\n",
    "                    \"object\": \"n00\"\n",
    "                },\n",
    "                \"e01\": {\n",
    "                    \"subject\": \"n01\",\n",
    "                    \"object\": \"n02\"\n",
    "                },\n",
    "                \"e02\": {\n",
    "                    \"subject\": \"liver\",\n",
    "                    \"object\": \"n00\"\n",
    "                }\n",
    "            },\n",
    "            \"nodes\": {\n",
    "                \"liver\":\n",
    "                {\n",
    "                    \"ids\": [\"UBERON:0002107\"]\n",
    "                },\n",
    "                \"n00\": {\n",
    "                    \"categories\": [\"biolink:DiseaseOrPhenotypicFeature\"]\n",
    "                },\n",
    "                \"n01\": {\n",
    "                    \"categories\": [\n",
    "                        \"biolink:NamedThing\"\n",
    "                    ]\n",
    "                },\n",
    "                \"n02\": {\n",
    "                    \"ids\": [\n",
    "                        \"NCBIGene:211\"\n",
    "                    ]\n",
    "                }\n",
    "            }\n",
    "        }\n",
    "    }\n",
    "}"
   ]
  },
  {
   "cell_type": "code",
   "execution_count": 8,
   "id": "indie-breathing",
   "metadata": {},
   "outputs": [
    {
     "name": "stdout",
     "output_type": "stream",
     "text": [
      "https://ars.transltr.io/ars/api/submit\n",
      "201\n",
      "https://arax.ncats.io/?source=ARS&id=4ef62f01-f475-4d9f-a47a-863a3b2d372c\n"
     ]
    }
   ],
   "source": [
    "alas_thing_disease_liver = submit_to_ars(query)"
   ]
  },
  {
   "cell_type": "code",
   "execution_count": null,
   "id": "amateur-villa",
   "metadata": {},
   "outputs": [],
   "source": [
    "r = aragorn(query)"
   ]
  },
  {
   "cell_type": "code",
   "execution_count": 10,
   "id": "breathing-algorithm",
   "metadata": {},
   "outputs": [
    {
     "data": {
      "text/plain": [
       "[{'timestamp': '2022-03-10T20:42:46.692017',\n",
       "  'level': 'ERROR',\n",
       "  'message': 'answer_coalesce HTML error status code 500 returned.',\n",
       "  'code': None}]"
      ]
     },
     "execution_count": 10,
     "metadata": {},
     "output_type": "execute_result"
    }
   ],
   "source": [
    "r['logs']"
   ]
  },
  {
   "cell_type": "code",
   "execution_count": 11,
   "id": "affecting-scholarship",
   "metadata": {},
   "outputs": [
    {
     "name": "stdout",
     "output_type": "stream",
     "text": [
      "strider returned in 0:04:25.015653s\n",
      "Num Results: 18559\n"
     ]
    }
   ],
   "source": [
    "s = strider(query)"
   ]
  },
  {
   "cell_type": "code",
   "execution_count": 16,
   "id": "individual-calgary",
   "metadata": {},
   "outputs": [],
   "source": [
    "for ni,kn in s['message']['knowledge_graph']['nodes'].items():\n",
    "    if len(kn['categories']) == 0:\n",
    "        print(kn['categories'])"
   ]
  },
  {
   "cell_type": "code",
   "execution_count": 21,
   "id": "special-leave",
   "metadata": {},
   "outputs": [
    {
     "name": "stdout",
     "output_type": "stream",
     "text": [
      "answercoalescence error: 403\n"
     ]
    },
    {
     "ename": "JSONDecodeError",
     "evalue": "Expecting value: line 1 column 1 (char 0)",
     "output_type": "error",
     "traceback": [
      "\u001b[0;31m---------------------------------------------------------------------------\u001b[0m",
      "\u001b[0;31mJSONDecodeError\u001b[0m                           Traceback (most recent call last)",
      "\u001b[0;32m<ipython-input-21-62a9d562851c>\u001b[0m in \u001b[0;36m<module>\u001b[0;34m\u001b[0m\n\u001b[0;32m----> 1\u001b[0;31m \u001b[0mac\u001b[0m \u001b[0;34m=\u001b[0m \u001b[0mcoalesce\u001b[0m\u001b[0;34m(\u001b[0m\u001b[0ms\u001b[0m\u001b[0;34m)\u001b[0m\u001b[0;34m\u001b[0m\u001b[0;34m\u001b[0m\u001b[0m\n\u001b[0m",
      "\u001b[0;32m~/Projects/ranking-agent/use_translator/use_translator.py\u001b[0m in \u001b[0;36mcoalesce\u001b[0;34m(message, version)\u001b[0m\n\u001b[1;32m    234\u001b[0m \u001b[0;34m\u001b[0m\u001b[0m\n\u001b[1;32m    235\u001b[0m \u001b[0;32mdef\u001b[0m \u001b[0mcoalesce\u001b[0m\u001b[0;34m(\u001b[0m\u001b[0mmessage\u001b[0m\u001b[0;34m,\u001b[0m\u001b[0mversion\u001b[0m\u001b[0;34m=\u001b[0m\u001b[0;34m'1.2'\u001b[0m\u001b[0;34m)\u001b[0m\u001b[0;34m:\u001b[0m\u001b[0;34m\u001b[0m\u001b[0;34m\u001b[0m\u001b[0m\n\u001b[0;32m--> 236\u001b[0;31m     \u001b[0manswer\u001b[0m \u001b[0;34m=\u001b[0m \u001b[0mpost\u001b[0m\u001b[0;34m(\u001b[0m\u001b[0;34m'answercoalescence'\u001b[0m\u001b[0;34m,\u001b[0m\u001b[0;34mf'https://answercoalesce.renci.org/{version}/coalesce/all'\u001b[0m\u001b[0;34m,\u001b[0m\u001b[0mmessage\u001b[0m\u001b[0;34m)\u001b[0m\u001b[0;34m\u001b[0m\u001b[0;34m\u001b[0m\u001b[0m\n\u001b[0m\u001b[1;32m    237\u001b[0m     \u001b[0;32mreturn\u001b[0m \u001b[0manswer\u001b[0m\u001b[0;34m\u001b[0m\u001b[0;34m\u001b[0m\u001b[0m\n\u001b[1;32m    238\u001b[0m \u001b[0;34m\u001b[0m\u001b[0m\n",
      "\u001b[0;32m~/Projects/ranking-agent/use_translator/use_translator.py\u001b[0m in \u001b[0;36mpost\u001b[0;34m(name, url, message, params)\u001b[0m\n\u001b[1;32m    149\u001b[0m         \u001b[0mprint\u001b[0m\u001b[0;34m(\u001b[0m\u001b[0mname\u001b[0m\u001b[0;34m,\u001b[0m \u001b[0;34m'error:'\u001b[0m\u001b[0;34m,\u001b[0m\u001b[0mresponse\u001b[0m\u001b[0;34m.\u001b[0m\u001b[0mstatus_code\u001b[0m\u001b[0;34m)\u001b[0m\u001b[0;34m\u001b[0m\u001b[0;34m\u001b[0m\u001b[0m\n\u001b[1;32m    150\u001b[0m         \u001b[0;31m#print(response.json())\u001b[0m\u001b[0;34m\u001b[0m\u001b[0;34m\u001b[0m\u001b[0;34m\u001b[0m\u001b[0m\n\u001b[0;32m--> 151\u001b[0;31m         \u001b[0;32mreturn\u001b[0m \u001b[0mresponse\u001b[0m\u001b[0;34m.\u001b[0m\u001b[0mjson\u001b[0m\u001b[0;34m(\u001b[0m\u001b[0;34m)\u001b[0m\u001b[0;34m\u001b[0m\u001b[0;34m\u001b[0m\u001b[0m\n\u001b[0m\u001b[1;32m    152\u001b[0m     \u001b[0mprint\u001b[0m\u001b[0;34m(\u001b[0m\u001b[0;34mf'{name} returned in {end-start}s'\u001b[0m\u001b[0;34m)\u001b[0m\u001b[0;34m\u001b[0m\u001b[0;34m\u001b[0m\u001b[0m\n\u001b[1;32m    153\u001b[0m     \u001b[0mm\u001b[0m \u001b[0;34m=\u001b[0m \u001b[0mresponse\u001b[0m\u001b[0;34m.\u001b[0m\u001b[0mjson\u001b[0m\u001b[0;34m(\u001b[0m\u001b[0;34m)\u001b[0m\u001b[0;34m\u001b[0m\u001b[0;34m\u001b[0m\u001b[0m\n",
      "\u001b[0;32m/opt/anaconda3/envs/minihackathons/lib/python3.9/site-packages/requests/models.py\u001b[0m in \u001b[0;36mjson\u001b[0;34m(self, **kwargs)\u001b[0m\n\u001b[1;32m    898\u001b[0m                     \u001b[0;31m# used.\u001b[0m\u001b[0;34m\u001b[0m\u001b[0;34m\u001b[0m\u001b[0;34m\u001b[0m\u001b[0m\n\u001b[1;32m    899\u001b[0m                     \u001b[0;32mpass\u001b[0m\u001b[0;34m\u001b[0m\u001b[0;34m\u001b[0m\u001b[0m\n\u001b[0;32m--> 900\u001b[0;31m         \u001b[0;32mreturn\u001b[0m \u001b[0mcomplexjson\u001b[0m\u001b[0;34m.\u001b[0m\u001b[0mloads\u001b[0m\u001b[0;34m(\u001b[0m\u001b[0mself\u001b[0m\u001b[0;34m.\u001b[0m\u001b[0mtext\u001b[0m\u001b[0;34m,\u001b[0m \u001b[0;34m**\u001b[0m\u001b[0mkwargs\u001b[0m\u001b[0;34m)\u001b[0m\u001b[0;34m\u001b[0m\u001b[0;34m\u001b[0m\u001b[0m\n\u001b[0m\u001b[1;32m    901\u001b[0m \u001b[0;34m\u001b[0m\u001b[0m\n\u001b[1;32m    902\u001b[0m     \u001b[0;34m@\u001b[0m\u001b[0mproperty\u001b[0m\u001b[0;34m\u001b[0m\u001b[0;34m\u001b[0m\u001b[0m\n",
      "\u001b[0;32m/opt/anaconda3/envs/minihackathons/lib/python3.9/json/__init__.py\u001b[0m in \u001b[0;36mloads\u001b[0;34m(s, cls, object_hook, parse_float, parse_int, parse_constant, object_pairs_hook, **kw)\u001b[0m\n\u001b[1;32m    344\u001b[0m             \u001b[0mparse_int\u001b[0m \u001b[0;32mis\u001b[0m \u001b[0;32mNone\u001b[0m \u001b[0;32mand\u001b[0m \u001b[0mparse_float\u001b[0m \u001b[0;32mis\u001b[0m \u001b[0;32mNone\u001b[0m \u001b[0;32mand\u001b[0m\u001b[0;34m\u001b[0m\u001b[0;34m\u001b[0m\u001b[0m\n\u001b[1;32m    345\u001b[0m             parse_constant is None and object_pairs_hook is None and not kw):\n\u001b[0;32m--> 346\u001b[0;31m         \u001b[0;32mreturn\u001b[0m \u001b[0m_default_decoder\u001b[0m\u001b[0;34m.\u001b[0m\u001b[0mdecode\u001b[0m\u001b[0;34m(\u001b[0m\u001b[0ms\u001b[0m\u001b[0;34m)\u001b[0m\u001b[0;34m\u001b[0m\u001b[0;34m\u001b[0m\u001b[0m\n\u001b[0m\u001b[1;32m    347\u001b[0m     \u001b[0;32mif\u001b[0m \u001b[0mcls\u001b[0m \u001b[0;32mis\u001b[0m \u001b[0;32mNone\u001b[0m\u001b[0;34m:\u001b[0m\u001b[0;34m\u001b[0m\u001b[0;34m\u001b[0m\u001b[0m\n\u001b[1;32m    348\u001b[0m         \u001b[0mcls\u001b[0m \u001b[0;34m=\u001b[0m \u001b[0mJSONDecoder\u001b[0m\u001b[0;34m\u001b[0m\u001b[0;34m\u001b[0m\u001b[0m\n",
      "\u001b[0;32m/opt/anaconda3/envs/minihackathons/lib/python3.9/json/decoder.py\u001b[0m in \u001b[0;36mdecode\u001b[0;34m(self, s, _w)\u001b[0m\n\u001b[1;32m    335\u001b[0m \u001b[0;34m\u001b[0m\u001b[0m\n\u001b[1;32m    336\u001b[0m         \"\"\"\n\u001b[0;32m--> 337\u001b[0;31m         \u001b[0mobj\u001b[0m\u001b[0;34m,\u001b[0m \u001b[0mend\u001b[0m \u001b[0;34m=\u001b[0m \u001b[0mself\u001b[0m\u001b[0;34m.\u001b[0m\u001b[0mraw_decode\u001b[0m\u001b[0;34m(\u001b[0m\u001b[0ms\u001b[0m\u001b[0;34m,\u001b[0m \u001b[0midx\u001b[0m\u001b[0;34m=\u001b[0m\u001b[0m_w\u001b[0m\u001b[0;34m(\u001b[0m\u001b[0ms\u001b[0m\u001b[0;34m,\u001b[0m \u001b[0;36m0\u001b[0m\u001b[0;34m)\u001b[0m\u001b[0;34m.\u001b[0m\u001b[0mend\u001b[0m\u001b[0;34m(\u001b[0m\u001b[0;34m)\u001b[0m\u001b[0;34m)\u001b[0m\u001b[0;34m\u001b[0m\u001b[0;34m\u001b[0m\u001b[0m\n\u001b[0m\u001b[1;32m    338\u001b[0m         \u001b[0mend\u001b[0m \u001b[0;34m=\u001b[0m \u001b[0m_w\u001b[0m\u001b[0;34m(\u001b[0m\u001b[0ms\u001b[0m\u001b[0;34m,\u001b[0m \u001b[0mend\u001b[0m\u001b[0;34m)\u001b[0m\u001b[0;34m.\u001b[0m\u001b[0mend\u001b[0m\u001b[0;34m(\u001b[0m\u001b[0;34m)\u001b[0m\u001b[0;34m\u001b[0m\u001b[0;34m\u001b[0m\u001b[0m\n\u001b[1;32m    339\u001b[0m         \u001b[0;32mif\u001b[0m \u001b[0mend\u001b[0m \u001b[0;34m!=\u001b[0m \u001b[0mlen\u001b[0m\u001b[0;34m(\u001b[0m\u001b[0ms\u001b[0m\u001b[0;34m)\u001b[0m\u001b[0;34m:\u001b[0m\u001b[0;34m\u001b[0m\u001b[0;34m\u001b[0m\u001b[0m\n",
      "\u001b[0;32m/opt/anaconda3/envs/minihackathons/lib/python3.9/json/decoder.py\u001b[0m in \u001b[0;36mraw_decode\u001b[0;34m(self, s, idx)\u001b[0m\n\u001b[1;32m    353\u001b[0m             \u001b[0mobj\u001b[0m\u001b[0;34m,\u001b[0m \u001b[0mend\u001b[0m \u001b[0;34m=\u001b[0m \u001b[0mself\u001b[0m\u001b[0;34m.\u001b[0m\u001b[0mscan_once\u001b[0m\u001b[0;34m(\u001b[0m\u001b[0ms\u001b[0m\u001b[0;34m,\u001b[0m \u001b[0midx\u001b[0m\u001b[0;34m)\u001b[0m\u001b[0;34m\u001b[0m\u001b[0;34m\u001b[0m\u001b[0m\n\u001b[1;32m    354\u001b[0m         \u001b[0;32mexcept\u001b[0m \u001b[0mStopIteration\u001b[0m \u001b[0;32mas\u001b[0m \u001b[0merr\u001b[0m\u001b[0;34m:\u001b[0m\u001b[0;34m\u001b[0m\u001b[0;34m\u001b[0m\u001b[0m\n\u001b[0;32m--> 355\u001b[0;31m             \u001b[0;32mraise\u001b[0m \u001b[0mJSONDecodeError\u001b[0m\u001b[0;34m(\u001b[0m\u001b[0;34m\"Expecting value\"\u001b[0m\u001b[0;34m,\u001b[0m \u001b[0ms\u001b[0m\u001b[0;34m,\u001b[0m \u001b[0merr\u001b[0m\u001b[0;34m.\u001b[0m\u001b[0mvalue\u001b[0m\u001b[0;34m)\u001b[0m \u001b[0;32mfrom\u001b[0m \u001b[0;32mNone\u001b[0m\u001b[0;34m\u001b[0m\u001b[0;34m\u001b[0m\u001b[0m\n\u001b[0m\u001b[1;32m    356\u001b[0m         \u001b[0;32mreturn\u001b[0m \u001b[0mobj\u001b[0m\u001b[0;34m,\u001b[0m \u001b[0mend\u001b[0m\u001b[0;34m\u001b[0m\u001b[0;34m\u001b[0m\u001b[0m\n",
      "\u001b[0;31mJSONDecodeError\u001b[0m: Expecting value: line 1 column 1 (char 0)"
     ]
    }
   ],
   "source": [
    "ac = coalesce(s)"
   ]
  },
  {
   "cell_type": "code",
   "execution_count": null,
   "id": "chief-skating",
   "metadata": {},
   "outputs": [],
   "source": []
  }
 ],
 "metadata": {
  "kernelspec": {
   "display_name": "Python 3",
   "language": "python",
   "name": "python3"
  },
  "language_info": {
   "codemirror_mode": {
    "name": "ipython",
    "version": 3
   },
   "file_extension": ".py",
   "mimetype": "text/x-python",
   "name": "python",
   "nbconvert_exporter": "python",
   "pygments_lexer": "ipython3",
   "version": "3.9.1"
  }
 },
 "nbformat": 4,
 "nbformat_minor": 5
}
