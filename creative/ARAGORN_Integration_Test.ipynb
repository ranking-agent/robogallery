{
 "cells": [
  {
   "cell_type": "code",
   "execution_count": 14,
   "id": "awful-community",
   "metadata": {},
   "outputs": [],
   "source": [
    "from use_translator import *"
   ]
  },
  {
   "cell_type": "code",
   "execution_count": 15,
   "id": "forbidden-twelve",
   "metadata": {},
   "outputs": [],
   "source": [
    "def create_query(disease_id, inferred = True):\n",
    "    query_graph = {'nodes': {'disease': {'ids': [disease_id]}},\n",
    "                   'edges': {}}\n",
    "    pnode = 'disease'\n",
    "    cnode = 'chemical'\n",
    "    query_graph['nodes'][cnode] = {'categories': ['biolink:ChemicalEntity']}\n",
    "    query_graph['edges']['t_edge'] = {'object': pnode, 'subject': cnode, 'predicates':['biolink:treats']}\n",
    "    if inferred:\n",
    "        query_graph['edges']['t_edge']['knowledge_type']= 'inferred'\n",
    "    m = {'message':{'query_graph':query_graph}}\n",
    "    return m"
   ]
  },
  {
   "cell_type": "code",
   "execution_count": 16,
   "id": "arranged-poker",
   "metadata": {},
   "outputs": [],
   "source": [
    "#aragorn_url=\"http://0.0.0.0:4868/aragorn/query\"\n",
    "#aragorn_url=\"https://aragorn-dev.apps.renci.org/aragorn/query\"\n",
    "#aragorn_url=\"https://aragorn.ci.transltr.io/aragorn/query\"\n",
    "aragorn_url=\"https://aragorn.transltr.io/aragorn/query\"\n",
    "#ars_url='https://ars.ci.transltr.io/ars/api'\n",
    "ars_url='https://ars.transltr.io/ars/api'"
   ]
  },
  {
   "cell_type": "markdown",
   "id": "mental-support",
   "metadata": {},
   "source": [
    "<h2>alpha_thalassemia_MONDO:0011399</h2>"
   ]
  },
  {
   "cell_type": "code",
   "execution_count": 17,
   "id": "stock-secretary",
   "metadata": {},
   "outputs": [],
   "source": [
    "tq = create_query(\"MONDO:0011399\")"
   ]
  },
  {
   "cell_type": "code",
   "execution_count": 18,
   "id": "quick-swift",
   "metadata": {},
   "outputs": [],
   "source": [
    "dr = requests.post(aragorn_url,json=tq)"
   ]
  },
  {
   "cell_type": "code",
   "execution_count": 19,
   "id": "religious-winner",
   "metadata": {},
   "outputs": [
    {
     "data": {
      "text/plain": [
       "200"
      ]
     },
     "execution_count": 19,
     "metadata": {},
     "output_type": "execute_result"
    }
   ],
   "source": [
    "dr.status_code"
   ]
  },
  {
   "cell_type": "code",
   "execution_count": 20,
   "id": "intermediate-clerk",
   "metadata": {},
   "outputs": [
    {
     "name": "stdout",
     "output_type": "stream",
     "text": [
      "500\n"
     ]
    }
   ],
   "source": [
    "rj = dr.json()\n",
    "print(len(rj['message']['results']))"
   ]
  },
  {
   "cell_type": "code",
   "execution_count": 21,
   "id": "canadian-julian",
   "metadata": {},
   "outputs": [],
   "source": [
    "direct = create_query(\"MONDO:0011399\",inferred=False)"
   ]
  },
  {
   "cell_type": "code",
   "execution_count": 22,
   "id": "finished-communist",
   "metadata": {},
   "outputs": [],
   "source": [
    "dr = requests.post(aragorn_url,json = direct)"
   ]
  },
  {
   "cell_type": "code",
   "execution_count": 23,
   "id": "dedicated-killer",
   "metadata": {},
   "outputs": [
    {
     "data": {
      "text/plain": [
       "200"
      ]
     },
     "execution_count": 23,
     "metadata": {},
     "output_type": "execute_result"
    }
   ],
   "source": [
    "dr.status_code"
   ]
  },
  {
   "cell_type": "code",
   "execution_count": 24,
   "id": "interim-intention",
   "metadata": {},
   "outputs": [
    {
     "name": "stdout",
     "output_type": "stream",
     "text": [
      "17\n"
     ]
    }
   ],
   "source": [
    "rj = dr.json()\n",
    "print(len(rj['message']['results']))"
   ]
  },
  {
   "cell_type": "code",
   "execution_count": 25,
   "id": "fantastic-electronics",
   "metadata": {},
   "outputs": [
    {
     "name": "stdout",
     "output_type": "stream",
     "text": [
      "https://ars.transltr.io/ars/api/submit\n",
      "201\n",
      "https://arax.ncats.io/?source=ARS&id=f76b3bd4-5b21-4516-9667-16746e652873\n"
     ]
    },
    {
     "data": {
      "text/plain": [
       "'f76b3bd4-5b21-4516-9667-16746e652873'"
      ]
     },
     "execution_count": 25,
     "metadata": {},
     "output_type": "execute_result"
    }
   ],
   "source": [
    "submit_to_ars(direct,ars_url=ars_url)"
   ]
  },
  {
   "cell_type": "code",
   "execution_count": null,
   "id": "hawaiian-interaction",
   "metadata": {},
   "outputs": [],
   "source": []
  }
 ],
 "metadata": {
  "kernelspec": {
   "display_name": "Python 3",
   "language": "python",
   "name": "python3"
  },
  "language_info": {
   "codemirror_mode": {
    "name": "ipython",
    "version": 3
   },
   "file_extension": ".py",
   "mimetype": "text/x-python",
   "name": "python",
   "nbconvert_exporter": "python",
   "pygments_lexer": "ipython3",
   "version": "3.9.1"
  }
 },
 "nbformat": 4,
 "nbformat_minor": 5
}
