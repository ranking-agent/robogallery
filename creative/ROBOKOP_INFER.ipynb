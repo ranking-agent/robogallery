{
 "cells": [
  {
   "cell_type": "code",
   "execution_count": 12,
   "id": "driving-shuttle",
   "metadata": {},
   "outputs": [],
   "source": [
    "from use_translator import *"
   ]
  },
  {
   "cell_type": "code",
   "execution_count": 13,
   "id": "acknowledged-candle",
   "metadata": {},
   "outputs": [],
   "source": [
    "def create_query(disease_id):\n",
    "    query_graph = {'nodes': {'disease': {'ids': [disease_id]}},\n",
    "                   'edges': {}}\n",
    "    pnode = 'disease'\n",
    "    cnode = 'chemical'\n",
    "    query_graph['nodes'][cnode] = {'categories': ['biolink:ChemicalEntity']}\n",
    "    query_graph['edges']['t_edge'] = {'object': pnode, 'subject': cnode, 'predicate':'biolink:treats', 'knowledge_type': 'inferred'}\n",
    "    m = {'message':{'query_graph':query_graph}}\n",
    "    return m"
   ]
  },
  {
   "cell_type": "code",
   "execution_count": 14,
   "id": "light-history",
   "metadata": {},
   "outputs": [],
   "source": [
    "tq = create_query(\"MONDO:0004975\")"
   ]
  },
  {
   "cell_type": "code",
   "execution_count": 15,
   "id": "commercial-portsmouth",
   "metadata": {},
   "outputs": [
    {
     "name": "stdout",
     "output_type": "stream",
     "text": [
      "local_robokop returned in 0:01:03.389155s\n",
      "Num Results: 613\n"
     ]
    }
   ],
   "source": [
    "result = post('local_robokop','http://localhost:4868/robokop/query',tq)"
   ]
  },
  {
   "cell_type": "code",
   "execution_count": 7,
   "id": "upset-husband",
   "metadata": {},
   "outputs": [],
   "source": [
    "with open('infer_robokop.json','w') as outf:\n",
    "    json.dump(result,outf)"
   ]
  },
  {
   "cell_type": "code",
   "execution_count": 135,
   "id": "prompt-shape",
   "metadata": {},
   "outputs": [
    {
     "name": "stdout",
     "output_type": "stream",
     "text": [
      "nn returned in 0:00:08.395327s\n",
      "Num Results: 0\n"
     ]
    }
   ],
   "source": [
    "x = post('nn','https://nodenormalization-sri.renci.org/1.2/response',result)"
   ]
  },
  {
   "cell_type": "code",
   "execution_count": 142,
   "id": "opponent-shooting",
   "metadata": {},
   "outputs": [],
   "source": [
    "from copy import deepcopy\n",
    "fixedresults = deepcopy(result)\n",
    "fixedresults['message']['knowledge_graph']['nodes'] = x['message']['knowledge_graph']['nodes']"
   ]
  },
  {
   "cell_type": "code",
   "execution_count": 143,
   "id": "musical-wells",
   "metadata": {},
   "outputs": [],
   "source": [
    "with open('robokop_AD.json','w') as outf:\n",
    "    json.dump(fixedresults,outf,indent=4)"
   ]
  },
  {
   "cell_type": "code",
   "execution_count": 138,
   "id": "allied-occasion",
   "metadata": {},
   "outputs": [
    {
     "name": "stdout",
     "output_type": "stream",
     "text": [
      "{\n",
      "    \"node_bindings\": {\n",
      "        \"disease\": [\n",
      "            {\n",
      "                \"id\": \"MONDO:0004975\"\n",
      "            }\n",
      "        ],\n",
      "        \"chemical\": [\n",
      "            {\n",
      "                \"id\": \"PUBCHEM.COMPOUND:2355\"\n",
      "            }\n",
      "        ]\n",
      "    },\n",
      "    \"edge_bindings\": {\n",
      "        \"_dummy_edge0\": [\n",
      "            {\n",
      "                \"id\": \"edge_1714\",\n",
      "                \"attributes\": [\n",
      "                    {\n",
      "                        \"attribute_type_id\": \"biolink:has_numeric_value\",\n",
      "                        \"value\": 1,\n",
      "                        \"value_type_id\": \"EDAM:data_1669\",\n",
      "                        \"original_attribute_name\": \"weight\",\n",
      "                        \"value_url\": null,\n",
      "                        \"attribute_source\": null,\n",
      "                        \"description\": null,\n",
      "                        \"attributes\": null\n",
      "                    }\n",
      "                ]\n",
      "            }\n",
      "        ],\n",
      "        \"_dummy_edge1\": [\n",
      "            {\n",
      "                \"id\": \"edge_1715\",\n",
      "                \"attributes\": [\n",
      "                    {\n",
      "                        \"attribute_type_id\": \"biolink:has_numeric_value\",\n",
      "                        \"value\": 1,\n",
      "                        \"value_type_id\": \"EDAM:data_1669\",\n",
      "                        \"original_attribute_name\": \"weight\",\n",
      "                        \"value_url\": null,\n",
      "                        \"attribute_source\": null,\n",
      "                        \"description\": null,\n",
      "                        \"attributes\": null\n",
      "                    }\n",
      "                ]\n",
      "            }\n",
      "        ],\n",
      "        \"_dummy_edge2\": [\n",
      "            {\n",
      "                \"id\": \"edge_1716\",\n",
      "                \"attributes\": [\n",
      "                    {\n",
      "                        \"attribute_type_id\": \"biolink:has_numeric_value\",\n",
      "                        \"value\": 1,\n",
      "                        \"value_type_id\": \"EDAM:data_1669\",\n",
      "                        \"original_attribute_name\": \"weight\",\n",
      "                        \"value_url\": null,\n",
      "                        \"attribute_source\": null,\n",
      "                        \"description\": null,\n",
      "                        \"attributes\": null\n",
      "                    }\n",
      "                ]\n",
      "            }\n",
      "        ],\n",
      "        \"s1130\": [\n",
      "            {\n",
      "                \"id\": \"8f53e4d2-dfb3-43d4-a9ce-734372a66300\",\n",
      "                \"attributes\": [\n",
      "                    {\n",
      "                        \"attribute_type_id\": \"biolink:has_numeric_value\",\n",
      "                        \"value\": 0.0014359704127984152,\n",
      "                        \"value_type_id\": \"EDAM:data_1669\",\n",
      "                        \"original_attribute_name\": \"weight\",\n",
      "                        \"value_url\": null,\n",
      "                        \"attribute_source\": null,\n",
      "                        \"description\": null,\n",
      "                        \"attributes\": null\n",
      "                    }\n",
      "                ]\n",
      "            }\n",
      "        ]\n",
      "    },\n",
      "    \"score\": 3.0014359704127993\n",
      "}\n"
     ]
    }
   ],
   "source": [
    "printjson(result['message']['results'][1])"
   ]
  },
  {
   "cell_type": "code",
   "execution_count": 139,
   "id": "regular-specification",
   "metadata": {},
   "outputs": [
    {
     "name": "stdout",
     "output_type": "stream",
     "text": [
      "{\n",
      "    \"subject\": \"PUBCHEM.COMPOUND:2355\",\n",
      "    \"object\": \"MONDO:0004975\",\n",
      "    \"predicate\": \"biolink:ameliorates\",\n",
      "    \"attributes\": [\n",
      "        {\n",
      "            \"original_attribute_name\": \"weight\",\n",
      "            \"attribute_type_id\": \"biolink:has_numeric_value\",\n",
      "            \"value\": 1,\n",
      "            \"value_type_id\": \"EDAM:data_1669\",\n",
      "            \"value_url\": null,\n",
      "            \"attribute_source\": null\n",
      "        }\n",
      "    ]\n",
      "}\n"
     ]
    }
   ],
   "source": [
    "printjson(result['message']['knowledge_graph']['edges']['edge_1716'])"
   ]
  },
  {
   "cell_type": "code",
   "execution_count": 140,
   "id": "victorian-station",
   "metadata": {},
   "outputs": [
    {
     "ename": "KeyError",
     "evalue": "'edge_1716'",
     "output_type": "error",
     "traceback": [
      "\u001b[0;31m---------------------------------------------------------------------------\u001b[0m",
      "\u001b[0;31mKeyError\u001b[0m                                  Traceback (most recent call last)",
      "\u001b[0;32m<ipython-input-140-12dc8e2e3d54>\u001b[0m in \u001b[0;36m<module>\u001b[0;34m\u001b[0m\n\u001b[0;32m----> 1\u001b[0;31m \u001b[0mprintjson\u001b[0m\u001b[0;34m(\u001b[0m\u001b[0mx\u001b[0m\u001b[0;34m[\u001b[0m\u001b[0;34m'message'\u001b[0m\u001b[0;34m]\u001b[0m\u001b[0;34m[\u001b[0m\u001b[0;34m'knowledge_graph'\u001b[0m\u001b[0;34m]\u001b[0m\u001b[0;34m[\u001b[0m\u001b[0;34m'edges'\u001b[0m\u001b[0;34m]\u001b[0m\u001b[0;34m[\u001b[0m\u001b[0;34m'edge_1716'\u001b[0m\u001b[0;34m]\u001b[0m\u001b[0;34m)\u001b[0m\u001b[0;34m\u001b[0m\u001b[0;34m\u001b[0m\u001b[0m\n\u001b[0m",
      "\u001b[0;31mKeyError\u001b[0m: 'edge_1716'"
     ]
    }
   ],
   "source": [
    "printjson(x['message']['knowledge_graph']['edges']['edge_1716'])"
   ]
  },
  {
   "cell_type": "code",
   "execution_count": 63,
   "id": "secret-hepatitis",
   "metadata": {},
   "outputs": [
    {
     "name": "stdout",
     "output_type": "stream",
     "text": [
      "{\n",
      "    \"node_bindings\": {\n",
      "        \"disease\": [\n",
      "            {\n",
      "                \"id\": \"MONDO:0004975\"\n",
      "            }\n",
      "        ],\n",
      "        \"chemical\": [\n",
      "            {\n",
      "                \"id\": \"PUBCHEM.COMPOUND:5565\"\n",
      "            }\n",
      "        ],\n",
      "        \"_dummy_node_0\": [\n",
      "            {\n",
      "                \"id\": \"NCBIGene:351\"\n",
      "            }\n",
      "        ]\n",
      "    },\n",
      "    \"edge_bindings\": {\n",
      "        \"_dummy_edge0\": [\n",
      "            {\n",
      "                \"id\": \"edge_4\"\n",
      "            }\n",
      "        ],\n",
      "        \"_dummy_edge1\": [\n",
      "            {\n",
      "                \"id\": \"edge_5\"\n",
      "            }\n",
      "        ],\n",
      "        \"_dummy_edge2\": [\n",
      "            {\n",
      "                \"id\": \"edge_6\"\n",
      "            }\n",
      "        ],\n",
      "        \"_dummy_edge3\": [\n",
      "            {\n",
      "                \"id\": \"edge_7\"\n",
      "            }\n",
      "        ]\n",
      "    }\n",
      "}\n"
     ]
    }
   ],
   "source": [
    "printjson(result['message']['results'][1])"
   ]
  },
  {
   "cell_type": "code",
   "execution_count": 93,
   "id": "sized-subscriber",
   "metadata": {},
   "outputs": [],
   "source": [
    "with open('infer_AD.json','w') as outf:\n",
    "    json.dump(result,outf,indent=4)"
   ]
  },
  {
   "cell_type": "code",
   "execution_count": 94,
   "id": "abstract-slide",
   "metadata": {},
   "outputs": [
    {
     "name": "stdout",
     "output_type": "stream",
     "text": [
      "{\n",
      "    \"node_bindings\": {\n",
      "        \"disease\": [\n",
      "            {\n",
      "                \"id\": \"MONDO:0004975\",\n",
      "                \"qnode_id\": \"MONDO:0004975\"\n",
      "            }\n",
      "        ],\n",
      "        \"chemical\": [\n",
      "            {\n",
      "                \"id\": \"PUBCHEM.COMPOUND:187\"\n",
      "            }\n",
      "        ]\n",
      "    },\n",
      "    \"edge_bindings\": {\n",
      "        \"_dummy_edge_0\": [\n",
      "            {\n",
      "                \"id\": \"ee36185cb013\",\n",
      "                \"attributes\": [\n",
      "                    {\n",
      "                        \"attribute_type_id\": \"biolink:has_numeric_value\",\n",
      "                        \"value\": 0.4697013917693704,\n",
      "                        \"value_type_id\": \"EDAM:data_1669\",\n",
      "                        \"original_attribute_name\": \"weight\",\n",
      "                        \"value_url\": null,\n",
      "                        \"attribute_source\": null,\n",
      "                        \"description\": null,\n",
      "                        \"attributes\": null\n",
      "                    }\n",
      "                ]\n",
      "            },\n",
      "            {\n",
      "                \"id\": \"0b9c5caed1cd\",\n",
      "                \"attributes\": [\n",
      "                    {\n",
      "                        \"attribute_type_id\": \"biolink:has_numeric_value\",\n",
      "                        \"value\": 0.4697013917693704,\n",
      "                        \"value_type_id\": \"EDAM:data_1669\",\n",
      "                        \"original_attribute_name\": \"weight\",\n",
      "                        \"value_url\": null,\n",
      "                        \"attribute_source\": null,\n",
      "                        \"description\": null,\n",
      "                        \"attributes\": null\n",
      "                    }\n",
      "                ]\n",
      "            }\n",
      "        ],\n",
      "        \"_dummy_edge_1\": [\n",
      "            {\n",
      "                \"id\": \"1236d016546e\",\n",
      "                \"attributes\": [\n",
      "                    {\n",
      "                        \"attribute_type_id\": \"biolink:has_numeric_value\",\n",
      "                        \"value\": 0.4999999999999998,\n",
      "                        \"value_type_id\": \"EDAM:data_1669\",\n",
      "                        \"original_attribute_name\": \"weight\",\n",
      "                        \"value_url\": null,\n",
      "                        \"attribute_source\": null,\n",
      "                        \"description\": null,\n",
      "                        \"attributes\": null\n",
      "                    }\n",
      "                ]\n",
      "            },\n",
      "            {\n",
      "                \"id\": \"01eaaeca9087\",\n",
      "                \"attributes\": [\n",
      "                    {\n",
      "                        \"attribute_type_id\": \"biolink:has_numeric_value\",\n",
      "                        \"value\": 0.4999999999999998,\n",
      "                        \"value_type_id\": \"EDAM:data_1669\",\n",
      "                        \"original_attribute_name\": \"weight\",\n",
      "                        \"value_url\": null,\n",
      "                        \"attribute_source\": null,\n",
      "                        \"description\": null,\n",
      "                        \"attributes\": null\n",
      "                    }\n",
      "                ]\n",
      "            },\n",
      "            {\n",
      "                \"id\": \"2f61514dc16a\",\n",
      "                \"attributes\": [\n",
      "                    {\n",
      "                        \"attribute_type_id\": \"biolink:has_numeric_value\",\n",
      "                        \"value\": 0.4999999999999998,\n",
      "                        \"value_type_id\": \"EDAM:data_1669\",\n",
      "                        \"original_attribute_name\": \"weight\",\n",
      "                        \"value_url\": null,\n",
      "                        \"attribute_source\": null,\n",
      "                        \"description\": null,\n",
      "                        \"attributes\": null\n",
      "                    }\n",
      "                ]\n",
      "            }\n",
      "        ],\n",
      "        \"s272\": [\n",
      "            {\n",
      "                \"id\": \"c5e20e34-943c-43be-aa4b-2221808ef0d0\",\n",
      "                \"attributes\": [\n",
      "                    {\n",
      "                        \"attribute_type_id\": \"biolink:has_numeric_value\",\n",
      "                        \"value\": 0.9680096276789885,\n",
      "                        \"value_type_id\": \"EDAM:data_1669\",\n",
      "                        \"original_attribute_name\": \"weight\",\n",
      "                        \"value_url\": null,\n",
      "                        \"attribute_source\": null,\n",
      "                        \"description\": null,\n",
      "                        \"attributes\": null\n",
      "                    }\n",
      "                ]\n",
      "            }\n",
      "        ]\n",
      "    },\n",
      "    \"score\": 3.4074124112177295\n",
      "}\n"
     ]
    }
   ],
   "source": [
    "printjson(result['message']['results'][0])"
   ]
  },
  {
   "cell_type": "code",
   "execution_count": 97,
   "id": "stainless-concord",
   "metadata": {},
   "outputs": [],
   "source": [
    "for r in result['message']['results']:\n",
    "    nn = len(r['node_bindings'])\n",
    "    if nn > 2:\n",
    "        print(nn)"
   ]
  },
  {
   "cell_type": "code",
   "execution_count": 110,
   "id": "controlled-mining",
   "metadata": {},
   "outputs": [
    {
     "ename": "ConnectionError",
     "evalue": "('Connection aborted.', RemoteDisconnected('Remote end closed connection without response'))",
     "output_type": "error",
     "traceback": [
      "\u001b[0;31m---------------------------------------------------------------------------\u001b[0m",
      "\u001b[0;31mRemoteDisconnected\u001b[0m                        Traceback (most recent call last)",
      "\u001b[0;32m/opt/anaconda3/envs/minihackathons/lib/python3.9/site-packages/urllib3/connectionpool.py\u001b[0m in \u001b[0;36murlopen\u001b[0;34m(self, method, url, body, headers, retries, redirect, assert_same_host, timeout, pool_timeout, release_conn, chunked, body_pos, **response_kw)\u001b[0m\n\u001b[1;32m    698\u001b[0m             \u001b[0;31m# Make the request on the httplib connection object.\u001b[0m\u001b[0;34m\u001b[0m\u001b[0;34m\u001b[0m\u001b[0;34m\u001b[0m\u001b[0m\n\u001b[0;32m--> 699\u001b[0;31m             httplib_response = self._make_request(\n\u001b[0m\u001b[1;32m    700\u001b[0m                 \u001b[0mconn\u001b[0m\u001b[0;34m,\u001b[0m\u001b[0;34m\u001b[0m\u001b[0;34m\u001b[0m\u001b[0m\n",
      "\u001b[0;32m/opt/anaconda3/envs/minihackathons/lib/python3.9/site-packages/urllib3/connectionpool.py\u001b[0m in \u001b[0;36m_make_request\u001b[0;34m(self, conn, method, url, timeout, chunked, **httplib_request_kw)\u001b[0m\n\u001b[1;32m    444\u001b[0m                     \u001b[0;31m# Otherwise it looks like a bug in the code.\u001b[0m\u001b[0;34m\u001b[0m\u001b[0;34m\u001b[0m\u001b[0;34m\u001b[0m\u001b[0m\n\u001b[0;32m--> 445\u001b[0;31m                     \u001b[0msix\u001b[0m\u001b[0;34m.\u001b[0m\u001b[0mraise_from\u001b[0m\u001b[0;34m(\u001b[0m\u001b[0me\u001b[0m\u001b[0;34m,\u001b[0m \u001b[0;32mNone\u001b[0m\u001b[0;34m)\u001b[0m\u001b[0;34m\u001b[0m\u001b[0;34m\u001b[0m\u001b[0m\n\u001b[0m\u001b[1;32m    446\u001b[0m         \u001b[0;32mexcept\u001b[0m \u001b[0;34m(\u001b[0m\u001b[0mSocketTimeout\u001b[0m\u001b[0;34m,\u001b[0m \u001b[0mBaseSSLError\u001b[0m\u001b[0;34m,\u001b[0m \u001b[0mSocketError\u001b[0m\u001b[0;34m)\u001b[0m \u001b[0;32mas\u001b[0m \u001b[0me\u001b[0m\u001b[0;34m:\u001b[0m\u001b[0;34m\u001b[0m\u001b[0;34m\u001b[0m\u001b[0m\n",
      "\u001b[0;32m/opt/anaconda3/envs/minihackathons/lib/python3.9/site-packages/urllib3/packages/six.py\u001b[0m in \u001b[0;36mraise_from\u001b[0;34m(value, from_value)\u001b[0m\n",
      "\u001b[0;32m/opt/anaconda3/envs/minihackathons/lib/python3.9/site-packages/urllib3/connectionpool.py\u001b[0m in \u001b[0;36m_make_request\u001b[0;34m(self, conn, method, url, timeout, chunked, **httplib_request_kw)\u001b[0m\n\u001b[1;32m    439\u001b[0m                 \u001b[0;32mtry\u001b[0m\u001b[0;34m:\u001b[0m\u001b[0;34m\u001b[0m\u001b[0;34m\u001b[0m\u001b[0m\n\u001b[0;32m--> 440\u001b[0;31m                     \u001b[0mhttplib_response\u001b[0m \u001b[0;34m=\u001b[0m \u001b[0mconn\u001b[0m\u001b[0;34m.\u001b[0m\u001b[0mgetresponse\u001b[0m\u001b[0;34m(\u001b[0m\u001b[0;34m)\u001b[0m\u001b[0;34m\u001b[0m\u001b[0;34m\u001b[0m\u001b[0m\n\u001b[0m\u001b[1;32m    441\u001b[0m                 \u001b[0;32mexcept\u001b[0m \u001b[0mBaseException\u001b[0m \u001b[0;32mas\u001b[0m \u001b[0me\u001b[0m\u001b[0;34m:\u001b[0m\u001b[0;34m\u001b[0m\u001b[0;34m\u001b[0m\u001b[0m\n",
      "\u001b[0;32m/opt/anaconda3/envs/minihackathons/lib/python3.9/http/client.py\u001b[0m in \u001b[0;36mgetresponse\u001b[0;34m(self)\u001b[0m\n\u001b[1;32m   1346\u001b[0m             \u001b[0;32mtry\u001b[0m\u001b[0;34m:\u001b[0m\u001b[0;34m\u001b[0m\u001b[0;34m\u001b[0m\u001b[0m\n\u001b[0;32m-> 1347\u001b[0;31m                 \u001b[0mresponse\u001b[0m\u001b[0;34m.\u001b[0m\u001b[0mbegin\u001b[0m\u001b[0;34m(\u001b[0m\u001b[0;34m)\u001b[0m\u001b[0;34m\u001b[0m\u001b[0;34m\u001b[0m\u001b[0m\n\u001b[0m\u001b[1;32m   1348\u001b[0m             \u001b[0;32mexcept\u001b[0m \u001b[0mConnectionError\u001b[0m\u001b[0;34m:\u001b[0m\u001b[0;34m\u001b[0m\u001b[0;34m\u001b[0m\u001b[0m\n",
      "\u001b[0;32m/opt/anaconda3/envs/minihackathons/lib/python3.9/http/client.py\u001b[0m in \u001b[0;36mbegin\u001b[0;34m(self)\u001b[0m\n\u001b[1;32m    306\u001b[0m         \u001b[0;32mwhile\u001b[0m \u001b[0;32mTrue\u001b[0m\u001b[0;34m:\u001b[0m\u001b[0;34m\u001b[0m\u001b[0;34m\u001b[0m\u001b[0m\n\u001b[0;32m--> 307\u001b[0;31m             \u001b[0mversion\u001b[0m\u001b[0;34m,\u001b[0m \u001b[0mstatus\u001b[0m\u001b[0;34m,\u001b[0m \u001b[0mreason\u001b[0m \u001b[0;34m=\u001b[0m \u001b[0mself\u001b[0m\u001b[0;34m.\u001b[0m\u001b[0m_read_status\u001b[0m\u001b[0;34m(\u001b[0m\u001b[0;34m)\u001b[0m\u001b[0;34m\u001b[0m\u001b[0;34m\u001b[0m\u001b[0m\n\u001b[0m\u001b[1;32m    308\u001b[0m             \u001b[0;32mif\u001b[0m \u001b[0mstatus\u001b[0m \u001b[0;34m!=\u001b[0m \u001b[0mCONTINUE\u001b[0m\u001b[0;34m:\u001b[0m\u001b[0;34m\u001b[0m\u001b[0;34m\u001b[0m\u001b[0m\n",
      "\u001b[0;32m/opt/anaconda3/envs/minihackathons/lib/python3.9/http/client.py\u001b[0m in \u001b[0;36m_read_status\u001b[0;34m(self)\u001b[0m\n\u001b[1;32m    275\u001b[0m             \u001b[0;31m# sending a valid response.\u001b[0m\u001b[0;34m\u001b[0m\u001b[0;34m\u001b[0m\u001b[0;34m\u001b[0m\u001b[0m\n\u001b[0;32m--> 276\u001b[0;31m             raise RemoteDisconnected(\"Remote end closed connection without\"\n\u001b[0m\u001b[1;32m    277\u001b[0m                                      \" response\")\n",
      "\u001b[0;31mRemoteDisconnected\u001b[0m: Remote end closed connection without response",
      "\nDuring handling of the above exception, another exception occurred:\n",
      "\u001b[0;31mProtocolError\u001b[0m                             Traceback (most recent call last)",
      "\u001b[0;32m/opt/anaconda3/envs/minihackathons/lib/python3.9/site-packages/requests/adapters.py\u001b[0m in \u001b[0;36msend\u001b[0;34m(self, request, stream, timeout, verify, cert, proxies)\u001b[0m\n\u001b[1;32m    438\u001b[0m             \u001b[0;32mif\u001b[0m \u001b[0;32mnot\u001b[0m \u001b[0mchunked\u001b[0m\u001b[0;34m:\u001b[0m\u001b[0;34m\u001b[0m\u001b[0;34m\u001b[0m\u001b[0m\n\u001b[0;32m--> 439\u001b[0;31m                 resp = conn.urlopen(\n\u001b[0m\u001b[1;32m    440\u001b[0m                     \u001b[0mmethod\u001b[0m\u001b[0;34m=\u001b[0m\u001b[0mrequest\u001b[0m\u001b[0;34m.\u001b[0m\u001b[0mmethod\u001b[0m\u001b[0;34m,\u001b[0m\u001b[0;34m\u001b[0m\u001b[0;34m\u001b[0m\u001b[0m\n",
      "\u001b[0;32m/opt/anaconda3/envs/minihackathons/lib/python3.9/site-packages/urllib3/connectionpool.py\u001b[0m in \u001b[0;36murlopen\u001b[0;34m(self, method, url, body, headers, retries, redirect, assert_same_host, timeout, pool_timeout, release_conn, chunked, body_pos, **response_kw)\u001b[0m\n\u001b[1;32m    754\u001b[0m \u001b[0;34m\u001b[0m\u001b[0m\n\u001b[0;32m--> 755\u001b[0;31m             retries = retries.increment(\n\u001b[0m\u001b[1;32m    756\u001b[0m                 \u001b[0mmethod\u001b[0m\u001b[0;34m,\u001b[0m \u001b[0murl\u001b[0m\u001b[0;34m,\u001b[0m \u001b[0merror\u001b[0m\u001b[0;34m=\u001b[0m\u001b[0me\u001b[0m\u001b[0;34m,\u001b[0m \u001b[0m_pool\u001b[0m\u001b[0;34m=\u001b[0m\u001b[0mself\u001b[0m\u001b[0;34m,\u001b[0m \u001b[0m_stacktrace\u001b[0m\u001b[0;34m=\u001b[0m\u001b[0msys\u001b[0m\u001b[0;34m.\u001b[0m\u001b[0mexc_info\u001b[0m\u001b[0;34m(\u001b[0m\u001b[0;34m)\u001b[0m\u001b[0;34m[\u001b[0m\u001b[0;36m2\u001b[0m\u001b[0;34m]\u001b[0m\u001b[0;34m\u001b[0m\u001b[0;34m\u001b[0m\u001b[0m\n",
      "\u001b[0;32m/opt/anaconda3/envs/minihackathons/lib/python3.9/site-packages/urllib3/util/retry.py\u001b[0m in \u001b[0;36mincrement\u001b[0;34m(self, method, url, response, error, _pool, _stacktrace)\u001b[0m\n\u001b[1;32m    530\u001b[0m             \u001b[0;32mif\u001b[0m \u001b[0mread\u001b[0m \u001b[0;32mis\u001b[0m \u001b[0;32mFalse\u001b[0m \u001b[0;32mor\u001b[0m \u001b[0;32mnot\u001b[0m \u001b[0mself\u001b[0m\u001b[0;34m.\u001b[0m\u001b[0m_is_method_retryable\u001b[0m\u001b[0;34m(\u001b[0m\u001b[0mmethod\u001b[0m\u001b[0;34m)\u001b[0m\u001b[0;34m:\u001b[0m\u001b[0;34m\u001b[0m\u001b[0;34m\u001b[0m\u001b[0m\n\u001b[0;32m--> 531\u001b[0;31m                 \u001b[0;32mraise\u001b[0m \u001b[0msix\u001b[0m\u001b[0;34m.\u001b[0m\u001b[0mreraise\u001b[0m\u001b[0;34m(\u001b[0m\u001b[0mtype\u001b[0m\u001b[0;34m(\u001b[0m\u001b[0merror\u001b[0m\u001b[0;34m)\u001b[0m\u001b[0;34m,\u001b[0m \u001b[0merror\u001b[0m\u001b[0;34m,\u001b[0m \u001b[0m_stacktrace\u001b[0m\u001b[0;34m)\u001b[0m\u001b[0;34m\u001b[0m\u001b[0;34m\u001b[0m\u001b[0m\n\u001b[0m\u001b[1;32m    532\u001b[0m             \u001b[0;32melif\u001b[0m \u001b[0mread\u001b[0m \u001b[0;32mis\u001b[0m \u001b[0;32mnot\u001b[0m \u001b[0;32mNone\u001b[0m\u001b[0;34m:\u001b[0m\u001b[0;34m\u001b[0m\u001b[0;34m\u001b[0m\u001b[0m\n",
      "\u001b[0;32m/opt/anaconda3/envs/minihackathons/lib/python3.9/site-packages/urllib3/packages/six.py\u001b[0m in \u001b[0;36mreraise\u001b[0;34m(tp, value, tb)\u001b[0m\n\u001b[1;32m    733\u001b[0m             \u001b[0;32mif\u001b[0m \u001b[0mvalue\u001b[0m\u001b[0;34m.\u001b[0m\u001b[0m__traceback__\u001b[0m \u001b[0;32mis\u001b[0m \u001b[0;32mnot\u001b[0m \u001b[0mtb\u001b[0m\u001b[0;34m:\u001b[0m\u001b[0;34m\u001b[0m\u001b[0;34m\u001b[0m\u001b[0m\n\u001b[0;32m--> 734\u001b[0;31m                 \u001b[0;32mraise\u001b[0m \u001b[0mvalue\u001b[0m\u001b[0;34m.\u001b[0m\u001b[0mwith_traceback\u001b[0m\u001b[0;34m(\u001b[0m\u001b[0mtb\u001b[0m\u001b[0;34m)\u001b[0m\u001b[0;34m\u001b[0m\u001b[0;34m\u001b[0m\u001b[0m\n\u001b[0m\u001b[1;32m    735\u001b[0m             \u001b[0;32mraise\u001b[0m \u001b[0mvalue\u001b[0m\u001b[0;34m\u001b[0m\u001b[0;34m\u001b[0m\u001b[0m\n",
      "\u001b[0;32m/opt/anaconda3/envs/minihackathons/lib/python3.9/site-packages/urllib3/connectionpool.py\u001b[0m in \u001b[0;36murlopen\u001b[0;34m(self, method, url, body, headers, retries, redirect, assert_same_host, timeout, pool_timeout, release_conn, chunked, body_pos, **response_kw)\u001b[0m\n\u001b[1;32m    698\u001b[0m             \u001b[0;31m# Make the request on the httplib connection object.\u001b[0m\u001b[0;34m\u001b[0m\u001b[0;34m\u001b[0m\u001b[0;34m\u001b[0m\u001b[0m\n\u001b[0;32m--> 699\u001b[0;31m             httplib_response = self._make_request(\n\u001b[0m\u001b[1;32m    700\u001b[0m                 \u001b[0mconn\u001b[0m\u001b[0;34m,\u001b[0m\u001b[0;34m\u001b[0m\u001b[0;34m\u001b[0m\u001b[0m\n",
      "\u001b[0;32m/opt/anaconda3/envs/minihackathons/lib/python3.9/site-packages/urllib3/connectionpool.py\u001b[0m in \u001b[0;36m_make_request\u001b[0;34m(self, conn, method, url, timeout, chunked, **httplib_request_kw)\u001b[0m\n\u001b[1;32m    444\u001b[0m                     \u001b[0;31m# Otherwise it looks like a bug in the code.\u001b[0m\u001b[0;34m\u001b[0m\u001b[0;34m\u001b[0m\u001b[0;34m\u001b[0m\u001b[0m\n\u001b[0;32m--> 445\u001b[0;31m                     \u001b[0msix\u001b[0m\u001b[0;34m.\u001b[0m\u001b[0mraise_from\u001b[0m\u001b[0;34m(\u001b[0m\u001b[0me\u001b[0m\u001b[0;34m,\u001b[0m \u001b[0;32mNone\u001b[0m\u001b[0;34m)\u001b[0m\u001b[0;34m\u001b[0m\u001b[0;34m\u001b[0m\u001b[0m\n\u001b[0m\u001b[1;32m    446\u001b[0m         \u001b[0;32mexcept\u001b[0m \u001b[0;34m(\u001b[0m\u001b[0mSocketTimeout\u001b[0m\u001b[0;34m,\u001b[0m \u001b[0mBaseSSLError\u001b[0m\u001b[0;34m,\u001b[0m \u001b[0mSocketError\u001b[0m\u001b[0;34m)\u001b[0m \u001b[0;32mas\u001b[0m \u001b[0me\u001b[0m\u001b[0;34m:\u001b[0m\u001b[0;34m\u001b[0m\u001b[0;34m\u001b[0m\u001b[0m\n",
      "\u001b[0;32m/opt/anaconda3/envs/minihackathons/lib/python3.9/site-packages/urllib3/packages/six.py\u001b[0m in \u001b[0;36mraise_from\u001b[0;34m(value, from_value)\u001b[0m\n",
      "\u001b[0;32m/opt/anaconda3/envs/minihackathons/lib/python3.9/site-packages/urllib3/connectionpool.py\u001b[0m in \u001b[0;36m_make_request\u001b[0;34m(self, conn, method, url, timeout, chunked, **httplib_request_kw)\u001b[0m\n\u001b[1;32m    439\u001b[0m                 \u001b[0;32mtry\u001b[0m\u001b[0;34m:\u001b[0m\u001b[0;34m\u001b[0m\u001b[0;34m\u001b[0m\u001b[0m\n\u001b[0;32m--> 440\u001b[0;31m                     \u001b[0mhttplib_response\u001b[0m \u001b[0;34m=\u001b[0m \u001b[0mconn\u001b[0m\u001b[0;34m.\u001b[0m\u001b[0mgetresponse\u001b[0m\u001b[0;34m(\u001b[0m\u001b[0;34m)\u001b[0m\u001b[0;34m\u001b[0m\u001b[0;34m\u001b[0m\u001b[0m\n\u001b[0m\u001b[1;32m    441\u001b[0m                 \u001b[0;32mexcept\u001b[0m \u001b[0mBaseException\u001b[0m \u001b[0;32mas\u001b[0m \u001b[0me\u001b[0m\u001b[0;34m:\u001b[0m\u001b[0;34m\u001b[0m\u001b[0;34m\u001b[0m\u001b[0m\n",
      "\u001b[0;32m/opt/anaconda3/envs/minihackathons/lib/python3.9/http/client.py\u001b[0m in \u001b[0;36mgetresponse\u001b[0;34m(self)\u001b[0m\n\u001b[1;32m   1346\u001b[0m             \u001b[0;32mtry\u001b[0m\u001b[0;34m:\u001b[0m\u001b[0;34m\u001b[0m\u001b[0;34m\u001b[0m\u001b[0m\n\u001b[0;32m-> 1347\u001b[0;31m                 \u001b[0mresponse\u001b[0m\u001b[0;34m.\u001b[0m\u001b[0mbegin\u001b[0m\u001b[0;34m(\u001b[0m\u001b[0;34m)\u001b[0m\u001b[0;34m\u001b[0m\u001b[0;34m\u001b[0m\u001b[0m\n\u001b[0m\u001b[1;32m   1348\u001b[0m             \u001b[0;32mexcept\u001b[0m \u001b[0mConnectionError\u001b[0m\u001b[0;34m:\u001b[0m\u001b[0;34m\u001b[0m\u001b[0;34m\u001b[0m\u001b[0m\n",
      "\u001b[0;32m/opt/anaconda3/envs/minihackathons/lib/python3.9/http/client.py\u001b[0m in \u001b[0;36mbegin\u001b[0;34m(self)\u001b[0m\n\u001b[1;32m    306\u001b[0m         \u001b[0;32mwhile\u001b[0m \u001b[0;32mTrue\u001b[0m\u001b[0;34m:\u001b[0m\u001b[0;34m\u001b[0m\u001b[0;34m\u001b[0m\u001b[0m\n\u001b[0;32m--> 307\u001b[0;31m             \u001b[0mversion\u001b[0m\u001b[0;34m,\u001b[0m \u001b[0mstatus\u001b[0m\u001b[0;34m,\u001b[0m \u001b[0mreason\u001b[0m \u001b[0;34m=\u001b[0m \u001b[0mself\u001b[0m\u001b[0;34m.\u001b[0m\u001b[0m_read_status\u001b[0m\u001b[0;34m(\u001b[0m\u001b[0;34m)\u001b[0m\u001b[0;34m\u001b[0m\u001b[0;34m\u001b[0m\u001b[0m\n\u001b[0m\u001b[1;32m    308\u001b[0m             \u001b[0;32mif\u001b[0m \u001b[0mstatus\u001b[0m \u001b[0;34m!=\u001b[0m \u001b[0mCONTINUE\u001b[0m\u001b[0;34m:\u001b[0m\u001b[0;34m\u001b[0m\u001b[0;34m\u001b[0m\u001b[0m\n",
      "\u001b[0;32m/opt/anaconda3/envs/minihackathons/lib/python3.9/http/client.py\u001b[0m in \u001b[0;36m_read_status\u001b[0;34m(self)\u001b[0m\n\u001b[1;32m    275\u001b[0m             \u001b[0;31m# sending a valid response.\u001b[0m\u001b[0;34m\u001b[0m\u001b[0;34m\u001b[0m\u001b[0;34m\u001b[0m\u001b[0m\n\u001b[0;32m--> 276\u001b[0;31m             raise RemoteDisconnected(\"Remote end closed connection without\"\n\u001b[0m\u001b[1;32m    277\u001b[0m                                      \" response\")\n",
      "\u001b[0;31mProtocolError\u001b[0m: ('Connection aborted.', RemoteDisconnected('Remote end closed connection without response'))",
      "\nDuring handling of the above exception, another exception occurred:\n",
      "\u001b[0;31mConnectionError\u001b[0m                           Traceback (most recent call last)",
      "\u001b[0;32m<ipython-input-110-f263964af932>\u001b[0m in \u001b[0;36m<module>\u001b[0;34m\u001b[0m\n\u001b[1;32m      1\u001b[0m \u001b[0;31m#changed backend to use 25 rules\u001b[0m\u001b[0;34m\u001b[0m\u001b[0;34m\u001b[0m\u001b[0;34m\u001b[0m\u001b[0m\n\u001b[0;32m----> 2\u001b[0;31m \u001b[0mresult_25\u001b[0m \u001b[0;34m=\u001b[0m \u001b[0mpost\u001b[0m\u001b[0;34m(\u001b[0m\u001b[0;34m'local_aragorn'\u001b[0m\u001b[0;34m,\u001b[0m\u001b[0;34m'http://localhost:4868/aragorn/query'\u001b[0m\u001b[0;34m,\u001b[0m\u001b[0mtq\u001b[0m\u001b[0;34m)\u001b[0m\u001b[0;34m\u001b[0m\u001b[0;34m\u001b[0m\u001b[0m\n\u001b[0m",
      "\u001b[0;32m~/Projects/ranking-agent/use_translator/use_translator.py\u001b[0m in \u001b[0;36mpost\u001b[0;34m(name, url, message, params)\u001b[0m\n\u001b[1;32m    142\u001b[0m     \u001b[0ms\u001b[0m \u001b[0;34m=\u001b[0m \u001b[0mrequests\u001b[0m\u001b[0;34m.\u001b[0m\u001b[0msession\u001b[0m\u001b[0;34m(\u001b[0m\u001b[0;34m)\u001b[0m\u001b[0;34m\u001b[0m\u001b[0;34m\u001b[0m\u001b[0m\n\u001b[1;32m    143\u001b[0m     \u001b[0;32mif\u001b[0m \u001b[0mparams\u001b[0m \u001b[0;32mis\u001b[0m \u001b[0;32mNone\u001b[0m\u001b[0;34m:\u001b[0m\u001b[0;34m\u001b[0m\u001b[0;34m\u001b[0m\u001b[0m\n\u001b[0;32m--> 144\u001b[0;31m         \u001b[0mresponse\u001b[0m \u001b[0;34m=\u001b[0m \u001b[0ms\u001b[0m\u001b[0;34m.\u001b[0m\u001b[0mpost\u001b[0m\u001b[0;34m(\u001b[0m\u001b[0murl\u001b[0m\u001b[0;34m,\u001b[0m\u001b[0mjson\u001b[0m\u001b[0;34m=\u001b[0m\u001b[0mmessage\u001b[0m\u001b[0;34m)\u001b[0m\u001b[0;34m\u001b[0m\u001b[0;34m\u001b[0m\u001b[0m\n\u001b[0m\u001b[1;32m    145\u001b[0m     \u001b[0;32melse\u001b[0m\u001b[0;34m:\u001b[0m\u001b[0;34m\u001b[0m\u001b[0;34m\u001b[0m\u001b[0m\n\u001b[1;32m    146\u001b[0m         \u001b[0mresponse\u001b[0m \u001b[0;34m=\u001b[0m \u001b[0ms\u001b[0m\u001b[0;34m.\u001b[0m\u001b[0mpost\u001b[0m\u001b[0;34m(\u001b[0m\u001b[0murl\u001b[0m\u001b[0;34m,\u001b[0m\u001b[0mjson\u001b[0m\u001b[0;34m=\u001b[0m\u001b[0mmessage\u001b[0m\u001b[0;34m,\u001b[0m\u001b[0mparams\u001b[0m\u001b[0;34m=\u001b[0m\u001b[0mparams\u001b[0m\u001b[0;34m)\u001b[0m\u001b[0;34m\u001b[0m\u001b[0;34m\u001b[0m\u001b[0m\n",
      "\u001b[0;32m/opt/anaconda3/envs/minihackathons/lib/python3.9/site-packages/requests/sessions.py\u001b[0m in \u001b[0;36mpost\u001b[0;34m(self, url, data, json, **kwargs)\u001b[0m\n\u001b[1;32m    588\u001b[0m         \"\"\"\n\u001b[1;32m    589\u001b[0m \u001b[0;34m\u001b[0m\u001b[0m\n\u001b[0;32m--> 590\u001b[0;31m         \u001b[0;32mreturn\u001b[0m \u001b[0mself\u001b[0m\u001b[0;34m.\u001b[0m\u001b[0mrequest\u001b[0m\u001b[0;34m(\u001b[0m\u001b[0;34m'POST'\u001b[0m\u001b[0;34m,\u001b[0m \u001b[0murl\u001b[0m\u001b[0;34m,\u001b[0m \u001b[0mdata\u001b[0m\u001b[0;34m=\u001b[0m\u001b[0mdata\u001b[0m\u001b[0;34m,\u001b[0m \u001b[0mjson\u001b[0m\u001b[0;34m=\u001b[0m\u001b[0mjson\u001b[0m\u001b[0;34m,\u001b[0m \u001b[0;34m**\u001b[0m\u001b[0mkwargs\u001b[0m\u001b[0;34m)\u001b[0m\u001b[0;34m\u001b[0m\u001b[0;34m\u001b[0m\u001b[0m\n\u001b[0m\u001b[1;32m    591\u001b[0m \u001b[0;34m\u001b[0m\u001b[0m\n\u001b[1;32m    592\u001b[0m     \u001b[0;32mdef\u001b[0m \u001b[0mput\u001b[0m\u001b[0;34m(\u001b[0m\u001b[0mself\u001b[0m\u001b[0;34m,\u001b[0m \u001b[0murl\u001b[0m\u001b[0;34m,\u001b[0m \u001b[0mdata\u001b[0m\u001b[0;34m=\u001b[0m\u001b[0;32mNone\u001b[0m\u001b[0;34m,\u001b[0m \u001b[0;34m**\u001b[0m\u001b[0mkwargs\u001b[0m\u001b[0;34m)\u001b[0m\u001b[0;34m:\u001b[0m\u001b[0;34m\u001b[0m\u001b[0;34m\u001b[0m\u001b[0m\n",
      "\u001b[0;32m/opt/anaconda3/envs/minihackathons/lib/python3.9/site-packages/requests/sessions.py\u001b[0m in \u001b[0;36mrequest\u001b[0;34m(self, method, url, params, data, headers, cookies, files, auth, timeout, allow_redirects, proxies, hooks, stream, verify, cert, json)\u001b[0m\n\u001b[1;32m    540\u001b[0m         }\n\u001b[1;32m    541\u001b[0m         \u001b[0msend_kwargs\u001b[0m\u001b[0;34m.\u001b[0m\u001b[0mupdate\u001b[0m\u001b[0;34m(\u001b[0m\u001b[0msettings\u001b[0m\u001b[0;34m)\u001b[0m\u001b[0;34m\u001b[0m\u001b[0;34m\u001b[0m\u001b[0m\n\u001b[0;32m--> 542\u001b[0;31m         \u001b[0mresp\u001b[0m \u001b[0;34m=\u001b[0m \u001b[0mself\u001b[0m\u001b[0;34m.\u001b[0m\u001b[0msend\u001b[0m\u001b[0;34m(\u001b[0m\u001b[0mprep\u001b[0m\u001b[0;34m,\u001b[0m \u001b[0;34m**\u001b[0m\u001b[0msend_kwargs\u001b[0m\u001b[0;34m)\u001b[0m\u001b[0;34m\u001b[0m\u001b[0;34m\u001b[0m\u001b[0m\n\u001b[0m\u001b[1;32m    543\u001b[0m \u001b[0;34m\u001b[0m\u001b[0m\n\u001b[1;32m    544\u001b[0m         \u001b[0;32mreturn\u001b[0m \u001b[0mresp\u001b[0m\u001b[0;34m\u001b[0m\u001b[0;34m\u001b[0m\u001b[0m\n",
      "\u001b[0;32m/opt/anaconda3/envs/minihackathons/lib/python3.9/site-packages/requests/sessions.py\u001b[0m in \u001b[0;36msend\u001b[0;34m(self, request, **kwargs)\u001b[0m\n\u001b[1;32m    653\u001b[0m \u001b[0;34m\u001b[0m\u001b[0m\n\u001b[1;32m    654\u001b[0m         \u001b[0;31m# Send the request\u001b[0m\u001b[0;34m\u001b[0m\u001b[0;34m\u001b[0m\u001b[0;34m\u001b[0m\u001b[0m\n\u001b[0;32m--> 655\u001b[0;31m         \u001b[0mr\u001b[0m \u001b[0;34m=\u001b[0m \u001b[0madapter\u001b[0m\u001b[0;34m.\u001b[0m\u001b[0msend\u001b[0m\u001b[0;34m(\u001b[0m\u001b[0mrequest\u001b[0m\u001b[0;34m,\u001b[0m \u001b[0;34m**\u001b[0m\u001b[0mkwargs\u001b[0m\u001b[0;34m)\u001b[0m\u001b[0;34m\u001b[0m\u001b[0;34m\u001b[0m\u001b[0m\n\u001b[0m\u001b[1;32m    656\u001b[0m \u001b[0;34m\u001b[0m\u001b[0m\n\u001b[1;32m    657\u001b[0m         \u001b[0;31m# Total elapsed time of the request (approximately)\u001b[0m\u001b[0;34m\u001b[0m\u001b[0;34m\u001b[0m\u001b[0;34m\u001b[0m\u001b[0m\n",
      "\u001b[0;32m/opt/anaconda3/envs/minihackathons/lib/python3.9/site-packages/requests/adapters.py\u001b[0m in \u001b[0;36msend\u001b[0;34m(self, request, stream, timeout, verify, cert, proxies)\u001b[0m\n\u001b[1;32m    496\u001b[0m \u001b[0;34m\u001b[0m\u001b[0m\n\u001b[1;32m    497\u001b[0m         \u001b[0;32mexcept\u001b[0m \u001b[0;34m(\u001b[0m\u001b[0mProtocolError\u001b[0m\u001b[0;34m,\u001b[0m \u001b[0msocket\u001b[0m\u001b[0;34m.\u001b[0m\u001b[0merror\u001b[0m\u001b[0;34m)\u001b[0m \u001b[0;32mas\u001b[0m \u001b[0merr\u001b[0m\u001b[0;34m:\u001b[0m\u001b[0;34m\u001b[0m\u001b[0;34m\u001b[0m\u001b[0m\n\u001b[0;32m--> 498\u001b[0;31m             \u001b[0;32mraise\u001b[0m \u001b[0mConnectionError\u001b[0m\u001b[0;34m(\u001b[0m\u001b[0merr\u001b[0m\u001b[0;34m,\u001b[0m \u001b[0mrequest\u001b[0m\u001b[0;34m=\u001b[0m\u001b[0mrequest\u001b[0m\u001b[0;34m)\u001b[0m\u001b[0;34m\u001b[0m\u001b[0;34m\u001b[0m\u001b[0m\n\u001b[0m\u001b[1;32m    499\u001b[0m \u001b[0;34m\u001b[0m\u001b[0m\n\u001b[1;32m    500\u001b[0m         \u001b[0;32mexcept\u001b[0m \u001b[0mMaxRetryError\u001b[0m \u001b[0;32mas\u001b[0m \u001b[0me\u001b[0m\u001b[0;34m:\u001b[0m\u001b[0;34m\u001b[0m\u001b[0;34m\u001b[0m\u001b[0m\n",
      "\u001b[0;31mConnectionError\u001b[0m: ('Connection aborted.', RemoteDisconnected('Remote end closed connection without response'))"
     ]
    }
   ],
   "source": [
    "#changed backend to use 25 rules\n",
    "result_25 = post('local_aragorn','http://localhost:4868/aragorn/query',tq)"
   ]
  },
  {
   "cell_type": "code",
   "execution_count": 105,
   "id": "dress-bermuda",
   "metadata": {},
   "outputs": [],
   "source": [
    "for i,r in enumerate(result_25['message']['results']):\n",
    "    nn = len(r['node_bindings'])\n",
    "    if nn > 2:\n",
    "        print(i,nn)"
   ]
  },
  {
   "cell_type": "code",
   "execution_count": null,
   "id": "analyzed-signature",
   "metadata": {},
   "outputs": [],
   "source": [
    "with open('infer_AD_25.json','w') as outf:\n",
    "    json.dump(result_25,outf,indent=4)"
   ]
  },
  {
   "cell_type": "code",
   "execution_count": 130,
   "id": "amino-miniature",
   "metadata": {},
   "outputs": [],
   "source": [
    "from string import Template\n",
    "rules=[\n",
    "    Template('{\"query_graph\": {\"nodes\": {\"$chemical\": {\"categories\": [\"biolink:ChemicalEntity\"]}, \"$disease\": {\"ids\": [\"$disease_id\"]}, \"f\": {\"categories\": [\"biolink:NamedThing\"]}}, \"edges\": {\"edge_0\": {\"subject\": \"f\", \"object\": \"$disease\", \"predicates\": [\"biolink:has_phenotype\"]}, \"edge_1\": {\"subject\": \"$chemical\", \"object\": \"f\", \"predicates\": [\"biolink:increases_molecular_modification_of\"]}}}}'),\n",
    "Template('{\"query_graph\": {\"nodes\": {\"$chemical\": {\"categories\": [\"biolink:ChemicalEntity\"]}, \"$disease\": {\"ids\": [\"$disease_id\"]}, \"e\": {\"categories\": [\"biolink:NamedThing\"]}}, \"edges\": {\"edge_0\": {\"subject\": \"e\", \"object\": \"$chemical\", \"predicates\": [\"biolink:affects_degradation_of\"]}, \"edge_1\": {\"subject\": \"e\", \"object\": \"$disease\", \"predicates\": [\"biolink:related_to\"]}}}}'),\n",
    "Template('{\"query_graph\": {\"nodes\": {\"$chemical\": {\"categories\": [\"biolink:ChemicalEntity\"]}, \"$disease\": {\"ids\": [\"$disease_id\"]}, \"e\": {\"categories\": [\"biolink:NamedThing\"]}}, \"edges\": {\"edge_0\": {\"subject\": \"e\", \"object\": \"$chemical\", \"predicates\": [\"biolink:affects_degradation_of\"]}, \"edge_1\": {\"subject\": \"e\", \"object\": \"$disease\", \"predicates\": [\"biolink:genetic_association\"]}}}}'),\n",
    "Template('{\"query_graph\": {\"nodes\": {\"$chemical\": {\"categories\": [\"biolink:ChemicalEntity\"]}, \"$disease\": {\"ids\": [\"$disease_id\"]}, \"e\": {\"categories\": [\"biolink:NamedThing\"]}}, \"edges\": {\"edge_0\": {\"subject\": \"e\", \"object\": \"$chemical\", \"predicates\": [\"biolink:affects_stability_of\"]}, \"edge_1\": {\"subject\": \"e\", \"object\": \"$disease\", \"predicates\": [\"biolink:genetic_association\"]}}}}'),\n",
    "Template('{\"query_graph\": {\"nodes\": {\"$chemical\": {\"categories\": [\"biolink:ChemicalEntity\"]}, \"$disease\": {\"ids\": [\"$disease_id\"]}, \"f\": {\"categories\": [\"biolink:NamedThing\"]}}, \"edges\": {\"edge_0\": {\"subject\": \"$chemical\", \"object\": \"f\", \"predicates\": [\"biolink:biomarker_for\"]}, \"edge_1\": {\"subject\": \"$disease\", \"object\": \"f\", \"predicates\": [\"biolink:similar_to\"]}}}}'),\n",
    "Template('{\"query_graph\": {\"nodes\": {\"$chemical\": {\"categories\": [\"biolink:ChemicalEntity\"]}, \"$disease\": {\"ids\": [\"$disease_id\"]}, \"f\": {\"categories\": [\"biolink:NamedThing\"]}}, \"edges\": {\"edge_0\": {\"subject\": \"f\", \"object\": \"$disease\", \"predicates\": [\"biolink:has_phenotype\"]}, \"edge_1\": {\"subject\": \"$chemical\", \"object\": \"f\", \"predicates\": [\"biolink:increases_molecular_interaction\"]}}}}'),\n",
    "Template('{\"query_graph\": {\"nodes\": {\"$chemical\": {\"categories\": [\"biolink:ChemicalEntity\"]}, \"$disease\": {\"ids\": [\"$disease_id\"]}, \"e\": {\"categories\": [\"biolink:NamedThing\"]}}, \"edges\": {\"edge_0\": {\"subject\": \"e\", \"object\": \"$chemical\", \"predicates\": [\"biolink:subclass_of\"]}, \"edge_1\": {\"subject\": \"e\", \"object\": \"$disease\", \"predicates\": [\"biolink:treats\"]}}}}'),\n",
    "Template('{\"query_graph\": {\"nodes\": {\"$chemical\": {\"categories\": [\"biolink:ChemicalEntity\"]}, \"$disease\": {\"ids\": [\"$disease_id\"]}, \"f\": {\"categories\": [\"biolink:NamedThing\"]}}, \"edges\": {\"edge_0\": {\"subject\": \"f\", \"object\": \"$disease\", \"predicates\": [\"biolink:subclass_of\"]}, \"edge_1\": {\"subject\": \"$chemical\", \"object\": \"f\", \"predicates\": [\"biolink:treats\"]}}}}'),\n",
    "Template('{\"query_graph\": {\"nodes\": {\"$chemical\": {\"categories\": [\"biolink:ChemicalEntity\"]}, \"$disease\": {\"ids\": [\"$disease_id\"]}, \"f\": {\"categories\": [\"biolink:NamedThing\"]}}, \"edges\": {\"edge_0\": {\"subject\": \"$chemical\", \"object\": \"f\", \"predicates\": [\"biolink:ameliorates\"]}, \"edge_1\": {\"subject\": \"f\", \"object\": \"$disease\", \"predicates\": [\"biolink:subclass_of\"]}}}}'),\n",
    "Template('{\"query_graph\": {\"nodes\": {\"$chemical\": {\"categories\": [\"biolink:ChemicalEntity\"]}, \"$disease\": {\"ids\": [\"$disease_id\"]}, \"e\": {\"categories\": [\"biolink:NamedThing\"]}}, \"edges\": {\"edge_0\": {\"subject\": \"e\", \"object\": \"$chemical\", \"predicates\": [\"biolink:decreases_response_to\"]}, \"edge_1\": {\"subject\": \"e\", \"object\": \"$disease\", \"predicates\": [\"biolink:has_phenotype\"]}}}}'),\n",
    "Template('{\"query_graph\": {\"nodes\": {\"$chemical\": {\"categories\": [\"biolink:ChemicalEntity\"]}, \"$disease\": {\"ids\": [\"$disease_id\"]}, \"e\": {\"categories\": [\"biolink:NamedThing\"]}}, \"edges\": {\"edge_0\": {\"subject\": \"e\", \"object\": \"$chemical\", \"predicates\": [\"biolink:has_substrate\"]}, \"edge_1\": {\"subject\": \"e\", \"object\": \"$disease\", \"predicates\": [\"biolink:related_to\"]}}}}'),\n",
    "Template('{\"query_graph\": {\"nodes\": {\"$chemical\": {\"categories\": [\"biolink:ChemicalEntity\"]}, \"$disease\": {\"ids\": [\"$disease_id\"]}, \"e\": {\"categories\": [\"biolink:NamedThing\"]}}, \"edges\": {\"edge_0\": {\"subject\": \"e\", \"object\": \"$disease\", \"predicates\": [\"biolink:ameliorates\"]}, \"edge_1\": {\"subject\": \"e\", \"object\": \"$chemical\", \"predicates\": [\"biolink:subclass_of\"]}}}}'),\n",
    "Template('{\"query_graph\": {\"nodes\": {\"$chemical\": {\"categories\": [\"biolink:ChemicalEntity\"]}, \"$disease\": {\"ids\": [\"$disease_id\"]}, \"f\": {\"categories\": [\"biolink:NamedThing\"]}}, \"edges\": {\"edge_0\": {\"subject\": \"f\", \"object\": \"$disease\", \"predicates\": [\"biolink:genetic_association\"]}, \"edge_1\": {\"subject\": \"$chemical\", \"object\": \"f\", \"predicates\": [\"biolink:increases_uptake_of\"]}}}}'),\n",
    "Template('{\"query_graph\": {\"nodes\": {\"$chemical\": {\"categories\": [\"biolink:ChemicalEntity\"]}, \"$disease\": {\"ids\": [\"$disease_id\"]}, \"f\": {\"categories\": [\"biolink:NamedThing\"]}}, \"edges\": {\"edge_0\": {\"subject\": \"$chemical\", \"object\": \"f\", \"predicates\": [\"biolink:decreases_stability_of\"]}, \"edge_1\": {\"subject\": \"f\", \"object\": \"$disease\", \"predicates\": [\"biolink:related_to\"]}}}}'),\n",
    "Template('{\"query_graph\": {\"nodes\": {\"$chemical\": {\"categories\": [\"biolink:ChemicalEntity\"]}, \"$disease\": {\"ids\": [\"$disease_id\"]}, \"f\": {\"categories\": [\"biolink:NamedThing\"]}}, \"edges\": {\"edge_0\": {\"subject\": \"$chemical\", \"object\": \"f\", \"predicates\": [\"biolink:decreases_stability_of\"]}, \"edge_1\": {\"subject\": \"$disease\", \"object\": \"f\", \"predicates\": [\"biolink:genetic_association\"]}}}}'),\n",
    "Template('{\"query_graph\": {\"nodes\": {\"$chemical\": {\"categories\": [\"biolink:ChemicalEntity\"]}, \"$disease\": {\"ids\": [\"$disease_id\"]}, \"e\": {\"categories\": [\"biolink:NamedThing\"]}}, \"edges\": {\"edge_0\": {\"subject\": \"e\", \"object\": \"$chemical\", \"predicates\": [\"biolink:affects_abundance_of\"]}, \"edge_1\": {\"subject\": \"e\", \"object\": \"$disease\", \"predicates\": [\"biolink:has_phenotype\"]}}}}'),\n",
    "Template('{\"query_graph\": {\"nodes\": {\"$chemical\": {\"categories\": [\"biolink:ChemicalEntity\"]}, \"$disease\": {\"ids\": [\"$disease_id\"]}, \"f\": {\"categories\": [\"biolink:NamedThing\"]}}, \"edges\": {\"edge_0\": {\"subject\": \"$disease\", \"object\": \"f\", \"predicates\": [\"biolink:genetic_association\"]}, \"edge_1\": {\"subject\": \"$chemical\", \"object\": \"f\", \"predicates\": [\"biolink:increases_splicing_of\"]}}}}'),\n",
    "Template('{\"query_graph\": {\"nodes\": {\"$chemical\": {\"categories\": [\"biolink:ChemicalEntity\"]}, \"$disease\": {\"ids\": [\"$disease_id\"]}, \"f\": {\"categories\": [\"biolink:NamedThing\"]}}, \"edges\": {\"edge_0\": {\"subject\": \"$chemical\", \"object\": \"f\", \"predicates\": [\"biolink:decreases_molecular_modification_of\"]}, \"edge_1\": {\"subject\": \"$disease\", \"object\": \"f\", \"predicates\": [\"biolink:genetic_association\"]}}}}'),\n",
    "Template('{\"query_graph\": {\"nodes\": {\"$chemical\": {\"categories\": [\"biolink:ChemicalEntity\"]}, \"$disease\": {\"ids\": [\"$disease_id\"]}, \"f\": {\"categories\": [\"biolink:NamedThing\"]}}, \"edges\": {\"edge_0\": {\"subject\": \"$chemical\", \"object\": \"f\", \"predicates\": [\"biolink:similar_to\"]}, \"edge_1\": {\"subject\": \"f\", \"object\": \"$disease\", \"predicates\": [\"biolink:treats\"]}}}}'),\n",
    "Template('{\"query_graph\": {\"nodes\": {\"$chemical\": {\"categories\": [\"biolink:ChemicalEntity\"]}, \"$disease\": {\"ids\": [\"$disease_id\"]}, \"f\": {\"categories\": [\"biolink:NamedThing\"]}}, \"edges\": {\"edge_0\": {\"subject\": \"$disease\", \"object\": \"f\", \"predicates\": [\"biolink:similar_to\"]}, \"edge_1\": {\"subject\": \"$chemical\", \"object\": \"f\", \"predicates\": [\"biolink:treats\"]}}}}'),\n",
    "Template('{\"query_graph\": {\"nodes\": {\"$chemical\": {\"categories\": [\"biolink:ChemicalEntity\"]}, \"$disease\": {\"ids\": [\"$disease_id\"]}, \"f\": {\"categories\": [\"biolink:NamedThing\"]}}, \"edges\": {\"edge_0\": {\"subject\": \"$chemical\", \"object\": \"f\", \"predicates\": [\"biolink:ameliorates\"]}, \"edge_1\": {\"subject\": \"f\", \"object\": \"$disease\", \"predicates\": [\"biolink:associated_with\"]}}}}'),\n",
    "Template('{\"query_graph\": {\"nodes\": {\"$chemical\": {\"categories\": [\"biolink:ChemicalEntity\"]}, \"$disease\": {\"ids\": [\"$disease_id\"]}, \"f\": {\"categories\": [\"biolink:NamedThing\"]}}, \"edges\": {\"edge_0\": {\"subject\": \"f\", \"object\": \"$disease\", \"predicates\": [\"biolink:associated_with\"]}, \"edge_1\": {\"subject\": \"$chemical\", \"object\": \"f\", \"predicates\": [\"biolink:treats\"]}}}}'),\n",
    "Template('{\"query_graph\": {\"nodes\": {\"$chemical\": {\"categories\": [\"biolink:ChemicalEntity\"]}, \"$disease\": {\"ids\": [\"$disease_id\"]}, \"f\": {\"categories\": [\"biolink:NamedThing\"]}}, \"edges\": {\"edge_0\": {\"subject\": \"$chemical\", \"object\": \"f\", \"predicates\": [\"biolink:ameliorates\"]}, \"edge_1\": {\"subject\": \"$disease\", \"object\": \"f\", \"predicates\": [\"biolink:similar_to\"]}}}}'),\n",
    "Template('{\"query_graph\": {\"nodes\": {\"$chemical\": {\"categories\": [\"biolink:ChemicalEntity\"]}, \"$disease\": {\"ids\": [\"$disease_id\"]}, \"e\": {\"categories\": [\"biolink:NamedThing\"]}}, \"edges\": {\"edge_0\": {\"subject\": \"e\", \"object\": \"$chemical\", \"predicates\": [\"biolink:expression_decreased_by\"]}, \"edge_1\": {\"subject\": \"e\", \"object\": \"$disease\", \"predicates\": [\"biolink:has_phenotype\"]}}}}'),\n",
    "Template('{\"query_graph\": {\"nodes\": {\"$chemical\": {\"categories\": [\"biolink:ChemicalEntity\"]}, \"$disease\": {\"ids\": [\"$disease_id\"]}, \"e\": {\"categories\": [\"biolink:NamedThing\"]}}, \"edges\": {\"edge_0\": {\"subject\": \"e\", \"object\": \"$disease\", \"predicates\": [\"biolink:ameliorates\"]}, \"edge_1\": {\"subject\": \"e\", \"object\": \"$chemical\", \"predicates\": [\"biolink:similar_to\"]}}}}'),\n",
    "Template('{\"query_graph\": {\"nodes\": {\"$chemical\": {\"categories\": [\"biolink:ChemicalEntity\"]}, \"$disease\": {\"ids\": [\"$disease_id\"]}, \"e\": {\"categories\": [\"biolink:NamedThing\"]}}, \"edges\": {\"edge_0\": {\"subject\": \"e\", \"object\": \"$chemical\", \"predicates\": [\"biolink:affects_localization_of\"]}, \"edge_1\": {\"subject\": \"e\", \"object\": \"$disease\", \"predicates\": [\"biolink:causes\"]}}}}'),\n",
    "Template('{\"query_graph\": {\"nodes\": {\"$chemical\": {\"categories\": [\"biolink:ChemicalEntity\"]}, \"$disease\": {\"ids\": [\"$disease_id\"]}, \"f\": {\"categories\": [\"biolink:NamedThing\"]}}, \"edges\": {\"edge_0\": {\"subject\": \"$disease\", \"object\": \"f\", \"predicates\": [\"biolink:genetic_association\"]}, \"edge_1\": {\"subject\": \"$chemical\", \"object\": \"f\", \"predicates\": [\"biolink:increases_response_to\"]}}}}'),\n",
    "Template('{\"query_graph\": {\"nodes\": {\"$chemical\": {\"categories\": [\"biolink:ChemicalEntity\"]}, \"$disease\": {\"ids\": [\"$disease_id\"]}, \"e\": {\"categories\": [\"biolink:NamedThing\"]}}, \"edges\": {\"edge_0\": {\"subject\": \"e\", \"object\": \"$disease\", \"predicates\": [\"biolink:has_phenotype\"]}, \"edge_1\": {\"subject\": \"e\", \"object\": \"$chemical\", \"predicates\": [\"biolink:increases_response_to\"]}}}}'),\n",
    "Template('{\"query_graph\": {\"nodes\": {\"$chemical\": {\"categories\": [\"biolink:ChemicalEntity\"]}, \"$disease\": {\"ids\": [\"$disease_id\"]}, \"f\": {\"categories\": [\"biolink:NamedThing\"]}}, \"edges\": {\"edge_0\": {\"subject\": \"$disease\", \"object\": \"f\", \"predicates\": [\"biolink:genetic_association\"]}, \"edge_1\": {\"subject\": \"f\", \"object\": \"$chemical\", \"predicates\": [\"biolink:increases_localization_of\"]}}}}'),\n",
    "Template('{\"query_graph\": {\"nodes\": {\"$chemical\": {\"categories\": [\"biolink:ChemicalEntity\"]}, \"$disease\": {\"ids\": [\"$disease_id\"]}, \"f\": {\"categories\": [\"biolink:NamedThing\"]}}, \"edges\": {\"edge_0\": {\"subject\": \"$chemical\", \"object\": \"f\", \"predicates\": [\"biolink:decreases_molecular_modification_of\"]}, \"edge_1\": {\"subject\": \"$disease\", \"object\": \"f\", \"predicates\": [\"biolink:related_to\"]}}}}'),\n",
    "Template('{\"query_graph\": {\"nodes\": {\"$chemical\": {\"categories\": [\"biolink:ChemicalEntity\"]}, \"$disease\": {\"ids\": [\"$disease_id\"]}, \"f\": {\"categories\": [\"biolink:NamedThing\"]}}, \"edges\": {\"edge_0\": {\"subject\": \"$chemical\", \"object\": \"f\", \"predicates\": [\"biolink:decreases_metabolic_processing_of\"]}, \"edge_1\": {\"subject\": \"$disease\", \"object\": \"f\", \"predicates\": [\"biolink:genetic_association\"]}}}}'),\n",
    "Template('{\"query_graph\": {\"nodes\": {\"$chemical\": {\"categories\": [\"biolink:ChemicalEntity\"]}, \"$disease\": {\"ids\": [\"$disease_id\"]}, \"f\": {\"categories\": [\"biolink:NamedThing\"]}}, \"edges\": {\"edge_0\": {\"subject\": \"$chemical\", \"object\": \"f\", \"predicates\": [\"biolink:decreases_response_to\"]}, \"edge_1\": {\"subject\": \"$disease\", \"object\": \"f\", \"predicates\": [\"biolink:genetic_association\"]}}}}'),\n",
    "Template('{\"query_graph\": {\"nodes\": {\"$chemical\": {\"categories\": [\"biolink:ChemicalEntity\"]}, \"$disease\": {\"ids\": [\"$disease_id\"]}, \"f\": {\"categories\": [\"biolink:NamedThing\"]}}, \"edges\": {\"edge_0\": {\"subject\": \"$chemical\", \"object\": \"f\", \"predicates\": [\"biolink:decreases_localization_of\"]}, \"edge_1\": {\"subject\": \"$disease\", \"object\": \"f\", \"predicates\": [\"biolink:related_to\"]}}}}'),\n",
    "Template('{\"query_graph\": {\"nodes\": {\"$chemical\": {\"categories\": [\"biolink:ChemicalEntity\"]}, \"$disease\": {\"ids\": [\"$disease_id\"]}, \"f\": {\"categories\": [\"biolink:NamedThing\"]}}, \"edges\": {\"edge_0\": {\"subject\": \"f\", \"object\": \"$chemical\", \"predicates\": [\"biolink:affects_localization_of\"]}, \"edge_1\": {\"subject\": \"$disease\", \"object\": \"f\", \"predicates\": [\"biolink:causes\"]}}}}'),\n",
    "Template('{\"query_graph\": {\"nodes\": {\"$chemical\": {\"categories\": [\"biolink:ChemicalEntity\"]}, \"$disease\": {\"ids\": [\"$disease_id\"]}, \"e\": {\"categories\": [\"biolink:NamedThing\"]}}, \"edges\": {\"edge_0\": {\"subject\": \"e\", \"object\": \"$chemical\", \"predicates\": [\"biolink:expression_increased_by\"]}, \"edge_1\": {\"subject\": \"e\", \"object\": \"$disease\", \"predicates\": [\"biolink:has_phenotype\"]}}}}'),\n",
    "Template('{\"query_graph\": {\"nodes\": {\"$chemical\": {\"categories\": [\"biolink:ChemicalEntity\"]}, \"$disease\": {\"ids\": [\"$disease_id\"]}, \"f\": {\"categories\": [\"biolink:NamedThing\"]}}, \"edges\": {\"edge_0\": {\"subject\": \"$chemical\", \"object\": \"f\", \"predicates\": [\"biolink:decreases_localization_of\"]}, \"edge_1\": {\"subject\": \"$disease\", \"object\": \"f\", \"predicates\": [\"biolink:genetic_association\"]}}}}'),\n",
    "Template('{\"query_graph\": {\"nodes\": {\"$chemical\": {\"categories\": [\"biolink:ChemicalEntity\"]}, \"$disease\": {\"ids\": [\"$disease_id\"]}, \"f\": {\"categories\": [\"biolink:NamedThing\"]}}, \"edges\": {\"edge_0\": {\"subject\": \"f\", \"object\": \"$disease\", \"predicates\": [\"biolink:has_part\"]}, \"edge_1\": {\"subject\": \"$chemical\", \"object\": \"f\", \"predicates\": [\"biolink:treats\"]}}}}'),\n",
    "Template('{\"query_graph\": {\"nodes\": {\"$chemical\": {\"categories\": [\"biolink:ChemicalEntity\"]}, \"$disease\": {\"ids\": [\"$disease_id\"]}}, \"edges\": {\"edge_0\": {\"subject\": \"$chemical\", \"object\": \"$disease\", \"predicates\": [\"biolink:affects\"]}, \"edge_1\": {\"subject\": \"$chemical\", \"object\": \"$disease\", \"predicates\": [\"biolink:ameliorates\"]}}}}'),\n",
    "Template('{\"query_graph\": {\"nodes\": {\"$chemical\": {\"categories\": [\"biolink:ChemicalEntity\"]}, \"$disease\": {\"ids\": [\"$disease_id\"]}}, \"edges\": {\"edge_0\": {\"subject\": \"$disease\", \"object\": \"$chemical\", \"predicates\": [\"biolink:affects\"]}, \"edge_1\": {\"subject\": \"$chemical\", \"object\": \"$disease\", \"predicates\": [\"biolink:ameliorates\"]}}}}'),\n",
    "Template('{\"query_graph\": {\"nodes\": {\"$chemical\": {\"categories\": [\"biolink:ChemicalEntity\"]}, \"$disease\": {\"ids\": [\"$disease_id\"]}}, \"edges\": {\"edge_0\": {\"subject\": \"$chemical\", \"object\": \"$disease\", \"predicates\": [\"biolink:ameliorates\"]}, \"edge_1\": {\"subject\": \"$chemical\", \"object\": \"$disease\", \"predicates\": [\"biolink:biomarker_for\"]}}}}'),\n",
    "Template('{\"query_graph\": {\"nodes\": {\"$chemical\": {\"categories\": [\"biolink:ChemicalEntity\"]}, \"$disease\": {\"ids\": [\"$disease_id\"]}}, \"edges\": {\"edge_0\": {\"subject\": \"$chemical\", \"object\": \"$disease\", \"predicates\": [\"biolink:ameliorates\"]}, \"edge_1\": {\"subject\": \"$chemical\", \"object\": \"$disease\", \"predicates\": [\"biolink:correlated_with\"]}}}}'),\n",
    "Template('{\"query_graph\": {\"nodes\": {\"$chemical\": {\"categories\": [\"biolink:ChemicalEntity\"]}, \"$disease\": {\"ids\": [\"$disease_id\"]}}, \"edges\": {\"edge_0\": {\"subject\": \"$chemical\", \"object\": \"$disease\", \"predicates\": [\"biolink:ameliorates\"]}, \"edge_1\": {\"subject\": \"$chemical\", \"object\": \"$disease\", \"predicates\": [\"biolink:negatively_correlated_with\"]}}}}'),\n",
    "Template('{\"query_graph\": {\"nodes\": {\"$chemical\": {\"categories\": [\"biolink:ChemicalEntity\"]}, \"$disease\": {\"ids\": [\"$disease_id\"]}}, \"edges\": {\"edge_0\": {\"subject\": \"$chemical\", \"object\": \"$disease\", \"predicates\": [\"biolink:ameliorates\"]}, \"edge_1\": {\"subject\": \"$chemical\", \"object\": \"$disease\", \"predicates\": [\"biolink:positively_correlated_with\"]}}}}'),\n",
    "Template('{\"query_graph\": {\"nodes\": {\"$chemical\": {\"categories\": [\"biolink:ChemicalEntity\"]}, \"$disease\": {\"ids\": [\"$disease_id\"]}}, \"edges\": {\"edge_0\": {\"subject\": \"$chemical\", \"object\": \"$disease\", \"predicates\": [\"biolink:biomarker_for\"]}, \"edge_1\": {\"subject\": \"$chemical\", \"object\": \"$disease\", \"predicates\": [\"biolink:causes_adverse_event\"]}}}}'),\n",
    "Template('{\"query_graph\": {\"nodes\": {\"$chemical\": {\"categories\": [\"biolink:ChemicalEntity\"]}, \"$disease\": {\"ids\": [\"$disease_id\"]}}, \"edges\": {\"edge_0\": {\"subject\": \"$chemical\", \"object\": \"$disease\", \"predicates\": [\"biolink:biomarker_for\"]}, \"edge_1\": {\"subject\": \"$chemical\", \"object\": \"$disease\", \"predicates\": [\"biolink:positively_correlated_with\"]}}}}'),\n",
    "Template('{\"query_graph\": {\"nodes\": {\"$chemical\": {\"categories\": [\"biolink:ChemicalEntity\"]}, \"$disease\": {\"ids\": [\"$disease_id\"]}}, \"edges\": {\"edge_0\": {\"subject\": \"$chemical\", \"object\": \"$disease\", \"predicates\": [\"biolink:ameliorates\"]}, \"edge_1\": {\"subject\": \"$chemical\", \"object\": \"$disease\", \"predicates\": [\"biolink:related_to\"]}}}}'),\n",
    "Template('{\"query_graph\": {\"nodes\": {\"$chemical\": {\"categories\": [\"biolink:ChemicalEntity\"]}, \"$disease\": {\"ids\": [\"$disease_id\"]}}, \"edges\": {\"edge_0\": {\"subject\": \"$chemical\", \"object\": \"$disease\", \"predicates\": [\"biolink:ameliorates\"]}, \"edge_1\": {\"subject\": \"$chemical\", \"object\": \"$disease\", \"predicates\": [\"biolink:causes\"]}}}}'),\n",
    "Template('{\"query_graph\": {\"nodes\": {\"$chemical\": {\"categories\": [\"biolink:ChemicalEntity\"]}, \"$disease\": {\"ids\": [\"$disease_id\"]}}, \"edges\": {\"edge_0\": {\"subject\": \"$chemical\", \"object\": \"$disease\", \"predicates\": [\"biolink:ameliorates\"]}}}}'),\n",
    "Template('{\"query_graph\": {\"nodes\": {\"$chemical\": {\"categories\": [\"biolink:ChemicalEntity\"]}, \"$disease\": {\"ids\": [\"$disease_id\"]}}, \"edges\": {\"edge_0\": {\"subject\": \"$chemical\", \"object\": \"$disease\", \"predicates\": [\"biolink:causes\"]}, \"edge_1\": {\"subject\": \"$chemical\", \"object\": \"$disease\", \"predicates\": [\"biolink:positively_correlated_with\"]}}}}'),\n",
    "Template('{\"query_graph\": {\"nodes\": {\"$chemical\": {\"categories\": [\"biolink:ChemicalEntity\"]}, \"$disease\": {\"ids\": [\"$disease_id\"]}}, \"edges\": {\"edge_0\": {\"subject\": \"$chemical\", \"object\": \"$disease\", \"predicates\": [\"biolink:negatively_correlated_with\"]}, \"edge_1\": {\"subject\": \"$chemical\", \"object\": \"$disease\", \"predicates\": [\"biolink:related_to\"]}}}}'),\n",
    "Template('{\"query_graph\": {\"nodes\": {\"$chemical\": {\"categories\": [\"biolink:ChemicalEntity\"]}, \"$disease\": {\"ids\": [\"$disease_id\"]}}, \"edges\": {\"edge_0\": {\"subject\": \"$disease\", \"object\": \"$chemical\", \"predicates\": [\"biolink:affects\"]}, \"edge_1\": {\"subject\": \"$chemical\", \"object\": \"$disease\", \"predicates\": [\"biolink:causes_adverse_event\"]}}}}'),\n",
    "Template('{\"query_graph\": {\"nodes\": {\"$chemical\": {\"categories\": [\"biolink:ChemicalEntity\"]}, \"$disease\": {\"ids\": [\"$disease_id\"]}}, \"edges\": {\"edge_0\": {\"subject\": \"$disease\", \"object\": \"$chemical\", \"predicates\": [\"biolink:affects\"]}, \"edge_1\": {\"subject\": \"$chemical\", \"object\": \"$disease\", \"predicates\": [\"biolink:correlated_with\"]}}}}'),\n",
    "Template('{\"query_graph\": {\"nodes\": {\"$chemical\": {\"categories\": [\"biolink:ChemicalEntity\"]}, \"$disease\": {\"ids\": [\"$disease_id\"]}}, \"edges\": {\"edge_0\": {\"subject\": \"$chemical\", \"object\": \"$disease\", \"predicates\": [\"biolink:affects\"]}, \"edge_1\": {\"subject\": \"$chemical\", \"object\": \"$disease\", \"predicates\": [\"biolink:negatively_correlated_with\"]}}}}'),\n",
    "Template('{\"query_graph\": {\"nodes\": {\"$chemical\": {\"categories\": [\"biolink:ChemicalEntity\"]}, \"$disease\": {\"ids\": [\"$disease_id\"]}}, \"edges\": {\"edge_0\": {\"subject\": \"$chemical\", \"object\": \"$disease\", \"predicates\": [\"biolink:causes_adverse_event\"]}, \"edge_1\": {\"subject\": \"$chemical\", \"object\": \"$disease\", \"predicates\": [\"biolink:related_to\"]}}}}'),\n",
    "Template('{\"query_graph\": {\"nodes\": {\"$chemical\": {\"categories\": [\"biolink:ChemicalEntity\"]}, \"$disease\": {\"ids\": [\"$disease_id\"]}}, \"edges\": {\"edge_0\": {\"subject\": \"$chemical\", \"object\": \"$disease\", \"predicates\": [\"biolink:causes\"]}, \"edge_1\": {\"subject\": \"$chemical\", \"object\": \"$disease\", \"predicates\": [\"biolink:causes_adverse_event\"]}}}}'),hl\n",
    "]"
   ]
  },
  {
   "cell_type": "code",
   "execution_count": 132,
   "id": "boolean-river",
   "metadata": {},
   "outputs": [
    {
     "name": "stdout",
     "output_type": "stream",
     "text": [
      "strider-dev returned in 0:00:35.200685s\n",
      "Num Results: 0\n",
      "strider-dev returned in 0:02:32.575194s\n",
      "Num Results: 120\n",
      "strider-dev returned in 0:01:12.532763s\n",
      "Num Results: 100\n",
      "strider-dev returned in 0:01:46.039396s\n",
      "Num Results: 1\n",
      "strider-dev returned in 0:00:24.303511s\n",
      "Num Results: 1067\n",
      "strider-dev returned in 0:00:19.224724s\n",
      "Num Results: 0\n",
      "strider-dev returned in 0:12:28.305670s\n",
      "Num Results: 32342\n",
      "strider-dev returned in 0:03:51.188393s\n",
      "Num Results: 19266\n",
      "strider-dev returned in 0:03:49.405493s\n",
      "Num Results: 20834\n",
      "strider-dev returned in 0:00:36.347965s\n",
      "Num Results: 0\n",
      "strider-dev returned in 0:01:49.955766s\n",
      "Num Results: 6\n",
      "strider-dev returned in 0:13:03.422022s\n",
      "Num Results: 33431\n",
      "strider-dev returned in 0:01:13.026265s\n",
      "Num Results: 34\n"
     ]
    },
    {
     "ename": "KeyboardInterrupt",
     "evalue": "",
     "output_type": "error",
     "traceback": [
      "\u001b[0;31m---------------------------------------------------------------------------\u001b[0m",
      "\u001b[0;31mKeyboardInterrupt\u001b[0m                         Traceback (most recent call last)",
      "\u001b[0;32m<ipython-input-132-5b699db657ac>\u001b[0m in \u001b[0;36m<module>\u001b[0;34m\u001b[0m\n\u001b[1;32m      8\u001b[0m     \u001b[0mqg\u001b[0m \u001b[0;34m=\u001b[0m \u001b[0mjson\u001b[0m\u001b[0;34m.\u001b[0m\u001b[0mloads\u001b[0m\u001b[0;34m(\u001b[0m\u001b[0mquery\u001b[0m\u001b[0;34m)\u001b[0m\u001b[0;34m\u001b[0m\u001b[0;34m\u001b[0m\u001b[0m\n\u001b[1;32m      9\u001b[0m     \u001b[0mm\u001b[0m \u001b[0;34m=\u001b[0m \u001b[0;34m{\u001b[0m\u001b[0;34m'message'\u001b[0m\u001b[0;34m:\u001b[0m \u001b[0mqg\u001b[0m\u001b[0;34m}\u001b[0m\u001b[0;34m\u001b[0m\u001b[0;34m\u001b[0m\u001b[0m\n\u001b[0;32m---> 10\u001b[0;31m     \u001b[0msres\u001b[0m \u001b[0;34m=\u001b[0m \u001b[0mpost\u001b[0m\u001b[0;34m(\u001b[0m\u001b[0;34m'strider-dev'\u001b[0m\u001b[0;34m,\u001b[0m\u001b[0;34m'https://strider-dev.apps.renci.org/1.2/query'\u001b[0m\u001b[0;34m,\u001b[0m\u001b[0mm\u001b[0m\u001b[0;34m)\u001b[0m\u001b[0;34m\u001b[0m\u001b[0;34m\u001b[0m\u001b[0m\n\u001b[0m\u001b[1;32m     11\u001b[0m     \u001b[0mqueries\u001b[0m\u001b[0;34m.\u001b[0m\u001b[0mappend\u001b[0m\u001b[0;34m(\u001b[0m\u001b[0mqg\u001b[0m\u001b[0;34m)\u001b[0m\u001b[0;34m\u001b[0m\u001b[0;34m\u001b[0m\u001b[0m\n\u001b[1;32m     12\u001b[0m     \u001b[0mnres\u001b[0m\u001b[0;34m.\u001b[0m\u001b[0mappend\u001b[0m\u001b[0;34m(\u001b[0m\u001b[0mlen\u001b[0m\u001b[0;34m(\u001b[0m\u001b[0msres\u001b[0m\u001b[0;34m[\u001b[0m\u001b[0;34m'message'\u001b[0m\u001b[0;34m]\u001b[0m\u001b[0;34m[\u001b[0m\u001b[0;34m'results'\u001b[0m\u001b[0;34m]\u001b[0m\u001b[0;34m)\u001b[0m\u001b[0;34m)\u001b[0m\u001b[0;34m\u001b[0m\u001b[0;34m\u001b[0m\u001b[0m\n",
      "\u001b[0;32m~/Projects/ranking-agent/use_translator/use_translator.py\u001b[0m in \u001b[0;36mpost\u001b[0;34m(name, url, message, params)\u001b[0m\n\u001b[1;32m    142\u001b[0m     \u001b[0ms\u001b[0m \u001b[0;34m=\u001b[0m \u001b[0mrequests\u001b[0m\u001b[0;34m.\u001b[0m\u001b[0msession\u001b[0m\u001b[0;34m(\u001b[0m\u001b[0;34m)\u001b[0m\u001b[0;34m\u001b[0m\u001b[0;34m\u001b[0m\u001b[0m\n\u001b[1;32m    143\u001b[0m     \u001b[0;32mif\u001b[0m \u001b[0mparams\u001b[0m \u001b[0;32mis\u001b[0m \u001b[0;32mNone\u001b[0m\u001b[0;34m:\u001b[0m\u001b[0;34m\u001b[0m\u001b[0;34m\u001b[0m\u001b[0m\n\u001b[0;32m--> 144\u001b[0;31m         \u001b[0mresponse\u001b[0m \u001b[0;34m=\u001b[0m \u001b[0ms\u001b[0m\u001b[0;34m.\u001b[0m\u001b[0mpost\u001b[0m\u001b[0;34m(\u001b[0m\u001b[0murl\u001b[0m\u001b[0;34m,\u001b[0m\u001b[0mjson\u001b[0m\u001b[0;34m=\u001b[0m\u001b[0mmessage\u001b[0m\u001b[0;34m)\u001b[0m\u001b[0;34m\u001b[0m\u001b[0;34m\u001b[0m\u001b[0m\n\u001b[0m\u001b[1;32m    145\u001b[0m     \u001b[0;32melse\u001b[0m\u001b[0;34m:\u001b[0m\u001b[0;34m\u001b[0m\u001b[0;34m\u001b[0m\u001b[0m\n\u001b[1;32m    146\u001b[0m         \u001b[0mresponse\u001b[0m \u001b[0;34m=\u001b[0m \u001b[0ms\u001b[0m\u001b[0;34m.\u001b[0m\u001b[0mpost\u001b[0m\u001b[0;34m(\u001b[0m\u001b[0murl\u001b[0m\u001b[0;34m,\u001b[0m\u001b[0mjson\u001b[0m\u001b[0;34m=\u001b[0m\u001b[0mmessage\u001b[0m\u001b[0;34m,\u001b[0m\u001b[0mparams\u001b[0m\u001b[0;34m=\u001b[0m\u001b[0mparams\u001b[0m\u001b[0;34m)\u001b[0m\u001b[0;34m\u001b[0m\u001b[0;34m\u001b[0m\u001b[0m\n",
      "\u001b[0;32m/opt/anaconda3/envs/minihackathons/lib/python3.9/site-packages/requests/sessions.py\u001b[0m in \u001b[0;36mpost\u001b[0;34m(self, url, data, json, **kwargs)\u001b[0m\n\u001b[1;32m    588\u001b[0m         \"\"\"\n\u001b[1;32m    589\u001b[0m \u001b[0;34m\u001b[0m\u001b[0m\n\u001b[0;32m--> 590\u001b[0;31m         \u001b[0;32mreturn\u001b[0m \u001b[0mself\u001b[0m\u001b[0;34m.\u001b[0m\u001b[0mrequest\u001b[0m\u001b[0;34m(\u001b[0m\u001b[0;34m'POST'\u001b[0m\u001b[0;34m,\u001b[0m \u001b[0murl\u001b[0m\u001b[0;34m,\u001b[0m \u001b[0mdata\u001b[0m\u001b[0;34m=\u001b[0m\u001b[0mdata\u001b[0m\u001b[0;34m,\u001b[0m \u001b[0mjson\u001b[0m\u001b[0;34m=\u001b[0m\u001b[0mjson\u001b[0m\u001b[0;34m,\u001b[0m \u001b[0;34m**\u001b[0m\u001b[0mkwargs\u001b[0m\u001b[0;34m)\u001b[0m\u001b[0;34m\u001b[0m\u001b[0;34m\u001b[0m\u001b[0m\n\u001b[0m\u001b[1;32m    591\u001b[0m \u001b[0;34m\u001b[0m\u001b[0m\n\u001b[1;32m    592\u001b[0m     \u001b[0;32mdef\u001b[0m \u001b[0mput\u001b[0m\u001b[0;34m(\u001b[0m\u001b[0mself\u001b[0m\u001b[0;34m,\u001b[0m \u001b[0murl\u001b[0m\u001b[0;34m,\u001b[0m \u001b[0mdata\u001b[0m\u001b[0;34m=\u001b[0m\u001b[0;32mNone\u001b[0m\u001b[0;34m,\u001b[0m \u001b[0;34m**\u001b[0m\u001b[0mkwargs\u001b[0m\u001b[0;34m)\u001b[0m\u001b[0;34m:\u001b[0m\u001b[0;34m\u001b[0m\u001b[0;34m\u001b[0m\u001b[0m\n",
      "\u001b[0;32m/opt/anaconda3/envs/minihackathons/lib/python3.9/site-packages/requests/sessions.py\u001b[0m in \u001b[0;36mrequest\u001b[0;34m(self, method, url, params, data, headers, cookies, files, auth, timeout, allow_redirects, proxies, hooks, stream, verify, cert, json)\u001b[0m\n\u001b[1;32m    540\u001b[0m         }\n\u001b[1;32m    541\u001b[0m         \u001b[0msend_kwargs\u001b[0m\u001b[0;34m.\u001b[0m\u001b[0mupdate\u001b[0m\u001b[0;34m(\u001b[0m\u001b[0msettings\u001b[0m\u001b[0;34m)\u001b[0m\u001b[0;34m\u001b[0m\u001b[0;34m\u001b[0m\u001b[0m\n\u001b[0;32m--> 542\u001b[0;31m         \u001b[0mresp\u001b[0m \u001b[0;34m=\u001b[0m \u001b[0mself\u001b[0m\u001b[0;34m.\u001b[0m\u001b[0msend\u001b[0m\u001b[0;34m(\u001b[0m\u001b[0mprep\u001b[0m\u001b[0;34m,\u001b[0m \u001b[0;34m**\u001b[0m\u001b[0msend_kwargs\u001b[0m\u001b[0;34m)\u001b[0m\u001b[0;34m\u001b[0m\u001b[0;34m\u001b[0m\u001b[0m\n\u001b[0m\u001b[1;32m    543\u001b[0m \u001b[0;34m\u001b[0m\u001b[0m\n\u001b[1;32m    544\u001b[0m         \u001b[0;32mreturn\u001b[0m \u001b[0mresp\u001b[0m\u001b[0;34m\u001b[0m\u001b[0;34m\u001b[0m\u001b[0m\n",
      "\u001b[0;32m/opt/anaconda3/envs/minihackathons/lib/python3.9/site-packages/requests/sessions.py\u001b[0m in \u001b[0;36msend\u001b[0;34m(self, request, **kwargs)\u001b[0m\n\u001b[1;32m    653\u001b[0m \u001b[0;34m\u001b[0m\u001b[0m\n\u001b[1;32m    654\u001b[0m         \u001b[0;31m# Send the request\u001b[0m\u001b[0;34m\u001b[0m\u001b[0;34m\u001b[0m\u001b[0;34m\u001b[0m\u001b[0m\n\u001b[0;32m--> 655\u001b[0;31m         \u001b[0mr\u001b[0m \u001b[0;34m=\u001b[0m \u001b[0madapter\u001b[0m\u001b[0;34m.\u001b[0m\u001b[0msend\u001b[0m\u001b[0;34m(\u001b[0m\u001b[0mrequest\u001b[0m\u001b[0;34m,\u001b[0m \u001b[0;34m**\u001b[0m\u001b[0mkwargs\u001b[0m\u001b[0;34m)\u001b[0m\u001b[0;34m\u001b[0m\u001b[0;34m\u001b[0m\u001b[0m\n\u001b[0m\u001b[1;32m    656\u001b[0m \u001b[0;34m\u001b[0m\u001b[0m\n\u001b[1;32m    657\u001b[0m         \u001b[0;31m# Total elapsed time of the request (approximately)\u001b[0m\u001b[0;34m\u001b[0m\u001b[0;34m\u001b[0m\u001b[0;34m\u001b[0m\u001b[0m\n",
      "\u001b[0;32m/opt/anaconda3/envs/minihackathons/lib/python3.9/site-packages/requests/adapters.py\u001b[0m in \u001b[0;36msend\u001b[0;34m(self, request, stream, timeout, verify, cert, proxies)\u001b[0m\n\u001b[1;32m    437\u001b[0m         \u001b[0;32mtry\u001b[0m\u001b[0;34m:\u001b[0m\u001b[0;34m\u001b[0m\u001b[0;34m\u001b[0m\u001b[0m\n\u001b[1;32m    438\u001b[0m             \u001b[0;32mif\u001b[0m \u001b[0;32mnot\u001b[0m \u001b[0mchunked\u001b[0m\u001b[0;34m:\u001b[0m\u001b[0;34m\u001b[0m\u001b[0;34m\u001b[0m\u001b[0m\n\u001b[0;32m--> 439\u001b[0;31m                 resp = conn.urlopen(\n\u001b[0m\u001b[1;32m    440\u001b[0m                     \u001b[0mmethod\u001b[0m\u001b[0;34m=\u001b[0m\u001b[0mrequest\u001b[0m\u001b[0;34m.\u001b[0m\u001b[0mmethod\u001b[0m\u001b[0;34m,\u001b[0m\u001b[0;34m\u001b[0m\u001b[0;34m\u001b[0m\u001b[0m\n\u001b[1;32m    441\u001b[0m                     \u001b[0murl\u001b[0m\u001b[0;34m=\u001b[0m\u001b[0murl\u001b[0m\u001b[0;34m,\u001b[0m\u001b[0;34m\u001b[0m\u001b[0;34m\u001b[0m\u001b[0m\n",
      "\u001b[0;32m/opt/anaconda3/envs/minihackathons/lib/python3.9/site-packages/urllib3/connectionpool.py\u001b[0m in \u001b[0;36murlopen\u001b[0;34m(self, method, url, body, headers, retries, redirect, assert_same_host, timeout, pool_timeout, release_conn, chunked, body_pos, **response_kw)\u001b[0m\n\u001b[1;32m    697\u001b[0m \u001b[0;34m\u001b[0m\u001b[0m\n\u001b[1;32m    698\u001b[0m             \u001b[0;31m# Make the request on the httplib connection object.\u001b[0m\u001b[0;34m\u001b[0m\u001b[0;34m\u001b[0m\u001b[0;34m\u001b[0m\u001b[0m\n\u001b[0;32m--> 699\u001b[0;31m             httplib_response = self._make_request(\n\u001b[0m\u001b[1;32m    700\u001b[0m                 \u001b[0mconn\u001b[0m\u001b[0;34m,\u001b[0m\u001b[0;34m\u001b[0m\u001b[0;34m\u001b[0m\u001b[0m\n\u001b[1;32m    701\u001b[0m                 \u001b[0mmethod\u001b[0m\u001b[0;34m,\u001b[0m\u001b[0;34m\u001b[0m\u001b[0;34m\u001b[0m\u001b[0m\n",
      "\u001b[0;32m/opt/anaconda3/envs/minihackathons/lib/python3.9/site-packages/urllib3/connectionpool.py\u001b[0m in \u001b[0;36m_make_request\u001b[0;34m(self, conn, method, url, timeout, chunked, **httplib_request_kw)\u001b[0m\n\u001b[1;32m    443\u001b[0m                     \u001b[0;31m# Python 3 (including for exceptions like SystemExit).\u001b[0m\u001b[0;34m\u001b[0m\u001b[0;34m\u001b[0m\u001b[0;34m\u001b[0m\u001b[0m\n\u001b[1;32m    444\u001b[0m                     \u001b[0;31m# Otherwise it looks like a bug in the code.\u001b[0m\u001b[0;34m\u001b[0m\u001b[0;34m\u001b[0m\u001b[0;34m\u001b[0m\u001b[0m\n\u001b[0;32m--> 445\u001b[0;31m                     \u001b[0msix\u001b[0m\u001b[0;34m.\u001b[0m\u001b[0mraise_from\u001b[0m\u001b[0;34m(\u001b[0m\u001b[0me\u001b[0m\u001b[0;34m,\u001b[0m \u001b[0;32mNone\u001b[0m\u001b[0;34m)\u001b[0m\u001b[0;34m\u001b[0m\u001b[0;34m\u001b[0m\u001b[0m\n\u001b[0m\u001b[1;32m    446\u001b[0m         \u001b[0;32mexcept\u001b[0m \u001b[0;34m(\u001b[0m\u001b[0mSocketTimeout\u001b[0m\u001b[0;34m,\u001b[0m \u001b[0mBaseSSLError\u001b[0m\u001b[0;34m,\u001b[0m \u001b[0mSocketError\u001b[0m\u001b[0;34m)\u001b[0m \u001b[0;32mas\u001b[0m \u001b[0me\u001b[0m\u001b[0;34m:\u001b[0m\u001b[0;34m\u001b[0m\u001b[0;34m\u001b[0m\u001b[0m\n\u001b[1;32m    447\u001b[0m             \u001b[0mself\u001b[0m\u001b[0;34m.\u001b[0m\u001b[0m_raise_timeout\u001b[0m\u001b[0;34m(\u001b[0m\u001b[0merr\u001b[0m\u001b[0;34m=\u001b[0m\u001b[0me\u001b[0m\u001b[0;34m,\u001b[0m \u001b[0murl\u001b[0m\u001b[0;34m=\u001b[0m\u001b[0murl\u001b[0m\u001b[0;34m,\u001b[0m \u001b[0mtimeout_value\u001b[0m\u001b[0;34m=\u001b[0m\u001b[0mread_timeout\u001b[0m\u001b[0;34m)\u001b[0m\u001b[0;34m\u001b[0m\u001b[0;34m\u001b[0m\u001b[0m\n",
      "\u001b[0;32m/opt/anaconda3/envs/minihackathons/lib/python3.9/site-packages/urllib3/packages/six.py\u001b[0m in \u001b[0;36mraise_from\u001b[0;34m(value, from_value)\u001b[0m\n",
      "\u001b[0;32m/opt/anaconda3/envs/minihackathons/lib/python3.9/site-packages/urllib3/connectionpool.py\u001b[0m in \u001b[0;36m_make_request\u001b[0;34m(self, conn, method, url, timeout, chunked, **httplib_request_kw)\u001b[0m\n\u001b[1;32m    438\u001b[0m                 \u001b[0;31m# Python 3\u001b[0m\u001b[0;34m\u001b[0m\u001b[0;34m\u001b[0m\u001b[0;34m\u001b[0m\u001b[0m\n\u001b[1;32m    439\u001b[0m                 \u001b[0;32mtry\u001b[0m\u001b[0;34m:\u001b[0m\u001b[0;34m\u001b[0m\u001b[0;34m\u001b[0m\u001b[0m\n\u001b[0;32m--> 440\u001b[0;31m                     \u001b[0mhttplib_response\u001b[0m \u001b[0;34m=\u001b[0m \u001b[0mconn\u001b[0m\u001b[0;34m.\u001b[0m\u001b[0mgetresponse\u001b[0m\u001b[0;34m(\u001b[0m\u001b[0;34m)\u001b[0m\u001b[0;34m\u001b[0m\u001b[0;34m\u001b[0m\u001b[0m\n\u001b[0m\u001b[1;32m    441\u001b[0m                 \u001b[0;32mexcept\u001b[0m \u001b[0mBaseException\u001b[0m \u001b[0;32mas\u001b[0m \u001b[0me\u001b[0m\u001b[0;34m:\u001b[0m\u001b[0;34m\u001b[0m\u001b[0;34m\u001b[0m\u001b[0m\n\u001b[1;32m    442\u001b[0m                     \u001b[0;31m# Remove the TypeError from the exception chain in\u001b[0m\u001b[0;34m\u001b[0m\u001b[0;34m\u001b[0m\u001b[0;34m\u001b[0m\u001b[0m\n",
      "\u001b[0;32m/opt/anaconda3/envs/minihackathons/lib/python3.9/http/client.py\u001b[0m in \u001b[0;36mgetresponse\u001b[0;34m(self)\u001b[0m\n\u001b[1;32m   1345\u001b[0m         \u001b[0;32mtry\u001b[0m\u001b[0;34m:\u001b[0m\u001b[0;34m\u001b[0m\u001b[0;34m\u001b[0m\u001b[0m\n\u001b[1;32m   1346\u001b[0m             \u001b[0;32mtry\u001b[0m\u001b[0;34m:\u001b[0m\u001b[0;34m\u001b[0m\u001b[0;34m\u001b[0m\u001b[0m\n\u001b[0;32m-> 1347\u001b[0;31m                 \u001b[0mresponse\u001b[0m\u001b[0;34m.\u001b[0m\u001b[0mbegin\u001b[0m\u001b[0;34m(\u001b[0m\u001b[0;34m)\u001b[0m\u001b[0;34m\u001b[0m\u001b[0;34m\u001b[0m\u001b[0m\n\u001b[0m\u001b[1;32m   1348\u001b[0m             \u001b[0;32mexcept\u001b[0m \u001b[0mConnectionError\u001b[0m\u001b[0;34m:\u001b[0m\u001b[0;34m\u001b[0m\u001b[0;34m\u001b[0m\u001b[0m\n\u001b[1;32m   1349\u001b[0m                 \u001b[0mself\u001b[0m\u001b[0;34m.\u001b[0m\u001b[0mclose\u001b[0m\u001b[0;34m(\u001b[0m\u001b[0;34m)\u001b[0m\u001b[0;34m\u001b[0m\u001b[0;34m\u001b[0m\u001b[0m\n",
      "\u001b[0;32m/opt/anaconda3/envs/minihackathons/lib/python3.9/http/client.py\u001b[0m in \u001b[0;36mbegin\u001b[0;34m(self)\u001b[0m\n\u001b[1;32m    305\u001b[0m         \u001b[0;31m# read until we get a non-100 response\u001b[0m\u001b[0;34m\u001b[0m\u001b[0;34m\u001b[0m\u001b[0;34m\u001b[0m\u001b[0m\n\u001b[1;32m    306\u001b[0m         \u001b[0;32mwhile\u001b[0m \u001b[0;32mTrue\u001b[0m\u001b[0;34m:\u001b[0m\u001b[0;34m\u001b[0m\u001b[0;34m\u001b[0m\u001b[0m\n\u001b[0;32m--> 307\u001b[0;31m             \u001b[0mversion\u001b[0m\u001b[0;34m,\u001b[0m \u001b[0mstatus\u001b[0m\u001b[0;34m,\u001b[0m \u001b[0mreason\u001b[0m \u001b[0;34m=\u001b[0m \u001b[0mself\u001b[0m\u001b[0;34m.\u001b[0m\u001b[0m_read_status\u001b[0m\u001b[0;34m(\u001b[0m\u001b[0;34m)\u001b[0m\u001b[0;34m\u001b[0m\u001b[0;34m\u001b[0m\u001b[0m\n\u001b[0m\u001b[1;32m    308\u001b[0m             \u001b[0;32mif\u001b[0m \u001b[0mstatus\u001b[0m \u001b[0;34m!=\u001b[0m \u001b[0mCONTINUE\u001b[0m\u001b[0;34m:\u001b[0m\u001b[0;34m\u001b[0m\u001b[0;34m\u001b[0m\u001b[0m\n\u001b[1;32m    309\u001b[0m                 \u001b[0;32mbreak\u001b[0m\u001b[0;34m\u001b[0m\u001b[0;34m\u001b[0m\u001b[0m\n",
      "\u001b[0;32m/opt/anaconda3/envs/minihackathons/lib/python3.9/http/client.py\u001b[0m in \u001b[0;36m_read_status\u001b[0;34m(self)\u001b[0m\n\u001b[1;32m    266\u001b[0m \u001b[0;34m\u001b[0m\u001b[0m\n\u001b[1;32m    267\u001b[0m     \u001b[0;32mdef\u001b[0m \u001b[0m_read_status\u001b[0m\u001b[0;34m(\u001b[0m\u001b[0mself\u001b[0m\u001b[0;34m)\u001b[0m\u001b[0;34m:\u001b[0m\u001b[0;34m\u001b[0m\u001b[0;34m\u001b[0m\u001b[0m\n\u001b[0;32m--> 268\u001b[0;31m         \u001b[0mline\u001b[0m \u001b[0;34m=\u001b[0m \u001b[0mstr\u001b[0m\u001b[0;34m(\u001b[0m\u001b[0mself\u001b[0m\u001b[0;34m.\u001b[0m\u001b[0mfp\u001b[0m\u001b[0;34m.\u001b[0m\u001b[0mreadline\u001b[0m\u001b[0;34m(\u001b[0m\u001b[0m_MAXLINE\u001b[0m \u001b[0;34m+\u001b[0m \u001b[0;36m1\u001b[0m\u001b[0;34m)\u001b[0m\u001b[0;34m,\u001b[0m \u001b[0;34m\"iso-8859-1\"\u001b[0m\u001b[0;34m)\u001b[0m\u001b[0;34m\u001b[0m\u001b[0;34m\u001b[0m\u001b[0m\n\u001b[0m\u001b[1;32m    269\u001b[0m         \u001b[0;32mif\u001b[0m \u001b[0mlen\u001b[0m\u001b[0;34m(\u001b[0m\u001b[0mline\u001b[0m\u001b[0;34m)\u001b[0m \u001b[0;34m>\u001b[0m \u001b[0m_MAXLINE\u001b[0m\u001b[0;34m:\u001b[0m\u001b[0;34m\u001b[0m\u001b[0;34m\u001b[0m\u001b[0m\n\u001b[1;32m    270\u001b[0m             \u001b[0;32mraise\u001b[0m \u001b[0mLineTooLong\u001b[0m\u001b[0;34m(\u001b[0m\u001b[0;34m\"status line\"\u001b[0m\u001b[0;34m)\u001b[0m\u001b[0;34m\u001b[0m\u001b[0;34m\u001b[0m\u001b[0m\n",
      "\u001b[0;32m/opt/anaconda3/envs/minihackathons/lib/python3.9/socket.py\u001b[0m in \u001b[0;36mreadinto\u001b[0;34m(self, b)\u001b[0m\n\u001b[1;32m    702\u001b[0m         \u001b[0;32mwhile\u001b[0m \u001b[0;32mTrue\u001b[0m\u001b[0;34m:\u001b[0m\u001b[0;34m\u001b[0m\u001b[0;34m\u001b[0m\u001b[0m\n\u001b[1;32m    703\u001b[0m             \u001b[0;32mtry\u001b[0m\u001b[0;34m:\u001b[0m\u001b[0;34m\u001b[0m\u001b[0;34m\u001b[0m\u001b[0m\n\u001b[0;32m--> 704\u001b[0;31m                 \u001b[0;32mreturn\u001b[0m \u001b[0mself\u001b[0m\u001b[0;34m.\u001b[0m\u001b[0m_sock\u001b[0m\u001b[0;34m.\u001b[0m\u001b[0mrecv_into\u001b[0m\u001b[0;34m(\u001b[0m\u001b[0mb\u001b[0m\u001b[0;34m)\u001b[0m\u001b[0;34m\u001b[0m\u001b[0;34m\u001b[0m\u001b[0m\n\u001b[0m\u001b[1;32m    705\u001b[0m             \u001b[0;32mexcept\u001b[0m \u001b[0mtimeout\u001b[0m\u001b[0;34m:\u001b[0m\u001b[0;34m\u001b[0m\u001b[0;34m\u001b[0m\u001b[0m\n\u001b[1;32m    706\u001b[0m                 \u001b[0mself\u001b[0m\u001b[0;34m.\u001b[0m\u001b[0m_timeout_occurred\u001b[0m \u001b[0;34m=\u001b[0m \u001b[0;32mTrue\u001b[0m\u001b[0;34m\u001b[0m\u001b[0;34m\u001b[0m\u001b[0m\n",
      "\u001b[0;32m/opt/anaconda3/envs/minihackathons/lib/python3.9/ssl.py\u001b[0m in \u001b[0;36mrecv_into\u001b[0;34m(self, buffer, nbytes, flags)\u001b[0m\n\u001b[1;32m   1239\u001b[0m                   \u001b[0;34m\"non-zero flags not allowed in calls to recv_into() on %s\"\u001b[0m \u001b[0;34m%\u001b[0m\u001b[0;34m\u001b[0m\u001b[0;34m\u001b[0m\u001b[0m\n\u001b[1;32m   1240\u001b[0m                   self.__class__)\n\u001b[0;32m-> 1241\u001b[0;31m             \u001b[0;32mreturn\u001b[0m \u001b[0mself\u001b[0m\u001b[0;34m.\u001b[0m\u001b[0mread\u001b[0m\u001b[0;34m(\u001b[0m\u001b[0mnbytes\u001b[0m\u001b[0;34m,\u001b[0m \u001b[0mbuffer\u001b[0m\u001b[0;34m)\u001b[0m\u001b[0;34m\u001b[0m\u001b[0;34m\u001b[0m\u001b[0m\n\u001b[0m\u001b[1;32m   1242\u001b[0m         \u001b[0;32melse\u001b[0m\u001b[0;34m:\u001b[0m\u001b[0;34m\u001b[0m\u001b[0;34m\u001b[0m\u001b[0m\n\u001b[1;32m   1243\u001b[0m             \u001b[0;32mreturn\u001b[0m \u001b[0msuper\u001b[0m\u001b[0;34m(\u001b[0m\u001b[0;34m)\u001b[0m\u001b[0;34m.\u001b[0m\u001b[0mrecv_into\u001b[0m\u001b[0;34m(\u001b[0m\u001b[0mbuffer\u001b[0m\u001b[0;34m,\u001b[0m \u001b[0mnbytes\u001b[0m\u001b[0;34m,\u001b[0m \u001b[0mflags\u001b[0m\u001b[0;34m)\u001b[0m\u001b[0;34m\u001b[0m\u001b[0;34m\u001b[0m\u001b[0m\n",
      "\u001b[0;32m/opt/anaconda3/envs/minihackathons/lib/python3.9/ssl.py\u001b[0m in \u001b[0;36mread\u001b[0;34m(self, len, buffer)\u001b[0m\n\u001b[1;32m   1097\u001b[0m         \u001b[0;32mtry\u001b[0m\u001b[0;34m:\u001b[0m\u001b[0;34m\u001b[0m\u001b[0;34m\u001b[0m\u001b[0m\n\u001b[1;32m   1098\u001b[0m             \u001b[0;32mif\u001b[0m \u001b[0mbuffer\u001b[0m \u001b[0;32mis\u001b[0m \u001b[0;32mnot\u001b[0m \u001b[0;32mNone\u001b[0m\u001b[0;34m:\u001b[0m\u001b[0;34m\u001b[0m\u001b[0;34m\u001b[0m\u001b[0m\n\u001b[0;32m-> 1099\u001b[0;31m                 \u001b[0;32mreturn\u001b[0m \u001b[0mself\u001b[0m\u001b[0;34m.\u001b[0m\u001b[0m_sslobj\u001b[0m\u001b[0;34m.\u001b[0m\u001b[0mread\u001b[0m\u001b[0;34m(\u001b[0m\u001b[0mlen\u001b[0m\u001b[0;34m,\u001b[0m \u001b[0mbuffer\u001b[0m\u001b[0;34m)\u001b[0m\u001b[0;34m\u001b[0m\u001b[0;34m\u001b[0m\u001b[0m\n\u001b[0m\u001b[1;32m   1100\u001b[0m             \u001b[0;32melse\u001b[0m\u001b[0;34m:\u001b[0m\u001b[0;34m\u001b[0m\u001b[0;34m\u001b[0m\u001b[0m\n\u001b[1;32m   1101\u001b[0m                 \u001b[0;32mreturn\u001b[0m \u001b[0mself\u001b[0m\u001b[0;34m.\u001b[0m\u001b[0m_sslobj\u001b[0m\u001b[0;34m.\u001b[0m\u001b[0mread\u001b[0m\u001b[0;34m(\u001b[0m\u001b[0mlen\u001b[0m\u001b[0;34m)\u001b[0m\u001b[0;34m\u001b[0m\u001b[0;34m\u001b[0m\u001b[0m\n",
      "\u001b[0;31mKeyboardInterrupt\u001b[0m: "
     ]
    }
   ],
   "source": [
    "disease = \"MONDO:0004975\"\n",
    "dnode = 'disease'\n",
    "cnode = 'chemical'\n",
    "queries = []\n",
    "nres = []\n",
    "for t in rules:\n",
    "    query = t.substitute(disease=dnode, chemical=cnode, disease_id=disease)\n",
    "    qg = json.loads(query)\n",
    "    m = {'message': qg}\n",
    "    sres = post('strider-dev','https://strider-dev.apps.renci.org/1.2/query',m)\n",
    "    queries.append(qg)\n",
    "    nres.append(len(sres['message']['results']))"
   ]
  },
  {
   "cell_type": "code",
   "execution_count": 125,
   "id": "pharmaceutical-jamaica",
   "metadata": {},
   "outputs": [
    {
     "name": "stdout",
     "output_type": "stream",
     "text": [
      "biolink:overlaps\n",
      "biolink:acts_upstream_of\n",
      "biolink:capable_of\n",
      "biolink:actively_involved_in\n",
      "biolink:participates_in\n",
      "biolink:acts_upstream_of_or_within\n",
      "biolink:active_in\n",
      "biolink:has_real_world_evidence_of_association_with\n",
      "biolink:condition_associated_with_gene\n",
      "biolink:has_phenotype\n",
      "biolink:related_to\n",
      "biolink:acts_upstream_of_or_within_positive_effect\n",
      "biolink:acts_upstream_of_or_within_negative_effect\n",
      "biolink:genetic_association\n",
      "biolink:acts_upstream_of_negative_effect\n",
      "biolink:gene_associated_with_condition\n",
      "biolink:acts_upstream_of_positive_effect\n",
      "biolink:increases_molecular_modification_of\n",
      "biolink:enables\n"
     ]
    }
   ],
   "source": [
    "edges = sres['message']['knowledge_graph']['edges']\n",
    "preds = set([edges[e]['predicate'] for e in edges])\n",
    "for p in preds:\n",
    "    print(p)"
   ]
  },
  {
   "cell_type": "code",
   "execution_count": 126,
   "id": "weird-samuel",
   "metadata": {
    "scrolled": false
   },
   "outputs": [
    {
     "name": "stdout",
     "output_type": "stream",
     "text": [
      "{\n",
      "    \"query_graph\": {\n",
      "        \"nodes\": {\n",
      "            \"chemical\": {\n",
      "                \"categories\": [\n",
      "                    \"biolink:ChemicalEntity\"\n",
      "                ]\n",
      "            },\n",
      "            \"disease\": {\n",
      "                \"ids\": [\n",
      "                    \"MONDO:0004975\"\n",
      "                ]\n",
      "            },\n",
      "            \"f\": {\n",
      "                \"categories\": [\n",
      "                    \"biolink:NamedThing\"\n",
      "                ]\n",
      "            }\n",
      "        },\n",
      "        \"edges\": {\n",
      "            \"edge_0\": {\n",
      "                \"subject\": \"f\",\n",
      "                \"object\": \"disease\",\n",
      "                \"predicate\": \"biolink:has_phenotype\"\n",
      "            },\n",
      "            \"edge_1\": {\n",
      "                \"subject\": \"chemical\",\n",
      "                \"object\": \"f\",\n",
      "                \"predicate\": \"biolink:increases_molecular_modification_of\"\n",
      "            }\n",
      "        }\n",
      "    }\n",
      "}\n"
     ]
    }
   ],
   "source": [
    "printjson(queries[0])"
   ]
  },
  {
   "cell_type": "code",
   "execution_count": 128,
   "id": "occupational-exception",
   "metadata": {},
   "outputs": [
    {
     "name": "stdout",
     "output_type": "stream",
     "text": [
      "strider returned in 0:02:49.288431s\n",
      "Num Results: 1403\n"
     ]
    }
   ],
   "source": [
    "reg_strider = strider({'message':queries[0]})"
   ]
  },
  {
   "cell_type": "code",
   "execution_count": 129,
   "id": "chinese-organizer",
   "metadata": {},
   "outputs": [
    {
     "name": "stdout",
     "output_type": "stream",
     "text": [
      "biolink:overlaps\n",
      "biolink:acts_upstream_of_or_within_negative_effect\n",
      "biolink:acts_upstream_of\n",
      "biolink:genetic_association\n",
      "biolink:acts_upstream_of_positive_effect\n",
      "biolink:acts_upstream_of_negative_effect\n",
      "biolink:capable_of\n",
      "biolink:active_in\n",
      "biolink:enables\n",
      "biolink:participates_in\n",
      "biolink:related_to\n",
      "biolink:acts_upstream_of_or_within\n",
      "biolink:actively_involved_in\n",
      "biolink:acts_upstream_of_or_within_positive_effect\n"
     ]
    }
   ],
   "source": [
    "edges = reg_strider['message']['knowledge_graph']['edges']\n",
    "preds = set([edges[e]['predicate'] for e in edges])\n",
    "for p in preds:\n",
    "    print(p)"
   ]
  },
  {
   "cell_type": "code",
   "execution_count": 118,
   "id": "quarterly-synthetic",
   "metadata": {},
   "outputs": [
    {
     "name": "stdout",
     "output_type": "stream",
     "text": [
      "local_aragorn returned in 0:08:09.717948s\n",
      "Num Results: 1306\n"
     ]
    }
   ],
   "source": [
    "result_1_rule = post('local_aragorn','http://localhost:4868/aragorn/query',tq)"
   ]
  },
  {
   "cell_type": "code",
   "execution_count": 119,
   "id": "false-implementation",
   "metadata": {},
   "outputs": [
    {
     "name": "stdout",
     "output_type": "stream",
     "text": [
      "{\n",
      "    \"node_bindings\": {\n",
      "        \"disease\": [\n",
      "            {\n",
      "                \"id\": \"MONDO:0004975\"\n",
      "            }\n",
      "        ],\n",
      "        \"chemical\": [\n",
      "            {\n",
      "                \"id\": \"NCBIGene:7249\"\n",
      "            }\n",
      "        ],\n",
      "        \"_dummy_node_0\": [\n",
      "            {\n",
      "                \"id\": \"UBERON:0000955\"\n",
      "            }\n",
      "        ]\n",
      "    },\n",
      "    \"edge_bindings\": {\n",
      "        \"_dummy_edge_0\": [\n",
      "            {\n",
      "                \"id\": \"5deb145c4b63\",\n",
      "                \"attributes\": [\n",
      "                    {\n",
      "                        \"attribute_type_id\": \"biolink:has_numeric_value\",\n",
      "                        \"value\": 0.2679491924311228,\n",
      "                        \"value_type_id\": \"EDAM:data_1669\",\n",
      "                        \"original_attribute_name\": \"weight\",\n",
      "                        \"value_url\": null,\n",
      "                        \"attribute_source\": null,\n",
      "                        \"description\": null,\n",
      "                        \"attributes\": null\n",
      "                    }\n",
      "                ]\n",
      "            }\n",
      "        ],\n",
      "        \"_dummy_edge_1\": [\n",
      "            {\n",
      "                \"id\": \"f5a7a2a4d710\",\n",
      "                \"attributes\": [\n",
      "                    {\n",
      "                        \"attribute_type_id\": \"biolink:has_numeric_value\",\n",
      "                        \"value\": 0.2679491924311228,\n",
      "                        \"value_type_id\": \"EDAM:data_1669\",\n",
      "                        \"original_attribute_name\": \"weight\",\n",
      "                        \"value_url\": null,\n",
      "                        \"attribute_source\": null,\n",
      "                        \"description\": null,\n",
      "                        \"attributes\": null\n",
      "                    }\n",
      "                ]\n",
      "            }\n",
      "        ],\n",
      "        \"_dummy_edge_2\": [\n",
      "            {\n",
      "                \"id\": \"b6a30e8f1d0c\",\n",
      "                \"attributes\": [\n",
      "                    {\n",
      "                        \"attribute_type_id\": \"biolink:has_numeric_value\",\n",
      "                        \"value\": 0.2679491924311228,\n",
      "                        \"value_type_id\": \"EDAM:data_1669\",\n",
      "                        \"original_attribute_name\": \"weight\",\n",
      "                        \"value_url\": null,\n",
      "                        \"attribute_source\": null,\n",
      "                        \"description\": null,\n",
      "                        \"attributes\": null\n",
      "                    }\n",
      "                ]\n",
      "            }\n",
      "        ],\n",
      "        \"_dummy_edge_3\": [\n",
      "            {\n",
      "                \"id\": \"522d2b1e1352\",\n",
      "                \"attributes\": [\n",
      "                    {\n",
      "                        \"attribute_type_id\": \"biolink:has_numeric_value\",\n",
      "                        \"value\": 0.2679491924311228,\n",
      "                        \"value_type_id\": \"EDAM:data_1669\",\n",
      "                        \"original_attribute_name\": \"weight\",\n",
      "                        \"value_url\": null,\n",
      "                        \"attribute_source\": null,\n",
      "                        \"description\": null,\n",
      "                        \"attributes\": null\n",
      "                    }\n",
      "                ]\n",
      "            }\n",
      "        ],\n",
      "        \"s12\": [\n",
      "            {\n",
      "                \"id\": \"3d1b5a6e-d6c2-4b6c-9d73-b828f722a69c\",\n",
      "                \"attributes\": [\n",
      "                    {\n",
      "                        \"attribute_type_id\": \"biolink:has_numeric_value\",\n",
      "                        \"value\": 1.0,\n",
      "                        \"value_type_id\": \"EDAM:data_1669\",\n",
      "                        \"original_attribute_name\": \"weight\",\n",
      "                        \"value_url\": null,\n",
      "                        \"attribute_source\": null,\n",
      "                        \"description\": null,\n",
      "                        \"attributes\": null\n",
      "                    }\n",
      "                ]\n",
      "            }\n",
      "        ],\n",
      "        \"s464\": [\n",
      "            {\n",
      "                \"id\": \"ece048e3-a0e7-455d-b64d-a22da1271778\",\n",
      "                \"attributes\": [\n",
      "                    {\n",
      "                        \"attribute_type_id\": \"biolink:has_numeric_value\",\n",
      "                        \"value\": 0.010720238784285518,\n",
      "                        \"value_type_id\": \"EDAM:data_1669\",\n",
      "                        \"original_attribute_name\": \"weight\",\n",
      "                        \"value_url\": null,\n",
      "                        \"attribute_source\": null,\n",
      "                        \"description\": null,\n",
      "                        \"attributes\": null\n",
      "                    }\n",
      "                ]\n",
      "            }\n",
      "        ],\n",
      "        \"s465\": [\n",
      "            {\n",
      "                \"id\": \"cec4ed79-0d79-4544-b258-4c1e8db2bd1c\",\n",
      "                \"attributes\": [\n",
      "                    {\n",
      "                        \"attribute_type_id\": \"biolink:has_numeric_value\",\n",
      "                        \"value\": 0.22594886206280185,\n",
      "                        \"value_type_id\": \"EDAM:data_1669\",\n",
      "                        \"original_attribute_name\": \"weight\",\n",
      "                        \"value_url\": null,\n",
      "                        \"attribute_source\": null,\n",
      "                        \"description\": null,\n",
      "                        \"attributes\": null\n",
      "                    }\n",
      "                ]\n",
      "            }\n",
      "        ]\n",
      "    },\n",
      "    \"score\": 0.2881484977638008\n",
      "}\n"
     ]
    }
   ],
   "source": [
    "printjson(result_1_rule['message']['results'][0])"
   ]
  },
  {
   "cell_type": "code",
   "execution_count": 121,
   "id": "prompt-province",
   "metadata": {},
   "outputs": [],
   "source": [
    "with open('infer_AD_1.json','w') as outf:\n",
    "    json.dump(result_1_rule,outf,indent=4)"
   ]
  },
  {
   "cell_type": "code",
   "execution_count": null,
   "id": "corrected-ticket",
   "metadata": {},
   "outputs": [],
   "source": []
  }
 ],
 "metadata": {
  "kernelspec": {
   "display_name": "Python 3",
   "language": "python",
   "name": "python3"
  },
  "language_info": {
   "codemirror_mode": {
    "name": "ipython",
    "version": 3
   },
   "file_extension": ".py",
   "mimetype": "text/x-python",
   "name": "python",
   "nbconvert_exporter": "python",
   "pygments_lexer": "ipython3",
   "version": "3.9.1"
  }
 },
 "nbformat": 4,
 "nbformat_minor": 5
}
