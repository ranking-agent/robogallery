{
 "cells": [
  {
   "cell_type": "code",
   "execution_count": 4,
   "id": "dental-donna",
   "metadata": {},
   "outputs": [],
   "source": [
    "from use_translator import *"
   ]
  },
  {
   "cell_type": "code",
   "execution_count": 12,
   "id": "confident-typing",
   "metadata": {},
   "outputs": [],
   "source": [
    "def create_query(disease_id):\n",
    "    query_graph = {'nodes': {'disease': {'ids': [disease_id]}},\n",
    "                   'edges': {}}\n",
    "    pnode = 'disease'\n",
    "    cnode = 'chemical'\n",
    "    query_graph['nodes'][cnode] = {'categories': ['biolink:ChemicalEntity']}\n",
    "    query_graph['edges']['t_edge'] = {'object': pnode, 'subject': cnode, 'predicate':'biolink:treats'}\n",
    "    m = {'message':{'query_graph':query_graph}, 'workflow':[{'id':'lookup'}]}\n",
    "    return m"
   ]
  },
  {
   "cell_type": "code",
   "execution_count": 13,
   "id": "recovered-pursuit",
   "metadata": {},
   "outputs": [],
   "source": [
    "tq = create_query(\"MONDO:0004975\")"
   ]
  },
  {
   "cell_type": "code",
   "execution_count": 14,
   "id": "located-dining",
   "metadata": {},
   "outputs": [
    {
     "name": "stdout",
     "output_type": "stream",
     "text": [
      "{\n",
      "    \"message\": {\n",
      "        \"query_graph\": {\n",
      "            \"nodes\": {\n",
      "                \"disease\": {\n",
      "                    \"ids\": [\n",
      "                        \"MONDO:0004975\"\n",
      "                    ]\n",
      "                },\n",
      "                \"chemical\": {\n",
      "                    \"categories\": [\n",
      "                        \"biolink:ChemicalEntity\"\n",
      "                    ]\n",
      "                }\n",
      "            },\n",
      "            \"edges\": {\n",
      "                \"t_edge\": {\n",
      "                    \"object\": \"disease\",\n",
      "                    \"subject\": \"chemical\",\n",
      "                    \"predicate\": \"biolink:treats\"\n",
      "                }\n",
      "            }\n",
      "        }\n",
      "    },\n",
      "    \"workflow\": [\n",
      "        {\n",
      "            \"id\": \"lookup\"\n",
      "        }\n",
      "    ]\n",
      "}\n"
     ]
    }
   ],
   "source": [
    "printjson(tq)"
   ]
  },
  {
   "cell_type": "code",
   "execution_count": 15,
   "id": "complimentary-fluid",
   "metadata": {},
   "outputs": [
    {
     "name": "stdout",
     "output_type": "stream",
     "text": [
      "local_robokop returned in 0:00:46.563545s\n",
      "Num Results: 8\n"
     ]
    }
   ],
   "source": [
    "result = post('local_robokop','http://localhost:4868/robokop/query',tq)"
   ]
  },
  {
   "cell_type": "code",
   "execution_count": 16,
   "id": "junior-cosmetic",
   "metadata": {},
   "outputs": [],
   "source": [
    "with open('robokop.json','w') as outf:\n",
    "    json.dump(result,outf,indent=4)"
   ]
  },
  {
   "cell_type": "code",
   "execution_count": 17,
   "id": "enclosed-network",
   "metadata": {},
   "outputs": [],
   "source": [
    "result['workflow']=[{'id':'enrich_results'}]"
   ]
  },
  {
   "cell_type": "code",
   "execution_count": 18,
   "id": "indie-default",
   "metadata": {},
   "outputs": [
    {
     "name": "stdout",
     "output_type": "stream",
     "text": [
      "aragorn returned in 0:00:02.069295s\n",
      "Num Results: 20\n"
     ]
    }
   ],
   "source": [
    "coalesced = aragorn(result)"
   ]
  },
  {
   "cell_type": "code",
   "execution_count": 20,
   "id": "sacred-radiation",
   "metadata": {},
   "outputs": [],
   "source": [
    "with open('coalesced.json','w') as outf:\n",
    "    json.dump(coalesced,outf,indent=4)"
   ]
  },
  {
   "cell_type": "code",
   "execution_count": 21,
   "id": "robust-accent",
   "metadata": {},
   "outputs": [],
   "source": [
    "coalesced['workflow'] = [{'id':'score'}]"
   ]
  },
  {
   "cell_type": "code",
   "execution_count": 22,
   "id": "catholic-summary",
   "metadata": {},
   "outputs": [
    {
     "name": "stdout",
     "output_type": "stream",
     "text": [
      "aragorn returned in 0:00:03.129734s\n",
      "Num Results: 20\n",
      "weight HTML error status code 500 returned. (1 times)\n"
     ]
    }
   ],
   "source": [
    "scored = aragorn(coalesced)"
   ]
  },
  {
   "cell_type": "code",
   "execution_count": 24,
   "id": "fleet-horse",
   "metadata": {},
   "outputs": [
    {
     "name": "stdout",
     "output_type": "stream",
     "text": [
      "PUBCHEM.COMPOUND:7045767 dict_keys(['categories', 'name', 'attributes'])\n",
      "PUBCHEM.COMPOUND:77991 dict_keys(['categories', 'name', 'attributes'])\n",
      "PUBCHEM.COMPOUND:9651 dict_keys(['categories', 'name', 'attributes'])\n",
      "PUBCHEM.COMPOUND:65667 dict_keys(['categories', 'name', 'attributes'])\n",
      "PUBCHEM.COMPOUND:604519 dict_keys(['categories', 'name', 'attributes'])\n",
      "PUBCHEM.COMPOUND:1935 dict_keys(['categories', 'name', 'attributes'])\n",
      "MONDO:0004975 dict_keys(['categories', 'name', 'attributes'])\n",
      "PUBCHEM.COMPOUND:4054 dict_keys(['categories', 'name', 'attributes'])\n",
      "PUBCHEM.COMPOUND:3152 dict_keys(['categories', 'name', 'attributes'])\n",
      "UniProtKB:P22303 dict_keys(['name', 'categories'])\n",
      "UniProtKB:O42275 dict_keys(['name', 'categories'])\n",
      "UniProtKB:P37136 dict_keys(['name', 'categories'])\n",
      "UniProtKB:P81908 dict_keys(['name', 'categories'])\n",
      "MONDO:0004235 dict_keys(['name', 'categories'])\n",
      "HP:0004305 dict_keys(['name', 'categories'])\n",
      "HP:0001337 dict_keys(['name', 'categories'])\n"
     ]
    }
   ],
   "source": [
    "for node in coalesced['message']['knowledge_graph']['nodes']:\n",
    "    print(node, coalesced['message']['knowledge_graph']['nodes'][node].keys())"
   ]
  },
  {
   "cell_type": "code",
   "execution_count": null,
   "id": "interesting-musical",
   "metadata": {},
   "outputs": [],
   "source": []
  }
 ],
 "metadata": {
  "kernelspec": {
   "display_name": "Python 3",
   "language": "python",
   "name": "python3"
  },
  "language_info": {
   "codemirror_mode": {
    "name": "ipython",
    "version": 3
   },
   "file_extension": ".py",
   "mimetype": "text/x-python",
   "name": "python",
   "nbconvert_exporter": "python",
   "pygments_lexer": "ipython3",
   "version": "3.9.1"
  }
 },
 "nbformat": 4,
 "nbformat_minor": 5
}
