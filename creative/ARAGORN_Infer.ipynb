{
 "cells": [
  {
   "cell_type": "code",
   "execution_count": 1,
   "id": "awful-community",
   "metadata": {},
   "outputs": [],
   "source": [
    "from use_translator import *"
   ]
  },
  {
   "cell_type": "code",
   "execution_count": 2,
   "id": "forbidden-twelve",
   "metadata": {},
   "outputs": [],
   "source": [
    "def create_query(disease_id):\n",
    "    query_graph = {'nodes': {'disease': {'ids': [disease_id]}},\n",
    "                   'edges': {}}\n",
    "    pnode = 'disease'\n",
    "    cnode = 'chemical'\n",
    "    query_graph['nodes'][cnode] = {'categories': ['biolink:ChemicalEntity']}\n",
    "    query_graph['edges']['t_edge'] = {'object': pnode, 'subject': cnode, 'predicate':'biolink:treats', 'knowledge_type': 'inferred'}\n",
    "    m = {'message':{'query_graph':query_graph}}\n",
    "    return m"
   ]
  },
  {
   "cell_type": "code",
   "execution_count": 5,
   "id": "stock-secretary",
   "metadata": {},
   "outputs": [
    {
     "name": "stdout",
     "output_type": "stream",
     "text": [
      "{\n",
      "    \"message\": {\n",
      "        \"query_graph\": {\n",
      "            \"nodes\": {\n",
      "                \"disease\": {\n",
      "                    \"ids\": [\n",
      "                        \"MONDO:0005044\"\n",
      "                    ]\n",
      "                },\n",
      "                \"chemical\": {\n",
      "                    \"categories\": [\n",
      "                        \"biolink:ChemicalEntity\"\n",
      "                    ]\n",
      "                }\n",
      "            },\n",
      "            \"edges\": {\n",
      "                \"t_edge\": {\n",
      "                    \"object\": \"disease\",\n",
      "                    \"subject\": \"chemical\",\n",
      "                    \"predicate\": \"biolink:treats\",\n",
      "                    \"knowledge_type\": \"inferred\"\n",
      "                }\n",
      "            }\n",
      "        }\n",
      "    }\n",
      "}\n"
     ]
    }
   ],
   "source": [
    "tq = create_query(\"MONDO:0005044\")\n",
    "print_json(tq)"
   ]
  },
  {
   "cell_type": "code",
   "execution_count": 9,
   "id": "difficult-steering",
   "metadata": {},
   "outputs": [
    {
     "name": "stdout",
     "output_type": "stream",
     "text": [
      "{\n",
      "    \"message\": {\n",
      "        \"query_graph\": {\n",
      "            \"nodes\": {\n",
      "                \"disease\": {\n",
      "                    \"ids\": [\n",
      "                        \"MONDO:0008078\"\n",
      "                    ]\n",
      "                },\n",
      "                \"chemical\": {\n",
      "                    \"categories\": [\n",
      "                        \"biolink:ChemicalEntity\"\n",
      "                    ]\n",
      "                }\n",
      "            },\n",
      "            \"edges\": {\n",
      "                \"t_edge\": {\n",
      "                    \"object\": \"disease\",\n",
      "                    \"subject\": \"chemical\",\n",
      "                    \"predicate\": \"biolink:treats\",\n",
      "                    \"knowledge_type\": \"inferred\"\n",
      "                }\n",
      "            }\n",
      "        }\n",
      "    }\n",
      "}\n"
     ]
    }
   ],
   "source": [
    "tq = {'message': {'query_graph': {'nodes': {'disease': {'ids': ['MONDO:0008078']}, 'chemical': {'categories': ['biolink:ChemicalEntity']}}, 'edges': {'t_edge': {'object': 'disease', 'subject': 'chemical', 'predicate': 'biolink:treats', 'knowledge_type': 'inferred'}}}}}\n",
    "printjson(tq)"
   ]
  },
  {
   "cell_type": "code",
   "execution_count": 10,
   "id": "accepting-encoding",
   "metadata": {},
   "outputs": [
    {
     "name": "stdout",
     "output_type": "stream",
     "text": [
      "aragorn_dev returned in 0:03:11.333279s\n",
      "Num Results: 0\n",
      "strider No results returned. (1 times)\n"
     ]
    }
   ],
   "source": [
    "creative = aragorn_dev(tq)"
   ]
  },
  {
   "cell_type": "code",
   "execution_count": 5,
   "id": "confused-society",
   "metadata": {},
   "outputs": [
    {
     "name": "stdout",
     "output_type": "stream",
     "text": [
      "robokop returned in 0:00:01.452818s\n",
      "Num Results: 0\n"
     ]
    }
   ],
   "source": [
    "rcreate = robokop(tq)"
   ]
  }
 ],
 "metadata": {
  "kernelspec": {
   "display_name": "Python 3",
   "language": "python",
   "name": "python3"
  },
  "language_info": {
   "codemirror_mode": {
    "name": "ipython",
    "version": 3
   },
   "file_extension": ".py",
   "mimetype": "text/x-python",
   "name": "python",
   "nbconvert_exporter": "python",
   "pygments_lexer": "ipython3",
   "version": "3.9.1"
  }
 },
 "nbformat": 4,
 "nbformat_minor": 5
}
