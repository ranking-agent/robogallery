{
 "cells": [
  {
   "cell_type": "markdown",
   "metadata": {},
   "source": [
    "## Workflow A: Chemical ---[]---- Gene (EGFR) Using Aragorn\n",
    "\n",
    "<br>"
   ]
  },
  {
   "cell_type": "markdown",
   "metadata": {},
   "source": [
    "Github Issue: https://github.com/ranking-agent/strider/issues/232\n",
    "\n",
    "\n",
    "<br>"
   ]
  },
  {
   "cell_type": "code",
   "execution_count": 1,
   "metadata": {},
   "outputs": [],
   "source": [
    "#Loading the functions from a notebook\n",
    "%run /Users/priyash/Documents/GitHub/robogallery/user_queries/proj_tools/template.ipynb"
   ]
  },
  {
   "cell_type": "code",
   "execution_count": 2,
   "metadata": {},
   "outputs": [],
   "source": [
    "query = {\"message\":\n",
    "    {\"query_graph\":\n",
    "        {\n",
    "          \"nodes\": {\n",
    "            \"n0\": {\n",
    "              \"categories\": [\n",
    "                \"biolink:Gene\"\n",
    "              ],\n",
    "              \"name\": \"EGFR\",\n",
    "                \"ids\": [\"NCBIGene:1956\"] \n",
    "            },\n",
    "            \"n1\": {\n",
    "              \"name\": \"Chemical Substance\",\n",
    "              \"categories\": [\"biolink:ChemicalSubstance\"]\n",
    "            }\n",
    "          },\n",
    "          \"edges\": {\n",
    "            \"e0\": {\n",
    "              \"subject\": \"n0\",\n",
    "              \"object\": \"n1\",\n",
    "              \"predicates\": [\n",
    "                \"biolink:decreases_abundance_of\",\n",
    "                \"biolink:decreases_activity_of\",\n",
    "                \"biolink:decreases_expression_of\",\n",
    "                \"biolink:decreases_synthesis_of\",\n",
    "                \"biolink:increases_degradation_of\",\n",
    "                \"biolink:disrupts\",\n",
    "                \"biolink:entity_negatively_regulates_entity\"\n",
    "              ]\n",
    "            }\n",
    "          }\n",
    "        }\n",
    "    }\n",
    "}"
   ]
  },
  {
   "cell_type": "code",
   "execution_count": 3,
   "metadata": {},
   "outputs": [
    {
     "name": "stdout",
     "output_type": "stream",
     "text": [
      "{\n",
      "    \"message\": {\n",
      "        \"query_graph\": {\n",
      "            \"nodes\": {\n",
      "                \"n0\": {\n",
      "                    \"categories\": [\n",
      "                        \"biolink:Gene\"\n",
      "                    ],\n",
      "                    \"name\": \"EGFR\",\n",
      "                    \"ids\": [\n",
      "                        \"NCBIGene:1956\"\n",
      "                    ]\n",
      "                },\n",
      "                \"n1\": {\n",
      "                    \"name\": \"Chemical Substance\",\n",
      "                    \"categories\": [\n",
      "                        \"biolink:ChemicalSubstance\"\n",
      "                    ]\n",
      "                }\n",
      "            },\n",
      "            \"edges\": {\n",
      "                \"e0\": {\n",
      "                    \"subject\": \"n0\",\n",
      "                    \"object\": \"n1\",\n",
      "                    \"predicates\": [\n",
      "                        \"biolink:decreases_abundance_of\",\n",
      "                        \"biolink:decreases_activity_of\",\n",
      "                        \"biolink:decreases_expression_of\",\n",
      "                        \"biolink:decreases_synthesis_of\",\n",
      "                        \"biolink:increases_degradation_of\",\n",
      "                        \"biolink:disrupts\",\n",
      "                        \"biolink:entity_negatively_regulates_entity\"\n",
      "                    ]\n",
      "                }\n",
      "            }\n",
      "        }\n",
      "    }\n",
      "}\n"
     ]
    }
   ],
   "source": [
    "printjson(query)"
   ]
  },
  {
   "cell_type": "markdown",
   "metadata": {},
   "source": [
    "<br>\n",
    "\n",
    "## Aragorn Direct\n",
    "\n",
    "<br>"
   ]
  },
  {
   "cell_type": "code",
   "execution_count": 4,
   "metadata": {},
   "outputs": [
    {
     "name": "stdout",
     "output_type": "stream",
     "text": [
      "ARAGORN produced 1477 results in 0:02:10.990892.\n"
     ]
    }
   ],
   "source": [
    "start = dt.now()\n",
    "aragorn_result = aragorn(query)\n",
    "end = dt.now()\n",
    "if 'results' in aragorn_result['message']:\n",
    "    print(f\"ARAGORN produced {len(aragorn_result['message']['results'])} results in {end-start}.\")\n",
    "else:\n",
    "    print('Error, no result field')"
   ]
  },
  {
   "cell_type": "code",
   "execution_count": 5,
   "metadata": {},
   "outputs": [
    {
     "data": {
      "text/html": [
       "<div>\n",
       "<style scoped>\n",
       "    .dataframe tbody tr th:only-of-type {\n",
       "        vertical-align: middle;\n",
       "    }\n",
       "\n",
       "    .dataframe tbody tr th {\n",
       "        vertical-align: top;\n",
       "    }\n",
       "\n",
       "    .dataframe thead th {\n",
       "        text-align: right;\n",
       "    }\n",
       "</style>\n",
       "<table border=\"1\" class=\"dataframe\">\n",
       "  <thead>\n",
       "    <tr style=\"text-align: right;\">\n",
       "      <th></th>\n",
       "      <th>QG Edge</th>\n",
       "      <th>Source</th>\n",
       "      <th>Count</th>\n",
       "    </tr>\n",
       "  </thead>\n",
       "  <tbody>\n",
       "    <tr>\n",
       "      <td>0</td>\n",
       "      <td>e0</td>\n",
       "      <td>https://automat.renci.org/robokopkg/1.1/query</td>\n",
       "      <td>1406</td>\n",
       "    </tr>\n",
       "    <tr>\n",
       "      <td>1</td>\n",
       "      <td>e0</td>\n",
       "      <td>https://automat.renci.org/mychem/1.1/query</td>\n",
       "      <td>12</td>\n",
       "    </tr>\n",
       "    <tr>\n",
       "      <td>2</td>\n",
       "      <td>e0</td>\n",
       "      <td>https://automat.renci.org/ctd/1.1/query</td>\n",
       "      <td>19</td>\n",
       "    </tr>\n",
       "    <tr>\n",
       "      <td>3</td>\n",
       "      <td>e0</td>\n",
       "      <td>https://arax.ncats.io/api/rtxkg2/v1.1/query</td>\n",
       "      <td>64</td>\n",
       "    </tr>\n",
       "  </tbody>\n",
       "</table>\n",
       "</div>"
      ],
      "text/plain": [
       "  QG Edge                                         Source  Count\n",
       "0      e0  https://automat.renci.org/robokopkg/1.1/query   1406\n",
       "1      e0     https://automat.renci.org/mychem/1.1/query     12\n",
       "2      e0        https://automat.renci.org/ctd/1.1/query     19\n",
       "3      e0    https://arax.ncats.io/api/rtxkg2/v1.1/query     64"
      ]
     },
     "metadata": {},
     "output_type": "display_data"
    }
   ],
   "source": [
    "prov = get_provenance(aragorn_result)\n",
    "display(prov)"
   ]
  },
  {
   "cell_type": "code",
   "execution_count": 6,
   "metadata": {},
   "outputs": [
    {
     "name": "stdout",
     "output_type": "stream",
     "text": [
      "Exception Failure getting link counts. ul: ('CHEMBL.COMPOUND:CHEMBL1743048', 'related_to', False, 'chemical_substance')\n"
     ]
    }
   ],
   "source": [
    "for logmessage in aragorn_result['logs']:\n",
    "    if logmessage['level'] == 'ERROR':\n",
    "            print(logmessage['message'])"
   ]
  },
  {
   "cell_type": "code",
   "execution_count": 7,
   "metadata": {},
   "outputs": [
    {
     "data": {
      "text/plain": [
       "[{'timestamp': '2021-07-23T13:39:14.161751',\n",
       "  'level': 'ERROR',\n",
       "  'code': None,\n",
       "  'message': \"Exception Failure getting link counts. ul: ('CHEMBL.COMPOUND:CHEMBL1743048', 'related_to', False, 'chemical_substance')\"},\n",
       " {'timestamp': '2021-07-23T13:39:14.476694',\n",
       "  'level': 'WARNING',\n",
       "  'code': None,\n",
       "  'message': 'Answer coalesce error: HTML error status code 500 returned.'}]"
      ]
     },
     "execution_count": 7,
     "metadata": {},
     "output_type": "execute_result"
    }
   ],
   "source": [
    "aragorn_result['logs']"
   ]
  },
  {
   "cell_type": "code",
   "execution_count": 8,
   "metadata": {},
   "outputs": [],
   "source": [
    "view = GammaViewer(props={\"data\":aragorn_result})\n",
    "display(view)"
   ]
  },
  {
   "cell_type": "code",
   "execution_count": 9,
   "metadata": {},
   "outputs": [
    {
     "data": {
      "text/html": [
       "<div>\n",
       "<style scoped>\n",
       "    .dataframe tbody tr th:only-of-type {\n",
       "        vertical-align: middle;\n",
       "    }\n",
       "\n",
       "    .dataframe tbody tr th {\n",
       "        vertical-align: top;\n",
       "    }\n",
       "\n",
       "    .dataframe thead th {\n",
       "        text-align: right;\n",
       "    }\n",
       "</style>\n",
       "<table border=\"1\" class=\"dataframe\">\n",
       "  <thead>\n",
       "    <tr style=\"text-align: right;\">\n",
       "      <th></th>\n",
       "      <th>QG Edge</th>\n",
       "      <th>Predicate</th>\n",
       "      <th>Count</th>\n",
       "    </tr>\n",
       "  </thead>\n",
       "  <tbody>\n",
       "    <tr>\n",
       "      <td>0</td>\n",
       "      <td>e0</td>\n",
       "      <td>biolink:decreases_activity_of</td>\n",
       "      <td>1410</td>\n",
       "    </tr>\n",
       "    <tr>\n",
       "      <td>1</td>\n",
       "      <td>e0</td>\n",
       "      <td>biolink:decreases_expression_of</td>\n",
       "      <td>3</td>\n",
       "    </tr>\n",
       "    <tr>\n",
       "      <td>2</td>\n",
       "      <td>e0</td>\n",
       "      <td>biolink:entity_negatively_regulates_entity</td>\n",
       "      <td>64</td>\n",
       "    </tr>\n",
       "    <tr>\n",
       "      <td>3</td>\n",
       "      <td>e0</td>\n",
       "      <td>biolink:increases_degradation_of</td>\n",
       "      <td>1</td>\n",
       "    </tr>\n",
       "    <tr>\n",
       "      <td>4</td>\n",
       "      <td>s6</td>\n",
       "      <td>biolink:correlated_with</td>\n",
       "      <td>1</td>\n",
       "    </tr>\n",
       "    <tr>\n",
       "      <td>...</td>\n",
       "      <td>...</td>\n",
       "      <td>...</td>\n",
       "      <td>...</td>\n",
       "    </tr>\n",
       "    <tr>\n",
       "      <td>81</td>\n",
       "      <td>s1381</td>\n",
       "      <td>biolink:correlated_with</td>\n",
       "      <td>1</td>\n",
       "    </tr>\n",
       "    <tr>\n",
       "      <td>82</td>\n",
       "      <td>s1386</td>\n",
       "      <td>biolink:correlated_with</td>\n",
       "      <td>1</td>\n",
       "    </tr>\n",
       "    <tr>\n",
       "      <td>83</td>\n",
       "      <td>s1389</td>\n",
       "      <td>biolink:correlated_with</td>\n",
       "      <td>1</td>\n",
       "    </tr>\n",
       "    <tr>\n",
       "      <td>84</td>\n",
       "      <td>s1420</td>\n",
       "      <td>biolink:correlated_with</td>\n",
       "      <td>1</td>\n",
       "    </tr>\n",
       "    <tr>\n",
       "      <td>85</td>\n",
       "      <td>s1462</td>\n",
       "      <td>biolink:correlated_with</td>\n",
       "      <td>1</td>\n",
       "    </tr>\n",
       "  </tbody>\n",
       "</table>\n",
       "<p>86 rows × 3 columns</p>\n",
       "</div>"
      ],
      "text/plain": [
       "   QG Edge                                   Predicate  Count\n",
       "0       e0               biolink:decreases_activity_of   1410\n",
       "1       e0             biolink:decreases_expression_of      3\n",
       "2       e0  biolink:entity_negatively_regulates_entity     64\n",
       "3       e0            biolink:increases_degradation_of      1\n",
       "4       s6                     biolink:correlated_with      1\n",
       "..     ...                                         ...    ...\n",
       "81   s1381                     biolink:correlated_with      1\n",
       "82   s1386                     biolink:correlated_with      1\n",
       "83   s1389                     biolink:correlated_with      1\n",
       "84   s1420                     biolink:correlated_with      1\n",
       "85   s1462                     biolink:correlated_with      1\n",
       "\n",
       "[86 rows x 3 columns]"
      ]
     },
     "metadata": {},
     "output_type": "display_data"
    }
   ],
   "source": [
    "pred = get_predicate(aragorn_result)\n",
    "display(pred)"
   ]
  },
  {
   "cell_type": "code",
   "execution_count": null,
   "metadata": {},
   "outputs": [],
   "source": []
  }
 ],
 "metadata": {
  "kernelspec": {
   "display_name": "Python 3",
   "language": "python",
   "name": "python3"
  },
  "language_info": {
   "codemirror_mode": {
    "name": "ipython",
    "version": 3
   },
   "file_extension": ".py",
   "mimetype": "text/x-python",
   "name": "python",
   "nbconvert_exporter": "python",
   "pygments_lexer": "ipython3",
   "version": "3.7.4"
  }
 },
 "nbformat": 4,
 "nbformat_minor": 2
}
