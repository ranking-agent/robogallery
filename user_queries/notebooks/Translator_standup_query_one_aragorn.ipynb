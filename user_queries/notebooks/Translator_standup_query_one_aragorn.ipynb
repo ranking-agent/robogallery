{
 "cells": [
  {
   "cell_type": "markdown",
   "metadata": {},
   "source": [
    "## Imatnib --- [correlated_with] --- Disease using ARAGORN\n",
    "\n",
    "<br>\n",
    "<br>"
   ]
  },
  {
   "cell_type": "code",
   "execution_count": 1,
   "metadata": {},
   "outputs": [],
   "source": [
    "#Loading the functions from a notebook\n",
    "%run /Users/priyash/Documents/GitHub/robogallery/user_queries/proj_tools/template.ipynb"
   ]
  },
  {
   "cell_type": "code",
   "execution_count": 2,
   "metadata": {},
   "outputs": [],
   "source": [
    "query = {\n",
    "    \"message\": {\n",
    "        \"query_graph\": {\n",
    "            \"nodes\": {\n",
    "                \"n0\": {\n",
    "                    \"ids\":[\"PUBCHEM.COMPOUND:5291\"],\n",
    "                    \"categories\":[\n",
    "                        \"biolink:ChemicalSubstance\"\n",
    "                       ]\n",
    "                },\n",
    "                \"n1\": {\n",
    "                    \"categories\":[\n",
    "                        \"biolink:DiseaseOrPhenotypicFeature\"\n",
    "                       ]\n",
    "               }\n",
    "            },\n",
    "            \"edges\": {\n",
    "                \"e0\": {\n",
    "                    \"subject\": \"n0\",\n",
    "                    \"object\": \"n1\",\n",
    "                    \"predicates\":[\"biolink:correlated_with\"]\n",
    "                }\n",
    "            }\n",
    "        }\n",
    "    }\n",
    "}"
   ]
  },
  {
   "cell_type": "code",
   "execution_count": 3,
   "metadata": {
    "scrolled": true
   },
   "outputs": [
    {
     "name": "stdout",
     "output_type": "stream",
     "text": [
      "{\n",
      "    \"message\": {\n",
      "        \"query_graph\": {\n",
      "            \"nodes\": {\n",
      "                \"n0\": {\n",
      "                    \"ids\": [\n",
      "                        \"PUBCHEM.COMPOUND:5291\"\n",
      "                    ],\n",
      "                    \"categories\": [\n",
      "                        \"biolink:ChemicalSubstance\"\n",
      "                    ]\n",
      "                },\n",
      "                \"n1\": {\n",
      "                    \"categories\": [\n",
      "                        \"biolink:DiseaseOrPhenotypicFeature\"\n",
      "                    ]\n",
      "                }\n",
      "            },\n",
      "            \"edges\": {\n",
      "                \"e0\": {\n",
      "                    \"subject\": \"n0\",\n",
      "                    \"object\": \"n1\",\n",
      "                    \"predicates\": [\n",
      "                        \"biolink:correlated_with\"\n",
      "                    ]\n",
      "                }\n",
      "            }\n",
      "        }\n",
      "    }\n",
      "}\n"
     ]
    }
   ],
   "source": [
    "printjson(query)"
   ]
  },
  {
   "cell_type": "markdown",
   "metadata": {},
   "source": [
    "## Aragorn\n",
    "\n",
    "<br>"
   ]
  },
  {
   "cell_type": "code",
   "execution_count": 4,
   "metadata": {},
   "outputs": [
    {
     "name": "stdout",
     "output_type": "stream",
     "text": [
      "ARAGORN produced 1432 results in 0:01:14.313309.\n"
     ]
    }
   ],
   "source": [
    "start = dt.now()\n",
    "aragorn_result = aragorn(query)\n",
    "end = dt.now()\n",
    "if 'results' in aragorn_result['message']:\n",
    "    print(f\"ARAGORN produced {len(aragorn_result['message']['results'])} results in {end-start}.\")\n",
    "else:\n",
    "    print('Error, no result field')"
   ]
  },
  {
   "cell_type": "code",
   "execution_count": 5,
   "metadata": {},
   "outputs": [
    {
     "data": {
      "text/html": [
       "<div>\n",
       "<style scoped>\n",
       "    .dataframe tbody tr th:only-of-type {\n",
       "        vertical-align: middle;\n",
       "    }\n",
       "\n",
       "    .dataframe tbody tr th {\n",
       "        vertical-align: top;\n",
       "    }\n",
       "\n",
       "    .dataframe thead th {\n",
       "        text-align: right;\n",
       "    }\n",
       "</style>\n",
       "<table border=\"1\" class=\"dataframe\">\n",
       "  <thead>\n",
       "    <tr style=\"text-align: right;\">\n",
       "      <th></th>\n",
       "      <th>QG Edge</th>\n",
       "      <th>Source</th>\n",
       "      <th>Count</th>\n",
       "    </tr>\n",
       "  </thead>\n",
       "  <tbody>\n",
       "    <tr>\n",
       "      <td>0</td>\n",
       "      <td>e0</td>\n",
       "      <td>https://cohd.io/api//query</td>\n",
       "      <td>13838</td>\n",
       "    </tr>\n",
       "  </tbody>\n",
       "</table>\n",
       "</div>"
      ],
      "text/plain": [
       "  QG Edge                      Source  Count\n",
       "0      e0  https://cohd.io/api//query  13838"
      ]
     },
     "metadata": {},
     "output_type": "display_data"
    }
   ],
   "source": [
    "prov = get_provenance(aragorn_result)\n",
    "display(prov)"
   ]
  },
  {
   "cell_type": "code",
   "execution_count": 7,
   "metadata": {},
   "outputs": [],
   "source": [
    "view = GammaViewer(props={\"data\":aragorn_result})\n",
    "display(view)"
   ]
  },
  {
   "cell_type": "code",
   "execution_count": 8,
   "metadata": {},
   "outputs": [
    {
     "data": {
      "text/html": [
       "<div>\n",
       "<style scoped>\n",
       "    .dataframe tbody tr th:only-of-type {\n",
       "        vertical-align: middle;\n",
       "    }\n",
       "\n",
       "    .dataframe tbody tr th {\n",
       "        vertical-align: top;\n",
       "    }\n",
       "\n",
       "    .dataframe thead th {\n",
       "        text-align: right;\n",
       "    }\n",
       "</style>\n",
       "<table border=\"1\" class=\"dataframe\">\n",
       "  <thead>\n",
       "    <tr style=\"text-align: right;\">\n",
       "      <th></th>\n",
       "      <th>QG Edge</th>\n",
       "      <th>Predicate</th>\n",
       "      <th>Count</th>\n",
       "    </tr>\n",
       "  </thead>\n",
       "  <tbody>\n",
       "    <tr>\n",
       "      <td>0</td>\n",
       "      <td>e0</td>\n",
       "      <td>biolink:correlated_with</td>\n",
       "      <td>13838</td>\n",
       "    </tr>\n",
       "    <tr>\n",
       "      <td>1</td>\n",
       "      <td>extra_qe_0</td>\n",
       "      <td>biolink:contraindicated_for</td>\n",
       "      <td>772</td>\n",
       "    </tr>\n",
       "    <tr>\n",
       "      <td>2</td>\n",
       "      <td>extra_qe_0</td>\n",
       "      <td>biolink:contributes_to</td>\n",
       "      <td>1726</td>\n",
       "    </tr>\n",
       "    <tr>\n",
       "      <td>3</td>\n",
       "      <td>extra_qe_0</td>\n",
       "      <td>biolink:causes_adverse_event</td>\n",
       "      <td>228</td>\n",
       "    </tr>\n",
       "    <tr>\n",
       "      <td>4</td>\n",
       "      <td>extra_qe_0</td>\n",
       "      <td>biolink:related_to</td>\n",
       "      <td>50</td>\n",
       "    </tr>\n",
       "    <tr>\n",
       "      <td>...</td>\n",
       "      <td>...</td>\n",
       "      <td>...</td>\n",
       "      <td>...</td>\n",
       "    </tr>\n",
       "    <tr>\n",
       "      <td>891</td>\n",
       "      <td>s634</td>\n",
       "      <td>biolink:correlated_with</td>\n",
       "      <td>1</td>\n",
       "    </tr>\n",
       "    <tr>\n",
       "      <td>892</td>\n",
       "      <td>s359</td>\n",
       "      <td>biolink:correlated_with</td>\n",
       "      <td>1</td>\n",
       "    </tr>\n",
       "    <tr>\n",
       "      <td>893</td>\n",
       "      <td>s760</td>\n",
       "      <td>biolink:correlated_with</td>\n",
       "      <td>1</td>\n",
       "    </tr>\n",
       "    <tr>\n",
       "      <td>894</td>\n",
       "      <td>s787</td>\n",
       "      <td>biolink:correlated_with</td>\n",
       "      <td>1</td>\n",
       "    </tr>\n",
       "    <tr>\n",
       "      <td>895</td>\n",
       "      <td>s826</td>\n",
       "      <td>biolink:correlated_with</td>\n",
       "      <td>1</td>\n",
       "    </tr>\n",
       "  </tbody>\n",
       "</table>\n",
       "<p>896 rows × 3 columns</p>\n",
       "</div>"
      ],
      "text/plain": [
       "        QG Edge                     Predicate  Count\n",
       "0            e0       biolink:correlated_with  13838\n",
       "1    extra_qe_0   biolink:contraindicated_for    772\n",
       "2    extra_qe_0        biolink:contributes_to   1726\n",
       "3    extra_qe_0  biolink:causes_adverse_event    228\n",
       "4    extra_qe_0            biolink:related_to     50\n",
       "..          ...                           ...    ...\n",
       "891        s634       biolink:correlated_with      1\n",
       "892        s359       biolink:correlated_with      1\n",
       "893        s760       biolink:correlated_with      1\n",
       "894        s787       biolink:correlated_with      1\n",
       "895        s826       biolink:correlated_with      1\n",
       "\n",
       "[896 rows x 3 columns]"
      ]
     },
     "metadata": {},
     "output_type": "display_data"
    }
   ],
   "source": [
    "pred = get_predicate(aragorn_result)\n",
    "display(pred)"
   ]
  },
  {
   "cell_type": "code",
   "execution_count": null,
   "metadata": {},
   "outputs": [],
   "source": []
  }
 ],
 "metadata": {
  "kernelspec": {
   "display_name": "Python 3",
   "language": "python",
   "name": "python3"
  },
  "language_info": {
   "codemirror_mode": {
    "name": "ipython",
    "version": 3
   },
   "file_extension": ".py",
   "mimetype": "text/x-python",
   "name": "python",
   "nbconvert_exporter": "python",
   "pygments_lexer": "ipython3",
   "version": "3.7.4"
  }
 },
 "nbformat": 4,
 "nbformat_minor": 2
}
