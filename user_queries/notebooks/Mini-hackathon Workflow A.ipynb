{
 "cells": [
  {
   "cell_type": "markdown",
   "metadata": {},
   "source": [
    "## Workflow A: Chemical ---[]---- Gene (EGFR)\n",
    "\n",
    "<br>\n",
    "<br>"
   ]
  },
  {
   "cell_type": "code",
   "execution_count": 70,
   "metadata": {},
   "outputs": [],
   "source": [
    "#Loading the functions from a notebook\n",
    "%run /Users/priyash/Documents/GitHub/robogallery/user_queries/proj_tools/template.ipynb"
   ]
  },
  {
   "cell_type": "code",
   "execution_count": 54,
   "metadata": {},
   "outputs": [],
   "source": [
    "# query = {\"message\":\n",
    "#     {\"query_graph\":\n",
    "#         {\n",
    "#           \"nodes\": {\n",
    "#             \"n0\": {\n",
    "#               \"categories\": [\n",
    "#                 \"biolink:ChemicalSubstance\"\n",
    "#               ],\n",
    "#               \"name\": \"Chemical Substance\"\n",
    "#             },\n",
    "#             \"n1\": {\n",
    "#               \"name\": \"EGFR\",\n",
    "#               \"ids\": [\"NCBIGene:1956\"]\n",
    "#             }\n",
    "#           },\n",
    "#           \"edges\": {\n",
    "#             \"e0\": {\n",
    "#               \"subject\": \"n0\",\n",
    "#               \"object\": \"n1\",\n",
    "#               \"predicates\": [\n",
    "#                 \"biolink:decreases_abundance_of\",\n",
    "#                 \"biolink:decreases_activity_of\",\n",
    "#                 \"biolink:decreases_expression_of\",\n",
    "#                 \"biolink:decreases_synthesis_of\",\n",
    "#                 \"biolink:increases_degradation_of\",\n",
    "#                 \"biolink:disrupts\",\n",
    "#                 \"biolink:entity_negatively_regulates_entity\"\n",
    "#               ]\n",
    "#             }\n",
    "#           }\n",
    "#         }\n",
    "#     }\n",
    "# }"
   ]
  },
  {
   "cell_type": "code",
   "execution_count": 71,
   "metadata": {},
   "outputs": [],
   "source": [
    "query = {\"message\":\n",
    "    {\"query_graph\":\n",
    "        {\n",
    "          \"nodes\": {\n",
    "            \"n0\": {\n",
    "              \"categories\": [\n",
    "                \"biolink:Gene\"\n",
    "              ],\n",
    "              \"name\": \"EGFR\",\n",
    "                \"ids\": [\"NCBIGene:1956\"] \n",
    "            },\n",
    "            \"n1\": {\n",
    "              \"name\": \"Chemical Substance\",\n",
    "              \"categories\": [\"biolink:ChemicalSubstance\"]\n",
    "            }\n",
    "          },\n",
    "          \"edges\": {\n",
    "            \"e0\": {\n",
    "              \"subject\": \"n0\",\n",
    "              \"object\": \"n1\",\n",
    "              \"predicates\": [\n",
    "                \"biolink:decreases_abundance_of\",\n",
    "                \"biolink:decreases_activity_of\",\n",
    "                \"biolink:decreases_expression_of\",\n",
    "                \"biolink:decreases_synthesis_of\",\n",
    "                \"biolink:increases_degradation_of\",\n",
    "                \"biolink:disrupts\",\n",
    "                \"biolink:entity_negatively_regulates_entity\"\n",
    "              ]\n",
    "            }\n",
    "          }\n",
    "        }\n",
    "    }\n",
    "}"
   ]
  },
  {
   "cell_type": "code",
   "execution_count": 72,
   "metadata": {},
   "outputs": [
    {
     "name": "stdout",
     "output_type": "stream",
     "text": [
      "{\n",
      "    \"message\": {\n",
      "        \"query_graph\": {\n",
      "            \"nodes\": {\n",
      "                \"n0\": {\n",
      "                    \"categories\": [\n",
      "                        \"biolink:Gene\"\n",
      "                    ],\n",
      "                    \"name\": \"EGFR\",\n",
      "                    \"ids\": [\n",
      "                        \"NCBIGene:1956\"\n",
      "                    ]\n",
      "                },\n",
      "                \"n1\": {\n",
      "                    \"name\": \"Chemical Substance\",\n",
      "                    \"categories\": [\n",
      "                        \"biolink:ChemicalSubstance\"\n",
      "                    ]\n",
      "                }\n",
      "            },\n",
      "            \"edges\": {\n",
      "                \"e0\": {\n",
      "                    \"subject\": \"n0\",\n",
      "                    \"object\": \"n1\",\n",
      "                    \"predicates\": [\n",
      "                        \"biolink:decreases_abundance_of\",\n",
      "                        \"biolink:decreases_activity_of\",\n",
      "                        \"biolink:decreases_expression_of\",\n",
      "                        \"biolink:decreases_synthesis_of\",\n",
      "                        \"biolink:increases_degradation_of\",\n",
      "                        \"biolink:disrupts\",\n",
      "                        \"biolink:entity_negatively_regulates_entity\"\n",
      "                    ]\n",
      "                }\n",
      "            }\n",
      "        }\n",
      "    }\n",
      "}\n"
     ]
    }
   ],
   "source": [
    "printjson(query)"
   ]
  },
  {
   "cell_type": "markdown",
   "metadata": {},
   "source": [
    "<br>\n",
    "\n",
    "## Strider Direct\n",
    "\n",
    "<br>\n",
    "\n"
   ]
  },
  {
   "cell_type": "code",
   "execution_count": 73,
   "metadata": {},
   "outputs": [
    {
     "name": "stdout",
     "output_type": "stream",
     "text": [
      "Strider produced 1477 results in 0:00:27.948389.\n"
     ]
    }
   ],
   "source": [
    "start = dt.now()\n",
    "strider_result = strider(query)\n",
    "end = dt.now()\n",
    "print(f\"Strider produced {len(strider_result['message']['results'])} results in {end-start}.\")"
   ]
  },
  {
   "cell_type": "code",
   "execution_count": 74,
   "metadata": {},
   "outputs": [
    {
     "data": {
      "text/html": [
       "<div>\n",
       "<style scoped>\n",
       "    .dataframe tbody tr th:only-of-type {\n",
       "        vertical-align: middle;\n",
       "    }\n",
       "\n",
       "    .dataframe tbody tr th {\n",
       "        vertical-align: top;\n",
       "    }\n",
       "\n",
       "    .dataframe thead th {\n",
       "        text-align: right;\n",
       "    }\n",
       "</style>\n",
       "<table border=\"1\" class=\"dataframe\">\n",
       "  <thead>\n",
       "    <tr style=\"text-align: right;\">\n",
       "      <th></th>\n",
       "      <th>QG Edge</th>\n",
       "      <th>Source</th>\n",
       "      <th>Count</th>\n",
       "    </tr>\n",
       "  </thead>\n",
       "  <tbody>\n",
       "    <tr>\n",
       "      <td>0</td>\n",
       "      <td>e0</td>\n",
       "      <td>https://automat.renci.org/robokopkg/1.1/query</td>\n",
       "      <td>1406</td>\n",
       "    </tr>\n",
       "    <tr>\n",
       "      <td>1</td>\n",
       "      <td>e0</td>\n",
       "      <td>https://automat.renci.org/mychem/1.1/query</td>\n",
       "      <td>12</td>\n",
       "    </tr>\n",
       "    <tr>\n",
       "      <td>2</td>\n",
       "      <td>e0</td>\n",
       "      <td>https://automat.renci.org/ctd/1.1/query</td>\n",
       "      <td>19</td>\n",
       "    </tr>\n",
       "    <tr>\n",
       "      <td>3</td>\n",
       "      <td>e0</td>\n",
       "      <td>https://arax.ncats.io/api/rtxkg2/v1.1/query</td>\n",
       "      <td>64</td>\n",
       "    </tr>\n",
       "  </tbody>\n",
       "</table>\n",
       "</div>"
      ],
      "text/plain": [
       "  QG Edge                                         Source  Count\n",
       "0      e0  https://automat.renci.org/robokopkg/1.1/query   1406\n",
       "1      e0     https://automat.renci.org/mychem/1.1/query     12\n",
       "2      e0        https://automat.renci.org/ctd/1.1/query     19\n",
       "3      e0    https://arax.ncats.io/api/rtxkg2/v1.1/query     64"
      ]
     },
     "metadata": {},
     "output_type": "display_data"
    }
   ],
   "source": [
    "prov = get_provenance(strider_result)\n",
    "display(prov)"
   ]
  },
  {
   "cell_type": "markdown",
   "metadata": {},
   "source": [
    "**one observation when i was playing with the subject and object node the result outputs were changing**\n",
    "**contacting KP error came up once in log error but then disappeared on several other runs afterwards**"
   ]
  },
  {
   "cell_type": "code",
   "execution_count": 75,
   "metadata": {},
   "outputs": [],
   "source": [
    "for logmessage in strider_result['logs']:\n",
    "    if logmessage['level'] == 'ERROR':\n",
    "            print(logmessage['message'])"
   ]
  },
  {
   "cell_type": "code",
   "execution_count": 76,
   "metadata": {},
   "outputs": [
    {
     "data": {
      "text/plain": [
       "[]"
      ]
     },
     "execution_count": 76,
     "metadata": {},
     "output_type": "execute_result"
    }
   ],
   "source": [
    "strider_result['logs']"
   ]
  },
  {
   "cell_type": "code",
   "execution_count": 77,
   "metadata": {},
   "outputs": [],
   "source": [
    "view = GammaViewer(props={\"data\":strider_result})\n",
    "display(view)"
   ]
  },
  {
   "cell_type": "code",
   "execution_count": 78,
   "metadata": {},
   "outputs": [
    {
     "data": {
      "text/html": [
       "<div>\n",
       "<style scoped>\n",
       "    .dataframe tbody tr th:only-of-type {\n",
       "        vertical-align: middle;\n",
       "    }\n",
       "\n",
       "    .dataframe tbody tr th {\n",
       "        vertical-align: top;\n",
       "    }\n",
       "\n",
       "    .dataframe thead th {\n",
       "        text-align: right;\n",
       "    }\n",
       "</style>\n",
       "<table border=\"1\" class=\"dataframe\">\n",
       "  <thead>\n",
       "    <tr style=\"text-align: right;\">\n",
       "      <th></th>\n",
       "      <th>QG Edge</th>\n",
       "      <th>Predicate</th>\n",
       "      <th>Count</th>\n",
       "    </tr>\n",
       "  </thead>\n",
       "  <tbody>\n",
       "    <tr>\n",
       "      <td>0</td>\n",
       "      <td>e0</td>\n",
       "      <td>biolink:decreases_activity_of</td>\n",
       "      <td>1410</td>\n",
       "    </tr>\n",
       "    <tr>\n",
       "      <td>1</td>\n",
       "      <td>e0</td>\n",
       "      <td>biolink:increases_degradation_of</td>\n",
       "      <td>1</td>\n",
       "    </tr>\n",
       "    <tr>\n",
       "      <td>2</td>\n",
       "      <td>e0</td>\n",
       "      <td>biolink:decreases_expression_of</td>\n",
       "      <td>3</td>\n",
       "    </tr>\n",
       "    <tr>\n",
       "      <td>3</td>\n",
       "      <td>e0</td>\n",
       "      <td>biolink:entity_negatively_regulates_entity</td>\n",
       "      <td>64</td>\n",
       "    </tr>\n",
       "  </tbody>\n",
       "</table>\n",
       "</div>"
      ],
      "text/plain": [
       "  QG Edge                                   Predicate  Count\n",
       "0      e0               biolink:decreases_activity_of   1410\n",
       "1      e0            biolink:increases_degradation_of      1\n",
       "2      e0             biolink:decreases_expression_of      3\n",
       "3      e0  biolink:entity_negatively_regulates_entity     64"
      ]
     },
     "metadata": {},
     "output_type": "display_data"
    }
   ],
   "source": [
    "pred = get_predicate(strider_result)\n",
    "display(pred)"
   ]
  },
  {
   "cell_type": "code",
   "execution_count": 79,
   "metadata": {},
   "outputs": [
    {
     "data": {
      "text/html": [
       "<div>\n",
       "<style scoped>\n",
       "    .dataframe tbody tr th:only-of-type {\n",
       "        vertical-align: middle;\n",
       "    }\n",
       "\n",
       "    .dataframe tbody tr th {\n",
       "        vertical-align: top;\n",
       "    }\n",
       "\n",
       "    .dataframe thead th {\n",
       "        text-align: right;\n",
       "    }\n",
       "</style>\n",
       "<table border=\"1\" class=\"dataframe\">\n",
       "  <thead>\n",
       "    <tr style=\"text-align: right;\">\n",
       "      <th></th>\n",
       "      <th>Node ID</th>\n",
       "      <th>Name</th>\n",
       "      <th>Source</th>\n",
       "    </tr>\n",
       "  </thead>\n",
       "  <tbody>\n",
       "    <tr>\n",
       "      <td>0</td>\n",
       "      <td>NCBIGene:1956</td>\n",
       "      <td>EGFR gene</td>\n",
       "      <td>https://automat.renci.org/robokopkg/1.1/query</td>\n",
       "    </tr>\n",
       "    <tr>\n",
       "      <td>1</td>\n",
       "      <td>NCBIGene:1956</td>\n",
       "      <td>EGFR gene</td>\n",
       "      <td>https://automat.renci.org/robokopkg/1.1/query</td>\n",
       "    </tr>\n",
       "    <tr>\n",
       "      <td>2</td>\n",
       "      <td>NCBIGene:1956</td>\n",
       "      <td>EGFR gene</td>\n",
       "      <td>https://automat.renci.org/robokopkg/1.1/query</td>\n",
       "    </tr>\n",
       "  </tbody>\n",
       "</table>\n",
       "</div>"
      ],
      "text/plain": [
       "         Node ID       Name                                         Source\n",
       "0  NCBIGene:1956  EGFR gene  https://automat.renci.org/robokopkg/1.1/query\n",
       "1  NCBIGene:1956  EGFR gene  https://automat.renci.org/robokopkg/1.1/query\n",
       "2  NCBIGene:1956  EGFR gene  https://automat.renci.org/robokopkg/1.1/query"
      ]
     },
     "metadata": {},
     "output_type": "display_data"
    }
   ],
   "source": [
    "node =which_nodes(strider_result, 'biolink:decreases_expression_of')\n",
    "display(node)"
   ]
  },
  {
   "cell_type": "code",
   "execution_count": null,
   "metadata": {},
   "outputs": [],
   "source": []
  }
 ],
 "metadata": {
  "kernelspec": {
   "display_name": "Python 3",
   "language": "python",
   "name": "python3"
  },
  "language_info": {
   "codemirror_mode": {
    "name": "ipython",
    "version": 3
   },
   "file_extension": ".py",
   "mimetype": "text/x-python",
   "name": "python",
   "nbconvert_exporter": "python",
   "pygments_lexer": "ipython3",
   "version": "3.7.4"
  }
 },
 "nbformat": 4,
 "nbformat_minor": 2
}
