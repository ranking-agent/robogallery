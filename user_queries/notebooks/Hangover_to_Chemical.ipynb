{
 "cells": [
  {
   "cell_type": "markdown",
   "metadata": {},
   "source": [
    "<br>\n",
    "\n",
    "## Hangover Query\n",
    "\n",
    "<br>"
   ]
  },
  {
   "cell_type": "code",
   "execution_count": 162,
   "metadata": {},
   "outputs": [],
   "source": [
    "#Loading the functions from a notebook\n",
    "%run /Users/priyash/Documents/GitHub/robogallery/user_queries/proj_tools/template.ipynb"
   ]
  },
  {
   "cell_type": "markdown",
   "metadata": {},
   "source": [
    "<br>\n",
    "\n",
    "\n",
    "**These are all causes of hangover.  So in a hangover there is an increase of lactate.  The question that we want to answer then, is do we have a way to decrease lactate or lactates.  And the same for aldehydes etc...\n",
    "So what I would like you to do is to try to run either some chemical-(lactate) and chemical-gene-lactate queries through strider and aragorn and let's see if we can get results.  And also do it for aldehyes, and etc.**\n",
    "\n",
    "<br>"
   ]
  },
  {
   "cell_type": "markdown",
   "metadata": {},
   "source": [
    "### 1. Chemical to Lactate\n",
    "\n",
    "Do we have a way to decrease lactate or lactates PUBCHEM.COMPOUND:91435\n",
    "\n",
    "Github Issue #1: https://github.com/ranking-agent/robogallery/issues/1\n",
    "\n",
    "Github Issue #202: https://github.com/ranking-agent/strider/issues/202\n",
    "\n",
    "<br>"
   ]
  },
  {
   "cell_type": "code",
   "execution_count": 4,
   "metadata": {},
   "outputs": [],
   "source": [
    "with open('/Users/priyash/Documents/GitHub/robogallery/user_queries/json_queries/hangover_one.json', 'r') as myfile:\n",
    "    query = make_message(json.loads(myfile.read()))"
   ]
  },
  {
   "cell_type": "code",
   "execution_count": 5,
   "metadata": {
    "scrolled": true
   },
   "outputs": [
    {
     "name": "stdout",
     "output_type": "stream",
     "text": [
      "{\n",
      "    \"message\": {\n",
      "        \"query_graph\": {\n",
      "            \"nodes\": {\n",
      "                \"n0\": {\n",
      "                    \"categories\": [\n",
      "                        \"biolink:ChemicalSubstance\"\n",
      "                    ],\n",
      "                    \"name\": \"Chemical Substance\",\n",
      "                    \"ids\": [\n",
      "                        \"CHEBI:24996\"\n",
      "                    ]\n",
      "                },\n",
      "                \"n1\": {\n",
      "                    \"categories\": [\n",
      "                        \"biolink:ChemicalSubstance\"\n",
      "                    ],\n",
      "                    \"name\": \"Chemical Substance\"\n",
      "                }\n",
      "            },\n",
      "            \"edges\": {\n",
      "                \"e0\": {\n",
      "                    \"subject\": \"n0\",\n",
      "                    \"object\": \"n1\"\n",
      "                }\n",
      "            }\n",
      "        }\n",
      "    }\n",
      "}\n"
     ]
    }
   ],
   "source": [
    "printjson(query)"
   ]
  },
  {
   "cell_type": "markdown",
   "metadata": {},
   "source": [
    "<br>\n",
    "\n",
    "## Strider Direct\n",
    "\n",
    "<br>"
   ]
  },
  {
   "cell_type": "code",
   "execution_count": 6,
   "metadata": {},
   "outputs": [
    {
     "name": "stdout",
     "output_type": "stream",
     "text": [
      "Strider produced 724 results in 0:01:07.822966.\n"
     ]
    }
   ],
   "source": [
    "start = dt.now()\n",
    "strider_result = strider(query)\n",
    "end = dt.now()\n",
    "print(f\"Strider produced {len(strider_result['message']['results'])} results in {end-start}.\")"
   ]
  },
  {
   "cell_type": "markdown",
   "metadata": {},
   "source": [
    "<br>\n",
    "\n",
    "## Provenance\n",
    "\n",
    "<br>"
   ]
  },
  {
   "cell_type": "code",
   "execution_count": 7,
   "metadata": {},
   "outputs": [
    {
     "data": {
      "text/html": [
       "<div>\n",
       "<style scoped>\n",
       "    .dataframe tbody tr th:only-of-type {\n",
       "        vertical-align: middle;\n",
       "    }\n",
       "\n",
       "    .dataframe tbody tr th {\n",
       "        vertical-align: top;\n",
       "    }\n",
       "\n",
       "    .dataframe thead th {\n",
       "        text-align: right;\n",
       "    }\n",
       "</style>\n",
       "<table border=\"1\" class=\"dataframe\">\n",
       "  <thead>\n",
       "    <tr style=\"text-align: right;\">\n",
       "      <th></th>\n",
       "      <th>QG Edge</th>\n",
       "      <th>Source</th>\n",
       "      <th>Count</th>\n",
       "    </tr>\n",
       "  </thead>\n",
       "  <tbody>\n",
       "    <tr>\n",
       "      <td>0</td>\n",
       "      <td>e0</td>\n",
       "      <td>https://automat.renci.org/textminingkp/1.1/query</td>\n",
       "      <td>231</td>\n",
       "    </tr>\n",
       "    <tr>\n",
       "      <td>1</td>\n",
       "      <td>e0</td>\n",
       "      <td>https://automat.renci.org/uberongraph/1.1/query</td>\n",
       "      <td>52</td>\n",
       "    </tr>\n",
       "    <tr>\n",
       "      <td>2</td>\n",
       "      <td>e0</td>\n",
       "      <td>https://automat.renci.org/cord19-scigraph/1.1/...</td>\n",
       "      <td>473</td>\n",
       "    </tr>\n",
       "    <tr>\n",
       "      <td>3</td>\n",
       "      <td>e0</td>\n",
       "      <td>https://automat.renci.org/chemical-normalizati...</td>\n",
       "      <td>20</td>\n",
       "    </tr>\n",
       "  </tbody>\n",
       "</table>\n",
       "</div>"
      ],
      "text/plain": [
       "  QG Edge                                             Source  Count\n",
       "0      e0   https://automat.renci.org/textminingkp/1.1/query    231\n",
       "1      e0    https://automat.renci.org/uberongraph/1.1/query     52\n",
       "2      e0  https://automat.renci.org/cord19-scigraph/1.1/...    473\n",
       "3      e0  https://automat.renci.org/chemical-normalizati...     20"
      ]
     },
     "metadata": {},
     "output_type": "display_data"
    }
   ],
   "source": [
    "prov = get_provenance(strider_result)\n",
    "display(prov)"
   ]
  },
  {
   "cell_type": "markdown",
   "metadata": {},
   "source": [
    "<br>\n",
    "\n",
    "## Queried Sources\n",
    "\n",
    "<br>"
   ]
  },
  {
   "cell_type": "code",
   "execution_count": 8,
   "metadata": {},
   "outputs": [],
   "source": [
    "print_queried_sources(strider_result)"
   ]
  },
  {
   "cell_type": "code",
   "execution_count": 9,
   "metadata": {},
   "outputs": [
    {
     "name": "stdout",
     "output_type": "stream",
     "text": [
      "Response Error contacting KP\n",
      "Response Error contacting KP\n",
      "Response Error contacting KP\n",
      "Response Error contacting KP\n",
      "Response Error contacting KP\n",
      "Response Error contacting KP\n",
      "Response Error contacting KP\n",
      "Response Error contacting KP\n",
      "Response Error contacting KP\n",
      "Response Error contacting KP\n",
      "Response Error contacting KP\n",
      "Response Error contacting KP\n",
      "Response Error contacting KP\n",
      "Response Error contacting KP\n",
      "Response Error contacting KP\n",
      "Response Error contacting KP\n",
      "Response Error contacting KP\n",
      "Response Error contacting KP\n",
      "Response Error contacting KP\n",
      "Response Error contacting KP\n",
      "Response Error contacting KP\n",
      "Response Error contacting KP\n",
      "Response Error contacting KP\n",
      "Response Error contacting KP\n",
      "Response Error contacting KP\n",
      "Response Error contacting KP\n",
      "Response Error contacting KP\n",
      "Response Error contacting KP\n",
      "Response Error contacting KP\n",
      "Response Error contacting KP\n",
      "Response Error contacting KP\n",
      "Response Error contacting KP\n",
      "Response Error contacting KP\n",
      "Response Error contacting KP\n",
      "Response Error contacting KP\n",
      "Response Error contacting KP\n",
      "Response Error contacting KP\n",
      "Response Error contacting KP\n",
      "Response Error contacting KP\n",
      "Response Error contacting KP\n",
      "Response Error contacting KP\n",
      "Response Error contacting KP\n",
      "Response Error contacting KP\n",
      "Response Error contacting KP\n",
      "Response Error contacting KP\n",
      "Response Error contacting KP\n",
      "Response Error contacting KP\n",
      "Response Error contacting KP\n",
      "Response Error contacting KP\n",
      "Response Error contacting KP\n"
     ]
    }
   ],
   "source": [
    "for logmessage in strider_result['logs']:\n",
    "        if logmessage['level'] == 'ERROR':\n",
    "            print(logmessage['message'])"
   ]
  },
  {
   "cell_type": "code",
   "execution_count": 11,
   "metadata": {},
   "outputs": [
    {
     "name": "stdout",
     "output_type": "stream",
     "text": [
      "{\n",
      "    \"timestamp\": \"2021-06-03T15:27:28.462173\",\n",
      "    \"level\": \"ERROR\",\n",
      "    \"code\": null,\n",
      "    \"message\": \"Response Error contacting KP\",\n",
      "    \"request\": {\n",
      "        \"method\": \"POST\",\n",
      "        \"url\": \"https://cam-kp-api-dev.renci.org/query\",\n",
      "        \"headers\": {\n",
      "            \"host\": \"cam-kp-api-dev.renci.org\",\n",
      "            \"accept\": \"*/*\",\n",
      "            \"accept-encoding\": \"gzip, deflate\",\n",
      "            \"connection\": \"keep-alive\",\n",
      "            \"user-agent\": \"python-httpx/0.16.1\",\n",
      "            \"content-length\": \"341\",\n",
      "            \"content-type\": \"application/json\"\n",
      "        },\n",
      "        \"data\": \"{\\\"message\\\": {\\\"query_graph\\\": {\\\"nodes\\\": {\\\"n0\\\": {\\\"category\\\": \\\"biolink:ChemicalSubstance\\\", \\\"is_set\\\": false, \\\"name\\\": \\\"Chemical Substance\\\", \\\"id\\\": \\\"CHEBI:24996\\\"}, \\\"n1\\\": {\\\"category\\\": \\\"biolink:ChemicalSubstance\\\", \\\"is_set\\\": false, \\\"name\\\": \\\"Chemical Substance\\\"}}, \\\"edges\\\": {\\\"e0\\\": {\\\"subject\\\": \\\"n0\\\", \\\"object\\\": \\\"n1\\\", \\\"predicate\\\": \\\"biolink:related_to\\\"}}}}}\"\n",
      "    },\n",
      "    \"response\": {\n",
      "        \"status_code\": 400,\n",
      "        \"headers\": {\n",
      "            \"server\": \"nginx/1.19.1\",\n",
      "            \"date\": \"Thu, 03 Jun 2021 15:27:27 GMT\",\n",
      "            \"content-type\": \"text/plain; charset=UTF-8\",\n",
      "            \"content-length\": \"18\",\n",
      "            \"connection\": \"keep-alive\",\n",
      "            \"strict-transport-security\": \"max-age=15724800; includeSubDomains\"\n",
      "        },\n",
      "        \"data\": \"Wait queue is full\"\n",
      "    },\n",
      "    \"error\": \"400 Client Error: Bad Request for url: https://cam-kp-api-dev.renci.org/query\\nFor more information check: https://httpstatuses.com/400\"\n",
      "}\n"
     ]
    }
   ],
   "source": [
    "for logmessage in strider_result['logs'][:1]:\n",
    "    printjson(logmessage)"
   ]
  },
  {
   "cell_type": "code",
   "execution_count": 13,
   "metadata": {},
   "outputs": [],
   "source": [
    "view = GammaViewer(props={\"data\":strider_result})\n",
    "display(view)"
   ]
  },
  {
   "cell_type": "code",
   "execution_count": 131,
   "metadata": {},
   "outputs": [
    {
     "data": {
      "text/plain": [
       "[{'id': 'CHEBI:51134',\n",
       "  'category': ['biolink:NamedThing', 'biolink:ChemicalSubstance']}]"
      ]
     },
     "execution_count": 131,
     "metadata": {},
     "output_type": "execute_result"
    }
   ],
   "source": [
    "strider_result['message']['results'][1]['node_bindings']['n1']"
   ]
  },
  {
   "cell_type": "code",
   "execution_count": 133,
   "metadata": {},
   "outputs": [
    {
     "data": {
      "text/plain": [
       "dict_keys(['PUBCHEM.COMPOUND:3001055', 'CHEBI:24265', 'CHEBI:79387', 'PUBCHEM.COMPOUND:5865', 'PUBCHEM.COMPOUND:130313', 'CHEBI:33304', 'CHEBI:27171', 'CHEBI:35366', 'CHEBI:73693', 'CHEBI:132943', 'CHEBI:35482', 'CHEBI:35780', 'CHEBI:33708', 'PUBCHEM.COMPOUND:6196', 'PUBCHEM.COMPOUND:2086', 'PUBCHEM.COMPOUND:29029', 'PUBCHEM.COMPOUND:5280440', 'PUBCHEM.COMPOUND:6249', 'CHEMBL.COMPOUND:CHEMBL376140', 'CHEBI:24835', 'CHEBI:24669', 'CHEBI:9937', 'PUBCHEM.COMPOUND:1061', 'CHEBI:33232', 'CHEBI:36873', 'PUBCHEM.COMPOUND:1176', 'PUBCHEM.COMPOUND:4173', 'PUBCHEM.COMPOUND:123138', 'CHEBI:47775', 'PUBCHEM.COMPOUND:135527764', 'CHEBI:58953', 'CHEBI:47519', 'PUBCHEM.COMPOUND:22420', 'CHEBI:52217', 'CHEBI:51081', 'CHEBI:28087', 'CHEMBL.COMPOUND:CHEMBL1517', 'CHEBI:50858', 'PUBCHEM.COMPOUND:3080', 'PUBCHEM.COMPOUND:439153', 'CHEBI:33273', 'CHEBI:78113', 'PUBCHEM.COMPOUND:114811', 'CHEBI:32460', 'PUBCHEM.COMPOUND:288', 'CHEBI:35605', 'CHEBI:26764', 'CHEBI:33636', 'PUBCHEM.COMPOUND:37542', 'PUBCHEM.COMPOUND:5462310', 'CHEBI:35544', 'CHEBI:27300', 'PUBCHEM.COMPOUND:149096', 'CHEBI:26806', 'PUBCHEM.COMPOUND:5961', 'PUBCHEM.COMPOUND:3148', 'PUBCHEM.COMPOUND:3715', 'CHEBI:33704', 'CHEBI:81568', 'CHEBI:65265', 'PUBCHEM.COMPOUND:5359597', 'CHEBI:17334', 'PUBCHEM.COMPOUND:145068', 'PUBCHEM.COMPOUND:165580', 'PUBCHEM.COMPOUND:131849188', 'PUBCHEM.COMPOUND:16132265', 'PUBCHEM.COMPOUND:22247451', 'CHEBI:23066', 'CHEBI:50406', 'PUBCHEM.COMPOUND:3730', 'PUBCHEM.COMPOUND:5743', 'CHEBI:36358', 'CHEBI:16412', 'CHEMBL.COMPOUND:CHEMBL1440', 'PUBCHEM.COMPOUND:4595', 'CHEBI:52998', 'PUBCHEM.COMPOUND:9548571', 'CHEBI:81570', 'CHEBI:33917', 'CHEBI:3815', 'CHEBI:33299', 'CHEBI:23334', 'CHEBI:26820', 'PUBCHEM.COMPOUND:6957639', 'CHEBI:33710', 'PUBCHEM.COMPOUND:280', 'CHEBI:22645', 'PUBCHEM.COMPOUND:3026', 'CHEBI:24838', 'PUBCHEM.COMPOUND:5359596', 'CHEBI:37577', 'CHEBI:60311', 'CHEBI:22985', 'CHEBI:26338', 'PUBCHEM.COMPOUND:445580', 'CHEBI:18059', 'CHEBI:26835', 'PUBCHEM.COMPOUND:23985', 'CHEBI:52206', 'PUBCHEM.COMPOUND:5329', 'CHEBI:21575', 'CHEBI:72695', 'PUBCHEM.COMPOUND:107735', 'PUBCHEM.COMPOUND:4519554', 'PUBCHEM.COMPOUND:134156276', 'CHEBI:36338', 'PUBCHEM.COMPOUND:443227', 'CHEBI:36963', 'PUBCHEM.COMPOUND:2713', 'CHEBI:26191', 'CHEBI:37176', 'PUBCHEM.COMPOUND:5288826', 'CHEBI:24866', 'PUBCHEM.COMPOUND:3672', 'CHEBI:33697', 'PUBCHEM.COMPOUND:3373', 'PUBCHEM.COMPOUND:681', 'PUBCHEM.COMPOUND:33613', 'PUBCHEM.COMPOUND:71273', 'PUBCHEM.COMPOUND:16048619', 'PUBCHEM.COMPOUND:43672', 'CHEBI:48219', 'PUBCHEM.COMPOUND:6251', 'PUBCHEM.COMPOUND:40466974', 'CHEBI:9584', 'CHEBI:33282', 'PUBCHEM.COMPOUND:446220', 'CHEBI:33249', 'PUBCHEM.COMPOUND:5260155', 'CHEBI:26082', 'PUBCHEM.COMPOUND:708857', 'PUBCHEM.COMPOUND:134895646', 'PUBCHEM.COMPOUND:23666456', 'CHEBI:33575', 'CHEBI:33290', 'CHEBI:131189', 'CHEBI:36587', 'CHEBI:33839', 'CHEBI:33250', 'CHEBI:35143', 'CHEBI:2509', 'CHEBI:33560', 'CHEBI:30411', 'PUBCHEM.COMPOUND:5479537', 'CHEBI:26519', 'CHEBI:36878', 'PUBCHEM.COMPOUND:117629482', 'CHEBI:2571', 'CHEBI:46631', 'CHEBI:33300', 'PUBCHEM.COMPOUND:4823', 'CHEBI:23666', 'CHEBI:24963', 'CHEBI:36872', 'CHEBI:33461', 'CHEBI:22652', 'CHEBI:21545', 'CHEBI:35222', 'CHEBI:13389', 'CHEBI:33804', 'PUBCHEM.COMPOUND:6013', 'PUBCHEM.COMPOUND:4456', 'CHEBI:35475', 'CHEBI:38867', 'CHEBI:78616', 'PUBCHEM.COMPOUND:5959', 'CHEBI:22198', 'CHEBI:27013', 'CHEBI:61120', 'CHEBI:37943', 'PUBCHEM.COMPOUND:4866774', 'PUBCHEM.COMPOUND:54678486', 'PUBCHEM.COMPOUND:92727', 'CHEBI:46662', 'CHEBI:59826', 'PUBCHEM.COMPOUND:5360545', 'PUBCHEM.COMPOUND:31378', 'CHEBI:36915', 'CHEBI:33674', 'PUBCHEM.COMPOUND:271', 'CHEBI:16646', 'CHEBI:29864', 'PUBCHEM.COMPOUND:5754', 'PUBCHEM.COMPOUND:12035', 'PUBCHEM.COMPOUND:702', 'CHEBI:132952', 'PUBCHEM.COMPOUND:2764', 'CHEBI:13643', 'CHEBI:36871', 'PUBCHEM.COMPOUND:135398513', 'CHEBI:35352', 'CHEBI:33695', 'CHEBI:29347', 'CHEBI:23765', 'CHEBI:22271', 'PUBCHEM.COMPOUND:124886', 'PUBCHEM.COMPOUND:104838', 'CHEBI:28868', 'CHEBI:24833', 'PUBCHEM.COMPOUND:3345', 'CHEBI:55347', 'CHEBI:6078', 'PUBCHEM.COMPOUND:18348331', 'CHEBI:7044', 'PUBCHEM.COMPOUND:3033825', 'CHEBI:48706', 'PUBCHEM.COMPOUND:5997', 'PUBCHEM.COMPOUND:36294', 'PUBCHEM.COMPOUND:118985385', 'CHEBI:28757', 'CHEBI:58187', 'CHEBI:22693', 'CHEBI:23367', 'PUBCHEM.COMPOUND:16134395', 'PUBCHEM.COMPOUND:107689', 'PUBCHEM.COMPOUND:2761171', 'PUBCHEM.COMPOUND:23978', 'CHEBI:33241', 'PUBCHEM.COMPOUND:392622', 'PUBCHEM.COMPOUND:54670067', 'CHEBI:51447', 'PUBCHEM.COMPOUND:123630', 'CHEBI:35195', 'PUBCHEM.COMPOUND:5352425', 'PUBCHEM.COMPOUND:24762165', 'PUBCHEM.COMPOUND:3000540', 'PUBCHEM.COMPOUND:33255', 'PUBCHEM.COMPOUND:2157', 'PUBCHEM.COMPOUND:135373086', 'PUBCHEM.COMPOUND:4763', 'CHEBI:33694', 'CHEBI:33833', 'PUBCHEM.COMPOUND:441401', 'PUBCHEM.COMPOUND:53629521', 'PUBCHEM.COMPOUND:5921', 'CHEBI:8347', 'CHEBI:17234', 'CHEBI:26401', 'CHEBI:38166', 'CHEBI:88061', 'CHEBI:24621', 'PUBCHEM.COMPOUND:22197', 'CHEBI:138366', 'CHEBI:33256', 'PUBCHEM.COMPOUND:487', 'PUBCHEM.COMPOUND:3121', 'PUBCHEM.COMPOUND:6041', 'PUBCHEM.COMPOUND:5360629', 'PUBCHEM.COMPOUND:16212978', 'CHEBI:22720', 'CHEBI:23044', 'CHEBI:51134', 'PUBCHEM.COMPOUND:439302', 'PUBCHEM.COMPOUND:4781', 'CHEBI:50503', 'CHEBI:26895', 'CHEMBL.COMPOUND:CHEMBL877', 'PUBCHEM.COMPOUND:121225522', 'CHEBI:64708', 'CHEBI:25212', 'PUBCHEM.COMPOUND:36811', 'CHEBI:27933', 'PUBCHEM.COMPOUND:5460308', 'PUBCHEM.COMPOUND:896', 'PUBCHEM.COMPOUND:6857593', 'PUBCHEM.COMPOUND:5460341', 'CHEBI:18282', 'CHEBI:24190', 'CHEBI:82594', 'CHEBI:24997', 'PUBCHEM.COMPOUND:73341', 'CHEBI:38093', 'CHEBI:36342', 'CHEBI:33659', 'CHEBI:3098', 'PUBCHEM.COMPOUND:5757', 'CHEBI:37956', 'CHEBI:80234', 'CHEBI:33559', 'CHEBI:36359', 'CHEBI:35757', 'PUBCHEM.COMPOUND:9811784', 'CHEBI:24505', 'CHEBI:30879', 'CHEBI:37445', 'CHEBI:23953', 'PUBCHEM.COMPOUND:3325', 'PUBCHEM.COMPOUND:446987', 'CHEBI:33242', 'CHEBI:25699', 'CHEBI:12777', 'CHEBI:60746', 'PUBCHEM.COMPOUND:6741', 'CHEBI:38101', 'CHEBI:16336', 'CHEBI:22507', 'PUBCHEM.COMPOUND:65028', 'CHEBI:35341', 'PUBCHEM.COMPOUND:3365', 'PUBCHEM.COMPOUND:753', 'PUBCHEM.COMPOUND:1117', 'CHEBI:24651', 'PUBCHEM.COMPOUND:49791978', 'PUBCHEM.COMPOUND:5234', 'CHEBI:15444', 'CHEBI:37163', 'PUBCHEM.COMPOUND:10461', 'CHEBI:35338', 'CHEBI:36586', 'PUBCHEM.COMPOUND:55283', 'CHEBI:23509', 'PUBCHEM.COMPOUND:2581', 'CHEBI:5931', 'CHEBI:47867', 'CHEBI:73702', 'CHEBI:36340', 'PUBCHEM.COMPOUND:135401907', 'CHEBI:26208', 'CHEBI:39124', 'CHEBI:35818', 'CHEBI:26333', 'CHEBI:24532', 'CHEBI:33822', 'CHEBI:33675', 'CHEBI:35868', 'CHEBI:36080', 'CHEBI:35718', 'PUBCHEM.COMPOUND:5839', 'PUBCHEM.COMPOUND:6077', 'CHEBI:33595', 'CHEBI:33459', 'PUBCHEM.COMPOUND:14969', 'CHEBI:24384', 'CHEBI:33259', 'PUBCHEM.COMPOUND:39912', 'CHEBI:25367', 'CHEBI:26130', 'PUBCHEM.COMPOUND:5481173', 'PUBCHEM.COMPOUND:221493', 'CHEBI:18133', 'CHEBI:35225', 'CHEBI:24433', 'PUBCHEM.COMPOUND:60815', 'CHEBI:49302', 'CHEBI:35155', 'CHEBI:61073', 'PUBCHEM.COMPOUND:2756', 'PUBCHEM.COMPOUND:12560', 'PUBCHEM.COMPOUND:14797', 'CHEBI:47040', 'PUBCHEM.COMPOUND:5742673', 'CHEBI:26340', 'CHEBI:8583', 'CHEBI:35476', 'CHEBI:62733', 'CHEBI:17833', 'CHEBI:33261', 'CHEBI:33832', 'PUBCHEM.COMPOUND:5460161', 'PUBCHEM.COMPOUND:3821', 'CHEBI:27314', 'CHEBI:75436', 'PUBCHEM.COMPOUND:23994', 'PUBCHEM.COMPOUND:16683018', 'PUBCHEM.COMPOUND:73417092', 'PUBCHEM.COMPOUND:91435', 'PUBCHEM.COMPOUND:5753', 'CHEBI:48923', 'CHEBI:37164', 'CHEBI:23888', 'PUBCHEM.COMPOUND:5904', 'CHEBI:22313', 'CHEBI:26020', 'CHEBI:33238', 'CHEBI:91090', 'CHEBI:50699', 'PUBCHEM.COMPOUND:5284596', 'CHEBI:23824', 'CHEBI:33567', 'CHEBI:25741', 'PUBCHEM.COMPOUND:3156', 'CHEBI:50114', 'CHEBI:25106', 'CHEBI:25806', 'PUBCHEM.COMPOUND:5361092', 'CHEBI:37622', 'CHEBI:145810', 'CHEBI:134179', 'CHEBI:50249', 'PUBCHEM.COMPOUND:1123', 'PUBCHEM.COMPOUND:4115', 'PUBCHEM.COMPOUND:102331734', 'PUBCHEM.COMPOUND:5833', 'PUBCHEM.COMPOUND:135398735', 'CHEBI:33635', 'PUBCHEM.COMPOUND:5280980', 'CHEBI:17891', 'PUBCHEM.COMPOUND:169148', 'CHEBI:25213', 'CHEBI:33521', 'PUBCHEM.COMPOUND:4594', 'PUBCHEM.COMPOUND:71616', 'CHEBI:33281', 'CHEBI:24396', 'PUBCHEM.COMPOUND:5202', 'CHEBI:35620', 'CHEBI:83163', 'PUBCHEM.COMPOUND:54677470', 'CHEBI:23354', 'CHEBI:10545', 'CHEBI:33262', 'CHEBI:46787', 'CHEBI:17246', 'PUBCHEM.COMPOUND:3767', 'CHEBI:23982', 'CHEBI:27136', 'PUBCHEM.COMPOUND:3334', 'PUBCHEM.COMPOUND:887', 'CHEBI:60911', 'CHEBI:17855', 'CHEBI:47779', 'CHEBI:33699', 'PUBCHEM.COMPOUND:25201456', 'CHEBI:64909', 'PUBCHEM.COMPOUND:3016', 'PUBCHEM.COMPOUND:104775', 'PUBCHEM.COMPOUND:13293131', 'CHEBI:22195', 'CHEBI:24852', 'CHEBI:50047', 'CHEMBL.COMPOUND:CHEMBL404520', 'PUBCHEM.COMPOUND:5311068', 'CHEBI:33721', 'CHEBI:25354', 'PUBCHEM.COMPOUND:5578', 'CHEBI:63610', 'PUBCHEM.COMPOUND:18703', 'PUBCHEM.COMPOUND:57383916', 'CHEBI:33579', 'PUBCHEM.COMPOUND:37768', 'CHEBI:35457', 'PUBCHEM.COMPOUND:84029', 'CHEBI:26596', 'PUBCHEM.COMPOUND:31703', 'PUBCHEM.COMPOUND:146015336', 'CHEBI:6923', 'CHEBI:50113', 'PUBCHEM.COMPOUND:5479529', 'CHEBI:24870', 'PUBCHEM.COMPOUND:23680530', 'ECTO:0000537', 'CHEBI:36876', 'PUBCHEM.COMPOUND:152946', 'CHEBI:35498', 'PUBCHEM.COMPOUND:5128032', 'CHEBI:25051', 'CHEBI:50906', 'PUBCHEM.COMPOUND:19789253', 'PUBCHEM.COMPOUND:5479530', 'PUBCHEM.COMPOUND:3763', 'CHEBI:35627', 'CHEBI:37845', 'CHEBI:27026', 'CHEBI:17309', 'CHEBI:33672', 'CHEBI:33318', 'CHEBI:36357', 'PUBCHEM.COMPOUND:60606', 'CHEBI:5686', 'PUBCHEM.COMPOUND:24083', 'PUBCHEM.COMPOUND:2244', 'PUBCHEM.COMPOUND:2726', 'CHEBI:48705', 'CHEBI:33267', 'CHEBI:81571', 'PUBCHEM.COMPOUND:2973', 'CHEBI:33284', 'CHEBI:26334', 'PUBCHEM.COMPOUND:2907', 'CHEBI:46633', 'CHEBI:59062', 'CHEBI:36916', 'CHEBI:35358', 'PUBCHEM.COMPOUND:441199', 'PUBCHEM.COMPOUND:10982878', 'PUBCHEM.COMPOUND:39212', 'CHEBI:35223', 'CHEBI:24020', 'PUBCHEM.COMPOUND:5920', 'CHEBI:24103', 'CHEBI:33655', 'PUBCHEM.COMPOUND:10339178', 'PUBCHEM.COMPOUND:36324', 'CHEBI:64709', 'PUBCHEM.COMPOUND:5206', 'PUBCHEM.COMPOUND:4909', 'CHEBI:9313', 'PUBCHEM.COMPOUND:5280352', 'CHEBI:26523', 'CHEBI:22470', 'PUBCHEM.COMPOUND:3559', 'CHEBI:24432', 'PUBCHEM.COMPOUND:774', 'CHEBI:33285', 'CHEBI:83811', 'CHEBI:22702', 'CHEBI:26995', 'PUBCHEM.COMPOUND:61503', 'CHEBI:59132', 'PUBCHEM.COMPOUND:137319715', 'CHEBI:26948', 'PUBCHEM.COMPOUND:202195', 'CHEBI:138152', 'CHEBI:29687', 'CHEBI:60004', 'CHEBI:35472', 'CHEBI:33229', 'CHEBI:33671', 'CHEBI:35480', 'CHEBI:25585', 'CHEBI:36902', 'CHEBI:52999', 'CHEBI:33248', 'CHEBI:35505', 'CHEBI:3215', 'CHEBI:58951', 'CHEBI:33693', 'CHEBI:33709', 'PUBCHEM.COMPOUND:5284604', 'CHEBI:36914', 'PUBCHEM.COMPOUND:6326970', 'CHEBI:37527', 'PUBCHEM.COMPOUND:5352426', 'PUBCHEM.COMPOUND:5280453', 'CHEBI:26666', 'PUBCHEM.COMPOUND:72081', 'CHEBI:6495', 'PUBCHEM.COMPOUND:977', 'CHEBI:25696', 'CHEBI:28017', 'PUBCHEM.COMPOUND:3676', 'CHEBI:18154', 'CHEBI:22160', 'PUBCHEM.COMPOUND:4060207', 'CHEBI:33720', 'PUBCHEM.COMPOUND:943', 'CHEBI:83821', 'CHEBI:22586', 'PUBCHEM.COMPOUND:5994', 'PUBCHEM.COMPOUND:9154', 'CHEBI:75769', 'CHEBI:21644', 'CHEBI:24473', 'CHEMBL.COMPOUND:CHEMBL517712', 'PUBCHEM.COMPOUND:4873', 'PUBCHEM.COMPOUND:5460422', 'CHEMBL.COMPOUND:CHEMBL1433', 'PUBCHEM.COMPOUND:139207729', 'PUBCHEM.COMPOUND:25244553', 'PUBCHEM.COMPOUND:5755', 'CHEBI:47857', 'PUBCHEM.COMPOUND:5360770', 'CHEBI:33263', 'PUBCHEM.COMPOUND:5460179', 'PUBCHEM.COMPOUND:1983', 'PUBCHEM.COMPOUND:126941', 'CHEBI:24610', 'CHEBI:25810', 'PUBCHEM.COMPOUND:104745', 'CHEBI:52625', 'CHEBI:25512', 'PUBCHEM.COMPOUND:174', 'CHEBI:22563', 'PUBCHEM.COMPOUND:175', 'PUBCHEM.COMPOUND:951', 'PUBCHEM.COMPOUND:68602', 'CHEBI:2679', 'PUBCHEM.COMPOUND:3435', 'PUBCHEM.COMPOUND:3262018', 'CHEBI:24261', 'PUBCHEM.COMPOUND:10112', 'CHEBI:33692', 'PUBCHEM.COMPOUND:5323', 'CHEBI:26167', 'PUBCHEM.COMPOUND:23925', 'PUBCHEM.COMPOUND:23954', 'CHEBI:35623', 'CHEBI:27226', 'CHEBI:33576', 'CHEBI:37684', 'CHEBI:28384', 'PUBCHEM.COMPOUND:166548', 'PUBCHEM.COMPOUND:11333', 'PUBCHEM.COMPOUND:4943', 'PUBCHEM.COMPOUND:5462224', 'CHEBI:36962', 'PUBCHEM.COMPOUND:5983', 'PUBCHEM.COMPOUND:2265', 'CHEBI:32988', 'CHEBI:33760', 'CHEBI:75958', 'CHEBI:15734', 'PUBCHEM.COMPOUND:135398658', 'CHEBI:33696', 'CHEBI:24431', 'CHEBI:35875', 'CHEBI:81579', 'CHEBI:24834', 'PUBCHEM.COMPOUND:24424', 'PUBCHEM.COMPOUND:134742521', 'CHEBI:15986', 'PUBCHEM.COMPOUND:5355457', 'CHEBI:37932', 'CHEBI:22299', 'PUBCHEM.COMPOUND:7043949', 'PUBCHEM.COMPOUND:57370662', 'CHEBI:50584', 'PUBCHEM.COMPOUND:5852', 'CHEBI:33233', 'PUBCHEM.COMPOUND:16961', 'CHEBI:50919', 'PUBCHEM.COMPOUND:586', 'PUBCHEM.COMPOUND:5862', 'CHEBI:22323', 'PUBCHEM.COMPOUND:87642', 'CHEBI:33247', 'PUBCHEM.COMPOUND:4168', 'PUBCHEM.COMPOUND:135398643', 'CHEBI:33937', 'CHEBI:33608', 'CHEBI:22587', 'CHEBI:51569', 'CHEBI:26079', 'PUBCHEM.COMPOUND:25200835', 'CHEBI:38559', 'CHEBI:28304', 'CHEBI:17522', 'CHEBI:21241', 'CHEBI:67011', 'PUBCHEM.COMPOUND:5462222', 'CHEBI:25555', 'CHEBI:17423', 'PUBCHEM.COMPOUND:656583', 'PUBCHEM.COMPOUND:135398744', 'CHEBI:64948', 'PUBCHEM.COMPOUND:159832', 'CHEBI:36875', 'CHEBI:23906', 'PUBCHEM.COMPOUND:2082', 'CHEBI:83824', 'PUBCHEM.COMPOUND:5215', 'CHEBI:35717', 'PUBCHEM.COMPOUND:447043', 'CHEBI:51143', 'PUBCHEM.COMPOUND:440995', 'CHEBI:15693', 'PUBCHEM.COMPOUND:439199', 'CHEBI:35381', 'CHEBI:25115', 'PUBCHEM.COMPOUND:1054', 'PUBCHEM.COMPOUND:101826531', 'CHEBI:59163', 'PUBCHEM.COMPOUND:281', 'CHEBI:49200', 'PUBCHEM.COMPOUND:3825', 'CHEBI:26834', 'CHEBI:59999', 'CHEBI:60027', 'CHEBI:81580', 'CHEBI:35493', 'CHEBI:33234', 'CHEBI:36059', 'CHEBI:24867', 'CHEBI:28874', 'CHEBI:33302', 'PUBCHEM.COMPOUND:25188', 'CHEBI:25442', 'CHEBI:57248', 'PUBCHEM.COMPOUND:4192', 'CHEBI:50504', 'PUBCHEM.COMPOUND:145742', 'PUBCHEM.COMPOUND:18779926', 'PUBCHEM.COMPOUND:14985', 'PUBCHEM.COMPOUND:5978', 'CHEBI:50860', 'CHEBI:35406', 'PUBCHEM.COMPOUND:9548603', 'CHEBI:36360', 'CHEBI:51086', 'CHEBI:36088', 'PUBCHEM.COMPOUND:312', 'PUBCHEM.COMPOUND:137333787', 'PUBCHEM.COMPOUND:4014', 'CHEBI:33582', 'PUBCHEM.COMPOUND:5462309', 'PUBCHEM.COMPOUND:12360', 'CHEBI:29067', 'CHEBI:37807', 'PUBCHEM.COMPOUND:54675850', 'CHEBI:33465', 'PUBCHEM.COMPOUND:222'])"
      ]
     },
     "execution_count": 133,
     "metadata": {},
     "output_type": "execute_result"
    }
   ],
   "source": [
    "strider_result['message']['knowledge_graph']['nodes'].keys()"
   ]
  },
  {
   "cell_type": "code",
   "execution_count": 164,
   "metadata": {},
   "outputs": [
    {
     "data": {
      "text/html": [
       "<div>\n",
       "<style scoped>\n",
       "    .dataframe tbody tr th:only-of-type {\n",
       "        vertical-align: middle;\n",
       "    }\n",
       "\n",
       "    .dataframe tbody tr th {\n",
       "        vertical-align: top;\n",
       "    }\n",
       "\n",
       "    .dataframe thead th {\n",
       "        text-align: right;\n",
       "    }\n",
       "</style>\n",
       "<table border=\"1\" class=\"dataframe\">\n",
       "  <thead>\n",
       "    <tr style=\"text-align: right;\">\n",
       "      <th></th>\n",
       "      <th>QG Edge</th>\n",
       "      <th>Predicate</th>\n",
       "      <th>Count</th>\n",
       "    </tr>\n",
       "  </thead>\n",
       "  <tbody>\n",
       "    <tr>\n",
       "      <td>0</td>\n",
       "      <td>e0</td>\n",
       "      <td>biolink:related_to</td>\n",
       "      <td>714</td>\n",
       "    </tr>\n",
       "    <tr>\n",
       "      <td>1</td>\n",
       "      <td>e0</td>\n",
       "      <td>biolink:has_part</td>\n",
       "      <td>3</td>\n",
       "    </tr>\n",
       "    <tr>\n",
       "      <td>2</td>\n",
       "      <td>e0</td>\n",
       "      <td>biolink:overlaps</td>\n",
       "      <td>2</td>\n",
       "    </tr>\n",
       "    <tr>\n",
       "      <td>3</td>\n",
       "      <td>e0</td>\n",
       "      <td>biolink:similar_to</td>\n",
       "      <td>20</td>\n",
       "    </tr>\n",
       "  </tbody>\n",
       "</table>\n",
       "</div>"
      ],
      "text/plain": [
       "  QG Edge           Predicate  Count\n",
       "0      e0  biolink:related_to    714\n",
       "1      e0    biolink:has_part      3\n",
       "2      e0    biolink:overlaps      2\n",
       "3      e0  biolink:similar_to     20"
      ]
     },
     "metadata": {},
     "output_type": "display_data"
    }
   ],
   "source": [
    "pred = get_predicate(strider_result)\n",
    "display(pred)"
   ]
  },
  {
   "cell_type": "markdown",
   "metadata": {},
   "source": [
    "<br>\n",
    "\n",
    "## Aragon \n",
    "\n",
    "<br>"
   ]
  },
  {
   "cell_type": "code",
   "execution_count": 14,
   "metadata": {},
   "outputs": [
    {
     "name": "stdout",
     "output_type": "stream",
     "text": [
      "ARAGORN produced 990 results in 0:03:46.629882.\n"
     ]
    }
   ],
   "source": [
    "start = dt.now()\n",
    "aragorn_result = aragorn(query)\n",
    "end = dt.now()\n",
    "if 'results' in aragorn_result['message']:\n",
    "    print(f\"ARAGORN produced {len(aragorn_result['message']['results'])} results in {end-start}.\")\n",
    "else:\n",
    "    print('Error, no result field')"
   ]
  },
  {
   "cell_type": "code",
   "execution_count": 21,
   "metadata": {},
   "outputs": [],
   "source": [
    "view = GammaViewer(props={\"data\":aragorn_result})\n",
    "display(view)"
   ]
  },
  {
   "cell_type": "code",
   "execution_count": 26,
   "metadata": {},
   "outputs": [
    {
     "name": "stdout",
     "output_type": "stream",
     "text": [
      "200\n"
     ]
    }
   ],
   "source": [
    "r = automat('uberongraph',query)"
   ]
  },
  {
   "cell_type": "code",
   "execution_count": 165,
   "metadata": {},
   "outputs": [
    {
     "data": {
      "text/html": [
       "<div>\n",
       "<style scoped>\n",
       "    .dataframe tbody tr th:only-of-type {\n",
       "        vertical-align: middle;\n",
       "    }\n",
       "\n",
       "    .dataframe tbody tr th {\n",
       "        vertical-align: top;\n",
       "    }\n",
       "\n",
       "    .dataframe thead th {\n",
       "        text-align: right;\n",
       "    }\n",
       "</style>\n",
       "<table border=\"1\" class=\"dataframe\">\n",
       "  <thead>\n",
       "    <tr style=\"text-align: right;\">\n",
       "      <th></th>\n",
       "      <th>QG Edge</th>\n",
       "      <th>Predicate</th>\n",
       "      <th>Count</th>\n",
       "    </tr>\n",
       "  </thead>\n",
       "  <tbody>\n",
       "    <tr>\n",
       "      <td>0</td>\n",
       "      <td>e0</td>\n",
       "      <td>biolink:overlaps</td>\n",
       "      <td>2</td>\n",
       "    </tr>\n",
       "    <tr>\n",
       "      <td>1</td>\n",
       "      <td>e0</td>\n",
       "      <td>biolink:has_part</td>\n",
       "      <td>3</td>\n",
       "    </tr>\n",
       "    <tr>\n",
       "      <td>2</td>\n",
       "      <td>e0</td>\n",
       "      <td>biolink:related_to</td>\n",
       "      <td>980</td>\n",
       "    </tr>\n",
       "    <tr>\n",
       "      <td>3</td>\n",
       "      <td>e0</td>\n",
       "      <td>biolink:similar_to</td>\n",
       "      <td>20</td>\n",
       "    </tr>\n",
       "  </tbody>\n",
       "</table>\n",
       "</div>"
      ],
      "text/plain": [
       "  QG Edge           Predicate  Count\n",
       "0      e0    biolink:overlaps      2\n",
       "1      e0    biolink:has_part      3\n",
       "2      e0  biolink:related_to    980\n",
       "3      e0  biolink:similar_to     20"
      ]
     },
     "metadata": {},
     "output_type": "display_data"
    }
   ],
   "source": [
    "pred = get_predicate(aragorn_result)\n",
    "display(pred)"
   ]
  },
  {
   "cell_type": "markdown",
   "metadata": {},
   "source": [
    "<br>\n",
    "\n",
    "## 2. Chemical to Gene to Lactate\n",
    "Do we have a way to decrease lactate or lactates PUBCHEM.COMPOUND:91435\n",
    "\n",
    "<br>"
   ]
  },
  {
   "cell_type": "code",
   "execution_count": null,
   "metadata": {},
   "outputs": [],
   "source": [
    "with open('/Users/priyash/Documents/GitHub/robogallery/user_queries/json_queries/hangover_two.json', 'r') as myfile:\n",
    "    query2 = make_message(json.loads(myfile.read()))"
   ]
  },
  {
   "cell_type": "code",
   "execution_count": 18,
   "metadata": {},
   "outputs": [
    {
     "name": "stdout",
     "output_type": "stream",
     "text": [
      "{\n",
      "    \"message\": {\n",
      "        \"query_graph\": {\n",
      "            \"nodes\": {\n",
      "                \"n0\": {\n",
      "                    \"name\": \"Lactate\",\n",
      "                    \"id\": \"PUBCHEM.COMPOUND:91435\"\n",
      "                },\n",
      "                \"n1\": {\n",
      "                    \"category\": [\n",
      "                        \"biolink:Gene\"\n",
      "                    ],\n",
      "                    \"name\": \"Gene\"\n",
      "                },\n",
      "                \"n2\": {\n",
      "                    \"category\": [\n",
      "                        \"biolink:ChemicalSubstance\"\n",
      "                    ],\n",
      "                    \"name\": \"Chemical Substance\"\n",
      "                }\n",
      "            },\n",
      "            \"edges\": {\n",
      "                \"e0\": {\n",
      "                    \"subject\": \"n0\",\n",
      "                    \"object\": \"n1\"\n",
      "                },\n",
      "                \"e1\": {\n",
      "                    \"subject\": \"n1\",\n",
      "                    \"object\": \"n2\"\n",
      "                }\n",
      "            }\n",
      "        }\n",
      "    }\n",
      "}\n"
     ]
    }
   ],
   "source": [
    "printjson(query2)"
   ]
  },
  {
   "cell_type": "markdown",
   "metadata": {},
   "source": [
    "<br>\n",
    "\n",
    "## Strider Direct\n",
    "\n",
    "<br>"
   ]
  },
  {
   "cell_type": "code",
   "execution_count": null,
   "metadata": {},
   "outputs": [],
   "source": [
    "start = dt.now()\n",
    "strider_result = strider(query2)\n",
    "end = dt.now()\n",
    "print(f\"Strider produced {len(strider_result['message']['results'])} results in {end-start}.\")"
   ]
  },
  {
   "cell_type": "code",
   "execution_count": null,
   "metadata": {},
   "outputs": [],
   "source": []
  }
 ],
 "metadata": {
  "kernelspec": {
   "display_name": "Python 3",
   "language": "python",
   "name": "python3"
  },
  "language_info": {
   "codemirror_mode": {
    "name": "ipython",
    "version": 3
   },
   "file_extension": ".py",
   "mimetype": "text/x-python",
   "name": "python",
   "nbconvert_exporter": "python",
   "pygments_lexer": "ipython3",
   "version": "3.7.4"
  }
 },
 "nbformat": 4,
 "nbformat_minor": 2
}
