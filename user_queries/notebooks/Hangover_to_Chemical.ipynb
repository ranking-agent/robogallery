{
 "cells": [
  {
   "cell_type": "markdown",
   "metadata": {},
   "source": [
    "<br>\n",
    "\n",
    "## Hangover Query\n",
    "\n",
    "<br>"
   ]
  },
  {
   "cell_type": "code",
   "execution_count": 328,
   "metadata": {},
   "outputs": [],
   "source": [
    "#Loading the functions from a notebook\n",
    "%run /Users/priyash/Documents/GitHub/robogallery/user_queries/proj_tools/template.ipynb"
   ]
  },
  {
   "cell_type": "markdown",
   "metadata": {},
   "source": [
    "<br>\n",
    "\n",
    "\n",
    "**These are all causes of hangover.  So in a hangover there is an increase of lactate.  The question that we want to answer then, is do we have a way to decrease lactate or lactates.  And the same for aldehydes etc...\n",
    "So what I would like you to do is to try to run either some chemical-(lactate) and chemical-gene-lactate queries through strider and aragorn and let's see if we can get results.  And also do it for aldehyes, and etc.**\n",
    "\n",
    "<br>"
   ]
  },
  {
   "cell_type": "markdown",
   "metadata": {},
   "source": [
    "### 1. Chemical to Lactate\n",
    "\n",
    "Do we have a way to decrease lactate or lactates PUBCHEM.COMPOUND:91435\n",
    "\n",
    "Github Issue #1: https://github.com/ranking-agent/robogallery/issues/1\n",
    "\n",
    "Github Issue #202: https://github.com/ranking-agent/strider/issues/202\n",
    "\n",
    "<br>"
   ]
  },
  {
   "cell_type": "code",
   "execution_count": 4,
   "metadata": {},
   "outputs": [],
   "source": [
    "with open('/Users/priyash/Documents/GitHub/robogallery/user_queries/json_queries/hangover_one.json', 'r') as myfile:\n",
    "    query = make_message(json.loads(myfile.read()))"
   ]
  },
  {
   "cell_type": "code",
   "execution_count": 5,
   "metadata": {
    "scrolled": true
   },
   "outputs": [
    {
     "name": "stdout",
     "output_type": "stream",
     "text": [
      "{\n",
      "    \"message\": {\n",
      "        \"query_graph\": {\n",
      "            \"nodes\": {\n",
      "                \"n0\": {\n",
      "                    \"categories\": [\n",
      "                        \"biolink:ChemicalSubstance\"\n",
      "                    ],\n",
      "                    \"name\": \"Chemical Substance\",\n",
      "                    \"ids\": [\n",
      "                        \"CHEBI:24996\"\n",
      "                    ]\n",
      "                },\n",
      "                \"n1\": {\n",
      "                    \"categories\": [\n",
      "                        \"biolink:ChemicalSubstance\"\n",
      "                    ],\n",
      "                    \"name\": \"Chemical Substance\"\n",
      "                }\n",
      "            },\n",
      "            \"edges\": {\n",
      "                \"e0\": {\n",
      "                    \"subject\": \"n0\",\n",
      "                    \"object\": \"n1\"\n",
      "                }\n",
      "            }\n",
      "        }\n",
      "    }\n",
      "}\n"
     ]
    }
   ],
   "source": [
    "printjson(query)"
   ]
  },
  {
   "cell_type": "markdown",
   "metadata": {},
   "source": [
    "<br>\n",
    "\n",
    "## Strider Direct\n",
    "\n",
    "<br>"
   ]
  },
  {
   "cell_type": "code",
   "execution_count": 6,
   "metadata": {},
   "outputs": [
    {
     "name": "stdout",
     "output_type": "stream",
     "text": [
      "Strider produced 724 results in 0:01:07.822966.\n"
     ]
    }
   ],
   "source": [
    "start = dt.now()\n",
    "strider_result = strider(query)\n",
    "end = dt.now()\n",
    "print(f\"Strider produced {len(strider_result['message']['results'])} results in {end-start}.\")"
   ]
  },
  {
   "cell_type": "markdown",
   "metadata": {},
   "source": [
    "<br>\n",
    "\n",
    "## Provenance\n",
    "\n",
    "<br>"
   ]
  },
  {
   "cell_type": "code",
   "execution_count": 7,
   "metadata": {},
   "outputs": [
    {
     "data": {
      "text/html": [
       "<div>\n",
       "<style scoped>\n",
       "    .dataframe tbody tr th:only-of-type {\n",
       "        vertical-align: middle;\n",
       "    }\n",
       "\n",
       "    .dataframe tbody tr th {\n",
       "        vertical-align: top;\n",
       "    }\n",
       "\n",
       "    .dataframe thead th {\n",
       "        text-align: right;\n",
       "    }\n",
       "</style>\n",
       "<table border=\"1\" class=\"dataframe\">\n",
       "  <thead>\n",
       "    <tr style=\"text-align: right;\">\n",
       "      <th></th>\n",
       "      <th>QG Edge</th>\n",
       "      <th>Source</th>\n",
       "      <th>Count</th>\n",
       "    </tr>\n",
       "  </thead>\n",
       "  <tbody>\n",
       "    <tr>\n",
       "      <td>0</td>\n",
       "      <td>e0</td>\n",
       "      <td>https://automat.renci.org/textminingkp/1.1/query</td>\n",
       "      <td>231</td>\n",
       "    </tr>\n",
       "    <tr>\n",
       "      <td>1</td>\n",
       "      <td>e0</td>\n",
       "      <td>https://automat.renci.org/uberongraph/1.1/query</td>\n",
       "      <td>52</td>\n",
       "    </tr>\n",
       "    <tr>\n",
       "      <td>2</td>\n",
       "      <td>e0</td>\n",
       "      <td>https://automat.renci.org/cord19-scigraph/1.1/...</td>\n",
       "      <td>473</td>\n",
       "    </tr>\n",
       "    <tr>\n",
       "      <td>3</td>\n",
       "      <td>e0</td>\n",
       "      <td>https://automat.renci.org/chemical-normalizati...</td>\n",
       "      <td>20</td>\n",
       "    </tr>\n",
       "  </tbody>\n",
       "</table>\n",
       "</div>"
      ],
      "text/plain": [
       "  QG Edge                                             Source  Count\n",
       "0      e0   https://automat.renci.org/textminingkp/1.1/query    231\n",
       "1      e0    https://automat.renci.org/uberongraph/1.1/query     52\n",
       "2      e0  https://automat.renci.org/cord19-scigraph/1.1/...    473\n",
       "3      e0  https://automat.renci.org/chemical-normalizati...     20"
      ]
     },
     "metadata": {},
     "output_type": "display_data"
    }
   ],
   "source": [
    "prov = get_provenance(strider_result)\n",
    "display(prov)"
   ]
  },
  {
   "cell_type": "markdown",
   "metadata": {},
   "source": [
    "<br>\n",
    "\n",
    "## Queried Sources\n",
    "\n",
    "<br>"
   ]
  },
  {
   "cell_type": "code",
   "execution_count": 8,
   "metadata": {},
   "outputs": [],
   "source": [
    "print_queried_sources(strider_result)"
   ]
  },
  {
   "cell_type": "code",
   "execution_count": 9,
   "metadata": {},
   "outputs": [
    {
     "name": "stdout",
     "output_type": "stream",
     "text": [
      "Response Error contacting KP\n",
      "Response Error contacting KP\n",
      "Response Error contacting KP\n",
      "Response Error contacting KP\n",
      "Response Error contacting KP\n",
      "Response Error contacting KP\n",
      "Response Error contacting KP\n",
      "Response Error contacting KP\n",
      "Response Error contacting KP\n",
      "Response Error contacting KP\n",
      "Response Error contacting KP\n",
      "Response Error contacting KP\n",
      "Response Error contacting KP\n",
      "Response Error contacting KP\n",
      "Response Error contacting KP\n",
      "Response Error contacting KP\n",
      "Response Error contacting KP\n",
      "Response Error contacting KP\n",
      "Response Error contacting KP\n",
      "Response Error contacting KP\n",
      "Response Error contacting KP\n",
      "Response Error contacting KP\n",
      "Response Error contacting KP\n",
      "Response Error contacting KP\n",
      "Response Error contacting KP\n",
      "Response Error contacting KP\n",
      "Response Error contacting KP\n",
      "Response Error contacting KP\n",
      "Response Error contacting KP\n",
      "Response Error contacting KP\n",
      "Response Error contacting KP\n",
      "Response Error contacting KP\n",
      "Response Error contacting KP\n",
      "Response Error contacting KP\n",
      "Response Error contacting KP\n",
      "Response Error contacting KP\n",
      "Response Error contacting KP\n",
      "Response Error contacting KP\n",
      "Response Error contacting KP\n",
      "Response Error contacting KP\n",
      "Response Error contacting KP\n",
      "Response Error contacting KP\n",
      "Response Error contacting KP\n",
      "Response Error contacting KP\n",
      "Response Error contacting KP\n",
      "Response Error contacting KP\n",
      "Response Error contacting KP\n",
      "Response Error contacting KP\n",
      "Response Error contacting KP\n",
      "Response Error contacting KP\n"
     ]
    }
   ],
   "source": [
    "for logmessage in strider_result['logs']:\n",
    "        if logmessage['level'] == 'ERROR':\n",
    "            print(logmessage['message'])"
   ]
  },
  {
   "cell_type": "code",
   "execution_count": 11,
   "metadata": {},
   "outputs": [
    {
     "name": "stdout",
     "output_type": "stream",
     "text": [
      "{\n",
      "    \"timestamp\": \"2021-06-03T15:27:28.462173\",\n",
      "    \"level\": \"ERROR\",\n",
      "    \"code\": null,\n",
      "    \"message\": \"Response Error contacting KP\",\n",
      "    \"request\": {\n",
      "        \"method\": \"POST\",\n",
      "        \"url\": \"https://cam-kp-api-dev.renci.org/query\",\n",
      "        \"headers\": {\n",
      "            \"host\": \"cam-kp-api-dev.renci.org\",\n",
      "            \"accept\": \"*/*\",\n",
      "            \"accept-encoding\": \"gzip, deflate\",\n",
      "            \"connection\": \"keep-alive\",\n",
      "            \"user-agent\": \"python-httpx/0.16.1\",\n",
      "            \"content-length\": \"341\",\n",
      "            \"content-type\": \"application/json\"\n",
      "        },\n",
      "        \"data\": \"{\\\"message\\\": {\\\"query_graph\\\": {\\\"nodes\\\": {\\\"n0\\\": {\\\"category\\\": \\\"biolink:ChemicalSubstance\\\", \\\"is_set\\\": false, \\\"name\\\": \\\"Chemical Substance\\\", \\\"id\\\": \\\"CHEBI:24996\\\"}, \\\"n1\\\": {\\\"category\\\": \\\"biolink:ChemicalSubstance\\\", \\\"is_set\\\": false, \\\"name\\\": \\\"Chemical Substance\\\"}}, \\\"edges\\\": {\\\"e0\\\": {\\\"subject\\\": \\\"n0\\\", \\\"object\\\": \\\"n1\\\", \\\"predicate\\\": \\\"biolink:related_to\\\"}}}}}\"\n",
      "    },\n",
      "    \"response\": {\n",
      "        \"status_code\": 400,\n",
      "        \"headers\": {\n",
      "            \"server\": \"nginx/1.19.1\",\n",
      "            \"date\": \"Thu, 03 Jun 2021 15:27:27 GMT\",\n",
      "            \"content-type\": \"text/plain; charset=UTF-8\",\n",
      "            \"content-length\": \"18\",\n",
      "            \"connection\": \"keep-alive\",\n",
      "            \"strict-transport-security\": \"max-age=15724800; includeSubDomains\"\n",
      "        },\n",
      "        \"data\": \"Wait queue is full\"\n",
      "    },\n",
      "    \"error\": \"400 Client Error: Bad Request for url: https://cam-kp-api-dev.renci.org/query\\nFor more information check: https://httpstatuses.com/400\"\n",
      "}\n"
     ]
    }
   ],
   "source": [
    "for logmessage in strider_result['logs'][:1]:\n",
    "    printjson(logmessage)"
   ]
  },
  {
   "cell_type": "code",
   "execution_count": 13,
   "metadata": {},
   "outputs": [],
   "source": [
    "view = GammaViewer(props={\"data\":strider_result})\n",
    "display(view)"
   ]
  },
  {
   "cell_type": "code",
   "execution_count": 164,
   "metadata": {},
   "outputs": [
    {
     "data": {
      "text/html": [
       "<div>\n",
       "<style scoped>\n",
       "    .dataframe tbody tr th:only-of-type {\n",
       "        vertical-align: middle;\n",
       "    }\n",
       "\n",
       "    .dataframe tbody tr th {\n",
       "        vertical-align: top;\n",
       "    }\n",
       "\n",
       "    .dataframe thead th {\n",
       "        text-align: right;\n",
       "    }\n",
       "</style>\n",
       "<table border=\"1\" class=\"dataframe\">\n",
       "  <thead>\n",
       "    <tr style=\"text-align: right;\">\n",
       "      <th></th>\n",
       "      <th>QG Edge</th>\n",
       "      <th>Predicate</th>\n",
       "      <th>Count</th>\n",
       "    </tr>\n",
       "  </thead>\n",
       "  <tbody>\n",
       "    <tr>\n",
       "      <td>0</td>\n",
       "      <td>e0</td>\n",
       "      <td>biolink:related_to</td>\n",
       "      <td>714</td>\n",
       "    </tr>\n",
       "    <tr>\n",
       "      <td>1</td>\n",
       "      <td>e0</td>\n",
       "      <td>biolink:has_part</td>\n",
       "      <td>3</td>\n",
       "    </tr>\n",
       "    <tr>\n",
       "      <td>2</td>\n",
       "      <td>e0</td>\n",
       "      <td>biolink:overlaps</td>\n",
       "      <td>2</td>\n",
       "    </tr>\n",
       "    <tr>\n",
       "      <td>3</td>\n",
       "      <td>e0</td>\n",
       "      <td>biolink:similar_to</td>\n",
       "      <td>20</td>\n",
       "    </tr>\n",
       "  </tbody>\n",
       "</table>\n",
       "</div>"
      ],
      "text/plain": [
       "  QG Edge           Predicate  Count\n",
       "0      e0  biolink:related_to    714\n",
       "1      e0    biolink:has_part      3\n",
       "2      e0    biolink:overlaps      2\n",
       "3      e0  biolink:similar_to     20"
      ]
     },
     "metadata": {},
     "output_type": "display_data"
    }
   ],
   "source": [
    "pred = get_predicate(strider_result)\n",
    "display(pred)"
   ]
  },
  {
   "cell_type": "code",
   "execution_count": 329,
   "metadata": {},
   "outputs": [
    {
     "data": {
      "text/html": [
       "<div>\n",
       "<style scoped>\n",
       "    .dataframe tbody tr th:only-of-type {\n",
       "        vertical-align: middle;\n",
       "    }\n",
       "\n",
       "    .dataframe tbody tr th {\n",
       "        vertical-align: top;\n",
       "    }\n",
       "\n",
       "    .dataframe thead th {\n",
       "        text-align: right;\n",
       "    }\n",
       "</style>\n",
       "<table border=\"1\" class=\"dataframe\">\n",
       "  <thead>\n",
       "    <tr style=\"text-align: right;\">\n",
       "      <th></th>\n",
       "      <th>Node ID</th>\n",
       "      <th>Name</th>\n",
       "      <th>Source</th>\n",
       "    </tr>\n",
       "  </thead>\n",
       "  <tbody>\n",
       "    <tr>\n",
       "      <td>0</td>\n",
       "      <td>PUBCHEM.COMPOUND:91435</td>\n",
       "      <td>lactate</td>\n",
       "      <td>https://automat.renci.org/uberongraph/1.1/query</td>\n",
       "    </tr>\n",
       "    <tr>\n",
       "      <td>1</td>\n",
       "      <td>PUBCHEM.COMPOUND:91435</td>\n",
       "      <td>lactate</td>\n",
       "      <td>https://automat.renci.org/uberongraph/1.1/query</td>\n",
       "    </tr>\n",
       "  </tbody>\n",
       "</table>\n",
       "</div>"
      ],
      "text/plain": [
       "                  Node ID     Name  \\\n",
       "0  PUBCHEM.COMPOUND:91435  lactate   \n",
       "1  PUBCHEM.COMPOUND:91435  lactate   \n",
       "\n",
       "                                            Source  \n",
       "0  https://automat.renci.org/uberongraph/1.1/query  \n",
       "1  https://automat.renci.org/uberongraph/1.1/query  "
      ]
     },
     "metadata": {},
     "output_type": "display_data"
    }
   ],
   "source": [
    "node =which_nodes(message, 'biolink:overlaps')\n",
    "display(node)"
   ]
  },
  {
   "cell_type": "code",
   "execution_count": null,
   "metadata": {},
   "outputs": [],
   "source": [
    "strider_result['message']"
   ]
  },
  {
   "cell_type": "markdown",
   "metadata": {},
   "source": [
    "<br>\n",
    "\n",
    "## Aragon \n",
    "\n",
    "<br>"
   ]
  },
  {
   "cell_type": "code",
   "execution_count": 14,
   "metadata": {},
   "outputs": [
    {
     "name": "stdout",
     "output_type": "stream",
     "text": [
      "ARAGORN produced 990 results in 0:03:46.629882.\n"
     ]
    }
   ],
   "source": [
    "start = dt.now()\n",
    "aragorn_result = aragorn(query)\n",
    "end = dt.now()\n",
    "if 'results' in aragorn_result['message']:\n",
    "    print(f\"ARAGORN produced {len(aragorn_result['message']['results'])} results in {end-start}.\")\n",
    "else:\n",
    "    print('Error, no result field')"
   ]
  },
  {
   "cell_type": "code",
   "execution_count": 21,
   "metadata": {},
   "outputs": [],
   "source": [
    "view = GammaViewer(props={\"data\":aragorn_result})\n",
    "display(view)"
   ]
  },
  {
   "cell_type": "code",
   "execution_count": 26,
   "metadata": {},
   "outputs": [
    {
     "name": "stdout",
     "output_type": "stream",
     "text": [
      "200\n"
     ]
    }
   ],
   "source": [
    "r = automat('uberongraph',query)"
   ]
  },
  {
   "cell_type": "code",
   "execution_count": 165,
   "metadata": {
    "scrolled": true
   },
   "outputs": [
    {
     "data": {
      "text/html": [
       "<div>\n",
       "<style scoped>\n",
       "    .dataframe tbody tr th:only-of-type {\n",
       "        vertical-align: middle;\n",
       "    }\n",
       "\n",
       "    .dataframe tbody tr th {\n",
       "        vertical-align: top;\n",
       "    }\n",
       "\n",
       "    .dataframe thead th {\n",
       "        text-align: right;\n",
       "    }\n",
       "</style>\n",
       "<table border=\"1\" class=\"dataframe\">\n",
       "  <thead>\n",
       "    <tr style=\"text-align: right;\">\n",
       "      <th></th>\n",
       "      <th>QG Edge</th>\n",
       "      <th>Predicate</th>\n",
       "      <th>Count</th>\n",
       "    </tr>\n",
       "  </thead>\n",
       "  <tbody>\n",
       "    <tr>\n",
       "      <td>0</td>\n",
       "      <td>e0</td>\n",
       "      <td>biolink:overlaps</td>\n",
       "      <td>2</td>\n",
       "    </tr>\n",
       "    <tr>\n",
       "      <td>1</td>\n",
       "      <td>e0</td>\n",
       "      <td>biolink:has_part</td>\n",
       "      <td>3</td>\n",
       "    </tr>\n",
       "    <tr>\n",
       "      <td>2</td>\n",
       "      <td>e0</td>\n",
       "      <td>biolink:related_to</td>\n",
       "      <td>980</td>\n",
       "    </tr>\n",
       "    <tr>\n",
       "      <td>3</td>\n",
       "      <td>e0</td>\n",
       "      <td>biolink:similar_to</td>\n",
       "      <td>20</td>\n",
       "    </tr>\n",
       "  </tbody>\n",
       "</table>\n",
       "</div>"
      ],
      "text/plain": [
       "  QG Edge           Predicate  Count\n",
       "0      e0    biolink:overlaps      2\n",
       "1      e0    biolink:has_part      3\n",
       "2      e0  biolink:related_to    980\n",
       "3      e0  biolink:similar_to     20"
      ]
     },
     "metadata": {},
     "output_type": "display_data"
    }
   ],
   "source": [
    "pred = get_predicate(aragorn_result)\n",
    "display(pred)"
   ]
  },
  {
   "cell_type": "code",
   "execution_count": 166,
   "metadata": {},
   "outputs": [
    {
     "data": {
      "text/html": [
       "<div>\n",
       "<style scoped>\n",
       "    .dataframe tbody tr th:only-of-type {\n",
       "        vertical-align: middle;\n",
       "    }\n",
       "\n",
       "    .dataframe tbody tr th {\n",
       "        vertical-align: top;\n",
       "    }\n",
       "\n",
       "    .dataframe thead th {\n",
       "        text-align: right;\n",
       "    }\n",
       "</style>\n",
       "<table border=\"1\" class=\"dataframe\">\n",
       "  <thead>\n",
       "    <tr style=\"text-align: right;\">\n",
       "      <th></th>\n",
       "      <th>QG Edge</th>\n",
       "      <th>Source</th>\n",
       "      <th>Count</th>\n",
       "    </tr>\n",
       "  </thead>\n",
       "  <tbody>\n",
       "    <tr>\n",
       "      <td>0</td>\n",
       "      <td>e0</td>\n",
       "      <td>https://automat.renci.org/uberongraph/1.1/query</td>\n",
       "      <td>52</td>\n",
       "    </tr>\n",
       "    <tr>\n",
       "      <td>1</td>\n",
       "      <td>e0</td>\n",
       "      <td>https://automat.renci.org/chemical-normalizati...</td>\n",
       "      <td>20</td>\n",
       "    </tr>\n",
       "    <tr>\n",
       "      <td>2</td>\n",
       "      <td>e0</td>\n",
       "      <td>https://automat.renci.org/cord19-scigraph/1.1/...</td>\n",
       "      <td>738</td>\n",
       "    </tr>\n",
       "    <tr>\n",
       "      <td>3</td>\n",
       "      <td>e0</td>\n",
       "      <td>https://automat.renci.org/textminingkp/1.1/query</td>\n",
       "      <td>231</td>\n",
       "    </tr>\n",
       "  </tbody>\n",
       "</table>\n",
       "</div>"
      ],
      "text/plain": [
       "  QG Edge                                             Source  Count\n",
       "0      e0    https://automat.renci.org/uberongraph/1.1/query     52\n",
       "1      e0  https://automat.renci.org/chemical-normalizati...     20\n",
       "2      e0  https://automat.renci.org/cord19-scigraph/1.1/...    738\n",
       "3      e0   https://automat.renci.org/textminingkp/1.1/query    231"
      ]
     },
     "metadata": {},
     "output_type": "display_data"
    }
   ],
   "source": [
    "prov = get_provenance(aragorn_result)\n",
    "display(prov)"
   ]
  },
  {
   "cell_type": "markdown",
   "metadata": {},
   "source": [
    "<br>\n",
    "\n",
    "## 2. Chemical to Gene to Lactate\n",
    "Do we have a way to decrease lactate or lactates PUBCHEM.COMPOUND:91435\n",
    "\n",
    "<br>"
   ]
  },
  {
   "cell_type": "code",
   "execution_count": null,
   "metadata": {},
   "outputs": [],
   "source": [
    "with open('/Users/priyash/Documents/GitHub/robogallery/user_queries/json_queries/hangover_two.json', 'r') as myfile:\n",
    "    query2 = make_message(json.loads(myfile.read()))"
   ]
  },
  {
   "cell_type": "code",
   "execution_count": 18,
   "metadata": {},
   "outputs": [
    {
     "name": "stdout",
     "output_type": "stream",
     "text": [
      "{\n",
      "    \"message\": {\n",
      "        \"query_graph\": {\n",
      "            \"nodes\": {\n",
      "                \"n0\": {\n",
      "                    \"name\": \"Lactate\",\n",
      "                    \"id\": \"PUBCHEM.COMPOUND:91435\"\n",
      "                },\n",
      "                \"n1\": {\n",
      "                    \"category\": [\n",
      "                        \"biolink:Gene\"\n",
      "                    ],\n",
      "                    \"name\": \"Gene\"\n",
      "                },\n",
      "                \"n2\": {\n",
      "                    \"category\": [\n",
      "                        \"biolink:ChemicalSubstance\"\n",
      "                    ],\n",
      "                    \"name\": \"Chemical Substance\"\n",
      "                }\n",
      "            },\n",
      "            \"edges\": {\n",
      "                \"e0\": {\n",
      "                    \"subject\": \"n0\",\n",
      "                    \"object\": \"n1\"\n",
      "                },\n",
      "                \"e1\": {\n",
      "                    \"subject\": \"n1\",\n",
      "                    \"object\": \"n2\"\n",
      "                }\n",
      "            }\n",
      "        }\n",
      "    }\n",
      "}\n"
     ]
    }
   ],
   "source": [
    "printjson(query2)"
   ]
  },
  {
   "cell_type": "markdown",
   "metadata": {},
   "source": [
    "<br>\n",
    "\n",
    "## Strider Direct\n",
    "\n",
    "<br>"
   ]
  },
  {
   "cell_type": "code",
   "execution_count": null,
   "metadata": {},
   "outputs": [],
   "source": [
    "start = dt.now()\n",
    "strider_result = strider(query2)\n",
    "end = dt.now()\n",
    "print(f\"Strider produced {len(strider_result['message']['results'])} results in {end-start}.\")"
   ]
  },
  {
   "cell_type": "code",
   "execution_count": null,
   "metadata": {},
   "outputs": [],
   "source": []
  }
 ],
 "metadata": {
  "kernelspec": {
   "display_name": "Python 3",
   "language": "python",
   "name": "python3"
  },
  "language_info": {
   "codemirror_mode": {
    "name": "ipython",
    "version": 3
   },
   "file_extension": ".py",
   "mimetype": "text/x-python",
   "name": "python",
   "nbconvert_exporter": "python",
   "pygments_lexer": "ipython3",
   "version": "3.7.4"
  }
 },
 "nbformat": 4,
 "nbformat_minor": 2
}
