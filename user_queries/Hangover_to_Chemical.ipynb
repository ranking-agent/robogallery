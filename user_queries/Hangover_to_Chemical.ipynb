{
 "cells": [
  {
   "cell_type": "markdown",
   "metadata": {},
   "source": [
    "<br>\n",
    "\n",
    "## Hangover Query\n",
    "\n",
    "<br>"
   ]
  },
  {
   "cell_type": "code",
   "execution_count": 6,
   "metadata": {},
   "outputs": [],
   "source": [
    "#Loading the functions from a notebook\n",
    "%run /Users/priyash/Documents/GitHub/robogallery/user_queries/proj_tools/template.ipynb"
   ]
  },
  {
   "cell_type": "markdown",
   "metadata": {},
   "source": [
    "<br>\n",
    "\n",
    "\n",
    "**These are all causes of hangover.  So in a hangover there is an increase of lactate.  The question that we want to answer then, is do we have a way to decrease lactate or lactates.  And the same for aldehydes etc...\n",
    "So what I would like you to do is to try to run either some chemical-(lactate) and chemical-gene-lactate queries through strider and aragorn and let's see if we can get results.  And also do it for aldehyes, and etc.**\n",
    "\n",
    "<br>"
   ]
  },
  {
   "cell_type": "markdown",
   "metadata": {},
   "source": [
    "### 1. Chemical to Lactate\n",
    "\n",
    "Do we have a way to decrease lactate or lactates PUBCHEM.COMPOUND:91435\n",
    "\n",
    "Github Issue:\n",
    "\n",
    "<br>"
   ]
  },
  {
   "cell_type": "code",
   "execution_count": 7,
   "metadata": {},
   "outputs": [],
   "source": [
    "with open('/Users/priyash/Documents/GitHub/robogallery/user_queries/json_queries/hangover_one.json', 'r') as myfile:\n",
    "    query = make_message(json.loads(myfile.read()))"
   ]
  },
  {
   "cell_type": "code",
   "execution_count": 8,
   "metadata": {},
   "outputs": [
    {
     "name": "stdout",
     "output_type": "stream",
     "text": [
      "{\n",
      "    \"message\": {\n",
      "        \"query_graph\": {\n",
      "            \"nodes\": {\n",
      "                \"n0\": {\n",
      "                    \"category\": [\n",
      "                        \"biolink:ChemicalSubstance\"\n",
      "                    ],\n",
      "                    \"name\": \"Chemical Substance\",\n",
      "                    \"id\": \"PUBCHEM.COMPOUND:91435\"\n",
      "                },\n",
      "                \"n1\": {\n",
      "                    \"category\": [\n",
      "                        \"biolink:ChemicalSubstance\"\n",
      "                    ],\n",
      "                    \"name\": \"Chemical Substance\"\n",
      "                }\n",
      "            },\n",
      "            \"edges\": {\n",
      "                \"e0\": {\n",
      "                    \"subject\": \"n0\",\n",
      "                    \"object\": \"n1\"\n",
      "                }\n",
      "            }\n",
      "        }\n",
      "    }\n",
      "}\n"
     ]
    }
   ],
   "source": [
    "printjson(query)"
   ]
  },
  {
   "cell_type": "markdown",
   "metadata": {},
   "source": [
    "<br>\n",
    "\n",
    "## Strider Direct\n",
    "\n",
    "<br>"
   ]
  },
  {
   "cell_type": "code",
   "execution_count": 9,
   "metadata": {},
   "outputs": [
    {
     "name": "stdout",
     "output_type": "stream",
     "text": [
      "Strider produced 724 results in 0:01:06.343240.\n"
     ]
    }
   ],
   "source": [
    "start = dt.now()\n",
    "strider_result = strider(query)\n",
    "end = dt.now()\n",
    "print(f\"Strider produced {len(strider_result['message']['results'])} results in {end-start}.\")"
   ]
  },
  {
   "cell_type": "markdown",
   "metadata": {},
   "source": [
    "<br>\n",
    "\n",
    "## Provenance\n",
    "\n",
    "<br>"
   ]
  },
  {
   "cell_type": "code",
   "execution_count": 10,
   "metadata": {},
   "outputs": [
    {
     "data": {
      "text/html": [
       "<div>\n",
       "<style scoped>\n",
       "    .dataframe tbody tr th:only-of-type {\n",
       "        vertical-align: middle;\n",
       "    }\n",
       "\n",
       "    .dataframe tbody tr th {\n",
       "        vertical-align: top;\n",
       "    }\n",
       "\n",
       "    .dataframe thead th {\n",
       "        text-align: right;\n",
       "    }\n",
       "</style>\n",
       "<table border=\"1\" class=\"dataframe\">\n",
       "  <thead>\n",
       "    <tr style=\"text-align: right;\">\n",
       "      <th></th>\n",
       "      <th>QG Edge</th>\n",
       "      <th>Source</th>\n",
       "      <th>Count</th>\n",
       "    </tr>\n",
       "  </thead>\n",
       "  <tbody>\n",
       "    <tr>\n",
       "      <td>0</td>\n",
       "      <td>e0</td>\n",
       "      <td>https://automat.renci.org/textminingkp/1.1/query</td>\n",
       "      <td>231</td>\n",
       "    </tr>\n",
       "    <tr>\n",
       "      <td>1</td>\n",
       "      <td>e0</td>\n",
       "      <td>https://automat.renci.org/uberongraph/1.1/query</td>\n",
       "      <td>52</td>\n",
       "    </tr>\n",
       "    <tr>\n",
       "      <td>2</td>\n",
       "      <td>e0</td>\n",
       "      <td>https://automat.renci.org/chemical-normalizati...</td>\n",
       "      <td>20</td>\n",
       "    </tr>\n",
       "    <tr>\n",
       "      <td>3</td>\n",
       "      <td>e0</td>\n",
       "      <td>https://automat.renci.org/cord19-scigraph/1.1/...</td>\n",
       "      <td>473</td>\n",
       "    </tr>\n",
       "  </tbody>\n",
       "</table>\n",
       "</div>"
      ],
      "text/plain": [
       "  QG Edge                                             Source  Count\n",
       "0      e0   https://automat.renci.org/textminingkp/1.1/query    231\n",
       "1      e0    https://automat.renci.org/uberongraph/1.1/query     52\n",
       "2      e0  https://automat.renci.org/chemical-normalizati...     20\n",
       "3      e0  https://automat.renci.org/cord19-scigraph/1.1/...    473"
      ]
     },
     "metadata": {},
     "output_type": "display_data"
    }
   ],
   "source": [
    "prov = get_provenance(strider_result)\n",
    "display(prov)"
   ]
  },
  {
   "cell_type": "markdown",
   "metadata": {},
   "source": [
    "<br>\n",
    "\n",
    "## Queried Sources\n",
    "\n",
    "<br>"
   ]
  },
  {
   "cell_type": "code",
   "execution_count": 11,
   "metadata": {},
   "outputs": [],
   "source": [
    "print_queried_sources(strider_result)"
   ]
  },
  {
   "cell_type": "code",
   "execution_count": 12,
   "metadata": {
    "scrolled": true
   },
   "outputs": [
    {
     "ename": "JSONDecodeError",
     "evalue": "Expecting value: line 1 column 1 (char 0)",
     "output_type": "error",
     "traceback": [
      "\u001b[0;31m---------------------------------------------------------------------------\u001b[0m",
      "\u001b[0;31mJSONDecodeError\u001b[0m                           Traceback (most recent call last)",
      "\u001b[0;32m<ipython-input-12-3d00ec35de1d>\u001b[0m in \u001b[0;36m<module>\u001b[0;34m\u001b[0m\n\u001b[0;32m----> 1\u001b[0;31m \u001b[0mprint_errors\u001b[0m\u001b[0;34m(\u001b[0m\u001b[0mstrider_result\u001b[0m\u001b[0;34m)\u001b[0m\u001b[0;34m\u001b[0m\u001b[0;34m\u001b[0m\u001b[0m\n\u001b[0m",
      "\u001b[0;32m<ipython-input-6-c22b4cc156f5>\u001b[0m in \u001b[0;36mprint_errors\u001b[0;34m(strider_result)\u001b[0m\n\u001b[1;32m      3\u001b[0m     \u001b[0;32mfor\u001b[0m \u001b[0mlogmessage\u001b[0m \u001b[0;32min\u001b[0m \u001b[0mstrider_result\u001b[0m\u001b[0;34m[\u001b[0m\u001b[0;34m'logs'\u001b[0m\u001b[0;34m]\u001b[0m\u001b[0;34m:\u001b[0m\u001b[0;34m\u001b[0m\u001b[0;34m\u001b[0m\u001b[0m\n\u001b[1;32m      4\u001b[0m         \u001b[0;32mif\u001b[0m \u001b[0mlogmessage\u001b[0m\u001b[0;34m[\u001b[0m\u001b[0;34m'level'\u001b[0m\u001b[0;34m]\u001b[0m \u001b[0;34m==\u001b[0m \u001b[0;34m'ERROR'\u001b[0m\u001b[0;34m:\u001b[0m\u001b[0;34m\u001b[0m\u001b[0;34m\u001b[0m\u001b[0m\n\u001b[0;32m----> 5\u001b[0;31m             \u001b[0mjm\u001b[0m \u001b[0;34m=\u001b[0m \u001b[0mjson\u001b[0m\u001b[0;34m.\u001b[0m\u001b[0mloads\u001b[0m\u001b[0;34m(\u001b[0m\u001b[0mlogmessage\u001b[0m\u001b[0;34m[\u001b[0m\u001b[0;34m'message'\u001b[0m\u001b[0;34m]\u001b[0m\u001b[0;34m)\u001b[0m\u001b[0;34m\u001b[0m\u001b[0;34m\u001b[0m\u001b[0m\n\u001b[0m\u001b[1;32m      6\u001b[0m             \u001b[0mwords\u001b[0m \u001b[0;34m=\u001b[0m \u001b[0mjm\u001b[0m\u001b[0;34m[\u001b[0m\u001b[0;34m'error'\u001b[0m\u001b[0;34m]\u001b[0m\u001b[0;34m.\u001b[0m\u001b[0msplit\u001b[0m\u001b[0;34m(\u001b[0m\u001b[0;34m)\u001b[0m\u001b[0;34m\u001b[0m\u001b[0;34m\u001b[0m\u001b[0m\n\u001b[1;32m      7\u001b[0m             \u001b[0me\u001b[0m \u001b[0;34m=\u001b[0m \u001b[0;34m\" \"\u001b[0m\u001b[0;34m.\u001b[0m\u001b[0mjoin\u001b[0m\u001b[0;34m(\u001b[0m\u001b[0mwords\u001b[0m\u001b[0;34m[\u001b[0m\u001b[0;34m:\u001b[0m\u001b[0;34m-\u001b[0m\u001b[0;36m5\u001b[0m\u001b[0;34m]\u001b[0m\u001b[0;34m)\u001b[0m\u001b[0;34m\u001b[0m\u001b[0;34m\u001b[0m\u001b[0m\n",
      "\u001b[0;32m~/opt/anaconda3/lib/python3.7/json/__init__.py\u001b[0m in \u001b[0;36mloads\u001b[0;34m(s, encoding, cls, object_hook, parse_float, parse_int, parse_constant, object_pairs_hook, **kw)\u001b[0m\n\u001b[1;32m    346\u001b[0m             \u001b[0mparse_int\u001b[0m \u001b[0;32mis\u001b[0m \u001b[0;32mNone\u001b[0m \u001b[0;32mand\u001b[0m \u001b[0mparse_float\u001b[0m \u001b[0;32mis\u001b[0m \u001b[0;32mNone\u001b[0m \u001b[0;32mand\u001b[0m\u001b[0;34m\u001b[0m\u001b[0;34m\u001b[0m\u001b[0m\n\u001b[1;32m    347\u001b[0m             parse_constant is None and object_pairs_hook is None and not kw):\n\u001b[0;32m--> 348\u001b[0;31m         \u001b[0;32mreturn\u001b[0m \u001b[0m_default_decoder\u001b[0m\u001b[0;34m.\u001b[0m\u001b[0mdecode\u001b[0m\u001b[0;34m(\u001b[0m\u001b[0ms\u001b[0m\u001b[0;34m)\u001b[0m\u001b[0;34m\u001b[0m\u001b[0;34m\u001b[0m\u001b[0m\n\u001b[0m\u001b[1;32m    349\u001b[0m     \u001b[0;32mif\u001b[0m \u001b[0mcls\u001b[0m \u001b[0;32mis\u001b[0m \u001b[0;32mNone\u001b[0m\u001b[0;34m:\u001b[0m\u001b[0;34m\u001b[0m\u001b[0;34m\u001b[0m\u001b[0m\n\u001b[1;32m    350\u001b[0m         \u001b[0mcls\u001b[0m \u001b[0;34m=\u001b[0m \u001b[0mJSONDecoder\u001b[0m\u001b[0;34m\u001b[0m\u001b[0;34m\u001b[0m\u001b[0m\n",
      "\u001b[0;32m~/opt/anaconda3/lib/python3.7/json/decoder.py\u001b[0m in \u001b[0;36mdecode\u001b[0;34m(self, s, _w)\u001b[0m\n\u001b[1;32m    335\u001b[0m \u001b[0;34m\u001b[0m\u001b[0m\n\u001b[1;32m    336\u001b[0m         \"\"\"\n\u001b[0;32m--> 337\u001b[0;31m         \u001b[0mobj\u001b[0m\u001b[0;34m,\u001b[0m \u001b[0mend\u001b[0m \u001b[0;34m=\u001b[0m \u001b[0mself\u001b[0m\u001b[0;34m.\u001b[0m\u001b[0mraw_decode\u001b[0m\u001b[0;34m(\u001b[0m\u001b[0ms\u001b[0m\u001b[0;34m,\u001b[0m \u001b[0midx\u001b[0m\u001b[0;34m=\u001b[0m\u001b[0m_w\u001b[0m\u001b[0;34m(\u001b[0m\u001b[0ms\u001b[0m\u001b[0;34m,\u001b[0m \u001b[0;36m0\u001b[0m\u001b[0;34m)\u001b[0m\u001b[0;34m.\u001b[0m\u001b[0mend\u001b[0m\u001b[0;34m(\u001b[0m\u001b[0;34m)\u001b[0m\u001b[0;34m)\u001b[0m\u001b[0;34m\u001b[0m\u001b[0;34m\u001b[0m\u001b[0m\n\u001b[0m\u001b[1;32m    338\u001b[0m         \u001b[0mend\u001b[0m \u001b[0;34m=\u001b[0m \u001b[0m_w\u001b[0m\u001b[0;34m(\u001b[0m\u001b[0ms\u001b[0m\u001b[0;34m,\u001b[0m \u001b[0mend\u001b[0m\u001b[0;34m)\u001b[0m\u001b[0;34m.\u001b[0m\u001b[0mend\u001b[0m\u001b[0;34m(\u001b[0m\u001b[0;34m)\u001b[0m\u001b[0;34m\u001b[0m\u001b[0;34m\u001b[0m\u001b[0m\n\u001b[1;32m    339\u001b[0m         \u001b[0;32mif\u001b[0m \u001b[0mend\u001b[0m \u001b[0;34m!=\u001b[0m \u001b[0mlen\u001b[0m\u001b[0;34m(\u001b[0m\u001b[0ms\u001b[0m\u001b[0;34m)\u001b[0m\u001b[0;34m:\u001b[0m\u001b[0;34m\u001b[0m\u001b[0;34m\u001b[0m\u001b[0m\n",
      "\u001b[0;32m~/opt/anaconda3/lib/python3.7/json/decoder.py\u001b[0m in \u001b[0;36mraw_decode\u001b[0;34m(self, s, idx)\u001b[0m\n\u001b[1;32m    353\u001b[0m             \u001b[0mobj\u001b[0m\u001b[0;34m,\u001b[0m \u001b[0mend\u001b[0m \u001b[0;34m=\u001b[0m \u001b[0mself\u001b[0m\u001b[0;34m.\u001b[0m\u001b[0mscan_once\u001b[0m\u001b[0;34m(\u001b[0m\u001b[0ms\u001b[0m\u001b[0;34m,\u001b[0m \u001b[0midx\u001b[0m\u001b[0;34m)\u001b[0m\u001b[0;34m\u001b[0m\u001b[0;34m\u001b[0m\u001b[0m\n\u001b[1;32m    354\u001b[0m         \u001b[0;32mexcept\u001b[0m \u001b[0mStopIteration\u001b[0m \u001b[0;32mas\u001b[0m \u001b[0merr\u001b[0m\u001b[0;34m:\u001b[0m\u001b[0;34m\u001b[0m\u001b[0;34m\u001b[0m\u001b[0m\n\u001b[0;32m--> 355\u001b[0;31m             \u001b[0;32mraise\u001b[0m \u001b[0mJSONDecodeError\u001b[0m\u001b[0;34m(\u001b[0m\u001b[0;34m\"Expecting value\"\u001b[0m\u001b[0;34m,\u001b[0m \u001b[0ms\u001b[0m\u001b[0;34m,\u001b[0m \u001b[0merr\u001b[0m\u001b[0;34m.\u001b[0m\u001b[0mvalue\u001b[0m\u001b[0;34m)\u001b[0m \u001b[0;32mfrom\u001b[0m \u001b[0;32mNone\u001b[0m\u001b[0;34m\u001b[0m\u001b[0;34m\u001b[0m\u001b[0m\n\u001b[0m\u001b[1;32m    356\u001b[0m         \u001b[0;32mreturn\u001b[0m \u001b[0mobj\u001b[0m\u001b[0;34m,\u001b[0m \u001b[0mend\u001b[0m\u001b[0;34m\u001b[0m\u001b[0;34m\u001b[0m\u001b[0m\n",
      "\u001b[0;31mJSONDecodeError\u001b[0m: Expecting value: line 1 column 1 (char 0)"
     ]
    }
   ],
   "source": [
    "print_errors(strider_result)"
   ]
  },
  {
   "cell_type": "code",
   "execution_count": 13,
   "metadata": {},
   "outputs": [
    {
     "name": "stdout",
     "output_type": "stream",
     "text": [
      "Response Error contacting KP\n",
      "Response Error contacting KP\n",
      "Response Error contacting KP\n",
      "Response Error contacting KP\n",
      "Response Error contacting KP\n",
      "Response Error contacting KP\n",
      "Response Error contacting KP\n",
      "Response Error contacting KP\n",
      "Response Error contacting KP\n",
      "Response Error contacting KP\n",
      "Response Error contacting KP\n",
      "Response Error contacting KP\n",
      "Response Error contacting KP\n",
      "Response Error contacting KP\n",
      "Response Error contacting KP\n",
      "Response Error contacting KP\n",
      "Response Error contacting KP\n",
      "Response Error contacting KP\n",
      "Response Error contacting KP\n",
      "Response Error contacting KP\n",
      "Response Error contacting KP\n",
      "Response Error contacting KP\n",
      "Response Error contacting KP\n",
      "Response Error contacting KP\n",
      "Response Error contacting KP\n",
      "Response Error contacting KP\n",
      "Response Error contacting KP\n",
      "Response Error contacting KP\n",
      "Response Error contacting KP\n",
      "Response Error contacting KP\n",
      "Response Error contacting KP\n",
      "Response Error contacting KP\n",
      "Response Error contacting KP\n",
      "Response Error contacting KP\n",
      "Response Error contacting KP\n",
      "Response Error contacting KP\n",
      "Response Error contacting KP\n",
      "Response Error contacting KP\n",
      "Response Error contacting KP\n",
      "Response Error contacting KP\n",
      "Response Error contacting KP\n",
      "Response Error contacting KP\n",
      "Response Error contacting KP\n",
      "Response Error contacting KP\n",
      "Response Error contacting KP\n",
      "Response Error contacting KP\n",
      "Response Error contacting KP\n",
      "Response Error contacting KP\n"
     ]
    }
   ],
   "source": [
    "for logmessage in strider_result['logs']:\n",
    "        if logmessage['level'] == 'ERROR':\n",
    "            print(logmessage['message'])"
   ]
  },
  {
   "cell_type": "code",
   "execution_count": 14,
   "metadata": {},
   "outputs": [
    {
     "name": "stdout",
     "output_type": "stream",
     "text": [
      "{'timestamp': '2021-06-01T14:33:56.016823', 'level': 'ERROR', 'code': None, 'message': 'Response Error contacting KP', 'error': '504 Server Error: Gateway Time-out for url: https://cam-kp-api-dev.renci.org/query\\nFor more information check: https://httpstatuses.com/504', 'request': {'method': 'POST', 'url': 'https://cam-kp-api-dev.renci.org/query', 'headers': {'host': 'cam-kp-api-dev.renci.org', 'accept': '*/*', 'accept-encoding': 'gzip, deflate', 'connection': 'keep-alive', 'user-agent': 'python-httpx/0.16.1', 'content-length': '338', 'content-type': 'application/json'}, 'data': '{\"message\": {\"query_graph\": {\"nodes\": {\"n0\": {\"category\": \"biolink:ChemicalSubstance\", \"is_set\": false, \"name\": \"Chemical Substance\", \"id\": \"CHEBI:24996\"}, \"n1\": {\"category\": \"biolink:ChemicalSubstance\", \"is_set\": false, \"name\": \"Chemical Substance\"}}, \"edges\": {\"e0\": {\"subject\": \"n1\", \"object\": \"n0\", \"predicate\": \"biolink:affects\"}}}}}'}, 'response': {'status_code': 504, 'headers': {'server': 'nginx/1.19.1', 'date': 'Tue, 01 Jun 2021 14:33:55 GMT', 'content-type': 'text/html', 'content-length': '167', 'connection': 'keep-alive', 'strict-transport-security': 'max-age=15724800; includeSubDomains'}, 'data': '<html>\\r\\n<head><title>504 Gateway Time-out</title></head>\\r\\n<body>\\r\\n<center><h1>504 Gateway Time-out</h1></center>\\r\\n<hr><center>nginx/1.19.1</center>\\r\\n</body>\\r\\n</html>\\r\\n'}}\n",
      "{'timestamp': '2021-06-01T14:33:56.003488', 'level': 'ERROR', 'code': None, 'message': 'Response Error contacting KP', 'error': '504 Server Error: Gateway Time-out for url: https://cam-kp-api-dev.renci.org/query\\nFor more information check: https://httpstatuses.com/504', 'request': {'method': 'POST', 'url': 'https://cam-kp-api-dev.renci.org/query', 'headers': {'host': 'cam-kp-api-dev.renci.org', 'accept': '*/*', 'accept-encoding': 'gzip, deflate', 'connection': 'keep-alive', 'user-agent': 'python-httpx/0.16.1', 'content-length': '341', 'content-type': 'application/json'}, 'data': '{\"message\": {\"query_graph\": {\"nodes\": {\"n0\": {\"category\": \"biolink:ChemicalSubstance\", \"is_set\": false, \"name\": \"Chemical Substance\", \"id\": \"CHEBI:24996\"}, \"n1\": {\"category\": \"biolink:ChemicalSubstance\", \"is_set\": false, \"name\": \"Chemical Substance\"}}, \"edges\": {\"e0\": {\"subject\": \"n1\", \"object\": \"n0\", \"predicate\": \"biolink:capable_of\"}}}}}'}, 'response': {'status_code': 504, 'headers': {'server': 'nginx/1.19.1', 'date': 'Tue, 01 Jun 2021 14:33:55 GMT', 'content-type': 'text/html', 'content-length': '167', 'connection': 'keep-alive', 'strict-transport-security': 'max-age=15724800; includeSubDomains'}, 'data': '<html>\\r\\n<head><title>504 Gateway Time-out</title></head>\\r\\n<body>\\r\\n<center><h1>504 Gateway Time-out</h1></center>\\r\\n<hr><center>nginx/1.19.1</center>\\r\\n</body>\\r\\n</html>\\r\\n'}}\n",
      "{'timestamp': '2021-06-01T14:33:55.990106', 'level': 'ERROR', 'code': None, 'message': 'Response Error contacting KP', 'error': '504 Server Error: Gateway Time-out for url: https://cam-kp-api-dev.renci.org/query\\nFor more information check: https://httpstatuses.com/504', 'request': {'method': 'POST', 'url': 'https://cam-kp-api-dev.renci.org/query', 'headers': {'host': 'cam-kp-api-dev.renci.org', 'accept': '*/*', 'accept-encoding': 'gzip, deflate', 'connection': 'keep-alive', 'user-agent': 'python-httpx/0.16.1', 'content-length': '341', 'content-type': 'application/json'}, 'data': '{\"message\": {\"query_graph\": {\"nodes\": {\"n0\": {\"category\": \"biolink:ChemicalSubstance\", \"is_set\": false, \"name\": \"Chemical Substance\", \"id\": \"CHEBI:24996\"}, \"n1\": {\"category\": \"biolink:ChemicalSubstance\", \"is_set\": false, \"name\": \"Chemical Substance\"}}, \"edges\": {\"e0\": {\"subject\": \"n1\", \"object\": \"n0\", \"predicate\": \"biolink:related_to\"}}}}}'}, 'response': {'status_code': 504, 'headers': {'server': 'nginx/1.19.1', 'date': 'Tue, 01 Jun 2021 14:33:55 GMT', 'content-type': 'text/html', 'content-length': '167', 'connection': 'keep-alive', 'strict-transport-security': 'max-age=15724800; includeSubDomains'}, 'data': '<html>\\r\\n<head><title>504 Gateway Time-out</title></head>\\r\\n<body>\\r\\n<center><h1>504 Gateway Time-out</h1></center>\\r\\n<hr><center>nginx/1.19.1</center>\\r\\n</body>\\r\\n</html>\\r\\n'}}\n",
      "{'timestamp': '2021-06-01T14:33:55.976806', 'level': 'ERROR', 'code': None, 'message': 'Response Error contacting KP', 'error': '504 Server Error: Gateway Time-out for url: https://cam-kp-api-dev.renci.org/query\\nFor more information check: https://httpstatuses.com/504', 'request': {'method': 'POST', 'url': 'https://cam-kp-api-dev.renci.org/query', 'headers': {'host': 'cam-kp-api-dev.renci.org', 'accept': '*/*', 'accept-encoding': 'gzip, deflate', 'connection': 'keep-alive', 'user-agent': 'python-httpx/0.16.1', 'content-length': '352', 'content-type': 'application/json'}, 'data': '{\"message\": {\"query_graph\": {\"nodes\": {\"n0\": {\"category\": \"biolink:ChemicalSubstance\", \"is_set\": false, \"name\": \"Chemical Substance\", \"id\": \"CHEBI:24996\"}, \"n1\": {\"category\": \"biolink:ChemicalSubstance\", \"is_set\": false, \"name\": \"Chemical Substance\"}}, \"edges\": {\"e0\": {\"subject\": \"n0\", \"object\": \"n1\", \"predicate\": \"biolink:temporally_related_to\"}}}}}'}, 'response': {'status_code': 504, 'headers': {'server': 'nginx/1.19.1', 'date': 'Tue, 01 Jun 2021 14:33:55 GMT', 'content-type': 'text/html', 'content-length': '167', 'connection': 'keep-alive', 'strict-transport-security': 'max-age=15724800; includeSubDomains'}, 'data': '<html>\\r\\n<head><title>504 Gateway Time-out</title></head>\\r\\n<body>\\r\\n<center><h1>504 Gateway Time-out</h1></center>\\r\\n<hr><center>nginx/1.19.1</center>\\r\\n</body>\\r\\n</html>\\r\\n'}}\n",
      "{'timestamp': '2021-06-01T14:33:55.962991', 'level': 'ERROR', 'code': None, 'message': 'Response Error contacting KP', 'error': '504 Server Error: Gateway Time-out for url: https://cam-kp-api-dev.renci.org/query\\nFor more information check: https://httpstatuses.com/504', 'request': {'method': 'POST', 'url': 'https://cam-kp-api-dev.renci.org/query', 'headers': {'host': 'cam-kp-api-dev.renci.org', 'accept': '*/*', 'accept-encoding': 'gzip, deflate', 'connection': 'keep-alive', 'user-agent': 'python-httpx/0.16.1', 'content-length': '367', 'content-type': 'application/json'}, 'data': '{\"message\": {\"query_graph\": {\"nodes\": {\"n0\": {\"category\": \"biolink:ChemicalSubstance\", \"is_set\": false, \"name\": \"Chemical Substance\", \"id\": \"CHEBI:24996\"}, \"n1\": {\"category\": \"biolink:ChemicalSubstance\", \"is_set\": false, \"name\": \"Chemical Substance\"}}, \"edges\": {\"e0\": {\"subject\": \"n0\", \"object\": \"n1\", \"predicate\": \"biolink:process_positively_regulates_process\"}}}}}'}, 'response': {'status_code': 504, 'headers': {'server': 'nginx/1.19.1', 'date': 'Tue, 01 Jun 2021 14:33:55 GMT', 'content-type': 'text/html', 'content-length': '167', 'connection': 'keep-alive', 'strict-transport-security': 'max-age=15724800; includeSubDomains'}, 'data': '<html>\\r\\n<head><title>504 Gateway Time-out</title></head>\\r\\n<body>\\r\\n<center><h1>504 Gateway Time-out</h1></center>\\r\\n<hr><center>nginx/1.19.1</center>\\r\\n</body>\\r\\n</html>\\r\\n'}}\n",
      "{'timestamp': '2021-06-01T14:33:55.948623', 'level': 'ERROR', 'code': None, 'message': 'Response Error contacting KP', 'error': '504 Server Error: Gateway Time-out for url: https://cam-kp-api-dev.renci.org/query\\nFor more information check: https://httpstatuses.com/504', 'request': {'method': 'POST', 'url': 'https://cam-kp-api-dev.renci.org/query', 'headers': {'host': 'cam-kp-api-dev.renci.org', 'accept': '*/*', 'accept-encoding': 'gzip, deflate', 'connection': 'keep-alive', 'user-agent': 'python-httpx/0.16.1', 'content-length': '342', 'content-type': 'application/json'}, 'data': '{\"message\": {\"query_graph\": {\"nodes\": {\"n0\": {\"category\": \"biolink:ChemicalSubstance\", \"is_set\": false, \"name\": \"Chemical Substance\", \"id\": \"CHEBI:24996\"}, \"n1\": {\"category\": \"biolink:ChemicalSubstance\", \"is_set\": false, \"name\": \"Chemical Substance\"}}, \"edges\": {\"e0\": {\"subject\": \"n0\", \"object\": \"n1\", \"predicate\": \"biolink:preceded_by\"}}}}}'}, 'response': {'status_code': 504, 'headers': {'server': 'nginx/1.19.1', 'date': 'Tue, 01 Jun 2021 14:33:55 GMT', 'content-type': 'text/html', 'content-length': '167', 'connection': 'keep-alive', 'strict-transport-security': 'max-age=15724800; includeSubDomains'}, 'data': '<html>\\r\\n<head><title>504 Gateway Time-out</title></head>\\r\\n<body>\\r\\n<center><h1>504 Gateway Time-out</h1></center>\\r\\n<hr><center>nginx/1.19.1</center>\\r\\n</body>\\r\\n</html>\\r\\n'}}\n",
      "{'timestamp': '2021-06-01T14:33:55.934265', 'level': 'ERROR', 'code': None, 'message': 'Response Error contacting KP', 'error': '504 Server Error: Gateway Time-out for url: https://cam-kp-api-dev.renci.org/query\\nFor more information check: https://httpstatuses.com/504', 'request': {'method': 'POST', 'url': 'https://cam-kp-api-dev.renci.org/query', 'headers': {'host': 'cam-kp-api-dev.renci.org', 'accept': '*/*', 'accept-encoding': 'gzip, deflate', 'connection': 'keep-alive', 'user-agent': 'python-httpx/0.16.1', 'content-length': '345', 'content-type': 'application/json'}, 'data': '{\"message\": {\"query_graph\": {\"nodes\": {\"n0\": {\"category\": \"biolink:ChemicalSubstance\", \"is_set\": false, \"name\": \"Chemical Substance\", \"id\": \"CHEBI:24996\"}, \"n1\": {\"category\": \"biolink:ChemicalSubstance\", \"is_set\": false, \"name\": \"Chemical Substance\"}}, \"edges\": {\"e0\": {\"subject\": \"n0\", \"object\": \"n1\", \"predicate\": \"biolink:interacts_with\"}}}}}'}, 'response': {'status_code': 504, 'headers': {'server': 'nginx/1.19.1', 'date': 'Tue, 01 Jun 2021 14:33:55 GMT', 'content-type': 'text/html', 'content-length': '167', 'connection': 'keep-alive', 'strict-transport-security': 'max-age=15724800; includeSubDomains'}, 'data': '<html>\\r\\n<head><title>504 Gateway Time-out</title></head>\\r\\n<body>\\r\\n<center><h1>504 Gateway Time-out</h1></center>\\r\\n<hr><center>nginx/1.19.1</center>\\r\\n</body>\\r\\n</html>\\r\\n'}}\n",
      "{'timestamp': '2021-06-01T14:33:55.920461', 'level': 'ERROR', 'code': None, 'message': 'Response Error contacting KP', 'error': '504 Server Error: Gateway Time-out for url: https://cam-kp-api-dev.renci.org/query\\nFor more information check: https://httpstatuses.com/504', 'request': {'method': 'POST', 'url': 'https://cam-kp-api-dev.renci.org/query', 'headers': {'host': 'cam-kp-api-dev.renci.org', 'accept': '*/*', 'accept-encoding': 'gzip, deflate', 'connection': 'keep-alive', 'user-agent': 'python-httpx/0.16.1', 'content-length': '351', 'content-type': 'application/json'}, 'data': '{\"message\": {\"query_graph\": {\"nodes\": {\"n0\": {\"category\": \"biolink:ChemicalSubstance\", \"is_set\": false, \"name\": \"Chemical Substance\", \"id\": \"CHEBI:24996\"}, \"n1\": {\"category\": \"biolink:ChemicalSubstance\", \"is_set\": false, \"name\": \"Chemical Substance\"}}, \"edges\": {\"e0\": {\"subject\": \"n1\", \"object\": \"n0\", \"predicate\": \"biolink:actively_involved_in\"}}}}}'}, 'response': {'status_code': 504, 'headers': {'server': 'nginx/1.19.1', 'date': 'Tue, 01 Jun 2021 14:33:55 GMT', 'content-type': 'text/html', 'content-length': '167', 'connection': 'keep-alive', 'strict-transport-security': 'max-age=15724800; includeSubDomains'}, 'data': '<html>\\r\\n<head><title>504 Gateway Time-out</title></head>\\r\\n<body>\\r\\n<center><h1>504 Gateway Time-out</h1></center>\\r\\n<hr><center>nginx/1.19.1</center>\\r\\n</body>\\r\\n</html>\\r\\n'}}\n",
      "{'timestamp': '2021-06-01T14:33:55.906234', 'level': 'ERROR', 'code': None, 'message': 'Response Error contacting KP', 'error': '504 Server Error: Gateway Time-out for url: https://cam-kp-api-dev.renci.org/query\\nFor more information check: https://httpstatuses.com/504', 'request': {'method': 'POST', 'url': 'https://cam-kp-api-dev.renci.org/query', 'headers': {'host': 'cam-kp-api-dev.renci.org', 'accept': '*/*', 'accept-encoding': 'gzip, deflate', 'connection': 'keep-alive', 'user-agent': 'python-httpx/0.16.1', 'content-length': '345', 'content-type': 'application/json'}, 'data': '{\"message\": {\"query_graph\": {\"nodes\": {\"n0\": {\"category\": \"biolink:ChemicalSubstance\", \"is_set\": false, \"name\": \"Chemical Substance\", \"id\": \"CHEBI:24996\"}, \"n1\": {\"category\": \"biolink:ChemicalSubstance\", \"is_set\": false, \"name\": \"Chemical Substance\"}}, \"edges\": {\"e0\": {\"subject\": \"n1\", \"object\": \"n0\", \"predicate\": \"biolink:interacts_with\"}}}}}'}, 'response': {'status_code': 504, 'headers': {'server': 'nginx/1.19.1', 'date': 'Tue, 01 Jun 2021 14:33:55 GMT', 'content-type': 'text/html', 'content-length': '167', 'connection': 'keep-alive', 'strict-transport-security': 'max-age=15724800; includeSubDomains'}, 'data': '<html>\\r\\n<head><title>504 Gateway Time-out</title></head>\\r\\n<body>\\r\\n<center><h1>504 Gateway Time-out</h1></center>\\r\\n<hr><center>nginx/1.19.1</center>\\r\\n</body>\\r\\n</html>\\r\\n'}}\n",
      "{'timestamp': '2021-06-01T14:33:55.892032', 'level': 'ERROR', 'code': None, 'message': 'Response Error contacting KP', 'error': '504 Server Error: Gateway Time-out for url: https://cam-kp-api-dev.renci.org/query\\nFor more information check: https://httpstatuses.com/504', 'request': {'method': 'POST', 'url': 'https://cam-kp-api-dev.renci.org/query', 'headers': {'host': 'cam-kp-api-dev.renci.org', 'accept': '*/*', 'accept-encoding': 'gzip, deflate', 'connection': 'keep-alive', 'user-agent': 'python-httpx/0.16.1', 'content-length': '341', 'content-type': 'application/json'}, 'data': '{\"message\": {\"query_graph\": {\"nodes\": {\"n0\": {\"category\": \"biolink:ChemicalSubstance\", \"is_set\": false, \"name\": \"Chemical Substance\", \"id\": \"CHEBI:24996\"}, \"n1\": {\"category\": \"biolink:ChemicalSubstance\", \"is_set\": false, \"name\": \"Chemical Substance\"}}, \"edges\": {\"e0\": {\"subject\": \"n1\", \"object\": \"n0\", \"predicate\": \"biolink:enabled_by\"}}}}}'}, 'response': {'status_code': 504, 'headers': {'server': 'nginx/1.19.1', 'date': 'Tue, 01 Jun 2021 14:33:55 GMT', 'content-type': 'text/html', 'content-length': '167', 'connection': 'keep-alive', 'strict-transport-security': 'max-age=15724800; includeSubDomains'}, 'data': '<html>\\r\\n<head><title>504 Gateway Time-out</title></head>\\r\\n<body>\\r\\n<center><h1>504 Gateway Time-out</h1></center>\\r\\n<hr><center>nginx/1.19.1</center>\\r\\n</body>\\r\\n</html>\\r\\n'}}\n",
      "{'timestamp': '2021-06-01T14:33:55.878065', 'level': 'ERROR', 'code': None, 'message': 'Response Error contacting KP', 'error': '504 Server Error: Gateway Time-out for url: https://cam-kp-api-dev.renci.org/query\\nFor more information check: https://httpstatuses.com/504', 'request': {'method': 'POST', 'url': 'https://cam-kp-api-dev.renci.org/query', 'headers': {'host': 'cam-kp-api-dev.renci.org', 'accept': '*/*', 'accept-encoding': 'gzip, deflate', 'connection': 'keep-alive', 'user-agent': 'python-httpx/0.16.1', 'content-length': '339', 'content-type': 'application/json'}, 'data': '{\"message\": {\"query_graph\": {\"nodes\": {\"n0\": {\"category\": \"biolink:ChemicalSubstance\", \"is_set\": false, \"name\": \"Chemical Substance\", \"id\": \"CHEBI:24996\"}, \"n1\": {\"category\": \"biolink:ChemicalSubstance\", \"is_set\": false, \"name\": \"Chemical Substance\"}}, \"edges\": {\"e0\": {\"subject\": \"n1\", \"object\": \"n0\", \"predicate\": \"biolink:overlaps\"}}}}}'}, 'response': {'status_code': 504, 'headers': {'server': 'nginx/1.19.1', 'date': 'Tue, 01 Jun 2021 14:33:55 GMT', 'content-type': 'text/html', 'content-length': '167', 'connection': 'keep-alive', 'strict-transport-security': 'max-age=15724800; includeSubDomains'}, 'data': '<html>\\r\\n<head><title>504 Gateway Time-out</title></head>\\r\\n<body>\\r\\n<center><h1>504 Gateway Time-out</h1></center>\\r\\n<hr><center>nginx/1.19.1</center>\\r\\n</body>\\r\\n</html>\\r\\n'}}\n",
      "{'timestamp': '2021-06-01T14:33:55.860501', 'level': 'ERROR', 'code': None, 'message': 'Response Error contacting KP', 'error': '504 Server Error: Gateway Time-out for url: https://cam-kp-api-dev.renci.org/query\\nFor more information check: https://httpstatuses.com/504', 'request': {'method': 'POST', 'url': 'https://cam-kp-api-dev.renci.org/query', 'headers': {'host': 'cam-kp-api-dev.renci.org', 'accept': '*/*', 'accept-encoding': 'gzip, deflate', 'connection': 'keep-alive', 'user-agent': 'python-httpx/0.16.1', 'content-length': '339', 'content-type': 'application/json'}, 'data': '{\"message\": {\"query_graph\": {\"nodes\": {\"n0\": {\"category\": \"biolink:ChemicalSubstance\", \"is_set\": false, \"name\": \"Chemical Substance\", \"id\": \"CHEBI:24996\"}, \"n1\": {\"category\": \"biolink:ChemicalSubstance\", \"is_set\": false, \"name\": \"Chemical Substance\"}}, \"edges\": {\"e0\": {\"subject\": \"n0\", \"object\": \"n1\", \"predicate\": \"biolink:has_part\"}}}}}'}, 'response': {'status_code': 504, 'headers': {'server': 'nginx/1.19.1', 'date': 'Tue, 01 Jun 2021 14:33:55 GMT', 'content-type': 'text/html', 'content-length': '167', 'connection': 'keep-alive', 'strict-transport-security': 'max-age=15724800; includeSubDomains'}, 'data': '<html>\\r\\n<head><title>504 Gateway Time-out</title></head>\\r\\n<body>\\r\\n<center><h1>504 Gateway Time-out</h1></center>\\r\\n<hr><center>nginx/1.19.1</center>\\r\\n</body>\\r\\n</html>\\r\\n'}}\n",
      "{'timestamp': '2021-06-01T14:33:55.846960', 'level': 'ERROR', 'code': None, 'message': 'Response Error contacting KP', 'error': '504 Server Error: Gateway Time-out for url: https://cam-kp-api-dev.renci.org/query\\nFor more information check: https://httpstatuses.com/504', 'request': {'method': 'POST', 'url': 'https://cam-kp-api-dev.renci.org/query', 'headers': {'host': 'cam-kp-api-dev.renci.org', 'accept': '*/*', 'accept-encoding': 'gzip, deflate', 'connection': 'keep-alive', 'user-agent': 'python-httpx/0.16.1', 'content-length': '346', 'content-type': 'application/json'}, 'data': '{\"message\": {\"query_graph\": {\"nodes\": {\"n0\": {\"category\": \"biolink:ChemicalSubstance\", \"is_set\": false, \"name\": \"Chemical Substance\", \"id\": \"CHEBI:24996\"}, \"n1\": {\"category\": \"biolink:ChemicalSubstance\", \"is_set\": false, \"name\": \"Chemical Substance\"}}, \"edges\": {\"e0\": {\"subject\": \"n0\", \"object\": \"n1\", \"predicate\": \"biolink:participates_in\"}}}}}'}, 'response': {'status_code': 504, 'headers': {'server': 'nginx/1.19.1', 'date': 'Tue, 01 Jun 2021 14:33:55 GMT', 'content-type': 'text/html', 'content-length': '167', 'connection': 'keep-alive', 'strict-transport-security': 'max-age=15724800; includeSubDomains'}, 'data': '<html>\\r\\n<head><title>504 Gateway Time-out</title></head>\\r\\n<body>\\r\\n<center><h1>504 Gateway Time-out</h1></center>\\r\\n<hr><center>nginx/1.19.1</center>\\r\\n</body>\\r\\n</html>\\r\\n'}}\n",
      "{'timestamp': '2021-06-01T14:33:55.833119', 'level': 'ERROR', 'code': None, 'message': 'Response Error contacting KP', 'error': '504 Server Error: Gateway Time-out for url: https://cam-kp-api-dev.renci.org/query\\nFor more information check: https://httpstatuses.com/504', 'request': {'method': 'POST', 'url': 'https://cam-kp-api-dev.renci.org/query', 'headers': {'host': 'cam-kp-api-dev.renci.org', 'accept': '*/*', 'accept-encoding': 'gzip, deflate', 'connection': 'keep-alive', 'user-agent': 'python-httpx/0.16.1', 'content-length': '340', 'content-type': 'application/json'}, 'data': '{\"message\": {\"query_graph\": {\"nodes\": {\"n0\": {\"category\": \"biolink:ChemicalSubstance\", \"is_set\": false, \"name\": \"Chemical Substance\", \"id\": \"CHEBI:24996\"}, \"n1\": {\"category\": \"biolink:ChemicalSubstance\", \"is_set\": false, \"name\": \"Chemical Substance\"}}, \"edges\": {\"e0\": {\"subject\": \"n1\", \"object\": \"n0\", \"predicate\": \"biolink:occurs_in\"}}}}}'}, 'response': {'status_code': 504, 'headers': {'server': 'nginx/1.19.1', 'date': 'Tue, 01 Jun 2021 14:33:55 GMT', 'content-type': 'text/html', 'content-length': '167', 'connection': 'keep-alive', 'strict-transport-security': 'max-age=15724800; includeSubDomains'}, 'data': '<html>\\r\\n<head><title>504 Gateway Time-out</title></head>\\r\\n<body>\\r\\n<center><h1>504 Gateway Time-out</h1></center>\\r\\n<hr><center>nginx/1.19.1</center>\\r\\n</body>\\r\\n</html>\\r\\n'}}\n",
      "{'timestamp': '2021-06-01T14:33:55.819218', 'level': 'ERROR', 'code': None, 'message': 'Response Error contacting KP', 'error': '504 Server Error: Gateway Time-out for url: https://cam-kp-api-dev.renci.org/query\\nFor more information check: https://httpstatuses.com/504', 'request': {'method': 'POST', 'url': 'https://cam-kp-api-dev.renci.org/query', 'headers': {'host': 'cam-kp-api-dev.renci.org', 'accept': '*/*', 'accept-encoding': 'gzip, deflate', 'connection': 'keep-alive', 'user-agent': 'python-httpx/0.16.1', 'content-length': '352', 'content-type': 'application/json'}, 'data': '{\"message\": {\"query_graph\": {\"nodes\": {\"n0\": {\"category\": \"biolink:ChemicalSubstance\", \"is_set\": false, \"name\": \"Chemical Substance\", \"id\": \"CHEBI:24996\"}, \"n1\": {\"category\": \"biolink:ChemicalSubstance\", \"is_set\": false, \"name\": \"Chemical Substance\"}}, \"edges\": {\"e0\": {\"subject\": \"n1\", \"object\": \"n0\", \"predicate\": \"biolink:temporally_related_to\"}}}}}'}, 'response': {'status_code': 504, 'headers': {'server': 'nginx/1.19.1', 'date': 'Tue, 01 Jun 2021 14:33:55 GMT', 'content-type': 'text/html', 'content-length': '167', 'connection': 'keep-alive', 'strict-transport-security': 'max-age=15724800; includeSubDomains'}, 'data': '<html>\\r\\n<head><title>504 Gateway Time-out</title></head>\\r\\n<body>\\r\\n<center><h1>504 Gateway Time-out</h1></center>\\r\\n<hr><center>nginx/1.19.1</center>\\r\\n</body>\\r\\n</html>\\r\\n'}}\n",
      "{'timestamp': '2021-06-01T14:33:55.805256', 'level': 'ERROR', 'code': None, 'message': 'Response Error contacting KP', 'error': '504 Server Error: Gateway Time-out for url: https://cam-kp-api-dev.renci.org/query\\nFor more information check: https://httpstatuses.com/504', 'request': {'method': 'POST', 'url': 'https://cam-kp-api-dev.renci.org/query', 'headers': {'host': 'cam-kp-api-dev.renci.org', 'accept': '*/*', 'accept-encoding': 'gzip, deflate', 'connection': 'keep-alive', 'user-agent': 'python-httpx/0.16.1', 'content-length': '346', 'content-type': 'application/json'}, 'data': '{\"message\": {\"query_graph\": {\"nodes\": {\"n0\": {\"category\": \"biolink:ChemicalSubstance\", \"is_set\": false, \"name\": \"Chemical Substance\", \"id\": \"CHEBI:24996\"}, \"n1\": {\"category\": \"biolink:ChemicalSubstance\", \"is_set\": false, \"name\": \"Chemical Substance\"}}, \"edges\": {\"e0\": {\"subject\": \"n1\", \"object\": \"n0\", \"predicate\": \"biolink:has_participant\"}}}}}'}, 'response': {'status_code': 504, 'headers': {'server': 'nginx/1.19.1', 'date': 'Tue, 01 Jun 2021 14:33:55 GMT', 'content-type': 'text/html', 'content-length': '167', 'connection': 'keep-alive', 'strict-transport-security': 'max-age=15724800; includeSubDomains'}, 'data': '<html>\\r\\n<head><title>504 Gateway Time-out</title></head>\\r\\n<body>\\r\\n<center><h1>504 Gateway Time-out</h1></center>\\r\\n<hr><center>nginx/1.19.1</center>\\r\\n</body>\\r\\n</html>\\r\\n'}}\n",
      "{'timestamp': '2021-06-01T14:33:55.790479', 'level': 'ERROR', 'code': None, 'message': 'Response Error contacting KP', 'error': '504 Server Error: Gateway Time-out for url: https://cam-kp-api-dev.renci.org/query\\nFor more information check: https://httpstatuses.com/504', 'request': {'method': 'POST', 'url': 'https://cam-kp-api-dev.renci.org/query', 'headers': {'host': 'cam-kp-api-dev.renci.org', 'accept': '*/*', 'accept-encoding': 'gzip, deflate', 'connection': 'keep-alive', 'user-agent': 'python-httpx/0.16.1', 'content-length': '350', 'content-type': 'application/json'}, 'data': '{\"message\": {\"query_graph\": {\"nodes\": {\"n0\": {\"category\": \"biolink:ChemicalSubstance\", \"is_set\": false, \"name\": \"Chemical Substance\", \"id\": \"CHEBI:24996\"}, \"n1\": {\"category\": \"biolink:ChemicalSubstance\", \"is_set\": false, \"name\": \"Chemical Substance\"}}, \"edges\": {\"e0\": {\"subject\": \"n0\", \"object\": \"n1\", \"predicate\": \"biolink:affects_activity_of\"}}}}}'}, 'response': {'status_code': 504, 'headers': {'server': 'nginx/1.19.1', 'date': 'Tue, 01 Jun 2021 14:33:55 GMT', 'content-type': 'text/html', 'content-length': '167', 'connection': 'keep-alive', 'strict-transport-security': 'max-age=15724800; includeSubDomains'}, 'data': '<html>\\r\\n<head><title>504 Gateway Time-out</title></head>\\r\\n<body>\\r\\n<center><h1>504 Gateway Time-out</h1></center>\\r\\n<hr><center>nginx/1.19.1</center>\\r\\n</body>\\r\\n</html>\\r\\n'}}\n",
      "{'timestamp': '2021-06-01T14:33:55.776724', 'level': 'ERROR', 'code': None, 'message': 'Response Error contacting KP', 'error': '504 Server Error: Gateway Time-out for url: https://cam-kp-api-dev.renci.org/query\\nFor more information check: https://httpstatuses.com/504', 'request': {'method': 'POST', 'url': 'https://cam-kp-api-dev.renci.org/query', 'headers': {'host': 'cam-kp-api-dev.renci.org', 'accept': '*/*', 'accept-encoding': 'gzip, deflate', 'connection': 'keep-alive', 'user-agent': 'python-httpx/0.16.1', 'content-length': '367', 'content-type': 'application/json'}, 'data': '{\"message\": {\"query_graph\": {\"nodes\": {\"n0\": {\"category\": \"biolink:ChemicalSubstance\", \"is_set\": false, \"name\": \"Chemical Substance\", \"id\": \"CHEBI:24996\"}, \"n1\": {\"category\": \"biolink:ChemicalSubstance\", \"is_set\": false, \"name\": \"Chemical Substance\"}}, \"edges\": {\"e0\": {\"subject\": \"n1\", \"object\": \"n0\", \"predicate\": \"biolink:process_positively_regulates_process\"}}}}}'}, 'response': {'status_code': 504, 'headers': {'server': 'nginx/1.19.1', 'date': 'Tue, 01 Jun 2021 14:33:55 GMT', 'content-type': 'text/html', 'content-length': '167', 'connection': 'keep-alive', 'strict-transport-security': 'max-age=15724800; includeSubDomains'}, 'data': '<html>\\r\\n<head><title>504 Gateway Time-out</title></head>\\r\\n<body>\\r\\n<center><h1>504 Gateway Time-out</h1></center>\\r\\n<hr><center>nginx/1.19.1</center>\\r\\n</body>\\r\\n</html>\\r\\n'}}\n",
      "{'timestamp': '2021-06-01T14:33:55.763135', 'level': 'ERROR', 'code': None, 'message': 'Response Error contacting KP', 'error': '504 Server Error: Gateway Time-out for url: https://cam-kp-api-dev.renci.org/query\\nFor more information check: https://httpstatuses.com/504', 'request': {'method': 'POST', 'url': 'https://cam-kp-api-dev.renci.org/query', 'headers': {'host': 'cam-kp-api-dev.renci.org', 'accept': '*/*', 'accept-encoding': 'gzip, deflate', 'connection': 'keep-alive', 'user-agent': 'python-httpx/0.16.1', 'content-length': '341', 'content-type': 'application/json'}, 'data': '{\"message\": {\"query_graph\": {\"nodes\": {\"n0\": {\"category\": \"biolink:ChemicalSubstance\", \"is_set\": false, \"name\": \"Chemical Substance\", \"id\": \"CHEBI:24996\"}, \"n1\": {\"category\": \"biolink:ChemicalSubstance\", \"is_set\": false, \"name\": \"Chemical Substance\"}}, \"edges\": {\"e0\": {\"subject\": \"n0\", \"object\": \"n1\", \"predicate\": \"biolink:enabled_by\"}}}}}'}, 'response': {'status_code': 504, 'headers': {'server': 'nginx/1.19.1', 'date': 'Tue, 01 Jun 2021 14:33:55 GMT', 'content-type': 'text/html', 'content-length': '167', 'connection': 'keep-alive', 'strict-transport-security': 'max-age=15724800; includeSubDomains'}, 'data': '<html>\\r\\n<head><title>504 Gateway Time-out</title></head>\\r\\n<body>\\r\\n<center><h1>504 Gateway Time-out</h1></center>\\r\\n<hr><center>nginx/1.19.1</center>\\r\\n</body>\\r\\n</html>\\r\\n'}}\n",
      "{'timestamp': '2021-06-01T14:33:55.749220', 'level': 'ERROR', 'code': None, 'message': 'Response Error contacting KP', 'error': '504 Server Error: Gateway Time-out for url: https://cam-kp-api-dev.renci.org/query\\nFor more information check: https://httpstatuses.com/504', 'request': {'method': 'POST', 'url': 'https://cam-kp-api-dev.renci.org/query', 'headers': {'host': 'cam-kp-api-dev.renci.org', 'accept': '*/*', 'accept-encoding': 'gzip, deflate', 'connection': 'keep-alive', 'user-agent': 'python-httpx/0.16.1', 'content-length': '351', 'content-type': 'application/json'}, 'data': '{\"message\": {\"query_graph\": {\"nodes\": {\"n0\": {\"category\": \"biolink:ChemicalSubstance\", \"is_set\": false, \"name\": \"Chemical Substance\", \"id\": \"CHEBI:24996\"}, \"n1\": {\"category\": \"biolink:ChemicalSubstance\", \"is_set\": false, \"name\": \"Chemical Substance\"}}, \"edges\": {\"e0\": {\"subject\": \"n0\", \"object\": \"n1\", \"predicate\": \"biolink:actively_involved_in\"}}}}}'}, 'response': {'status_code': 504, 'headers': {'server': 'nginx/1.19.1', 'date': 'Tue, 01 Jun 2021 14:33:55 GMT', 'content-type': 'text/html', 'content-length': '167', 'connection': 'keep-alive', 'strict-transport-security': 'max-age=15724800; includeSubDomains'}, 'data': '<html>\\r\\n<head><title>504 Gateway Time-out</title></head>\\r\\n<body>\\r\\n<center><h1>504 Gateway Time-out</h1></center>\\r\\n<hr><center>nginx/1.19.1</center>\\r\\n</body>\\r\\n</html>\\r\\n'}}\n",
      "{'timestamp': '2021-06-01T14:33:55.735393', 'level': 'ERROR', 'code': None, 'message': 'Response Error contacting KP', 'error': '504 Server Error: Gateway Time-out for url: https://cam-kp-api-dev.renci.org/query\\nFor more information check: https://httpstatuses.com/504', 'request': {'method': 'POST', 'url': 'https://cam-kp-api-dev.renci.org/query', 'headers': {'host': 'cam-kp-api-dev.renci.org', 'accept': '*/*', 'accept-encoding': 'gzip, deflate', 'connection': 'keep-alive', 'user-agent': 'python-httpx/0.16.1', 'content-length': '340', 'content-type': 'application/json'}, 'data': '{\"message\": {\"query_graph\": {\"nodes\": {\"n0\": {\"category\": \"biolink:ChemicalSubstance\", \"is_set\": false, \"name\": \"Chemical Substance\", \"id\": \"CHEBI:24996\"}, \"n1\": {\"category\": \"biolink:ChemicalSubstance\", \"is_set\": false, \"name\": \"Chemical Substance\"}}, \"edges\": {\"e0\": {\"subject\": \"n0\", \"object\": \"n1\", \"predicate\": \"biolink:occurs_in\"}}}}}'}, 'response': {'status_code': 504, 'headers': {'server': 'nginx/1.19.1', 'date': 'Tue, 01 Jun 2021 14:33:55 GMT', 'content-type': 'text/html', 'content-length': '167', 'connection': 'keep-alive', 'strict-transport-security': 'max-age=15724800; includeSubDomains'}, 'data': '<html>\\r\\n<head><title>504 Gateway Time-out</title></head>\\r\\n<body>\\r\\n<center><h1>504 Gateway Time-out</h1></center>\\r\\n<hr><center>nginx/1.19.1</center>\\r\\n</body>\\r\\n</html>\\r\\n'}}\n",
      "{'timestamp': '2021-06-01T14:33:55.721685', 'level': 'ERROR', 'code': None, 'message': 'Response Error contacting KP', 'error': '504 Server Error: Gateway Time-out for url: https://cam-kp-api-dev.renci.org/query\\nFor more information check: https://httpstatuses.com/504', 'request': {'method': 'POST', 'url': 'https://cam-kp-api-dev.renci.org/query', 'headers': {'host': 'cam-kp-api-dev.renci.org', 'accept': '*/*', 'accept-encoding': 'gzip, deflate', 'connection': 'keep-alive', 'user-agent': 'python-httpx/0.16.1', 'content-length': '338', 'content-type': 'application/json'}, 'data': '{\"message\": {\"query_graph\": {\"nodes\": {\"n0\": {\"category\": \"biolink:ChemicalSubstance\", \"is_set\": false, \"name\": \"Chemical Substance\", \"id\": \"CHEBI:24996\"}, \"n1\": {\"category\": \"biolink:ChemicalSubstance\", \"is_set\": false, \"name\": \"Chemical Substance\"}}, \"edges\": {\"e0\": {\"subject\": \"n0\", \"object\": \"n1\", \"predicate\": \"biolink:enables\"}}}}}'}, 'response': {'status_code': 504, 'headers': {'server': 'nginx/1.19.1', 'date': 'Tue, 01 Jun 2021 14:33:55 GMT', 'content-type': 'text/html', 'content-length': '167', 'connection': 'keep-alive', 'strict-transport-security': 'max-age=15724800; includeSubDomains'}, 'data': '<html>\\r\\n<head><title>504 Gateway Time-out</title></head>\\r\\n<body>\\r\\n<center><h1>504 Gateway Time-out</h1></center>\\r\\n<hr><center>nginx/1.19.1</center>\\r\\n</body>\\r\\n</html>\\r\\n'}}\n",
      "{'timestamp': '2021-06-01T14:33:55.708248', 'level': 'ERROR', 'code': None, 'message': 'Response Error contacting KP', 'error': '504 Server Error: Gateway Time-out for url: https://cam-kp-api-dev.renci.org/query\\nFor more information check: https://httpstatuses.com/504', 'request': {'method': 'POST', 'url': 'https://cam-kp-api-dev.renci.org/query', 'headers': {'host': 'cam-kp-api-dev.renci.org', 'accept': '*/*', 'accept-encoding': 'gzip, deflate', 'connection': 'keep-alive', 'user-agent': 'python-httpx/0.16.1', 'content-length': '341', 'content-type': 'application/json'}, 'data': '{\"message\": {\"query_graph\": {\"nodes\": {\"n0\": {\"category\": \"biolink:ChemicalSubstance\", \"is_set\": false, \"name\": \"Chemical Substance\", \"id\": \"CHEBI:24996\"}, \"n1\": {\"category\": \"biolink:ChemicalSubstance\", \"is_set\": false, \"name\": \"Chemical Substance\"}}, \"edges\": {\"e0\": {\"subject\": \"n0\", \"object\": \"n1\", \"predicate\": \"biolink:related_to\"}}}}}'}, 'response': {'status_code': 504, 'headers': {'server': 'nginx/1.19.1', 'date': 'Tue, 01 Jun 2021 14:33:55 GMT', 'content-type': 'text/html', 'content-length': '167', 'connection': 'keep-alive', 'strict-transport-security': 'max-age=15724800; includeSubDomains'}, 'data': '<html>\\r\\n<head><title>504 Gateway Time-out</title></head>\\r\\n<body>\\r\\n<center><h1>504 Gateway Time-out</h1></center>\\r\\n<hr><center>nginx/1.19.1</center>\\r\\n</body>\\r\\n</html>\\r\\n'}}\n",
      "{'timestamp': '2021-06-01T14:33:55.694867', 'level': 'ERROR', 'code': None, 'message': 'Response Error contacting KP', 'error': '504 Server Error: Gateway Time-out for url: https://cam-kp-api-dev.renci.org/query\\nFor more information check: https://httpstatuses.com/504', 'request': {'method': 'POST', 'url': 'https://cam-kp-api-dev.renci.org/query', 'headers': {'host': 'cam-kp-api-dev.renci.org', 'accept': '*/*', 'accept-encoding': 'gzip, deflate', 'connection': 'keep-alive', 'user-agent': 'python-httpx/0.16.1', 'content-length': '340', 'content-type': 'application/json'}, 'data': '{\"message\": {\"query_graph\": {\"nodes\": {\"n0\": {\"category\": \"biolink:ChemicalSubstance\", \"is_set\": false, \"name\": \"Chemical Substance\", \"id\": \"CHEBI:24996\"}, \"n1\": {\"category\": \"biolink:ChemicalSubstance\", \"is_set\": false, \"name\": \"Chemical Substance\"}}, \"edges\": {\"e0\": {\"subject\": \"n0\", \"object\": \"n1\", \"predicate\": \"biolink:caused_by\"}}}}}'}, 'response': {'status_code': 504, 'headers': {'server': 'nginx/1.19.1', 'date': 'Tue, 01 Jun 2021 14:33:55 GMT', 'content-type': 'text/html', 'content-length': '167', 'connection': 'keep-alive', 'strict-transport-security': 'max-age=15724800; includeSubDomains'}, 'data': '<html>\\r\\n<head><title>504 Gateway Time-out</title></head>\\r\\n<body>\\r\\n<center><h1>504 Gateway Time-out</h1></center>\\r\\n<hr><center>nginx/1.19.1</center>\\r\\n</body>\\r\\n</html>\\r\\n'}}\n",
      "{'timestamp': '2021-06-01T14:33:55.680994', 'level': 'ERROR', 'code': None, 'message': 'Response Error contacting KP', 'error': '504 Server Error: Gateway Time-out for url: https://cam-kp-api-dev.renci.org/query\\nFor more information check: https://httpstatuses.com/504', 'request': {'method': 'POST', 'url': 'https://cam-kp-api-dev.renci.org/query', 'headers': {'host': 'cam-kp-api-dev.renci.org', 'accept': '*/*', 'accept-encoding': 'gzip, deflate', 'connection': 'keep-alive', 'user-agent': 'python-httpx/0.16.1', 'content-length': '338', 'content-type': 'application/json'}, 'data': '{\"message\": {\"query_graph\": {\"nodes\": {\"n0\": {\"category\": \"biolink:ChemicalSubstance\", \"is_set\": false, \"name\": \"Chemical Substance\", \"id\": \"CHEBI:24996\"}, \"n1\": {\"category\": \"biolink:ChemicalSubstance\", \"is_set\": false, \"name\": \"Chemical Substance\"}}, \"edges\": {\"e0\": {\"subject\": \"n1\", \"object\": \"n0\", \"predicate\": \"biolink:part_of\"}}}}}'}, 'response': {'status_code': 504, 'headers': {'server': 'nginx/1.19.1', 'date': 'Tue, 01 Jun 2021 14:33:55 GMT', 'content-type': 'text/html', 'content-length': '167', 'connection': 'keep-alive', 'strict-transport-security': 'max-age=15724800; includeSubDomains'}, 'data': '<html>\\r\\n<head><title>504 Gateway Time-out</title></head>\\r\\n<body>\\r\\n<center><h1>504 Gateway Time-out</h1></center>\\r\\n<hr><center>nginx/1.19.1</center>\\r\\n</body>\\r\\n</html>\\r\\n'}}\n",
      "{'timestamp': '2021-06-01T14:33:55.667032', 'level': 'ERROR', 'code': None, 'message': 'Response Error contacting KP', 'error': '504 Server Error: Gateway Time-out for url: https://cam-kp-api-dev.renci.org/query\\nFor more information check: https://httpstatuses.com/504', 'request': {'method': 'POST', 'url': 'https://cam-kp-api-dev.renci.org/query', 'headers': {'host': 'cam-kp-api-dev.renci.org', 'accept': '*/*', 'accept-encoding': 'gzip, deflate', 'connection': 'keep-alive', 'user-agent': 'python-httpx/0.16.1', 'content-length': '346', 'content-type': 'application/json'}, 'data': '{\"message\": {\"query_graph\": {\"nodes\": {\"n0\": {\"category\": \"biolink:ChemicalSubstance\", \"is_set\": false, \"name\": \"Chemical Substance\", \"id\": \"CHEBI:24996\"}, \"n1\": {\"category\": \"biolink:ChemicalSubstance\", \"is_set\": false, \"name\": \"Chemical Substance\"}}, \"edges\": {\"e0\": {\"subject\": \"n0\", \"object\": \"n1\", \"predicate\": \"biolink:has_participant\"}}}}}'}, 'response': {'status_code': 504, 'headers': {'server': 'nginx/1.19.1', 'date': 'Tue, 01 Jun 2021 14:33:55 GMT', 'content-type': 'text/html', 'content-length': '167', 'connection': 'keep-alive', 'strict-transport-security': 'max-age=15724800; includeSubDomains'}, 'data': '<html>\\r\\n<head><title>504 Gateway Time-out</title></head>\\r\\n<body>\\r\\n<center><h1>504 Gateway Time-out</h1></center>\\r\\n<hr><center>nginx/1.19.1</center>\\r\\n</body>\\r\\n</html>\\r\\n'}}\n",
      "{'timestamp': '2021-06-01T14:33:55.653005', 'level': 'ERROR', 'code': None, 'message': 'Response Error contacting KP', 'error': '504 Server Error: Gateway Time-out for url: https://cam-kp-api-dev.renci.org/query\\nFor more information check: https://httpstatuses.com/504', 'request': {'method': 'POST', 'url': 'https://cam-kp-api-dev.renci.org/query', 'headers': {'host': 'cam-kp-api-dev.renci.org', 'accept': '*/*', 'accept-encoding': 'gzip, deflate', 'connection': 'keep-alive', 'user-agent': 'python-httpx/0.16.1', 'content-length': '342', 'content-type': 'application/json'}, 'data': '{\"message\": {\"query_graph\": {\"nodes\": {\"n0\": {\"category\": \"biolink:ChemicalSubstance\", \"is_set\": false, \"name\": \"Chemical Substance\", \"id\": \"CHEBI:24996\"}, \"n1\": {\"category\": \"biolink:ChemicalSubstance\", \"is_set\": false, \"name\": \"Chemical Substance\"}}, \"edges\": {\"e0\": {\"subject\": \"n1\", \"object\": \"n0\", \"predicate\": \"biolink:preceded_by\"}}}}}'}, 'response': {'status_code': 504, 'headers': {'server': 'nginx/1.19.1', 'date': 'Tue, 01 Jun 2021 14:33:55 GMT', 'content-type': 'text/html', 'content-length': '167', 'connection': 'keep-alive', 'strict-transport-security': 'max-age=15724800; includeSubDomains'}, 'data': '<html>\\r\\n<head><title>504 Gateway Time-out</title></head>\\r\\n<body>\\r\\n<center><h1>504 Gateway Time-out</h1></center>\\r\\n<hr><center>nginx/1.19.1</center>\\r\\n</body>\\r\\n</html>\\r\\n'}}\n",
      "{'timestamp': '2021-06-01T14:33:55.638603', 'level': 'ERROR', 'code': None, 'message': 'Response Error contacting KP', 'error': '504 Server Error: Gateway Time-out for url: https://cam-kp-api-dev.renci.org/query\\nFor more information check: https://httpstatuses.com/504', 'request': {'method': 'POST', 'url': 'https://cam-kp-api-dev.renci.org/query', 'headers': {'host': 'cam-kp-api-dev.renci.org', 'accept': '*/*', 'accept-encoding': 'gzip, deflate', 'connection': 'keep-alive', 'user-agent': 'python-httpx/0.16.1', 'content-length': '350', 'content-type': 'application/json'}, 'data': '{\"message\": {\"query_graph\": {\"nodes\": {\"n0\": {\"category\": \"biolink:ChemicalSubstance\", \"is_set\": false, \"name\": \"Chemical Substance\", \"id\": \"CHEBI:24996\"}, \"n1\": {\"category\": \"biolink:ChemicalSubstance\", \"is_set\": false, \"name\": \"Chemical Substance\"}}, \"edges\": {\"e0\": {\"subject\": \"n1\", \"object\": \"n0\", \"predicate\": \"biolink:affects_activity_of\"}}}}}'}, 'response': {'status_code': 504, 'headers': {'server': 'nginx/1.19.1', 'date': 'Tue, 01 Jun 2021 14:33:55 GMT', 'content-type': 'text/html', 'content-length': '167', 'connection': 'keep-alive', 'strict-transport-security': 'max-age=15724800; includeSubDomains'}, 'data': '<html>\\r\\n<head><title>504 Gateway Time-out</title></head>\\r\\n<body>\\r\\n<center><h1>504 Gateway Time-out</h1></center>\\r\\n<hr><center>nginx/1.19.1</center>\\r\\n</body>\\r\\n</html>\\r\\n'}}\n",
      "{'timestamp': '2021-06-01T14:33:55.619113', 'level': 'ERROR', 'code': None, 'message': 'Response Error contacting KP', 'error': '504 Server Error: Gateway Time-out for url: https://cam-kp-api-dev.renci.org/query\\nFor more information check: https://httpstatuses.com/504', 'request': {'method': 'POST', 'url': 'https://cam-kp-api-dev.renci.org/query', 'headers': {'host': 'cam-kp-api-dev.renci.org', 'accept': '*/*', 'accept-encoding': 'gzip, deflate', 'connection': 'keep-alive', 'user-agent': 'python-httpx/0.16.1', 'content-length': '356', 'content-type': 'application/json'}, 'data': '{\"message\": {\"query_graph\": {\"nodes\": {\"n0\": {\"category\": \"biolink:ChemicalSubstance\", \"is_set\": false, \"name\": \"Chemical Substance\", \"id\": \"CHEBI:24996\"}, \"n1\": {\"category\": \"biolink:ChemicalSubstance\", \"is_set\": false, \"name\": \"Chemical Substance\"}}, \"edges\": {\"e0\": {\"subject\": \"n1\", \"object\": \"n0\", \"predicate\": \"biolink:physically_interacts_with\"}}}}}'}, 'response': {'status_code': 504, 'headers': {'server': 'nginx/1.19.1', 'date': 'Tue, 01 Jun 2021 14:33:55 GMT', 'content-type': 'text/html', 'content-length': '167', 'connection': 'keep-alive', 'strict-transport-security': 'max-age=15724800; includeSubDomains'}, 'data': '<html>\\r\\n<head><title>504 Gateway Time-out</title></head>\\r\\n<body>\\r\\n<center><h1>504 Gateway Time-out</h1></center>\\r\\n<hr><center>nginx/1.19.1</center>\\r\\n</body>\\r\\n</html>\\r\\n'}}\n",
      "{'timestamp': '2021-06-01T14:33:55.600942', 'level': 'ERROR', 'code': None, 'message': 'Response Error contacting KP', 'error': '504 Server Error: Gateway Time-out for url: https://cam-kp-api-dev.renci.org/query\\nFor more information check: https://httpstatuses.com/504', 'request': {'method': 'POST', 'url': 'https://cam-kp-api-dev.renci.org/query', 'headers': {'host': 'cam-kp-api-dev.renci.org', 'accept': '*/*', 'accept-encoding': 'gzip, deflate', 'connection': 'keep-alive', 'user-agent': 'python-httpx/0.16.1', 'content-length': '339', 'content-type': 'application/json'}, 'data': '{\"message\": {\"query_graph\": {\"nodes\": {\"n0\": {\"category\": \"biolink:ChemicalSubstance\", \"is_set\": false, \"name\": \"Chemical Substance\", \"id\": \"CHEBI:24996\"}, \"n1\": {\"category\": \"biolink:ChemicalSubstance\", \"is_set\": false, \"name\": \"Chemical Substance\"}}, \"edges\": {\"e0\": {\"subject\": \"n0\", \"object\": \"n1\", \"predicate\": \"biolink:overlaps\"}}}}}'}, 'response': {'status_code': 504, 'headers': {'server': 'nginx/1.19.1', 'date': 'Tue, 01 Jun 2021 14:33:55 GMT', 'content-type': 'text/html', 'content-length': '167', 'connection': 'keep-alive', 'strict-transport-security': 'max-age=15724800; includeSubDomains'}, 'data': '<html>\\r\\n<head><title>504 Gateway Time-out</title></head>\\r\\n<body>\\r\\n<center><h1>504 Gateway Time-out</h1></center>\\r\\n<hr><center>nginx/1.19.1</center>\\r\\n</body>\\r\\n</html>\\r\\n'}}\n",
      "{'timestamp': '2021-06-01T14:33:55.581022', 'level': 'ERROR', 'code': None, 'message': 'Response Error contacting KP', 'error': '504 Server Error: Gateway Time-out for url: https://cam-kp-api-dev.renci.org/query\\nFor more information check: https://httpstatuses.com/504', 'request': {'method': 'POST', 'url': 'https://cam-kp-api-dev.renci.org/query', 'headers': {'host': 'cam-kp-api-dev.renci.org', 'accept': '*/*', 'accept-encoding': 'gzip, deflate', 'connection': 'keep-alive', 'user-agent': 'python-httpx/0.16.1', 'content-length': '338', 'content-type': 'application/json'}, 'data': '{\"message\": {\"query_graph\": {\"nodes\": {\"n0\": {\"category\": \"biolink:ChemicalSubstance\", \"is_set\": false, \"name\": \"Chemical Substance\", \"id\": \"CHEBI:24996\"}, \"n1\": {\"category\": \"biolink:ChemicalSubstance\", \"is_set\": false, \"name\": \"Chemical Substance\"}}, \"edges\": {\"e0\": {\"subject\": \"n0\", \"object\": \"n1\", \"predicate\": \"biolink:part_of\"}}}}}'}, 'response': {'status_code': 504, 'headers': {'server': 'nginx/1.19.1', 'date': 'Tue, 01 Jun 2021 14:33:55 GMT', 'content-type': 'text/html', 'content-length': '167', 'connection': 'keep-alive', 'strict-transport-security': 'max-age=15724800; includeSubDomains'}, 'data': '<html>\\r\\n<head><title>504 Gateway Time-out</title></head>\\r\\n<body>\\r\\n<center><h1>504 Gateway Time-out</h1></center>\\r\\n<hr><center>nginx/1.19.1</center>\\r\\n</body>\\r\\n</html>\\r\\n'}}\n",
      "{'timestamp': '2021-06-01T14:33:55.567641', 'level': 'ERROR', 'code': None, 'message': 'Response Error contacting KP', 'error': '504 Server Error: Gateway Time-out for url: https://cam-kp-api-dev.renci.org/query\\nFor more information check: https://httpstatuses.com/504', 'request': {'method': 'POST', 'url': 'https://cam-kp-api-dev.renci.org/query', 'headers': {'host': 'cam-kp-api-dev.renci.org', 'accept': '*/*', 'accept-encoding': 'gzip, deflate', 'connection': 'keep-alive', 'user-agent': 'python-httpx/0.16.1', 'content-length': '367', 'content-type': 'application/json'}, 'data': '{\"message\": {\"query_graph\": {\"nodes\": {\"n0\": {\"category\": \"biolink:ChemicalSubstance\", \"is_set\": false, \"name\": \"Chemical Substance\", \"id\": \"CHEBI:24996\"}, \"n1\": {\"category\": \"biolink:ChemicalSubstance\", \"is_set\": false, \"name\": \"Chemical Substance\"}}, \"edges\": {\"e0\": {\"subject\": \"n0\", \"object\": \"n1\", \"predicate\": \"biolink:process_negatively_regulates_process\"}}}}}'}, 'response': {'status_code': 504, 'headers': {'server': 'nginx/1.19.1', 'date': 'Tue, 01 Jun 2021 14:33:55 GMT', 'content-type': 'text/html', 'content-length': '167', 'connection': 'keep-alive', 'strict-transport-security': 'max-age=15724800; includeSubDomains'}, 'data': '<html>\\r\\n<head><title>504 Gateway Time-out</title></head>\\r\\n<body>\\r\\n<center><h1>504 Gateway Time-out</h1></center>\\r\\n<hr><center>nginx/1.19.1</center>\\r\\n</body>\\r\\n</html>\\r\\n'}}\n",
      "{'timestamp': '2021-06-01T14:33:55.553818', 'level': 'ERROR', 'code': None, 'message': 'Response Error contacting KP', 'error': '504 Server Error: Gateway Time-out for url: https://cam-kp-api-dev.renci.org/query\\nFor more information check: https://httpstatuses.com/504', 'request': {'method': 'POST', 'url': 'https://cam-kp-api-dev.renci.org/query', 'headers': {'host': 'cam-kp-api-dev.renci.org', 'accept': '*/*', 'accept-encoding': 'gzip, deflate', 'connection': 'keep-alive', 'user-agent': 'python-httpx/0.16.1', 'content-length': '356', 'content-type': 'application/json'}, 'data': '{\"message\": {\"query_graph\": {\"nodes\": {\"n0\": {\"category\": \"biolink:ChemicalSubstance\", \"is_set\": false, \"name\": \"Chemical Substance\", \"id\": \"CHEBI:24996\"}, \"n1\": {\"category\": \"biolink:ChemicalSubstance\", \"is_set\": false, \"name\": \"Chemical Substance\"}}, \"edges\": {\"e0\": {\"subject\": \"n0\", \"object\": \"n1\", \"predicate\": \"biolink:process_regulates_process\"}}}}}'}, 'response': {'status_code': 504, 'headers': {'server': 'nginx/1.19.1', 'date': 'Tue, 01 Jun 2021 14:33:55 GMT', 'content-type': 'text/html', 'content-length': '167', 'connection': 'keep-alive', 'strict-transport-security': 'max-age=15724800; includeSubDomains'}, 'data': '<html>\\r\\n<head><title>504 Gateway Time-out</title></head>\\r\\n<body>\\r\\n<center><h1>504 Gateway Time-out</h1></center>\\r\\n<hr><center>nginx/1.19.1</center>\\r\\n</body>\\r\\n</html>\\r\\n'}}\n",
      "{'timestamp': '2021-06-01T14:33:55.537876', 'level': 'ERROR', 'code': None, 'message': 'Response Error contacting KP', 'error': '504 Server Error: Gateway Time-out for url: https://cam-kp-api-dev.renci.org/query\\nFor more information check: https://httpstatuses.com/504', 'request': {'method': 'POST', 'url': 'https://cam-kp-api-dev.renci.org/query', 'headers': {'host': 'cam-kp-api-dev.renci.org', 'accept': '*/*', 'accept-encoding': 'gzip, deflate', 'connection': 'keep-alive', 'user-agent': 'python-httpx/0.16.1', 'content-length': '338', 'content-type': 'application/json'}, 'data': '{\"message\": {\"query_graph\": {\"nodes\": {\"n0\": {\"category\": \"biolink:ChemicalSubstance\", \"is_set\": false, \"name\": \"Chemical Substance\", \"id\": \"CHEBI:24996\"}, \"n1\": {\"category\": \"biolink:ChemicalSubstance\", \"is_set\": false, \"name\": \"Chemical Substance\"}}, \"edges\": {\"e0\": {\"subject\": \"n1\", \"object\": \"n0\", \"predicate\": \"biolink:enables\"}}}}}'}, 'response': {'status_code': 504, 'headers': {'server': 'nginx/1.19.1', 'date': 'Tue, 01 Jun 2021 14:33:55 GMT', 'content-type': 'text/html', 'content-length': '167', 'connection': 'keep-alive', 'strict-transport-security': 'max-age=15724800; includeSubDomains'}, 'data': '<html>\\r\\n<head><title>504 Gateway Time-out</title></head>\\r\\n<body>\\r\\n<center><h1>504 Gateway Time-out</h1></center>\\r\\n<hr><center>nginx/1.19.1</center>\\r\\n</body>\\r\\n</html>\\r\\n'}}\n",
      "{'timestamp': '2021-06-01T14:33:55.521531', 'level': 'ERROR', 'code': None, 'message': 'Response Error contacting KP', 'error': '504 Server Error: Gateway Time-out for url: https://cam-kp-api-dev.renci.org/query\\nFor more information check: https://httpstatuses.com/504', 'request': {'method': 'POST', 'url': 'https://cam-kp-api-dev.renci.org/query', 'headers': {'host': 'cam-kp-api-dev.renci.org', 'accept': '*/*', 'accept-encoding': 'gzip, deflate', 'connection': 'keep-alive', 'user-agent': 'python-httpx/0.16.1', 'content-length': '339', 'content-type': 'application/json'}, 'data': '{\"message\": {\"query_graph\": {\"nodes\": {\"n0\": {\"category\": \"biolink:ChemicalSubstance\", \"is_set\": false, \"name\": \"Chemical Substance\", \"id\": \"CHEBI:24996\"}, \"n1\": {\"category\": \"biolink:ChemicalSubstance\", \"is_set\": false, \"name\": \"Chemical Substance\"}}, \"edges\": {\"e0\": {\"subject\": \"n1\", \"object\": \"n0\", \"predicate\": \"biolink:has_part\"}}}}}'}, 'response': {'status_code': 504, 'headers': {'server': 'nginx/1.19.1', 'date': 'Tue, 01 Jun 2021 14:33:55 GMT', 'content-type': 'text/html', 'content-length': '167', 'connection': 'keep-alive', 'strict-transport-security': 'max-age=15724800; includeSubDomains'}, 'data': '<html>\\r\\n<head><title>504 Gateway Time-out</title></head>\\r\\n<body>\\r\\n<center><h1>504 Gateway Time-out</h1></center>\\r\\n<hr><center>nginx/1.19.1</center>\\r\\n</body>\\r\\n</html>\\r\\n'}}\n",
      "{'timestamp': '2021-06-01T14:33:55.505830', 'level': 'ERROR', 'code': None, 'message': 'Response Error contacting KP', 'error': '504 Server Error: Gateway Time-out for url: https://cam-kp-api-dev.renci.org/query\\nFor more information check: https://httpstatuses.com/504', 'request': {'method': 'POST', 'url': 'https://cam-kp-api-dev.renci.org/query', 'headers': {'host': 'cam-kp-api-dev.renci.org', 'accept': '*/*', 'accept-encoding': 'gzip, deflate', 'connection': 'keep-alive', 'user-agent': 'python-httpx/0.16.1', 'content-length': '338', 'content-type': 'application/json'}, 'data': '{\"message\": {\"query_graph\": {\"nodes\": {\"n0\": {\"category\": \"biolink:ChemicalSubstance\", \"is_set\": false, \"name\": \"Chemical Substance\", \"id\": \"CHEBI:24996\"}, \"n1\": {\"category\": \"biolink:ChemicalSubstance\", \"is_set\": false, \"name\": \"Chemical Substance\"}}, \"edges\": {\"e0\": {\"subject\": \"n0\", \"object\": \"n1\", \"predicate\": \"biolink:affects\"}}}}}'}, 'response': {'status_code': 504, 'headers': {'server': 'nginx/1.19.1', 'date': 'Tue, 01 Jun 2021 14:33:55 GMT', 'content-type': 'text/html', 'content-length': '167', 'connection': 'keep-alive', 'strict-transport-security': 'max-age=15724800; includeSubDomains'}, 'data': '<html>\\r\\n<head><title>504 Gateway Time-out</title></head>\\r\\n<body>\\r\\n<center><h1>504 Gateway Time-out</h1></center>\\r\\n<hr><center>nginx/1.19.1</center>\\r\\n</body>\\r\\n</html>\\r\\n'}}\n",
      "{'timestamp': '2021-06-01T14:33:55.491280', 'level': 'ERROR', 'code': None, 'message': 'Response Error contacting KP', 'error': '504 Server Error: Gateway Time-out for url: https://cam-kp-api-dev.renci.org/query\\nFor more information check: https://httpstatuses.com/504', 'request': {'method': 'POST', 'url': 'https://cam-kp-api-dev.renci.org/query', 'headers': {'host': 'cam-kp-api-dev.renci.org', 'accept': '*/*', 'accept-encoding': 'gzip, deflate', 'connection': 'keep-alive', 'user-agent': 'python-httpx/0.16.1', 'content-length': '340', 'content-type': 'application/json'}, 'data': '{\"message\": {\"query_graph\": {\"nodes\": {\"n0\": {\"category\": \"biolink:ChemicalSubstance\", \"is_set\": false, \"name\": \"Chemical Substance\", \"id\": \"CHEBI:24996\"}, \"n1\": {\"category\": \"biolink:ChemicalSubstance\", \"is_set\": false, \"name\": \"Chemical Substance\"}}, \"edges\": {\"e0\": {\"subject\": \"n1\", \"object\": \"n0\", \"predicate\": \"biolink:has_input\"}}}}}'}, 'response': {'status_code': 504, 'headers': {'server': 'nginx/1.19.1', 'date': 'Tue, 01 Jun 2021 14:33:55 GMT', 'content-type': 'text/html', 'content-length': '167', 'connection': 'keep-alive', 'strict-transport-security': 'max-age=15724800; includeSubDomains'}, 'data': '<html>\\r\\n<head><title>504 Gateway Time-out</title></head>\\r\\n<body>\\r\\n<center><h1>504 Gateway Time-out</h1></center>\\r\\n<hr><center>nginx/1.19.1</center>\\r\\n</body>\\r\\n</html>\\r\\n'}}\n",
      "{'timestamp': '2021-06-01T14:33:55.476292', 'level': 'ERROR', 'code': None, 'message': 'Response Error contacting KP', 'error': '504 Server Error: Gateway Time-out for url: https://cam-kp-api-dev.renci.org/query\\nFor more information check: https://httpstatuses.com/504', 'request': {'method': 'POST', 'url': 'https://cam-kp-api-dev.renci.org/query', 'headers': {'host': 'cam-kp-api-dev.renci.org', 'accept': '*/*', 'accept-encoding': 'gzip, deflate', 'connection': 'keep-alive', 'user-agent': 'python-httpx/0.16.1', 'content-length': '339', 'content-type': 'application/json'}, 'data': '{\"message\": {\"query_graph\": {\"nodes\": {\"n0\": {\"category\": \"biolink:ChemicalSubstance\", \"is_set\": false, \"name\": \"Chemical Substance\", \"id\": \"CHEBI:24996\"}, \"n1\": {\"category\": \"biolink:ChemicalSubstance\", \"is_set\": false, \"name\": \"Chemical Substance\"}}, \"edges\": {\"e0\": {\"subject\": \"n1\", \"object\": \"n0\", \"predicate\": \"biolink:precedes\"}}}}}'}, 'response': {'status_code': 504, 'headers': {'server': 'nginx/1.19.1', 'date': 'Tue, 01 Jun 2021 14:33:55 GMT', 'content-type': 'text/html', 'content-length': '167', 'connection': 'keep-alive', 'strict-transport-security': 'max-age=15724800; includeSubDomains'}, 'data': '<html>\\r\\n<head><title>504 Gateway Time-out</title></head>\\r\\n<body>\\r\\n<center><h1>504 Gateway Time-out</h1></center>\\r\\n<hr><center>nginx/1.19.1</center>\\r\\n</body>\\r\\n</html>\\r\\n'}}\n",
      "{'timestamp': '2021-06-01T14:33:55.461959', 'level': 'ERROR', 'code': None, 'message': 'Response Error contacting KP', 'error': '504 Server Error: Gateway Time-out for url: https://cam-kp-api-dev.renci.org/query\\nFor more information check: https://httpstatuses.com/504', 'request': {'method': 'POST', 'url': 'https://cam-kp-api-dev.renci.org/query', 'headers': {'host': 'cam-kp-api-dev.renci.org', 'accept': '*/*', 'accept-encoding': 'gzip, deflate', 'connection': 'keep-alive', 'user-agent': 'python-httpx/0.16.1', 'content-length': '339', 'content-type': 'application/json'}, 'data': '{\"message\": {\"query_graph\": {\"nodes\": {\"n0\": {\"category\": \"biolink:ChemicalSubstance\", \"is_set\": false, \"name\": \"Chemical Substance\", \"id\": \"CHEBI:24996\"}, \"n1\": {\"category\": \"biolink:ChemicalSubstance\", \"is_set\": false, \"name\": \"Chemical Substance\"}}, \"edges\": {\"e0\": {\"subject\": \"n0\", \"object\": \"n1\", \"predicate\": \"biolink:precedes\"}}}}}'}, 'response': {'status_code': 504, 'headers': {'server': 'nginx/1.19.1', 'date': 'Tue, 01 Jun 2021 14:33:55 GMT', 'content-type': 'text/html', 'content-length': '167', 'connection': 'keep-alive', 'strict-transport-security': 'max-age=15724800; includeSubDomains'}, 'data': '<html>\\r\\n<head><title>504 Gateway Time-out</title></head>\\r\\n<body>\\r\\n<center><h1>504 Gateway Time-out</h1></center>\\r\\n<hr><center>nginx/1.19.1</center>\\r\\n</body>\\r\\n</html>\\r\\n'}}\n",
      "{'timestamp': '2021-06-01T14:33:55.438937', 'level': 'ERROR', 'code': None, 'message': 'Response Error contacting KP', 'error': '504 Server Error: Gateway Time-out for url: https://cam-kp-api-dev.renci.org/query\\nFor more information check: https://httpstatuses.com/504', 'request': {'method': 'POST', 'url': 'https://cam-kp-api-dev.renci.org/query', 'headers': {'host': 'cam-kp-api-dev.renci.org', 'accept': '*/*', 'accept-encoding': 'gzip, deflate', 'connection': 'keep-alive', 'user-agent': 'python-httpx/0.16.1', 'content-length': '340', 'content-type': 'application/json'}, 'data': '{\"message\": {\"query_graph\": {\"nodes\": {\"n0\": {\"category\": \"biolink:ChemicalSubstance\", \"is_set\": false, \"name\": \"Chemical Substance\", \"id\": \"CHEBI:24996\"}, \"n1\": {\"category\": \"biolink:ChemicalSubstance\", \"is_set\": false, \"name\": \"Chemical Substance\"}}, \"edges\": {\"e0\": {\"subject\": \"n1\", \"object\": \"n0\", \"predicate\": \"biolink:caused_by\"}}}}}'}, 'response': {'status_code': 504, 'headers': {'server': 'nginx/1.19.1', 'date': 'Tue, 01 Jun 2021 14:33:55 GMT', 'content-type': 'text/html', 'content-length': '167', 'connection': 'keep-alive', 'strict-transport-security': 'max-age=15724800; includeSubDomains'}, 'data': '<html>\\r\\n<head><title>504 Gateway Time-out</title></head>\\r\\n<body>\\r\\n<center><h1>504 Gateway Time-out</h1></center>\\r\\n<hr><center>nginx/1.19.1</center>\\r\\n</body>\\r\\n</html>\\r\\n'}}\n",
      "{'timestamp': '2021-06-01T14:33:55.395020', 'level': 'ERROR', 'code': None, 'message': 'Response Error contacting KP', 'error': '504 Server Error: Gateway Time-out for url: https://cam-kp-api-dev.renci.org/query\\nFor more information check: https://httpstatuses.com/504', 'request': {'method': 'POST', 'url': 'https://cam-kp-api-dev.renci.org/query', 'headers': {'host': 'cam-kp-api-dev.renci.org', 'accept': '*/*', 'accept-encoding': 'gzip, deflate', 'connection': 'keep-alive', 'user-agent': 'python-httpx/0.16.1', 'content-length': '357', 'content-type': 'application/json'}, 'data': '{\"message\": {\"query_graph\": {\"nodes\": {\"n0\": {\"category\": \"biolink:ChemicalSubstance\", \"is_set\": false, \"name\": \"Chemical Substance\", \"id\": \"CHEBI:24996\"}, \"n1\": {\"category\": \"biolink:ChemicalSubstance\", \"is_set\": false, \"name\": \"Chemical Substance\"}}, \"edges\": {\"e0\": {\"subject\": \"n1\", \"object\": \"n0\", \"predicate\": \"biolink:molecularly_interacts_with\"}}}}}'}, 'response': {'status_code': 504, 'headers': {'server': 'nginx/1.19.1', 'date': 'Tue, 01 Jun 2021 14:33:55 GMT', 'content-type': 'text/html', 'content-length': '167', 'connection': 'keep-alive', 'strict-transport-security': 'max-age=15724800; includeSubDomains'}, 'data': '<html>\\r\\n<head><title>504 Gateway Time-out</title></head>\\r\\n<body>\\r\\n<center><h1>504 Gateway Time-out</h1></center>\\r\\n<hr><center>nginx/1.19.1</center>\\r\\n</body>\\r\\n</html>\\r\\n'}}\n",
      "{'timestamp': '2021-06-01T14:33:55.379496', 'level': 'ERROR', 'code': None, 'message': 'Response Error contacting KP', 'error': '504 Server Error: Gateway Time-out for url: https://cam-kp-api-dev.renci.org/query\\nFor more information check: https://httpstatuses.com/504', 'request': {'method': 'POST', 'url': 'https://cam-kp-api-dev.renci.org/query', 'headers': {'host': 'cam-kp-api-dev.renci.org', 'accept': '*/*', 'accept-encoding': 'gzip, deflate', 'connection': 'keep-alive', 'user-agent': 'python-httpx/0.16.1', 'content-length': '340', 'content-type': 'application/json'}, 'data': '{\"message\": {\"query_graph\": {\"nodes\": {\"n0\": {\"category\": \"biolink:ChemicalSubstance\", \"is_set\": false, \"name\": \"Chemical Substance\", \"id\": \"CHEBI:24996\"}, \"n1\": {\"category\": \"biolink:ChemicalSubstance\", \"is_set\": false, \"name\": \"Chemical Substance\"}}, \"edges\": {\"e0\": {\"subject\": \"n0\", \"object\": \"n1\", \"predicate\": \"biolink:has_input\"}}}}}'}, 'response': {'status_code': 504, 'headers': {'server': 'nginx/1.19.1', 'date': 'Tue, 01 Jun 2021 14:33:55 GMT', 'content-type': 'text/html', 'content-length': '167', 'connection': 'keep-alive', 'strict-transport-security': 'max-age=15724800; includeSubDomains'}, 'data': '<html>\\r\\n<head><title>504 Gateway Time-out</title></head>\\r\\n<body>\\r\\n<center><h1>504 Gateway Time-out</h1></center>\\r\\n<hr><center>nginx/1.19.1</center>\\r\\n</body>\\r\\n</html>\\r\\n'}}\n",
      "{'timestamp': '2021-06-01T14:33:55.365968', 'level': 'ERROR', 'code': None, 'message': 'Response Error contacting KP', 'error': '504 Server Error: Gateway Time-out for url: https://cam-kp-api-dev.renci.org/query\\nFor more information check: https://httpstatuses.com/504', 'request': {'method': 'POST', 'url': 'https://cam-kp-api-dev.renci.org/query', 'headers': {'host': 'cam-kp-api-dev.renci.org', 'accept': '*/*', 'accept-encoding': 'gzip, deflate', 'connection': 'keep-alive', 'user-agent': 'python-httpx/0.16.1', 'content-length': '367', 'content-type': 'application/json'}, 'data': '{\"message\": {\"query_graph\": {\"nodes\": {\"n0\": {\"category\": \"biolink:ChemicalSubstance\", \"is_set\": false, \"name\": \"Chemical Substance\", \"id\": \"CHEBI:24996\"}, \"n1\": {\"category\": \"biolink:ChemicalSubstance\", \"is_set\": false, \"name\": \"Chemical Substance\"}}, \"edges\": {\"e0\": {\"subject\": \"n1\", \"object\": \"n0\", \"predicate\": \"biolink:process_negatively_regulates_process\"}}}}}'}, 'response': {'status_code': 504, 'headers': {'server': 'nginx/1.19.1', 'date': 'Tue, 01 Jun 2021 14:33:55 GMT', 'content-type': 'text/html', 'content-length': '167', 'connection': 'keep-alive', 'strict-transport-security': 'max-age=15724800; includeSubDomains'}, 'data': '<html>\\r\\n<head><title>504 Gateway Time-out</title></head>\\r\\n<body>\\r\\n<center><h1>504 Gateway Time-out</h1></center>\\r\\n<hr><center>nginx/1.19.1</center>\\r\\n</body>\\r\\n</html>\\r\\n'}}\n",
      "{'timestamp': '2021-06-01T14:33:55.352309', 'level': 'ERROR', 'code': None, 'message': 'Response Error contacting KP', 'error': '504 Server Error: Gateway Time-out for url: https://cam-kp-api-dev.renci.org/query\\nFor more information check: https://httpstatuses.com/504', 'request': {'method': 'POST', 'url': 'https://cam-kp-api-dev.renci.org/query', 'headers': {'host': 'cam-kp-api-dev.renci.org', 'accept': '*/*', 'accept-encoding': 'gzip, deflate', 'connection': 'keep-alive', 'user-agent': 'python-httpx/0.16.1', 'content-length': '356', 'content-type': 'application/json'}, 'data': '{\"message\": {\"query_graph\": {\"nodes\": {\"n0\": {\"category\": \"biolink:ChemicalSubstance\", \"is_set\": false, \"name\": \"Chemical Substance\", \"id\": \"CHEBI:24996\"}, \"n1\": {\"category\": \"biolink:ChemicalSubstance\", \"is_set\": false, \"name\": \"Chemical Substance\"}}, \"edges\": {\"e0\": {\"subject\": \"n1\", \"object\": \"n0\", \"predicate\": \"biolink:process_regulates_process\"}}}}}'}, 'response': {'status_code': 504, 'headers': {'server': 'nginx/1.19.1', 'date': 'Tue, 01 Jun 2021 14:33:55 GMT', 'content-type': 'text/html', 'content-length': '167', 'connection': 'keep-alive', 'strict-transport-security': 'max-age=15724800; includeSubDomains'}, 'data': '<html>\\r\\n<head><title>504 Gateway Time-out</title></head>\\r\\n<body>\\r\\n<center><h1>504 Gateway Time-out</h1></center>\\r\\n<hr><center>nginx/1.19.1</center>\\r\\n</body>\\r\\n</html>\\r\\n'}}\n",
      "{'timestamp': '2021-06-01T14:33:55.338219', 'level': 'ERROR', 'code': None, 'message': 'Response Error contacting KP', 'error': '504 Server Error: Gateway Time-out for url: https://cam-kp-api-dev.renci.org/query\\nFor more information check: https://httpstatuses.com/504', 'request': {'method': 'POST', 'url': 'https://cam-kp-api-dev.renci.org/query', 'headers': {'host': 'cam-kp-api-dev.renci.org', 'accept': '*/*', 'accept-encoding': 'gzip, deflate', 'connection': 'keep-alive', 'user-agent': 'python-httpx/0.16.1', 'content-length': '341', 'content-type': 'application/json'}, 'data': '{\"message\": {\"query_graph\": {\"nodes\": {\"n0\": {\"category\": \"biolink:ChemicalSubstance\", \"is_set\": false, \"name\": \"Chemical Substance\", \"id\": \"CHEBI:24996\"}, \"n1\": {\"category\": \"biolink:ChemicalSubstance\", \"is_set\": false, \"name\": \"Chemical Substance\"}}, \"edges\": {\"e0\": {\"subject\": \"n0\", \"object\": \"n1\", \"predicate\": \"biolink:capable_of\"}}}}}'}, 'response': {'status_code': 504, 'headers': {'server': 'nginx/1.19.1', 'date': 'Tue, 01 Jun 2021 14:33:55 GMT', 'content-type': 'text/html', 'content-length': '167', 'connection': 'keep-alive', 'strict-transport-security': 'max-age=15724800; includeSubDomains'}, 'data': '<html>\\r\\n<head><title>504 Gateway Time-out</title></head>\\r\\n<body>\\r\\n<center><h1>504 Gateway Time-out</h1></center>\\r\\n<hr><center>nginx/1.19.1</center>\\r\\n</body>\\r\\n</html>\\r\\n'}}\n",
      "{'timestamp': '2021-06-01T14:33:55.317035', 'level': 'ERROR', 'code': None, 'message': 'Response Error contacting KP', 'error': '504 Server Error: Gateway Time-out for url: https://cam-kp-api-dev.renci.org/query\\nFor more information check: https://httpstatuses.com/504', 'request': {'method': 'POST', 'url': 'https://cam-kp-api-dev.renci.org/query', 'headers': {'host': 'cam-kp-api-dev.renci.org', 'accept': '*/*', 'accept-encoding': 'gzip, deflate', 'connection': 'keep-alive', 'user-agent': 'python-httpx/0.16.1', 'content-length': '346', 'content-type': 'application/json'}, 'data': '{\"message\": {\"query_graph\": {\"nodes\": {\"n0\": {\"category\": \"biolink:ChemicalSubstance\", \"is_set\": false, \"name\": \"Chemical Substance\", \"id\": \"CHEBI:24996\"}, \"n1\": {\"category\": \"biolink:ChemicalSubstance\", \"is_set\": false, \"name\": \"Chemical Substance\"}}, \"edges\": {\"e0\": {\"subject\": \"n1\", \"object\": \"n0\", \"predicate\": \"biolink:participates_in\"}}}}}'}, 'response': {'status_code': 504, 'headers': {'server': 'nginx/1.19.1', 'date': 'Tue, 01 Jun 2021 14:33:55 GMT', 'content-type': 'text/html', 'content-length': '167', 'connection': 'keep-alive', 'strict-transport-security': 'max-age=15724800; includeSubDomains'}, 'data': '<html>\\r\\n<head><title>504 Gateway Time-out</title></head>\\r\\n<body>\\r\\n<center><h1>504 Gateway Time-out</h1></center>\\r\\n<hr><center>nginx/1.19.1</center>\\r\\n</body>\\r\\n</html>\\r\\n'}}\n",
      "{'timestamp': '2021-06-01T14:33:55.302478', 'level': 'ERROR', 'code': None, 'message': 'Response Error contacting KP', 'error': '504 Server Error: Gateway Time-out for url: https://cam-kp-api-dev.renci.org/query\\nFor more information check: https://httpstatuses.com/504', 'request': {'method': 'POST', 'url': 'https://cam-kp-api-dev.renci.org/query', 'headers': {'host': 'cam-kp-api-dev.renci.org', 'accept': '*/*', 'accept-encoding': 'gzip, deflate', 'connection': 'keep-alive', 'user-agent': 'python-httpx/0.16.1', 'content-length': '357', 'content-type': 'application/json'}, 'data': '{\"message\": {\"query_graph\": {\"nodes\": {\"n0\": {\"category\": \"biolink:ChemicalSubstance\", \"is_set\": false, \"name\": \"Chemical Substance\", \"id\": \"CHEBI:24996\"}, \"n1\": {\"category\": \"biolink:ChemicalSubstance\", \"is_set\": false, \"name\": \"Chemical Substance\"}}, \"edges\": {\"e0\": {\"subject\": \"n0\", \"object\": \"n1\", \"predicate\": \"biolink:molecularly_interacts_with\"}}}}}'}, 'response': {'status_code': 504, 'headers': {'server': 'nginx/1.19.1', 'date': 'Tue, 01 Jun 2021 14:33:55 GMT', 'content-type': 'text/html', 'content-length': '167', 'connection': 'keep-alive', 'strict-transport-security': 'max-age=15724800; includeSubDomains'}, 'data': '<html>\\r\\n<head><title>504 Gateway Time-out</title></head>\\r\\n<body>\\r\\n<center><h1>504 Gateway Time-out</h1></center>\\r\\n<hr><center>nginx/1.19.1</center>\\r\\n</body>\\r\\n</html>\\r\\n'}}\n",
      "{'timestamp': '2021-06-01T14:33:55.275465', 'level': 'ERROR', 'code': None, 'message': 'Response Error contacting KP', 'error': '504 Server Error: Gateway Time-out for url: https://cam-kp-api-dev.renci.org/query\\nFor more information check: https://httpstatuses.com/504', 'request': {'method': 'POST', 'url': 'https://cam-kp-api-dev.renci.org/query', 'headers': {'host': 'cam-kp-api-dev.renci.org', 'accept': '*/*', 'accept-encoding': 'gzip, deflate', 'connection': 'keep-alive', 'user-agent': 'python-httpx/0.16.1', 'content-length': '356', 'content-type': 'application/json'}, 'data': '{\"message\": {\"query_graph\": {\"nodes\": {\"n0\": {\"category\": \"biolink:ChemicalSubstance\", \"is_set\": false, \"name\": \"Chemical Substance\", \"id\": \"CHEBI:24996\"}, \"n1\": {\"category\": \"biolink:ChemicalSubstance\", \"is_set\": false, \"name\": \"Chemical Substance\"}}, \"edges\": {\"e0\": {\"subject\": \"n0\", \"object\": \"n1\", \"predicate\": \"biolink:physically_interacts_with\"}}}}}'}, 'response': {'status_code': 504, 'headers': {'server': 'nginx/1.19.1', 'date': 'Tue, 01 Jun 2021 14:33:55 GMT', 'content-type': 'text/html', 'content-length': '167', 'connection': 'keep-alive', 'strict-transport-security': 'max-age=15724800; includeSubDomains'}, 'data': '<html>\\r\\n<head><title>504 Gateway Time-out</title></head>\\r\\n<body>\\r\\n<center><h1>504 Gateway Time-out</h1></center>\\r\\n<hr><center>nginx/1.19.1</center>\\r\\n</body>\\r\\n</html>\\r\\n'}}\n"
     ]
    }
   ],
   "source": [
    "for logmessage in strider_result['logs']:\n",
    "    print(logmessage)"
   ]
  },
  {
   "cell_type": "markdown",
   "metadata": {},
   "source": [
    "<br>\n",
    "\n",
    "## Aragon \n",
    "\n",
    "<br>"
   ]
  },
  {
   "cell_type": "code",
   "execution_count": 110,
   "metadata": {},
   "outputs": [
    {
     "name": "stdout",
     "output_type": "stream",
     "text": [
      "Error, no result field\n"
     ]
    }
   ],
   "source": [
    "start = dt.now()\n",
    "aragorn_result = aragorn(query1)\n",
    "end = dt.now()\n",
    "if 'results' in aragorn_result['message']:\n",
    "    print(f\"ARAGORN produced {len(aragorn_result['message']['results'])} results in {end-start}.\")\n",
    "else:\n",
    "    print('Error, no result field')"
   ]
  },
  {
   "cell_type": "code",
   "execution_count": 111,
   "metadata": {},
   "outputs": [],
   "source": [
    "view = GammaViewer(props={\"data\":aragorn_result})\n",
    "display(view)"
   ]
  },
  {
   "cell_type": "code",
   "execution_count": 26,
   "metadata": {},
   "outputs": [
    {
     "name": "stdout",
     "output_type": "stream",
     "text": [
      "200\n"
     ]
    }
   ],
   "source": [
    "r = automat('uberongraph',query)"
   ]
  },
  {
   "cell_type": "markdown",
   "metadata": {},
   "source": [
    "<br>\n",
    "\n",
    "## 2. Chemical to Gene to Lactate\n",
    "Do we have a way to decrease lactate or lactates PUBCHEM.COMPOUND:91435\n",
    "\n",
    "<br>"
   ]
  },
  {
   "cell_type": "code",
   "execution_count": 15,
   "metadata": {},
   "outputs": [],
   "source": [
    "with open('/Users/priyash/Documents/GitHub/robogallery/user_queries/json_queries/hangover_two.json', 'r') as myfile:\n",
    "    query2 = make_message(json.loads(myfile.read()))"
   ]
  },
  {
   "cell_type": "code",
   "execution_count": 16,
   "metadata": {},
   "outputs": [
    {
     "name": "stdout",
     "output_type": "stream",
     "text": [
      "{\n",
      "    \"message\": {\n",
      "        \"query_graph\": {\n",
      "            \"nodes\": {\n",
      "                \"n0\": {\n",
      "                    \"name\": \"Lactate\",\n",
      "                    \"id\": \"PUBCHEM.COMPOUND:91435\"\n",
      "                },\n",
      "                \"n1\": {\n",
      "                    \"category\": [\n",
      "                        \"biolink:Gene\"\n",
      "                    ],\n",
      "                    \"name\": \"Gene\"\n",
      "                },\n",
      "                \"n2\": {\n",
      "                    \"category\": [\n",
      "                        \"biolink:ChemicalSubstance\"\n",
      "                    ],\n",
      "                    \"name\": \"Chemical Substance\"\n",
      "                }\n",
      "            },\n",
      "            \"edges\": {\n",
      "                \"e0\": {\n",
      "                    \"subject\": \"n0\",\n",
      "                    \"object\": \"n1\"\n",
      "                },\n",
      "                \"e1\": {\n",
      "                    \"subject\": \"n1\",\n",
      "                    \"object\": \"n2\"\n",
      "                }\n",
      "            }\n",
      "        }\n",
      "    }\n",
      "}\n"
     ]
    }
   ],
   "source": [
    "printjson(query2)"
   ]
  },
  {
   "cell_type": "markdown",
   "metadata": {},
   "source": [
    "<br>\n",
    "\n",
    "## Strider Direct\n",
    "\n",
    "<br>"
   ]
  },
  {
   "cell_type": "code",
   "execution_count": null,
   "metadata": {},
   "outputs": [],
   "source": [
    "start = dt.now()\n",
    "strider_result = strider(query2)\n",
    "end = dt.now()\n",
    "print(f\"Strider produced {len(strider_result['message']['results'])} results in {end-start}.\")"
   ]
  },
  {
   "cell_type": "code",
   "execution_count": null,
   "metadata": {},
   "outputs": [],
   "source": []
  }
 ],
 "metadata": {
  "kernelspec": {
   "display_name": "Python 3",
   "language": "python",
   "name": "python3"
  },
  "language_info": {
   "codemirror_mode": {
    "name": "ipython",
    "version": 3
   },
   "file_extension": ".py",
   "mimetype": "text/x-python",
   "name": "python",
   "nbconvert_exporter": "python",
   "pygments_lexer": "ipython3",
   "version": "3.7.4"
  }
 },
 "nbformat": 4,
 "nbformat_minor": 2
}
