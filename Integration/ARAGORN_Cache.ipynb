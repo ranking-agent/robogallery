{
 "cells": [
  {
   "cell_type": "code",
   "execution_count": 1,
   "id": "fifty-elizabeth",
   "metadata": {},
   "outputs": [],
   "source": [
    "from use_translator import *\n",
    "from datetime import datetime as dt"
   ]
  },
  {
   "cell_type": "code",
   "execution_count": 2,
   "id": "median-james",
   "metadata": {},
   "outputs": [],
   "source": [
    "def create_query(disease_id, inferred = True):\n",
    "    query_graph = {'nodes': {'disease': {'ids': [disease_id]}},\n",
    "                   'edges': {}}\n",
    "    pnode = 'disease'\n",
    "    cnode = 'chemical'\n",
    "    query_graph['nodes'][cnode] = {'categories': ['biolink:ChemicalEntity']}\n",
    "    query_graph['edges']['t_edge'] = {'object': pnode, 'subject': cnode, 'predicates':['biolink:treats']}\n",
    "    if inferred:\n",
    "        query_graph['edges']['t_edge']['knowledge_type']= 'inferred'\n",
    "    #m = {'message':{'query_graph':query_graph}, \"workflow\":[{\"id\":\"lookup\"}]}\n",
    "    m = {'message':{'query_graph':query_graph}}\n",
    "    return m"
   ]
  },
  {
   "cell_type": "code",
   "execution_count": 3,
   "id": "tutorial-transition",
   "metadata": {},
   "outputs": [],
   "source": [
    "#ci\n",
    "#aragorn_url='https://aragorn.ci.transltr.io/aragorn/query'\n",
    "#robokop_url='https://aragorn.ci.transltr.io/robokop/query'\n",
    "#ars_url='https://ars.ci.transltr.io/ars/api'\n",
    "#dev\n",
    "#aragorn_url='https://aragorn.renci.org/aragorn/query'\n",
    "robokop_url='https://aragorn.renci.org/robokop/query'\n",
    "strider_url=\"https://strider.renci.org/1.4/query\"\n",
    "ranker_url='https://aragorn-ranker.renci.org/omnicorp_overlay'\n",
    "#local\n",
    "aragorn_url='http://localhost:4868/aragorn/query'\n",
    "robokop_url='http://localhost:4868/robokop/query'\n",
    "#ranker_url='http://localhost:4888/omnicorp_overlay'\n",
    "# what to use?\n",
    "use_url = aragorn_url"
   ]
  },
  {
   "cell_type": "code",
   "execution_count": 4,
   "id": "gothic-medicare",
   "metadata": {},
   "outputs": [],
   "source": [
    "def check(url,query):\n",
    "    dr = requests.post(url,json=query)\n",
    "    if dr.status_code != 200:\n",
    "        print(\"Fail. status code =\",dr.status_code)\n",
    "        return {}\n",
    "    nresults = len(dr.json()['message']['results'])\n",
    "    if nresults == 0:\n",
    "        print('No results')\n",
    "        return {}\n",
    "    print('Success', nresults)\n",
    "    return dr.json()"
   ]
  },
  {
   "cell_type": "code",
   "execution_count": 5,
   "id": "interior-costume",
   "metadata": {},
   "outputs": [],
   "source": [
    "GARDs = [\n",
    "    \"MONDO:0008029\",#Bethlem myopathy \n",
    "    \"MONDO:0007432\", #Cerebral autosomal dominant arteriopathy-subcortical infarcts-leukoencephalopathy \n",
    "    \"MONDO:0007523\", #Ehlers-Danlos, Hypermobility type \n",
    "    \"MONDO:0017314\", #Vascular Ehlers-Danlos syndrome \n",
    "    \"MONDO:0034024\", #Kyphoscoliotic Ehlers-Danlos syndrome \n",
    "    \"MONDO:0007525\", #Arthrochalasia Ehlers-Danlos syndrome\n",
    "    \"MONDO:0007522\", #Classical Ehlers-Danlos syndrome\n",
    "    \"MONDO:0009161\", #Dermatosparaxis Ehlers-Danlos syndrome\n",
    "    \"MONDO:0009746\", #Hereditary sensory and autonomic neuropathy type 4\n",
    "    \"MONDO:0007827\", #Inclusion body myositis\n",
    "    \"MONDO:0000355\", #Congenital muscular dystrophy, Ullrich type\n",
    "    \"MONDO:0010808\", #Fatal familial insomnia\n",
    "    \"MONDO:0015564\" #Castleman\n",
    "]"
   ]
  },
  {
   "cell_type": "code",
   "execution_count": 6,
   "id": "amino-blind",
   "metadata": {},
   "outputs": [
    {
     "name": "stdout",
     "output_type": "stream",
     "text": [
      "MONDO:0008029\n",
      "Success 2\n",
      "Took 0:00:00.017885\n"
     ]
    }
   ],
   "source": [
    "RD = GARDs[0]\n",
    "start = dt.now()\n",
    "print(RD)\n",
    "inf = create_query(RD)\n",
    "r = check(use_url,inf)\n",
    "end = dt.now()\n",
    "print(\"Took\",end-start)"
   ]
  },
  {
   "cell_type": "code",
   "execution_count": 7,
   "id": "honest-sarah",
   "metadata": {},
   "outputs": [
    {
     "name": "stdout",
     "output_type": "stream",
     "text": [
      "MONDO:0008029\n",
      "Success 2\n",
      "Took 0:00:00.009895\n"
     ]
    }
   ],
   "source": [
    "start = dt.now()\n",
    "print(RD)\n",
    "inf = create_query(RD)\n",
    "r = check(use_url,inf)\n",
    "end = dt.now()\n",
    "print(\"Took\",end-start)"
   ]
  },
  {
   "cell_type": "code",
   "execution_count": 8,
   "id": "executed-guitar",
   "metadata": {},
   "outputs": [
    {
     "name": "stdout",
     "output_type": "stream",
     "text": [
      "Success 2\n",
      "Took 0:00:15.484669\n"
     ]
    }
   ],
   "source": [
    "inf = create_query(RD)\n",
    "params = {\"override_cache\": True}\n",
    "inf[\"parameters\"] = params\n",
    "start = dt.now()\n",
    "r = check(use_url,inf)\n",
    "end = dt.now()\n",
    "print(\"Took\",end-start)"
   ]
  },
  {
   "cell_type": "code",
   "execution_count": 9,
   "id": "featured-eclipse",
   "metadata": {},
   "outputs": [
    {
     "name": "stdout",
     "output_type": "stream",
     "text": [
      "MONDO:0008029\n",
      "Success 2\n",
      "Took 0:00:00.011268\n",
      "============\n",
      "MONDO:0007432\n",
      "Success 500\n",
      "Took 0:00:00.190366\n",
      "============\n",
      "MONDO:0007523\n",
      "Success 500\n",
      "Took 0:00:00.229007\n",
      "============\n",
      "MONDO:0017314\n",
      "Success 500\n",
      "Took 0:00:00.160101\n",
      "============\n",
      "MONDO:0034024\n",
      "Success 500\n",
      "Took 0:00:00.110399\n",
      "============\n",
      "MONDO:0007525\n",
      "No results\n",
      "Took 0:00:00.012136\n",
      "============\n",
      "MONDO:0007522\n",
      "Success 341\n",
      "Took 0:00:00.201539\n",
      "============\n",
      "MONDO:0009161\n",
      "No results\n",
      "Took 0:00:00.015651\n",
      "============\n",
      "MONDO:0009746\n",
      "No results\n",
      "Took 0:00:00.008505\n",
      "============\n",
      "MONDO:0007827\n",
      "Success 500\n",
      "Took 0:00:00.321734\n",
      "============\n",
      "MONDO:0000355\n",
      "Success 500\n",
      "Took 0:00:00.445246\n",
      "============\n",
      "MONDO:0010808\n",
      "Success 500\n",
      "Took 0:00:00.267142\n",
      "============\n",
      "MONDO:0015564\n",
      "Success 500\n",
      "Took 0:00:00.215773\n",
      "============\n"
     ]
    }
   ],
   "source": [
    "for RD in GARDs:\n",
    "    start = dt.now()\n",
    "    print(RD)\n",
    "    inf = create_query(RD)\n",
    "    r = check(use_url,inf)\n",
    "    end = dt.now()\n",
    "    print(\"Took\",end-start)\n",
    "    print(\"============\")"
   ]
  },
  {
   "cell_type": "code",
   "execution_count": 10,
   "id": "endangered-nowhere",
   "metadata": {},
   "outputs": [
    {
     "name": "stdout",
     "output_type": "stream",
     "text": [
      "MONDO:0015564\n",
      "Success 500\n",
      "Took 0:00:00.212717\n"
     ]
    }
   ],
   "source": [
    "RD = GARDs[-1]\n",
    "start = dt.now()\n",
    "print(RD)\n",
    "inf = create_query(RD)\n",
    "#params = {\"override_cache\": True}\n",
    "#inf[\"parameters\"] = params\n",
    "r = check(use_url,inf)\n",
    "end = dt.now()\n",
    "print(\"Took\",end-start)"
   ]
  },
  {
   "cell_type": "code",
   "execution_count": 11,
   "id": "seven-window",
   "metadata": {},
   "outputs": [
    {
     "name": "stdout",
     "output_type": "stream",
     "text": [
      "MONDO:0015564\n",
      "Success 500\n",
      "Took 0:03:22.098396\n"
     ]
    }
   ],
   "source": [
    "RD = GARDs[-1]\n",
    "start = dt.now()\n",
    "print(RD)\n",
    "inf = create_query(RD)\n",
    "params = {\"override_cache\": True, \"timeout_seconds\": 10*60}\n",
    "inf[\"parameters\"] = params\n",
    "r = check(use_url,inf)\n",
    "end = dt.now()\n",
    "print(\"Took\",end-start)"
   ]
  },
  {
   "cell_type": "code",
   "execution_count": 12,
   "id": "sticky-running",
   "metadata": {},
   "outputs": [
    {
     "name": "stdout",
     "output_type": "stream",
     "text": [
      "MONDO:0015564\n",
      "Success 500\n",
      "Took 0:03:13.032019\n"
     ]
    }
   ],
   "source": [
    "RD = GARDs[-1]\n",
    "start = dt.now()\n",
    "print(RD)\n",
    "inf = create_query(RD)\n",
    "params = {\"override_cache\": True, \"timeout_seconds\": 10}\n",
    "inf[\"parameters\"] = params\n",
    "r = check(use_url,inf)\n",
    "end = dt.now()\n",
    "print(\"Took\",end-start)"
   ]
  },
  {
   "cell_type": "code",
   "execution_count": null,
   "id": "concrete-powell",
   "metadata": {},
   "outputs": [],
   "source": []
  }
 ],
 "metadata": {
  "kernelspec": {
   "display_name": "Python 3",
   "language": "python",
   "name": "python3"
  },
  "language_info": {
   "codemirror_mode": {
    "name": "ipython",
    "version": 3
   },
   "file_extension": ".py",
   "mimetype": "text/x-python",
   "name": "python",
   "nbconvert_exporter": "python",
   "pygments_lexer": "ipython3",
   "version": "3.9.1"
  }
 },
 "nbformat": 4,
 "nbformat_minor": 5
}
