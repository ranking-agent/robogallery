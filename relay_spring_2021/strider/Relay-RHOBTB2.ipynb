{
 "cells": [
  {
   "cell_type": "markdown",
   "id": "controversial-detroit",
   "metadata": {},
   "source": [
    "# Setup"
   ]
  },
  {
   "cell_type": "code",
   "execution_count": 1,
   "id": "caring-bacteria",
   "metadata": {},
   "outputs": [],
   "source": [
    "import json\n",
    "import requests\n",
    "from datetime import datetime as dt\n",
    "from collections import defaultdict\n",
    "import pandas as pd\n",
    "import copy"
   ]
  },
  {
   "cell_type": "code",
   "execution_count": 2,
   "id": "graphic-exemption",
   "metadata": {},
   "outputs": [],
   "source": [
    "#https://pypi.org/project/gamma-viewer/\n",
    "from gamma_viewer import GammaViewer\n",
    "from IPython.display import display, Markdown"
   ]
  },
  {
   "cell_type": "code",
   "execution_count": 3,
   "id": "ecological-rhythm",
   "metadata": {},
   "outputs": [],
   "source": [
    "def printjson(j):\n",
    "    print(json.dumps(j,indent=4))\n",
    "def print_json(j):\n",
    "    printjson(j)"
   ]
  },
  {
   "cell_type": "code",
   "execution_count": 4,
   "id": "thick-encounter",
   "metadata": {},
   "outputs": [],
   "source": [
    "def post(name,url,message,params=None):\n",
    "    if params is None:\n",
    "        response = requests.post(url,json=message)\n",
    "    else:\n",
    "        response = requests.post(url,json=message,params=params)\n",
    "    if not response.status_code == 200:\n",
    "        print(name, 'error:',response.status_code)\n",
    "        print(response.json())\n",
    "        return {}\n",
    "    return response.json()\n",
    "\n",
    "def automat(db,message):\n",
    "    automat_url = f'https://automat.renci.org/{db}/query'\n",
    "    response = requests.post(automat_url,json=message)\n",
    "    print(response.status_code)\n",
    "    return response.json()\n",
    "\n",
    "def strider(message):\n",
    "    url = 'https://strider.renci.org/query?log_level=DEBUG'\n",
    "    strider_answer = post(strider,url,message)\n",
    "    return strider_answer\n",
    "\n",
    "def aragorn(message, coalesce_type='xnone'):\n",
    "    if coalesce_type == 'xnone':\n",
    "        answer = post('aragorn','https://aragorn.renci.org/query',message)\n",
    "    else:\n",
    "        answer = post('aragorn','https://aragorn.renci.org/query',message, params={'answer_coalesce_type':coalesce_type})\n",
    "    return answer\n",
    "\n",
    "##\n",
    "\n",
    "def bte(message):\n",
    "    url = 'https://api.bte.ncats.io/v1/query'\n",
    "    return post(strider,url,message)\n",
    "\n",
    "def coalesce(message,method='all'):\n",
    "    url = 'https://answercoalesce.renci.org/coalesce/graph'\n",
    "    return post('AC'+method,url,message)\n",
    "\n",
    "def striderandfriends(message):\n",
    "    strider_answer = strider(message)    \n",
    "    coalesced_answer = post('coalesce','https://answercoalesce.renci.org/coalesce/all',strider_answer)\n",
    "    omni_answer = post('omnicorp','https://aragorn-ranker.renci.org/omnicorp_overlay',coalesced_answer)\n",
    "    weighted_answer = post('weight','https://aragorn-ranker.renci.org/weight_correctness',omni_answer)\n",
    "    scored_answer = post('score','https://aragorn-ranker.renci.org/score',weighted_answer)\n",
    "    return strider_answer,coalesced_answer,omni_answer,weighted_answer,scored_answer\n",
    "\n",
    "def name_lookup(text):\n",
    "    url= f'https://name-resolution-sri.renci.org/lookup?string={text}&offset=0&limit=10'\n",
    "    response = requests.post(url)\n",
    "    printjson(response.json())"
   ]
  },
  {
   "cell_type": "code",
   "execution_count": 5,
   "id": "legislative-oriental",
   "metadata": {},
   "outputs": [],
   "source": [
    "def print_errors(strider_result):\n",
    "    errorcounts = defaultdict(int)\n",
    "    for logmessage in strider_result['logs']:\n",
    "        if logmessage['level'] == 'ERROR':\n",
    "            jm = json.loads(logmessage['message'])\n",
    "            words = jm['error'].split()\n",
    "            e = \" \".join(words[:-5])\n",
    "            errorcounts[e] += 1\n",
    "    for error,count in errorcounts.items():\n",
    "        print(f'{error} ({count} times)')\n",
    "        \n",
    "def print_queried_sources(strider_result):\n",
    "    querycounts = defaultdict(int)\n",
    "    for logmessage in strider_result['logs']:\n",
    "        j = json.loads(logmessage['message'])\n",
    "        if 'url' in j:\n",
    "            querycounts[j['url']] += 1\n",
    "    for url,count in querycounts.items():\n",
    "        print(f'{url} ({count} times)')\n",
    "        \n",
    "def print_query_for_source(strider_result,url):\n",
    "    for logmessage in strider_result['logs']:\n",
    "        j = json.loads(logmessage['message'])\n",
    "        if 'url' in j and j['url'] == url:\n",
    "            print(j)\n",
    "            return j"
   ]
  },
  {
   "cell_type": "code",
   "execution_count": 6,
   "id": "fantastic-antique",
   "metadata": {},
   "outputs": [],
   "source": [
    "def retrieve_ars_results(mid):\n",
    "    message_url = f'https://ars.transltr.io/ars/api/messages/{mid}?trace=y'\n",
    "    response = requests.get(message_url)\n",
    "    j = response.json()\n",
    "    results = {}\n",
    "    for child in j['children']:\n",
    "        if child['actor']['agent'] in ['ara-aragorn', 'ara-aragorn-exp']:\n",
    "            childmessage_id = child['message']\n",
    "            child_url = f'https://ars.transltr.io/ars/api/messages/{childmessage_id}'\n",
    "            child_response = requests.get(child_url).json()\n",
    "            try:\n",
    "                nresults = len(child_response['fields']['data']['message']['results'])\n",
    "                if nresults > 0:\n",
    "                    results[child['actor']['agent']] = {'message':child_response['fields']['data']['message']}\n",
    "            except:\n",
    "                nresults=0\n",
    "            print( child['status'], child['actor']['agent'],nresults )\n",
    "    return results"
   ]
  },
  {
   "cell_type": "code",
   "execution_count": 7,
   "id": "corporate-ambassador",
   "metadata": {},
   "outputs": [],
   "source": [
    "def get_provenance(message):\n",
    "    \"\"\"Given a message with results, find the source of the edges\"\"\"\n",
    "    prov = defaultdict(lambda: defaultdict(int)) # {qedge->{source->count}}\n",
    "    results = message['message']['results']\n",
    "    kg = message['message']['knowledge_graph']['edges']\n",
    "    edge_bindings = [ r['edge_bindings'] for r in results ]\n",
    "    for bindings in edge_bindings:\n",
    "        for qg_e, kg_l in bindings.items():\n",
    "            for kg_e in kg_l:\n",
    "                for att in kg[kg_e['id']]['attributes']:\n",
    "                    if att['name'] == 'provenance':\n",
    "                        source = att['value']\n",
    "                        prov[qg_e][source]+=1\n",
    "    qg_edges = []\n",
    "    sources = []\n",
    "    counts = []\n",
    "    for qg_e in prov:\n",
    "        for source in prov[qg_e]:\n",
    "            qg_edges.append(qg_e)\n",
    "            sources.append(source)\n",
    "            counts.append(prov[qg_e][source])\n",
    "    prov_table = pd.DataFrame({\"QG Edge\":qg_edges, \"Source\":sources, \"Count\":counts})\n",
    "    return prov_table"
   ]
  },
  {
   "cell_type": "code",
   "execution_count": 8,
   "id": "general-unemployment",
   "metadata": {},
   "outputs": [],
   "source": [
    "def ac_to_table(aragorn_result,mnode):\n",
    "    scores = []\n",
    "    answer_node_count = []\n",
    "    merged_count = []\n",
    "    method = []\n",
    "    extra = []\n",
    "    for res_i, result in enumerate(aragorn_result['message']['results']):\n",
    "        scores.append(result['score'])\n",
    "        answer_node_count.append(len(result['node_bindings']))\n",
    "        merged_count.append(len(result['node_bindings'][mnode]))\n",
    "        try:\n",
    "            method.append(result['node_bindings'][mnode][0]['coalescence_method'])\n",
    "        except:\n",
    "            method.append('Original')\n",
    "    df = pd.DataFrame({'N_Answer_Nodes':answer_node_count, 'N_Merged_Nodes':merged_count, 'Method':method, 'Score':scores})\n",
    "    return df\n",
    "\n",
    "def filter_to_simple(aragorn_result,mnode):\n",
    "    simple_result = copy.deepcopy(aragorn_result)\n",
    "    simple_result['message']['results'] = list(\n",
    "    filter( lambda x: 'coalescence_method' not in x['node_bindings'][mnode][0], \n",
    "           aragorn_result['message']['results'])\n",
    "    )\n",
    "    print(len(simple_result['message']['results']))\n",
    "    return simple_result\n",
    "\n",
    "def print_nodenames(simple_result,qnode):\n",
    "    #Print the names of the answers\n",
    "    for result in simple_result['message']['results']:\n",
    "        #Each answer has an identifier:\n",
    "        n1_id = result['node_bindings'][qnode][0]['id']\n",
    "        #The information for that identifier is in the KG:\n",
    "        node = simple_result['message']['knowledge_graph']['nodes'][n1_id]\n",
    "        #Each node has a name\n",
    "        print(node['name'])\n",
    "\n",
    "def filter_to_coal(aragorn_result,mnode,method):\n",
    "    #The results that have been coalesced:\n",
    "    coalesced_results = list(\n",
    "        filter( lambda x: 'coalescence_method'  in x['node_bindings'][mnode][0], \n",
    "               aragorn_result['message']['results'])\n",
    "    )\n",
    "    #Those that have been coalesced via a new node (graph coalescence)\n",
    "    graph_coalesced_results = list(\n",
    "        filter( lambda x: x['node_bindings'][mnode][0]['coalescence_method'] == method, coalesced_results)\n",
    "    )\n",
    "    print(len(graph_coalesced_results))\n",
    "    simple_result = copy.deepcopy(aragorn_result)\n",
    "    simple_result['message']['results'] = graph_coalesced_results\n",
    "    return simple_result\n",
    "\n",
    "def filter_to_gc(aragorn_result,mnode):\n",
    "    return filter_to_coal(aragorn_result,mnode,'graph_enrichment')\n",
    "\n",
    "def filter_to_pc(aragorn_result,mnode):\n",
    "    return filter_to_coal(aragorn_result,mnode,'property_enrichment')"
   ]
  },
  {
   "cell_type": "code",
   "execution_count": 9,
   "id": "considerable-mississippi",
   "metadata": {},
   "outputs": [],
   "source": [
    "def submit_to_ars(m):\n",
    "    submit_url = 'https://ars.transltr.io/ars/api/submit'\n",
    "    response = requests.post(submit_url,json=m)\n",
    "    try:\n",
    "        message_id = response.json()['pk']\n",
    "    except:\n",
    "        print('fail')\n",
    "        message_id = None\n",
    "    print(f'https://arax.ncats.io/?source=ARS&id={message_id}')\n",
    "    return message_id\n",
    "\n",
    "def retrieve_ars_results(mid):\n",
    "    message_url = f'https://ars.transltr.io/ars/api/messages/{mid}?trace=y'\n",
    "    response = requests.get(message_url)\n",
    "    j = response.json()\n",
    "    print( j['status'] )\n",
    "    results = {}\n",
    "    for child in j['children']:\n",
    "        if child['status'] == 'Done':\n",
    "            childmessage_id = child['message']\n",
    "            child_url = f'https://ars.transltr.io/ars/api/messages/{childmessage_id}'\n",
    "            child_response = requests.get(child_url).json()\n",
    "            try:\n",
    "                nresults = len(child_response['fields']['data']['message']['results'])\n",
    "                if nresults > 0:\n",
    "                    results[child['actor']['agent']] = {'message':child_response['fields']['data']['message']}\n",
    "            except:\n",
    "                nresults=0\n",
    "        else:\n",
    "            nresults = 0\n",
    "        print( child['status'], child['actor']['agent'],nresults )\n",
    "    return results"
   ]
  },
  {
   "cell_type": "markdown",
   "id": "through-reporter",
   "metadata": {},
   "source": [
    "# RHOBTB2"
   ]
  },
  {
   "cell_type": "code",
   "execution_count": 10,
   "id": "exposed-american",
   "metadata": {},
   "outputs": [],
   "source": [
    "m={\n",
    "    \"message\": {\n",
    "        \"query_graph\": {\n",
    "            \"nodes\": {\n",
    "                \"n0\": {\n",
    "                    \"category\": [\n",
    "                        \"biolink:ChemicalSubstance\"\n",
    "                    ],\n",
    "                    \"name\": \"Chemical Substance\"\n",
    "                },\n",
    "                \"n1\": {\n",
    "                    \"name\": \"RHOBTB2\",\n",
    "                    \"id\": \"NCBIGene:23221\"\n",
    "                }\n",
    "            },\n",
    "            \"edges\": {\n",
    "                \"e0\": {\n",
    "                    \"subject\": \"n0\",\n",
    "                    \"object\": \"n1\",\n",
    "                    \"predicate\": [\n",
    "                        \"biolink:decreases_abundance_of\",\n",
    "                        \"biolink:decreases_activity_of\",\n",
    "                        \"biolink:decreases_expression_of\",\n",
    "                        \"biolink:interacts_with\"\n",
    "                    ]\n",
    "                }\n",
    "            }\n",
    "        }\n",
    "    }\n",
    "}"
   ]
  },
  {
   "cell_type": "markdown",
   "id": "falling-regulation",
   "metadata": {},
   "source": [
    "## Strider Direct"
   ]
  },
  {
   "cell_type": "code",
   "execution_count": 11,
   "id": "assisted-knight",
   "metadata": {},
   "outputs": [
    {
     "name": "stdout",
     "output_type": "stream",
     "text": [
      "<function strider at 0x7f840533f940> error: 504\n"
     ]
    },
    {
     "ename": "JSONDecodeError",
     "evalue": "Expecting value: line 1 column 1 (char 0)",
     "output_type": "error",
     "traceback": [
      "\u001b[0;31m---------------------------------------------------------------------------\u001b[0m",
      "\u001b[0;31mJSONDecodeError\u001b[0m                           Traceback (most recent call last)",
      "\u001b[0;32m<ipython-input-11-af7d07d3f0c6>\u001b[0m in \u001b[0;36m<module>\u001b[0;34m\u001b[0m\n\u001b[1;32m      1\u001b[0m \u001b[0mstart\u001b[0m \u001b[0;34m=\u001b[0m \u001b[0mdt\u001b[0m\u001b[0;34m.\u001b[0m\u001b[0mnow\u001b[0m\u001b[0;34m(\u001b[0m\u001b[0;34m)\u001b[0m\u001b[0;34m\u001b[0m\u001b[0;34m\u001b[0m\u001b[0m\n\u001b[0;32m----> 2\u001b[0;31m \u001b[0mstrider_result\u001b[0m \u001b[0;34m=\u001b[0m \u001b[0mstrider\u001b[0m\u001b[0;34m(\u001b[0m\u001b[0mm\u001b[0m\u001b[0;34m)\u001b[0m\u001b[0;34m\u001b[0m\u001b[0;34m\u001b[0m\u001b[0m\n\u001b[0m\u001b[1;32m      3\u001b[0m \u001b[0mend\u001b[0m \u001b[0;34m=\u001b[0m \u001b[0mdt\u001b[0m\u001b[0;34m.\u001b[0m\u001b[0mnow\u001b[0m\u001b[0;34m(\u001b[0m\u001b[0;34m)\u001b[0m\u001b[0;34m\u001b[0m\u001b[0;34m\u001b[0m\u001b[0m\n\u001b[1;32m      4\u001b[0m \u001b[0mprint\u001b[0m\u001b[0;34m(\u001b[0m\u001b[0;34mf\"Strider produced {len(strider_result['message']['results'])} results in {end-start}.\"\u001b[0m\u001b[0;34m)\u001b[0m\u001b[0;34m\u001b[0m\u001b[0;34m\u001b[0m\u001b[0m\n",
      "\u001b[0;32m<ipython-input-4-651a6accc725>\u001b[0m in \u001b[0;36mstrider\u001b[0;34m(message)\u001b[0m\n\u001b[1;32m     18\u001b[0m \u001b[0;32mdef\u001b[0m \u001b[0mstrider\u001b[0m\u001b[0;34m(\u001b[0m\u001b[0mmessage\u001b[0m\u001b[0;34m)\u001b[0m\u001b[0;34m:\u001b[0m\u001b[0;34m\u001b[0m\u001b[0;34m\u001b[0m\u001b[0m\n\u001b[1;32m     19\u001b[0m     \u001b[0murl\u001b[0m \u001b[0;34m=\u001b[0m \u001b[0;34m'https://strider.renci.org/query?log_level=DEBUG'\u001b[0m\u001b[0;34m\u001b[0m\u001b[0;34m\u001b[0m\u001b[0m\n\u001b[0;32m---> 20\u001b[0;31m     \u001b[0mstrider_answer\u001b[0m \u001b[0;34m=\u001b[0m \u001b[0mpost\u001b[0m\u001b[0;34m(\u001b[0m\u001b[0mstrider\u001b[0m\u001b[0;34m,\u001b[0m\u001b[0murl\u001b[0m\u001b[0;34m,\u001b[0m\u001b[0mmessage\u001b[0m\u001b[0;34m)\u001b[0m\u001b[0;34m\u001b[0m\u001b[0;34m\u001b[0m\u001b[0m\n\u001b[0m\u001b[1;32m     21\u001b[0m     \u001b[0;32mreturn\u001b[0m \u001b[0mstrider_answer\u001b[0m\u001b[0;34m\u001b[0m\u001b[0;34m\u001b[0m\u001b[0m\n\u001b[1;32m     22\u001b[0m \u001b[0;34m\u001b[0m\u001b[0m\n",
      "\u001b[0;32m<ipython-input-4-651a6accc725>\u001b[0m in \u001b[0;36mpost\u001b[0;34m(name, url, message, params)\u001b[0m\n\u001b[1;32m      6\u001b[0m     \u001b[0;32mif\u001b[0m \u001b[0;32mnot\u001b[0m \u001b[0mresponse\u001b[0m\u001b[0;34m.\u001b[0m\u001b[0mstatus_code\u001b[0m \u001b[0;34m==\u001b[0m \u001b[0;36m200\u001b[0m\u001b[0;34m:\u001b[0m\u001b[0;34m\u001b[0m\u001b[0;34m\u001b[0m\u001b[0m\n\u001b[1;32m      7\u001b[0m         \u001b[0mprint\u001b[0m\u001b[0;34m(\u001b[0m\u001b[0mname\u001b[0m\u001b[0;34m,\u001b[0m \u001b[0;34m'error:'\u001b[0m\u001b[0;34m,\u001b[0m\u001b[0mresponse\u001b[0m\u001b[0;34m.\u001b[0m\u001b[0mstatus_code\u001b[0m\u001b[0;34m)\u001b[0m\u001b[0;34m\u001b[0m\u001b[0;34m\u001b[0m\u001b[0m\n\u001b[0;32m----> 8\u001b[0;31m         \u001b[0mprint\u001b[0m\u001b[0;34m(\u001b[0m\u001b[0mresponse\u001b[0m\u001b[0;34m.\u001b[0m\u001b[0mjson\u001b[0m\u001b[0;34m(\u001b[0m\u001b[0;34m)\u001b[0m\u001b[0;34m)\u001b[0m\u001b[0;34m\u001b[0m\u001b[0;34m\u001b[0m\u001b[0m\n\u001b[0m\u001b[1;32m      9\u001b[0m         \u001b[0;32mreturn\u001b[0m \u001b[0;34m{\u001b[0m\u001b[0;34m}\u001b[0m\u001b[0;34m\u001b[0m\u001b[0;34m\u001b[0m\u001b[0m\n\u001b[1;32m     10\u001b[0m     \u001b[0;32mreturn\u001b[0m \u001b[0mresponse\u001b[0m\u001b[0;34m.\u001b[0m\u001b[0mjson\u001b[0m\u001b[0;34m(\u001b[0m\u001b[0;34m)\u001b[0m\u001b[0;34m\u001b[0m\u001b[0;34m\u001b[0m\u001b[0m\n",
      "\u001b[0;32m/opt/anaconda3/envs/minihackathons/lib/python3.9/site-packages/requests/models.py\u001b[0m in \u001b[0;36mjson\u001b[0;34m(self, **kwargs)\u001b[0m\n\u001b[1;32m    898\u001b[0m                     \u001b[0;31m# used.\u001b[0m\u001b[0;34m\u001b[0m\u001b[0;34m\u001b[0m\u001b[0;34m\u001b[0m\u001b[0m\n\u001b[1;32m    899\u001b[0m                     \u001b[0;32mpass\u001b[0m\u001b[0;34m\u001b[0m\u001b[0;34m\u001b[0m\u001b[0m\n\u001b[0;32m--> 900\u001b[0;31m         \u001b[0;32mreturn\u001b[0m \u001b[0mcomplexjson\u001b[0m\u001b[0;34m.\u001b[0m\u001b[0mloads\u001b[0m\u001b[0;34m(\u001b[0m\u001b[0mself\u001b[0m\u001b[0;34m.\u001b[0m\u001b[0mtext\u001b[0m\u001b[0;34m,\u001b[0m \u001b[0;34m**\u001b[0m\u001b[0mkwargs\u001b[0m\u001b[0;34m)\u001b[0m\u001b[0;34m\u001b[0m\u001b[0;34m\u001b[0m\u001b[0m\n\u001b[0m\u001b[1;32m    901\u001b[0m \u001b[0;34m\u001b[0m\u001b[0m\n\u001b[1;32m    902\u001b[0m     \u001b[0;34m@\u001b[0m\u001b[0mproperty\u001b[0m\u001b[0;34m\u001b[0m\u001b[0;34m\u001b[0m\u001b[0m\n",
      "\u001b[0;32m/opt/anaconda3/envs/minihackathons/lib/python3.9/json/__init__.py\u001b[0m in \u001b[0;36mloads\u001b[0;34m(s, cls, object_hook, parse_float, parse_int, parse_constant, object_pairs_hook, **kw)\u001b[0m\n\u001b[1;32m    344\u001b[0m             \u001b[0mparse_int\u001b[0m \u001b[0;32mis\u001b[0m \u001b[0;32mNone\u001b[0m \u001b[0;32mand\u001b[0m \u001b[0mparse_float\u001b[0m \u001b[0;32mis\u001b[0m \u001b[0;32mNone\u001b[0m \u001b[0;32mand\u001b[0m\u001b[0;34m\u001b[0m\u001b[0;34m\u001b[0m\u001b[0m\n\u001b[1;32m    345\u001b[0m             parse_constant is None and object_pairs_hook is None and not kw):\n\u001b[0;32m--> 346\u001b[0;31m         \u001b[0;32mreturn\u001b[0m \u001b[0m_default_decoder\u001b[0m\u001b[0;34m.\u001b[0m\u001b[0mdecode\u001b[0m\u001b[0;34m(\u001b[0m\u001b[0ms\u001b[0m\u001b[0;34m)\u001b[0m\u001b[0;34m\u001b[0m\u001b[0;34m\u001b[0m\u001b[0m\n\u001b[0m\u001b[1;32m    347\u001b[0m     \u001b[0;32mif\u001b[0m \u001b[0mcls\u001b[0m \u001b[0;32mis\u001b[0m \u001b[0;32mNone\u001b[0m\u001b[0;34m:\u001b[0m\u001b[0;34m\u001b[0m\u001b[0;34m\u001b[0m\u001b[0m\n\u001b[1;32m    348\u001b[0m         \u001b[0mcls\u001b[0m \u001b[0;34m=\u001b[0m \u001b[0mJSONDecoder\u001b[0m\u001b[0;34m\u001b[0m\u001b[0;34m\u001b[0m\u001b[0m\n",
      "\u001b[0;32m/opt/anaconda3/envs/minihackathons/lib/python3.9/json/decoder.py\u001b[0m in \u001b[0;36mdecode\u001b[0;34m(self, s, _w)\u001b[0m\n\u001b[1;32m    335\u001b[0m \u001b[0;34m\u001b[0m\u001b[0m\n\u001b[1;32m    336\u001b[0m         \"\"\"\n\u001b[0;32m--> 337\u001b[0;31m         \u001b[0mobj\u001b[0m\u001b[0;34m,\u001b[0m \u001b[0mend\u001b[0m \u001b[0;34m=\u001b[0m \u001b[0mself\u001b[0m\u001b[0;34m.\u001b[0m\u001b[0mraw_decode\u001b[0m\u001b[0;34m(\u001b[0m\u001b[0ms\u001b[0m\u001b[0;34m,\u001b[0m \u001b[0midx\u001b[0m\u001b[0;34m=\u001b[0m\u001b[0m_w\u001b[0m\u001b[0;34m(\u001b[0m\u001b[0ms\u001b[0m\u001b[0;34m,\u001b[0m \u001b[0;36m0\u001b[0m\u001b[0;34m)\u001b[0m\u001b[0;34m.\u001b[0m\u001b[0mend\u001b[0m\u001b[0;34m(\u001b[0m\u001b[0;34m)\u001b[0m\u001b[0;34m)\u001b[0m\u001b[0;34m\u001b[0m\u001b[0;34m\u001b[0m\u001b[0m\n\u001b[0m\u001b[1;32m    338\u001b[0m         \u001b[0mend\u001b[0m \u001b[0;34m=\u001b[0m \u001b[0m_w\u001b[0m\u001b[0;34m(\u001b[0m\u001b[0ms\u001b[0m\u001b[0;34m,\u001b[0m \u001b[0mend\u001b[0m\u001b[0;34m)\u001b[0m\u001b[0;34m.\u001b[0m\u001b[0mend\u001b[0m\u001b[0;34m(\u001b[0m\u001b[0;34m)\u001b[0m\u001b[0;34m\u001b[0m\u001b[0;34m\u001b[0m\u001b[0m\n\u001b[1;32m    339\u001b[0m         \u001b[0;32mif\u001b[0m \u001b[0mend\u001b[0m \u001b[0;34m!=\u001b[0m \u001b[0mlen\u001b[0m\u001b[0;34m(\u001b[0m\u001b[0ms\u001b[0m\u001b[0;34m)\u001b[0m\u001b[0;34m:\u001b[0m\u001b[0;34m\u001b[0m\u001b[0;34m\u001b[0m\u001b[0m\n",
      "\u001b[0;32m/opt/anaconda3/envs/minihackathons/lib/python3.9/json/decoder.py\u001b[0m in \u001b[0;36mraw_decode\u001b[0;34m(self, s, idx)\u001b[0m\n\u001b[1;32m    353\u001b[0m             \u001b[0mobj\u001b[0m\u001b[0;34m,\u001b[0m \u001b[0mend\u001b[0m \u001b[0;34m=\u001b[0m \u001b[0mself\u001b[0m\u001b[0;34m.\u001b[0m\u001b[0mscan_once\u001b[0m\u001b[0;34m(\u001b[0m\u001b[0ms\u001b[0m\u001b[0;34m,\u001b[0m \u001b[0midx\u001b[0m\u001b[0;34m)\u001b[0m\u001b[0;34m\u001b[0m\u001b[0;34m\u001b[0m\u001b[0m\n\u001b[1;32m    354\u001b[0m         \u001b[0;32mexcept\u001b[0m \u001b[0mStopIteration\u001b[0m \u001b[0;32mas\u001b[0m \u001b[0merr\u001b[0m\u001b[0;34m:\u001b[0m\u001b[0;34m\u001b[0m\u001b[0;34m\u001b[0m\u001b[0m\n\u001b[0;32m--> 355\u001b[0;31m             \u001b[0;32mraise\u001b[0m \u001b[0mJSONDecodeError\u001b[0m\u001b[0;34m(\u001b[0m\u001b[0;34m\"Expecting value\"\u001b[0m\u001b[0;34m,\u001b[0m \u001b[0ms\u001b[0m\u001b[0;34m,\u001b[0m \u001b[0merr\u001b[0m\u001b[0;34m.\u001b[0m\u001b[0mvalue\u001b[0m\u001b[0;34m)\u001b[0m \u001b[0;32mfrom\u001b[0m \u001b[0;32mNone\u001b[0m\u001b[0;34m\u001b[0m\u001b[0;34m\u001b[0m\u001b[0m\n\u001b[0m\u001b[1;32m    356\u001b[0m         \u001b[0;32mreturn\u001b[0m \u001b[0mobj\u001b[0m\u001b[0;34m,\u001b[0m \u001b[0mend\u001b[0m\u001b[0;34m\u001b[0m\u001b[0;34m\u001b[0m\u001b[0m\n",
      "\u001b[0;31mJSONDecodeError\u001b[0m: Expecting value: line 1 column 1 (char 0)"
     ]
    }
   ],
   "source": [
    "start = dt.now()\n",
    "strider_result = strider(m)\n",
    "end = dt.now()\n",
    "print(f\"Strider produced {len(strider_result['message']['results'])} results in {end-start}.\")"
   ]
  },
  {
   "cell_type": "markdown",
   "id": "handmade-judge",
   "metadata": {},
   "source": [
    "At least according to the ROBOKOP database, this is correct, we don't really have any gene/chemical relations.  We do have some gene/gene, but it's all interacts with.  I also tried a direct CAM-KP query but no results there."
   ]
  },
  {
   "cell_type": "markdown",
   "id": "suburban-intersection",
   "metadata": {},
   "source": [
    "### Provenance"
   ]
  },
  {
   "cell_type": "code",
   "execution_count": null,
   "id": "silent-accuracy",
   "metadata": {},
   "outputs": [],
   "source": [
    "prov = get_provenance(strider_result)\n",
    "display(prov)"
   ]
  },
  {
   "cell_type": "markdown",
   "id": "periodic-edwards",
   "metadata": {},
   "source": [
    "### Queried sources"
   ]
  },
  {
   "cell_type": "code",
   "execution_count": null,
   "id": "bacterial-dairy",
   "metadata": {},
   "outputs": [],
   "source": [
    "print_queried_sources(strider_result)"
   ]
  },
  {
   "cell_type": "markdown",
   "id": "binding-village",
   "metadata": {},
   "source": [
    "### Errors"
   ]
  },
  {
   "cell_type": "code",
   "execution_count": null,
   "id": "sweet-edgar",
   "metadata": {},
   "outputs": [],
   "source": [
    "print_errors(strider_result)"
   ]
  },
  {
   "cell_type": "code",
   "execution_count": null,
   "id": "according-november",
   "metadata": {},
   "outputs": [],
   "source": [
    "strider_result['logs']"
   ]
  },
  {
   "cell_type": "markdown",
   "id": "preliminary-argentina",
   "metadata": {},
   "source": [
    "### Results"
   ]
  },
  {
   "cell_type": "code",
   "execution_count": 107,
   "id": "waiting-hybrid",
   "metadata": {},
   "outputs": [],
   "source": [
    "view = GammaViewer(props={\"data\":strider_result})\n",
    "display(view)"
   ]
  },
  {
   "cell_type": "markdown",
   "id": "regular-acting",
   "metadata": {},
   "source": [
    "### Strider Assessment"
   ]
  },
  {
   "cell_type": "markdown",
   "id": "blessed-jonathan",
   "metadata": {},
   "source": [
    "We are only getting \"Affected by\" results a la Molepro, which are not specific enough to make this work.  According to ROBOKOP there should be edges from ctd, pharos, and mychem with 'increases activity of'.  The logs look oddly truncated?"
   ]
  },
  {
   "cell_type": "markdown",
   "id": "tested-completion",
   "metadata": {},
   "source": [
    "## ARAGORN "
   ]
  },
  {
   "cell_type": "code",
   "execution_count": 70,
   "id": "continuing-queen",
   "metadata": {},
   "outputs": [
    {
     "name": "stdout",
     "output_type": "stream",
     "text": [
      "Error, no result field\n"
     ]
    }
   ],
   "source": [
    "start = dt.now()\n",
    "aragorn_result = aragorn(egfr_m)\n",
    "end = dt.now()\n",
    "if 'results' in aragorn_result['message']:\n",
    "    print(f\"ARAGORN produced {len(aragorn_result['message']['results'])} results in {end-start}.\")\n",
    "else:\n",
    "    print('Error, no result field')"
   ]
  },
  {
   "cell_type": "markdown",
   "id": "editorial-diabetes",
   "metadata": {},
   "source": [
    "### ARAGORN Assessment"
   ]
  },
  {
   "cell_type": "markdown",
   "id": "compatible-registration",
   "metadata": {},
   "source": [
    "How did we do?"
   ]
  }
 ],
 "metadata": {
  "kernelspec": {
   "display_name": "Python 3",
   "language": "python",
   "name": "python3"
  },
  "language_info": {
   "codemirror_mode": {
    "name": "ipython",
    "version": 3
   },
   "file_extension": ".py",
   "mimetype": "text/x-python",
   "name": "python",
   "nbconvert_exporter": "python",
   "pygments_lexer": "ipython3",
   "version": "3.9.1"
  }
 },
 "nbformat": 4,
 "nbformat_minor": 5
}
