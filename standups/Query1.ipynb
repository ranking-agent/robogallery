{
 "cells": [
  {
   "cell_type": "markdown",
   "id": "controversial-detroit",
   "metadata": {},
   "source": [
    "# Setup"
   ]
  },
  {
   "cell_type": "code",
   "execution_count": 27,
   "id": "caring-bacteria",
   "metadata": {},
   "outputs": [],
   "source": [
    "import json\n",
    "import requests\n",
    "from datetime import datetime as dt\n",
    "from collections import defaultdict\n",
    "import pandas as pd"
   ]
  },
  {
   "cell_type": "code",
   "execution_count": 28,
   "id": "graphic-exemption",
   "metadata": {},
   "outputs": [],
   "source": [
    "#https://pypi.org/project/gamma-viewer/\n",
    "from gamma_viewer import GammaViewer\n",
    "from IPython.display import display, Markdown"
   ]
  },
  {
   "cell_type": "code",
   "execution_count": 29,
   "id": "ecological-rhythm",
   "metadata": {},
   "outputs": [],
   "source": [
    "def printjson(j):\n",
    "    print(json.dumps(j,indent=4))\n",
    "def print_json(j):\n",
    "    printjson(j)"
   ]
  },
  {
   "cell_type": "code",
   "execution_count": 30,
   "id": "thick-encounter",
   "metadata": {},
   "outputs": [],
   "source": [
    "def post(name,url,message,params=None):\n",
    "    if params is None:\n",
    "        response = requests.post(url,json=message)\n",
    "    else:\n",
    "        response = requests.post(url,json=message,params=params)\n",
    "    if not response.status_code == 200:\n",
    "        print(name, 'error:',response.status_code)\n",
    "        print(response.json())\n",
    "        return {}\n",
    "    return response.json()\n",
    "\n",
    "def automat(db,message):\n",
    "    automat_url = f'https://automat.renci.org/{db}/query'\n",
    "    response = requests.post(automat_url,json=message)\n",
    "    print(response.status_code)\n",
    "    return response.json()\n",
    "\n",
    "def strider(message):\n",
    "    url = 'https://strider.renci.org/query?log_level=DEBUG'\n",
    "    strider_answer = post(strider,url,message)\n",
    "    return strider_answer\n",
    "\n",
    "def aragorn(message, coalesce_type='xnone'):\n",
    "    if coalesce_type == 'xnone':\n",
    "        answer = post('aragorn','https://aragorn.renci.org/query',message)\n",
    "    else:\n",
    "        answer = post('aragorn','https://aragorn.renci.org/query',message, params={'answer_coalesce_type':coalesce_type})\n",
    "    return answer\n",
    "\n",
    "##\n",
    "\n",
    "def bte(message):\n",
    "    url = 'https://api.bte.ncats.io/v1/query'\n",
    "    return post(strider,url,message)\n",
    "\n",
    "def coalesce(message,method='all'):\n",
    "    url = 'https://answercoalesce.renci.org/coalesce/graph'\n",
    "    return post('AC'+method,url,message)\n",
    "\n",
    "def striderandfriends(message):\n",
    "    strider_answer = strider(message)    \n",
    "    coalesced_answer = post('coalesce','https://answercoalesce.renci.org/coalesce/all',strider_answer)\n",
    "    omni_answer = post('omnicorp','https://aragorn-ranker.renci.org/omnicorp_overlay',coalesced_answer)\n",
    "    weighted_answer = post('weight','https://aragorn-ranker.renci.org/weight_correctness',omni_answer)\n",
    "    scored_answer = post('score','https://aragorn-ranker.renci.org/score',weighted_answer)\n",
    "    return strider_answer,coalesced_answer,omni_answer,weighted_answer,scored_answer"
   ]
  },
  {
   "cell_type": "code",
   "execution_count": 31,
   "id": "legislative-oriental",
   "metadata": {},
   "outputs": [],
   "source": [
    "def print_errors(strider_result):\n",
    "    errorcounts = defaultdict(int)\n",
    "    for logmessage in strider_result['logs']:\n",
    "        if logmessage['level'] == 'ERROR':\n",
    "            jm = json.loads(logmessage['message'])\n",
    "            words = jm['error'].split()\n",
    "            e = \" \".join(words[:-5])\n",
    "            errorcounts[e] += 1\n",
    "    for error,count in errorcounts.items():\n",
    "        print(f'{error} ({count} times)')\n",
    "        \n",
    "def print_queried_sources(strider_result):\n",
    "    querycounts = defaultdict(int)\n",
    "    for logmessage in strider_result['logs']:\n",
    "        j = json.loads(logmessage['message'])\n",
    "        if 'url' in j:\n",
    "            querycounts[j['url']] += 1\n",
    "    for url,count in querycounts.items():\n",
    "        print(f'{url} ({count} times)')"
   ]
  },
  {
   "cell_type": "code",
   "execution_count": 32,
   "id": "fantastic-antique",
   "metadata": {},
   "outputs": [],
   "source": [
    "def retrieve_ars_results(mid):\n",
    "    message_url = f'https://ars.transltr.io/ars/api/messages/{mid}?trace=y'\n",
    "    response = requests.get(message_url)\n",
    "    j = response.json()\n",
    "    results = {}\n",
    "    for child in j['children']:\n",
    "        if child['actor']['agent'] in ['ara-aragorn', 'ara-aragorn-exp']:\n",
    "            childmessage_id = child['message']\n",
    "            child_url = f'https://ars.transltr.io/ars/api/messages/{childmessage_id}'\n",
    "            child_response = requests.get(child_url).json()\n",
    "            try:\n",
    "                nresults = len(child_response['fields']['data']['message']['results'])\n",
    "                if nresults > 0:\n",
    "                    results[child['actor']['agent']] = {'message':child_response['fields']['data']['message']}\n",
    "            except:\n",
    "                nresults=0\n",
    "            print( child['status'], child['actor']['agent'],nresults )\n",
    "    return results"
   ]
  },
  {
   "cell_type": "code",
   "execution_count": 33,
   "id": "corporate-ambassador",
   "metadata": {},
   "outputs": [],
   "source": [
    "def get_provenance(message):\n",
    "    \"\"\"Given a message with results, find the source of the edges\"\"\"\n",
    "    prov = defaultdict(lambda: defaultdict(int)) # {qedge->{source->count}}\n",
    "    results = message['message']['results']\n",
    "    kg = message['message']['knowledge_graph']['edges']\n",
    "    edge_bindings = [ r['edge_bindings'] for r in results ]\n",
    "    for bindings in edge_bindings:\n",
    "        for qg_e, kg_l in bindings.items():\n",
    "            for kg_e in kg_l:\n",
    "                for att in kg[kg_e['id']]['attributes']:\n",
    "                    if att['name'] == 'provenance':\n",
    "                        source = att['value']\n",
    "                        prov[qg_e][source]+=1\n",
    "    qg_edges = []\n",
    "    sources = []\n",
    "    counts = []\n",
    "    for qg_e in prov:\n",
    "        for source in prov[qg_e]:\n",
    "            qg_edges.append(qg_e)\n",
    "            sources.append(source)\n",
    "            counts.append(prov[qg_e][source])\n",
    "    prov_table = pd.DataFrame({\"QG Edge\":qg_edges, \"Source\":sources, \"Count\":counts})\n",
    "    return prov_table\n",
    "\n",
    "def print_query_for_source(strider_result,url):\n",
    "    for logmessage in strider_result['logs']:\n",
    "        j = json.loads(logmessage['message'])\n",
    "        if 'url' in j and j['url'] == url:\n",
    "            print(j)\n",
    "            \n",
    "def print_results_for_source(strider_result,url):\n",
    "    for logmessage in strider_result['logs']:\n",
    "        j = json.loads(logmessage['message'])\n",
    "        if 'url' in j and j['url'] == url:\n",
    "            req = j['request']\n",
    "            resp = j['response']\n",
    "            print(req['message']['query_graph'])\n",
    "            print(resp['message']['results'])\n",
    "            print(\"\")"
   ]
  },
  {
   "cell_type": "markdown",
   "id": "measured-neighborhood",
   "metadata": {},
   "source": [
    "## Query Specific"
   ]
  },
  {
   "cell_type": "code",
   "execution_count": 8,
   "id": "separate-summit",
   "metadata": {},
   "outputs": [],
   "source": [
    "standup_json='StandupDefinitions/standup_1.json'"
   ]
  },
  {
   "cell_type": "code",
   "execution_count": 9,
   "id": "republican-visitor",
   "metadata": {},
   "outputs": [],
   "source": [
    "with open(standup_json,'r') as jsonfile:\n",
    "    standup_info = json.load(jsonfile)"
   ]
  },
  {
   "cell_type": "code",
   "execution_count": 34,
   "id": "polish-consent",
   "metadata": {},
   "outputs": [
    {
     "data": {
      "text/markdown": [
       "# 1. Gene to Pathway"
      ],
      "text/plain": [
       "<IPython.core.display.Markdown object>"
      ]
     },
     "metadata": {},
     "output_type": "display_data"
    },
    {
     "data": {
      "text/markdown": [
       "What pathways are associated with CDK2 (NCBIGene:1017)"
      ],
      "text/plain": [
       "<IPython.core.display.Markdown object>"
      ]
     },
     "metadata": {},
     "output_type": "display_data"
    },
    {
     "name": "stdout",
     "output_type": "stream",
     "text": [
      "Github Issue: https://github.com/NCATSTranslator/testing/issues/9\n"
     ]
    }
   ],
   "source": [
    "display(Markdown(f\"# {standup_info['Query Title']}\"))\n",
    "display(Markdown(f\"{standup_info['Query Description']}\"))\n",
    "print(f'Github Issue: {standup_info[\"github_issue\"]}')"
   ]
  },
  {
   "cell_type": "markdown",
   "id": "institutional-subscriber",
   "metadata": {},
   "source": [
    "The query as run through the ARS:"
   ]
  },
  {
   "cell_type": "code",
   "execution_count": 35,
   "id": "periodic-walnut",
   "metadata": {},
   "outputs": [
    {
     "name": "stdout",
     "output_type": "stream",
     "text": [
      "{\n",
      "    \"message\": {\n",
      "        \"query_graph\": {\n",
      "            \"nodes\": {\n",
      "                \"n0\": {\n",
      "                    \"id\": \"NCBIGENE:1017\",\n",
      "                    \"category\": \"biolink:Gene\"\n",
      "                },\n",
      "                \"n1\": {\n",
      "                    \"category\": \"biolink:Pathway\"\n",
      "                }\n",
      "            },\n",
      "            \"edges\": {\n",
      "                \"e01\": {\n",
      "                    \"subject\": \"n0\",\n",
      "                    \"object\": \"n1\"\n",
      "                }\n",
      "            }\n",
      "        }\n",
      "    }\n",
      "}\n"
     ]
    }
   ],
   "source": [
    "query = json.loads(requests.get(standup_info['query_location']).content)\n",
    "printjson(query)"
   ]
  },
  {
   "cell_type": "markdown",
   "id": "armed-sense",
   "metadata": {},
   "source": [
    "However, NCBIGENE has been replaced as a prefix with NCBIGene, so the more proper query is:"
   ]
  },
  {
   "cell_type": "code",
   "execution_count": 36,
   "id": "silent-discipline",
   "metadata": {},
   "outputs": [
    {
     "name": "stdout",
     "output_type": "stream",
     "text": [
      "{\n",
      "    \"message\": {\n",
      "        \"query_graph\": {\n",
      "            \"nodes\": {\n",
      "                \"n0\": {\n",
      "                    \"id\": \"NCBIGene:1017\",\n",
      "                    \"category\": \"biolink:Gene\"\n",
      "                },\n",
      "                \"n1\": {\n",
      "                    \"category\": \"biolink:Pathway\"\n",
      "                }\n",
      "            },\n",
      "            \"edges\": {\n",
      "                \"e01\": {\n",
      "                    \"subject\": \"n0\",\n",
      "                    \"object\": \"n1\"\n",
      "                }\n",
      "            }\n",
      "        }\n",
      "    }\n",
      "}\n"
     ]
    }
   ],
   "source": [
    "query['message']['query_graph']['nodes']['n0']['id']='NCBIGene:1017'\n",
    "print_json(query)"
   ]
  },
  {
   "cell_type": "markdown",
   "id": "thousand-deviation",
   "metadata": {},
   "source": [
    "## ARS Assessment"
   ]
  },
  {
   "cell_type": "code",
   "execution_count": 18,
   "id": "finite-jewel",
   "metadata": {},
   "outputs": [],
   "source": [
    "ARS_Responses = [(dt.strptime(x['ARS_result_date'],'%Y-%m-%d'),x['ARS_result_id']) for x in standup_info['ARS_Results']]\n",
    "ARS_Responses.sort()"
   ]
  },
  {
   "cell_type": "code",
   "execution_count": 19,
   "id": "unlike-spencer",
   "metadata": {},
   "outputs": [
    {
     "data": {
      "text/markdown": [
       "### 2021-03-09 00:00:00"
      ],
      "text/plain": [
       "<IPython.core.display.Markdown object>"
      ]
     },
     "metadata": {},
     "output_type": "display_data"
    },
    {
     "ename": "KeyboardInterrupt",
     "evalue": "",
     "output_type": "error",
     "traceback": [
      "\u001b[0;31m---------------------------------------------------------------------------\u001b[0m",
      "\u001b[0;31mKeyboardInterrupt\u001b[0m                         Traceback (most recent call last)",
      "\u001b[0;32m<ipython-input-19-0443eb881d0c>\u001b[0m in \u001b[0;36m<module>\u001b[0;34m\u001b[0m\n\u001b[1;32m      1\u001b[0m \u001b[0;32mfor\u001b[0m \u001b[0mars_date\u001b[0m\u001b[0;34m,\u001b[0m \u001b[0mars_id\u001b[0m \u001b[0;32min\u001b[0m \u001b[0mARS_Responses\u001b[0m\u001b[0;34m:\u001b[0m\u001b[0;34m\u001b[0m\u001b[0;34m\u001b[0m\u001b[0m\n\u001b[1;32m      2\u001b[0m     \u001b[0mdisplay\u001b[0m\u001b[0;34m(\u001b[0m\u001b[0mMarkdown\u001b[0m\u001b[0;34m(\u001b[0m\u001b[0;34mf'### {ars_date}'\u001b[0m\u001b[0;34m)\u001b[0m\u001b[0;34m)\u001b[0m\u001b[0;34m\u001b[0m\u001b[0;34m\u001b[0m\u001b[0m\n\u001b[0;32m----> 3\u001b[0;31m     \u001b[0m_\u001b[0m \u001b[0;34m=\u001b[0m \u001b[0mretrieve_ars_results\u001b[0m\u001b[0;34m(\u001b[0m\u001b[0mars_id\u001b[0m\u001b[0;34m)\u001b[0m\u001b[0;34m\u001b[0m\u001b[0;34m\u001b[0m\u001b[0m\n\u001b[0m\u001b[1;32m      4\u001b[0m     \u001b[0mprint\u001b[0m\u001b[0;34m(\u001b[0m\u001b[0;34mf'https://arax.ncats.io/?source=ARS&id={ars_id}'\u001b[0m\u001b[0;34m)\u001b[0m\u001b[0;34m\u001b[0m\u001b[0;34m\u001b[0m\u001b[0m\n",
      "\u001b[0;32m<ipython-input-6-94fc96aaceb4>\u001b[0m in \u001b[0;36mretrieve_ars_results\u001b[0;34m(mid)\u001b[0m\n\u001b[1;32m      1\u001b[0m \u001b[0;32mdef\u001b[0m \u001b[0mretrieve_ars_results\u001b[0m\u001b[0;34m(\u001b[0m\u001b[0mmid\u001b[0m\u001b[0;34m)\u001b[0m\u001b[0;34m:\u001b[0m\u001b[0;34m\u001b[0m\u001b[0;34m\u001b[0m\u001b[0m\n\u001b[1;32m      2\u001b[0m     \u001b[0mmessage_url\u001b[0m \u001b[0;34m=\u001b[0m \u001b[0;34mf'https://ars.transltr.io/ars/api/messages/{mid}?trace=y'\u001b[0m\u001b[0;34m\u001b[0m\u001b[0;34m\u001b[0m\u001b[0m\n\u001b[0;32m----> 3\u001b[0;31m     \u001b[0mresponse\u001b[0m \u001b[0;34m=\u001b[0m \u001b[0mrequests\u001b[0m\u001b[0;34m.\u001b[0m\u001b[0mget\u001b[0m\u001b[0;34m(\u001b[0m\u001b[0mmessage_url\u001b[0m\u001b[0;34m)\u001b[0m\u001b[0;34m\u001b[0m\u001b[0;34m\u001b[0m\u001b[0m\n\u001b[0m\u001b[1;32m      4\u001b[0m     \u001b[0mj\u001b[0m \u001b[0;34m=\u001b[0m \u001b[0mresponse\u001b[0m\u001b[0;34m.\u001b[0m\u001b[0mjson\u001b[0m\u001b[0;34m(\u001b[0m\u001b[0;34m)\u001b[0m\u001b[0;34m\u001b[0m\u001b[0;34m\u001b[0m\u001b[0m\n\u001b[1;32m      5\u001b[0m     \u001b[0mresults\u001b[0m \u001b[0;34m=\u001b[0m \u001b[0;34m{\u001b[0m\u001b[0;34m}\u001b[0m\u001b[0;34m\u001b[0m\u001b[0;34m\u001b[0m\u001b[0m\n",
      "\u001b[0;32m/opt/anaconda3/envs/minihackathons/lib/python3.9/site-packages/requests/api.py\u001b[0m in \u001b[0;36mget\u001b[0;34m(url, params, **kwargs)\u001b[0m\n\u001b[1;32m     74\u001b[0m \u001b[0;34m\u001b[0m\u001b[0m\n\u001b[1;32m     75\u001b[0m     \u001b[0mkwargs\u001b[0m\u001b[0;34m.\u001b[0m\u001b[0msetdefault\u001b[0m\u001b[0;34m(\u001b[0m\u001b[0;34m'allow_redirects'\u001b[0m\u001b[0;34m,\u001b[0m \u001b[0;32mTrue\u001b[0m\u001b[0;34m)\u001b[0m\u001b[0;34m\u001b[0m\u001b[0;34m\u001b[0m\u001b[0m\n\u001b[0;32m---> 76\u001b[0;31m     \u001b[0;32mreturn\u001b[0m \u001b[0mrequest\u001b[0m\u001b[0;34m(\u001b[0m\u001b[0;34m'get'\u001b[0m\u001b[0;34m,\u001b[0m \u001b[0murl\u001b[0m\u001b[0;34m,\u001b[0m \u001b[0mparams\u001b[0m\u001b[0;34m=\u001b[0m\u001b[0mparams\u001b[0m\u001b[0;34m,\u001b[0m \u001b[0;34m**\u001b[0m\u001b[0mkwargs\u001b[0m\u001b[0;34m)\u001b[0m\u001b[0;34m\u001b[0m\u001b[0;34m\u001b[0m\u001b[0m\n\u001b[0m\u001b[1;32m     77\u001b[0m \u001b[0;34m\u001b[0m\u001b[0m\n\u001b[1;32m     78\u001b[0m \u001b[0;34m\u001b[0m\u001b[0m\n",
      "\u001b[0;32m/opt/anaconda3/envs/minihackathons/lib/python3.9/site-packages/requests/api.py\u001b[0m in \u001b[0;36mrequest\u001b[0;34m(method, url, **kwargs)\u001b[0m\n\u001b[1;32m     59\u001b[0m     \u001b[0;31m# cases, and look like a memory leak in others.\u001b[0m\u001b[0;34m\u001b[0m\u001b[0;34m\u001b[0m\u001b[0;34m\u001b[0m\u001b[0m\n\u001b[1;32m     60\u001b[0m     \u001b[0;32mwith\u001b[0m \u001b[0msessions\u001b[0m\u001b[0;34m.\u001b[0m\u001b[0mSession\u001b[0m\u001b[0;34m(\u001b[0m\u001b[0;34m)\u001b[0m \u001b[0;32mas\u001b[0m \u001b[0msession\u001b[0m\u001b[0;34m:\u001b[0m\u001b[0;34m\u001b[0m\u001b[0;34m\u001b[0m\u001b[0m\n\u001b[0;32m---> 61\u001b[0;31m         \u001b[0;32mreturn\u001b[0m \u001b[0msession\u001b[0m\u001b[0;34m.\u001b[0m\u001b[0mrequest\u001b[0m\u001b[0;34m(\u001b[0m\u001b[0mmethod\u001b[0m\u001b[0;34m=\u001b[0m\u001b[0mmethod\u001b[0m\u001b[0;34m,\u001b[0m \u001b[0murl\u001b[0m\u001b[0;34m=\u001b[0m\u001b[0murl\u001b[0m\u001b[0;34m,\u001b[0m \u001b[0;34m**\u001b[0m\u001b[0mkwargs\u001b[0m\u001b[0;34m)\u001b[0m\u001b[0;34m\u001b[0m\u001b[0;34m\u001b[0m\u001b[0m\n\u001b[0m\u001b[1;32m     62\u001b[0m \u001b[0;34m\u001b[0m\u001b[0m\n\u001b[1;32m     63\u001b[0m \u001b[0;34m\u001b[0m\u001b[0m\n",
      "\u001b[0;32m/opt/anaconda3/envs/minihackathons/lib/python3.9/site-packages/requests/sessions.py\u001b[0m in \u001b[0;36mrequest\u001b[0;34m(self, method, url, params, data, headers, cookies, files, auth, timeout, allow_redirects, proxies, hooks, stream, verify, cert, json)\u001b[0m\n\u001b[1;32m    540\u001b[0m         }\n\u001b[1;32m    541\u001b[0m         \u001b[0msend_kwargs\u001b[0m\u001b[0;34m.\u001b[0m\u001b[0mupdate\u001b[0m\u001b[0;34m(\u001b[0m\u001b[0msettings\u001b[0m\u001b[0;34m)\u001b[0m\u001b[0;34m\u001b[0m\u001b[0;34m\u001b[0m\u001b[0m\n\u001b[0;32m--> 542\u001b[0;31m         \u001b[0mresp\u001b[0m \u001b[0;34m=\u001b[0m \u001b[0mself\u001b[0m\u001b[0;34m.\u001b[0m\u001b[0msend\u001b[0m\u001b[0;34m(\u001b[0m\u001b[0mprep\u001b[0m\u001b[0;34m,\u001b[0m \u001b[0;34m**\u001b[0m\u001b[0msend_kwargs\u001b[0m\u001b[0;34m)\u001b[0m\u001b[0;34m\u001b[0m\u001b[0;34m\u001b[0m\u001b[0m\n\u001b[0m\u001b[1;32m    543\u001b[0m \u001b[0;34m\u001b[0m\u001b[0m\n\u001b[1;32m    544\u001b[0m         \u001b[0;32mreturn\u001b[0m \u001b[0mresp\u001b[0m\u001b[0;34m\u001b[0m\u001b[0;34m\u001b[0m\u001b[0m\n",
      "\u001b[0;32m/opt/anaconda3/envs/minihackathons/lib/python3.9/site-packages/requests/sessions.py\u001b[0m in \u001b[0;36msend\u001b[0;34m(self, request, **kwargs)\u001b[0m\n\u001b[1;32m    653\u001b[0m \u001b[0;34m\u001b[0m\u001b[0m\n\u001b[1;32m    654\u001b[0m         \u001b[0;31m# Send the request\u001b[0m\u001b[0;34m\u001b[0m\u001b[0;34m\u001b[0m\u001b[0;34m\u001b[0m\u001b[0m\n\u001b[0;32m--> 655\u001b[0;31m         \u001b[0mr\u001b[0m \u001b[0;34m=\u001b[0m \u001b[0madapter\u001b[0m\u001b[0;34m.\u001b[0m\u001b[0msend\u001b[0m\u001b[0;34m(\u001b[0m\u001b[0mrequest\u001b[0m\u001b[0;34m,\u001b[0m \u001b[0;34m**\u001b[0m\u001b[0mkwargs\u001b[0m\u001b[0;34m)\u001b[0m\u001b[0;34m\u001b[0m\u001b[0;34m\u001b[0m\u001b[0m\n\u001b[0m\u001b[1;32m    656\u001b[0m \u001b[0;34m\u001b[0m\u001b[0m\n\u001b[1;32m    657\u001b[0m         \u001b[0;31m# Total elapsed time of the request (approximately)\u001b[0m\u001b[0;34m\u001b[0m\u001b[0;34m\u001b[0m\u001b[0;34m\u001b[0m\u001b[0m\n",
      "\u001b[0;32m/opt/anaconda3/envs/minihackathons/lib/python3.9/site-packages/requests/adapters.py\u001b[0m in \u001b[0;36msend\u001b[0;34m(self, request, stream, timeout, verify, cert, proxies)\u001b[0m\n\u001b[1;32m    437\u001b[0m         \u001b[0;32mtry\u001b[0m\u001b[0;34m:\u001b[0m\u001b[0;34m\u001b[0m\u001b[0;34m\u001b[0m\u001b[0m\n\u001b[1;32m    438\u001b[0m             \u001b[0;32mif\u001b[0m \u001b[0;32mnot\u001b[0m \u001b[0mchunked\u001b[0m\u001b[0;34m:\u001b[0m\u001b[0;34m\u001b[0m\u001b[0;34m\u001b[0m\u001b[0m\n\u001b[0;32m--> 439\u001b[0;31m                 resp = conn.urlopen(\n\u001b[0m\u001b[1;32m    440\u001b[0m                     \u001b[0mmethod\u001b[0m\u001b[0;34m=\u001b[0m\u001b[0mrequest\u001b[0m\u001b[0;34m.\u001b[0m\u001b[0mmethod\u001b[0m\u001b[0;34m,\u001b[0m\u001b[0;34m\u001b[0m\u001b[0;34m\u001b[0m\u001b[0m\n\u001b[1;32m    441\u001b[0m                     \u001b[0murl\u001b[0m\u001b[0;34m=\u001b[0m\u001b[0murl\u001b[0m\u001b[0;34m,\u001b[0m\u001b[0;34m\u001b[0m\u001b[0;34m\u001b[0m\u001b[0m\n",
      "\u001b[0;32m/opt/anaconda3/envs/minihackathons/lib/python3.9/site-packages/urllib3/connectionpool.py\u001b[0m in \u001b[0;36murlopen\u001b[0;34m(self, method, url, body, headers, retries, redirect, assert_same_host, timeout, pool_timeout, release_conn, chunked, body_pos, **response_kw)\u001b[0m\n\u001b[1;32m    697\u001b[0m \u001b[0;34m\u001b[0m\u001b[0m\n\u001b[1;32m    698\u001b[0m             \u001b[0;31m# Make the request on the httplib connection object.\u001b[0m\u001b[0;34m\u001b[0m\u001b[0;34m\u001b[0m\u001b[0;34m\u001b[0m\u001b[0m\n\u001b[0;32m--> 699\u001b[0;31m             httplib_response = self._make_request(\n\u001b[0m\u001b[1;32m    700\u001b[0m                 \u001b[0mconn\u001b[0m\u001b[0;34m,\u001b[0m\u001b[0;34m\u001b[0m\u001b[0;34m\u001b[0m\u001b[0m\n\u001b[1;32m    701\u001b[0m                 \u001b[0mmethod\u001b[0m\u001b[0;34m,\u001b[0m\u001b[0;34m\u001b[0m\u001b[0;34m\u001b[0m\u001b[0m\n",
      "\u001b[0;32m/opt/anaconda3/envs/minihackathons/lib/python3.9/site-packages/urllib3/connectionpool.py\u001b[0m in \u001b[0;36m_make_request\u001b[0;34m(self, conn, method, url, timeout, chunked, **httplib_request_kw)\u001b[0m\n\u001b[1;32m    443\u001b[0m                     \u001b[0;31m# Python 3 (including for exceptions like SystemExit).\u001b[0m\u001b[0;34m\u001b[0m\u001b[0;34m\u001b[0m\u001b[0;34m\u001b[0m\u001b[0m\n\u001b[1;32m    444\u001b[0m                     \u001b[0;31m# Otherwise it looks like a bug in the code.\u001b[0m\u001b[0;34m\u001b[0m\u001b[0;34m\u001b[0m\u001b[0;34m\u001b[0m\u001b[0m\n\u001b[0;32m--> 445\u001b[0;31m                     \u001b[0msix\u001b[0m\u001b[0;34m.\u001b[0m\u001b[0mraise_from\u001b[0m\u001b[0;34m(\u001b[0m\u001b[0me\u001b[0m\u001b[0;34m,\u001b[0m \u001b[0;32mNone\u001b[0m\u001b[0;34m)\u001b[0m\u001b[0;34m\u001b[0m\u001b[0;34m\u001b[0m\u001b[0m\n\u001b[0m\u001b[1;32m    446\u001b[0m         \u001b[0;32mexcept\u001b[0m \u001b[0;34m(\u001b[0m\u001b[0mSocketTimeout\u001b[0m\u001b[0;34m,\u001b[0m \u001b[0mBaseSSLError\u001b[0m\u001b[0;34m,\u001b[0m \u001b[0mSocketError\u001b[0m\u001b[0;34m)\u001b[0m \u001b[0;32mas\u001b[0m \u001b[0me\u001b[0m\u001b[0;34m:\u001b[0m\u001b[0;34m\u001b[0m\u001b[0;34m\u001b[0m\u001b[0m\n\u001b[1;32m    447\u001b[0m             \u001b[0mself\u001b[0m\u001b[0;34m.\u001b[0m\u001b[0m_raise_timeout\u001b[0m\u001b[0;34m(\u001b[0m\u001b[0merr\u001b[0m\u001b[0;34m=\u001b[0m\u001b[0me\u001b[0m\u001b[0;34m,\u001b[0m \u001b[0murl\u001b[0m\u001b[0;34m=\u001b[0m\u001b[0murl\u001b[0m\u001b[0;34m,\u001b[0m \u001b[0mtimeout_value\u001b[0m\u001b[0;34m=\u001b[0m\u001b[0mread_timeout\u001b[0m\u001b[0;34m)\u001b[0m\u001b[0;34m\u001b[0m\u001b[0;34m\u001b[0m\u001b[0m\n",
      "\u001b[0;32m/opt/anaconda3/envs/minihackathons/lib/python3.9/site-packages/urllib3/packages/six.py\u001b[0m in \u001b[0;36mraise_from\u001b[0;34m(value, from_value)\u001b[0m\n",
      "\u001b[0;32m/opt/anaconda3/envs/minihackathons/lib/python3.9/site-packages/urllib3/connectionpool.py\u001b[0m in \u001b[0;36m_make_request\u001b[0;34m(self, conn, method, url, timeout, chunked, **httplib_request_kw)\u001b[0m\n\u001b[1;32m    438\u001b[0m                 \u001b[0;31m# Python 3\u001b[0m\u001b[0;34m\u001b[0m\u001b[0;34m\u001b[0m\u001b[0;34m\u001b[0m\u001b[0m\n\u001b[1;32m    439\u001b[0m                 \u001b[0;32mtry\u001b[0m\u001b[0;34m:\u001b[0m\u001b[0;34m\u001b[0m\u001b[0;34m\u001b[0m\u001b[0m\n\u001b[0;32m--> 440\u001b[0;31m                     \u001b[0mhttplib_response\u001b[0m \u001b[0;34m=\u001b[0m \u001b[0mconn\u001b[0m\u001b[0;34m.\u001b[0m\u001b[0mgetresponse\u001b[0m\u001b[0;34m(\u001b[0m\u001b[0;34m)\u001b[0m\u001b[0;34m\u001b[0m\u001b[0;34m\u001b[0m\u001b[0m\n\u001b[0m\u001b[1;32m    441\u001b[0m                 \u001b[0;32mexcept\u001b[0m \u001b[0mBaseException\u001b[0m \u001b[0;32mas\u001b[0m \u001b[0me\u001b[0m\u001b[0;34m:\u001b[0m\u001b[0;34m\u001b[0m\u001b[0;34m\u001b[0m\u001b[0m\n\u001b[1;32m    442\u001b[0m                     \u001b[0;31m# Remove the TypeError from the exception chain in\u001b[0m\u001b[0;34m\u001b[0m\u001b[0;34m\u001b[0m\u001b[0;34m\u001b[0m\u001b[0m\n",
      "\u001b[0;32m/opt/anaconda3/envs/minihackathons/lib/python3.9/http/client.py\u001b[0m in \u001b[0;36mgetresponse\u001b[0;34m(self)\u001b[0m\n\u001b[1;32m   1345\u001b[0m         \u001b[0;32mtry\u001b[0m\u001b[0;34m:\u001b[0m\u001b[0;34m\u001b[0m\u001b[0;34m\u001b[0m\u001b[0m\n\u001b[1;32m   1346\u001b[0m             \u001b[0;32mtry\u001b[0m\u001b[0;34m:\u001b[0m\u001b[0;34m\u001b[0m\u001b[0;34m\u001b[0m\u001b[0m\n\u001b[0;32m-> 1347\u001b[0;31m                 \u001b[0mresponse\u001b[0m\u001b[0;34m.\u001b[0m\u001b[0mbegin\u001b[0m\u001b[0;34m(\u001b[0m\u001b[0;34m)\u001b[0m\u001b[0;34m\u001b[0m\u001b[0;34m\u001b[0m\u001b[0m\n\u001b[0m\u001b[1;32m   1348\u001b[0m             \u001b[0;32mexcept\u001b[0m \u001b[0mConnectionError\u001b[0m\u001b[0;34m:\u001b[0m\u001b[0;34m\u001b[0m\u001b[0;34m\u001b[0m\u001b[0m\n\u001b[1;32m   1349\u001b[0m                 \u001b[0mself\u001b[0m\u001b[0;34m.\u001b[0m\u001b[0mclose\u001b[0m\u001b[0;34m(\u001b[0m\u001b[0;34m)\u001b[0m\u001b[0;34m\u001b[0m\u001b[0;34m\u001b[0m\u001b[0m\n",
      "\u001b[0;32m/opt/anaconda3/envs/minihackathons/lib/python3.9/http/client.py\u001b[0m in \u001b[0;36mbegin\u001b[0;34m(self)\u001b[0m\n\u001b[1;32m    305\u001b[0m         \u001b[0;31m# read until we get a non-100 response\u001b[0m\u001b[0;34m\u001b[0m\u001b[0;34m\u001b[0m\u001b[0;34m\u001b[0m\u001b[0m\n\u001b[1;32m    306\u001b[0m         \u001b[0;32mwhile\u001b[0m \u001b[0;32mTrue\u001b[0m\u001b[0;34m:\u001b[0m\u001b[0;34m\u001b[0m\u001b[0;34m\u001b[0m\u001b[0m\n\u001b[0;32m--> 307\u001b[0;31m             \u001b[0mversion\u001b[0m\u001b[0;34m,\u001b[0m \u001b[0mstatus\u001b[0m\u001b[0;34m,\u001b[0m \u001b[0mreason\u001b[0m \u001b[0;34m=\u001b[0m \u001b[0mself\u001b[0m\u001b[0;34m.\u001b[0m\u001b[0m_read_status\u001b[0m\u001b[0;34m(\u001b[0m\u001b[0;34m)\u001b[0m\u001b[0;34m\u001b[0m\u001b[0;34m\u001b[0m\u001b[0m\n\u001b[0m\u001b[1;32m    308\u001b[0m             \u001b[0;32mif\u001b[0m \u001b[0mstatus\u001b[0m \u001b[0;34m!=\u001b[0m \u001b[0mCONTINUE\u001b[0m\u001b[0;34m:\u001b[0m\u001b[0;34m\u001b[0m\u001b[0;34m\u001b[0m\u001b[0m\n\u001b[1;32m    309\u001b[0m                 \u001b[0;32mbreak\u001b[0m\u001b[0;34m\u001b[0m\u001b[0;34m\u001b[0m\u001b[0m\n",
      "\u001b[0;32m/opt/anaconda3/envs/minihackathons/lib/python3.9/http/client.py\u001b[0m in \u001b[0;36m_read_status\u001b[0;34m(self)\u001b[0m\n\u001b[1;32m    266\u001b[0m \u001b[0;34m\u001b[0m\u001b[0m\n\u001b[1;32m    267\u001b[0m     \u001b[0;32mdef\u001b[0m \u001b[0m_read_status\u001b[0m\u001b[0;34m(\u001b[0m\u001b[0mself\u001b[0m\u001b[0;34m)\u001b[0m\u001b[0;34m:\u001b[0m\u001b[0;34m\u001b[0m\u001b[0;34m\u001b[0m\u001b[0m\n\u001b[0;32m--> 268\u001b[0;31m         \u001b[0mline\u001b[0m \u001b[0;34m=\u001b[0m \u001b[0mstr\u001b[0m\u001b[0;34m(\u001b[0m\u001b[0mself\u001b[0m\u001b[0;34m.\u001b[0m\u001b[0mfp\u001b[0m\u001b[0;34m.\u001b[0m\u001b[0mreadline\u001b[0m\u001b[0;34m(\u001b[0m\u001b[0m_MAXLINE\u001b[0m \u001b[0;34m+\u001b[0m \u001b[0;36m1\u001b[0m\u001b[0;34m)\u001b[0m\u001b[0;34m,\u001b[0m \u001b[0;34m\"iso-8859-1\"\u001b[0m\u001b[0;34m)\u001b[0m\u001b[0;34m\u001b[0m\u001b[0;34m\u001b[0m\u001b[0m\n\u001b[0m\u001b[1;32m    269\u001b[0m         \u001b[0;32mif\u001b[0m \u001b[0mlen\u001b[0m\u001b[0;34m(\u001b[0m\u001b[0mline\u001b[0m\u001b[0;34m)\u001b[0m \u001b[0;34m>\u001b[0m \u001b[0m_MAXLINE\u001b[0m\u001b[0;34m:\u001b[0m\u001b[0;34m\u001b[0m\u001b[0;34m\u001b[0m\u001b[0m\n\u001b[1;32m    270\u001b[0m             \u001b[0;32mraise\u001b[0m \u001b[0mLineTooLong\u001b[0m\u001b[0;34m(\u001b[0m\u001b[0;34m\"status line\"\u001b[0m\u001b[0;34m)\u001b[0m\u001b[0;34m\u001b[0m\u001b[0;34m\u001b[0m\u001b[0m\n",
      "\u001b[0;32m/opt/anaconda3/envs/minihackathons/lib/python3.9/socket.py\u001b[0m in \u001b[0;36mreadinto\u001b[0;34m(self, b)\u001b[0m\n\u001b[1;32m    702\u001b[0m         \u001b[0;32mwhile\u001b[0m \u001b[0;32mTrue\u001b[0m\u001b[0;34m:\u001b[0m\u001b[0;34m\u001b[0m\u001b[0;34m\u001b[0m\u001b[0m\n\u001b[1;32m    703\u001b[0m             \u001b[0;32mtry\u001b[0m\u001b[0;34m:\u001b[0m\u001b[0;34m\u001b[0m\u001b[0;34m\u001b[0m\u001b[0m\n\u001b[0;32m--> 704\u001b[0;31m                 \u001b[0;32mreturn\u001b[0m \u001b[0mself\u001b[0m\u001b[0;34m.\u001b[0m\u001b[0m_sock\u001b[0m\u001b[0;34m.\u001b[0m\u001b[0mrecv_into\u001b[0m\u001b[0;34m(\u001b[0m\u001b[0mb\u001b[0m\u001b[0;34m)\u001b[0m\u001b[0;34m\u001b[0m\u001b[0;34m\u001b[0m\u001b[0m\n\u001b[0m\u001b[1;32m    705\u001b[0m             \u001b[0;32mexcept\u001b[0m \u001b[0mtimeout\u001b[0m\u001b[0;34m:\u001b[0m\u001b[0;34m\u001b[0m\u001b[0;34m\u001b[0m\u001b[0m\n\u001b[1;32m    706\u001b[0m                 \u001b[0mself\u001b[0m\u001b[0;34m.\u001b[0m\u001b[0m_timeout_occurred\u001b[0m \u001b[0;34m=\u001b[0m \u001b[0;32mTrue\u001b[0m\u001b[0;34m\u001b[0m\u001b[0;34m\u001b[0m\u001b[0m\n",
      "\u001b[0;32m/opt/anaconda3/envs/minihackathons/lib/python3.9/ssl.py\u001b[0m in \u001b[0;36mrecv_into\u001b[0;34m(self, buffer, nbytes, flags)\u001b[0m\n\u001b[1;32m   1239\u001b[0m                   \u001b[0;34m\"non-zero flags not allowed in calls to recv_into() on %s\"\u001b[0m \u001b[0;34m%\u001b[0m\u001b[0;34m\u001b[0m\u001b[0;34m\u001b[0m\u001b[0m\n\u001b[1;32m   1240\u001b[0m                   self.__class__)\n\u001b[0;32m-> 1241\u001b[0;31m             \u001b[0;32mreturn\u001b[0m \u001b[0mself\u001b[0m\u001b[0;34m.\u001b[0m\u001b[0mread\u001b[0m\u001b[0;34m(\u001b[0m\u001b[0mnbytes\u001b[0m\u001b[0;34m,\u001b[0m \u001b[0mbuffer\u001b[0m\u001b[0;34m)\u001b[0m\u001b[0;34m\u001b[0m\u001b[0;34m\u001b[0m\u001b[0m\n\u001b[0m\u001b[1;32m   1242\u001b[0m         \u001b[0;32melse\u001b[0m\u001b[0;34m:\u001b[0m\u001b[0;34m\u001b[0m\u001b[0;34m\u001b[0m\u001b[0m\n\u001b[1;32m   1243\u001b[0m             \u001b[0;32mreturn\u001b[0m \u001b[0msuper\u001b[0m\u001b[0;34m(\u001b[0m\u001b[0;34m)\u001b[0m\u001b[0;34m.\u001b[0m\u001b[0mrecv_into\u001b[0m\u001b[0;34m(\u001b[0m\u001b[0mbuffer\u001b[0m\u001b[0;34m,\u001b[0m \u001b[0mnbytes\u001b[0m\u001b[0;34m,\u001b[0m \u001b[0mflags\u001b[0m\u001b[0;34m)\u001b[0m\u001b[0;34m\u001b[0m\u001b[0;34m\u001b[0m\u001b[0m\n",
      "\u001b[0;32m/opt/anaconda3/envs/minihackathons/lib/python3.9/ssl.py\u001b[0m in \u001b[0;36mread\u001b[0;34m(self, len, buffer)\u001b[0m\n\u001b[1;32m   1097\u001b[0m         \u001b[0;32mtry\u001b[0m\u001b[0;34m:\u001b[0m\u001b[0;34m\u001b[0m\u001b[0;34m\u001b[0m\u001b[0m\n\u001b[1;32m   1098\u001b[0m             \u001b[0;32mif\u001b[0m \u001b[0mbuffer\u001b[0m \u001b[0;32mis\u001b[0m \u001b[0;32mnot\u001b[0m \u001b[0;32mNone\u001b[0m\u001b[0;34m:\u001b[0m\u001b[0;34m\u001b[0m\u001b[0;34m\u001b[0m\u001b[0m\n\u001b[0;32m-> 1099\u001b[0;31m                 \u001b[0;32mreturn\u001b[0m \u001b[0mself\u001b[0m\u001b[0;34m.\u001b[0m\u001b[0m_sslobj\u001b[0m\u001b[0;34m.\u001b[0m\u001b[0mread\u001b[0m\u001b[0;34m(\u001b[0m\u001b[0mlen\u001b[0m\u001b[0;34m,\u001b[0m \u001b[0mbuffer\u001b[0m\u001b[0;34m)\u001b[0m\u001b[0;34m\u001b[0m\u001b[0;34m\u001b[0m\u001b[0m\n\u001b[0m\u001b[1;32m   1100\u001b[0m             \u001b[0;32melse\u001b[0m\u001b[0;34m:\u001b[0m\u001b[0;34m\u001b[0m\u001b[0;34m\u001b[0m\u001b[0m\n\u001b[1;32m   1101\u001b[0m                 \u001b[0;32mreturn\u001b[0m \u001b[0mself\u001b[0m\u001b[0;34m.\u001b[0m\u001b[0m_sslobj\u001b[0m\u001b[0;34m.\u001b[0m\u001b[0mread\u001b[0m\u001b[0;34m(\u001b[0m\u001b[0mlen\u001b[0m\u001b[0;34m)\u001b[0m\u001b[0;34m\u001b[0m\u001b[0;34m\u001b[0m\u001b[0m\n",
      "\u001b[0;31mKeyboardInterrupt\u001b[0m: "
     ]
    }
   ],
   "source": [
    "for ars_date, ars_id in ARS_Responses:\n",
    "    display(Markdown(f'### {ars_date}'))\n",
    "    _ = retrieve_ars_results(ars_id)\n",
    "    print(f'https://arax.ncats.io/?source=ARS&id={ars_id}')"
   ]
  },
  {
   "cell_type": "markdown",
   "id": "falling-regulation",
   "metadata": {},
   "source": [
    "## Strider Direct"
   ]
  },
  {
   "cell_type": "code",
   "execution_count": 37,
   "id": "assisted-knight",
   "metadata": {},
   "outputs": [
    {
     "name": "stdout",
     "output_type": "stream",
     "text": [
      "Strider produced 0 results in 0:00:08.930828.\n"
     ]
    }
   ],
   "source": [
    "start = dt.now()\n",
    "strider_result = strider(query)\n",
    "end = dt.now()\n",
    "print(f\"Strider produced {len(strider_result['message']['results'])} results in {end-start}.\")"
   ]
  },
  {
   "cell_type": "markdown",
   "id": "suburban-intersection",
   "metadata": {},
   "source": [
    "### Provenance"
   ]
  },
  {
   "cell_type": "code",
   "execution_count": null,
   "id": "silent-accuracy",
   "metadata": {},
   "outputs": [],
   "source": [
    "prov = get_provenance(strider_result)\n",
    "display(prov)"
   ]
  },
  {
   "cell_type": "markdown",
   "id": "lightweight-component",
   "metadata": {},
   "source": [
    "### Queried sources"
   ]
  },
  {
   "cell_type": "code",
   "execution_count": 22,
   "id": "ideal-screening",
   "metadata": {},
   "outputs": [
    {
     "name": "stdout",
     "output_type": "stream",
     "text": [
      "https://stars-app.renci.org/cam-kp/query (10 times)\n",
      "https://trapi.monarchinitiative.org/query (1 times)\n"
     ]
    }
   ],
   "source": [
    "print_queried_sources(strider_result)"
   ]
  },
  {
   "cell_type": "markdown",
   "id": "binding-village",
   "metadata": {},
   "source": [
    "### Errors"
   ]
  },
  {
   "cell_type": "code",
   "execution_count": 23,
   "id": "sweet-edgar",
   "metadata": {},
   "outputs": [],
   "source": [
    "print_errors(strider_result)"
   ]
  },
  {
   "cell_type": "markdown",
   "id": "preliminary-argentina",
   "metadata": {},
   "source": [
    "### Results"
   ]
  },
  {
   "cell_type": "code",
   "execution_count": null,
   "id": "waiting-hybrid",
   "metadata": {},
   "outputs": [],
   "source": [
    "view = GammaViewer(props={\"data\":strider_result})\n",
    "display(view)"
   ]
  },
  {
   "cell_type": "code",
   "execution_count": 25,
   "id": "iraqi-strengthening",
   "metadata": {},
   "outputs": [
    {
     "name": "stdout",
     "output_type": "stream",
     "text": [
      "{'message': 'Received response from KP', 'url': 'https://trapi.monarchinitiative.org/query', 'request': {'message': {'query_graph': {'nodes': {'n0': {'category': 'biolink:Gene', 'is_set': False, 'id': 'NCBIGene:1017'}, 'n1': {'category': 'biolink:Pathway', 'is_set': False}}, 'edges': {'e01': {'subject': 'n0', 'object': 'n1', 'predicate': 'biolink:actively_involved_in'}}}}}, 'response': {'message': {'query_graph': {'nodes': {'n0': {'id': 'NCBIGene:1017', 'category': 'biolink:Gene', 'is_set': False}, 'n1': {'id': None, 'category': 'biolink:Pathway', 'is_set': False}}, 'edges': {'e01': {'subject': 'n0', 'object': 'n1', 'predicate': 'biolink:actively_involved_in', 'relation': None}}}, 'knowledge_graph': {'nodes': {'GO:0006977': {'category': ['biolink:NamedThing', 'biolink:BiologicalProcess', 'biolink:Occurrent', 'biolink:Pathway'], 'name': 'DNA damage response, signal transduction by p53 class mediator resulting in cell cycle arrest', 'attributes': [{'type': 'NA', 'value': 'http://purl.obolibrary.org/obo/GO_0006977', 'name': 'iri', 'url': None, 'source': None}, {'type': 'NA', 'value': ['positive regulation of cell cycle arrest by p53-mediated DNA damage response'], 'name': 'synonym', 'url': None, 'source': None}, {'type': 'NA', 'value': 'DNA damage response, signal transduction by p53 class mediator resulting in cell cycle arrest', 'name': 'name', 'url': None, 'source': None}, {'type': 'NA', 'value': 'A cascade of processes induced by the cell cycle regulator phosphoprotein p53, or an equivalent protein, in response to the detection of DNA damage and resulting in the stopping or reduction in rate of the cell cycle.', 'name': 'description', 'url': None, 'source': None}, {'type': 'NA', 'value': ['monarch-ontologies', 'go'], 'name': 'provided_by', 'url': None, 'source': None}]}, 'GO:0007165': {'category': ['biolink:NamedThing', 'biolink:BiologicalProcess', 'biolink:Occurrent', 'biolink:Pathway'], 'name': 'signal transduction', 'attributes': [{'type': 'NA', 'value': 'http://purl.obolibrary.org/obo/GO_0007165', 'name': 'iri', 'url': None, 'source': None}, {'type': 'NA', 'value': ['signalling cascade', 'signaling pathway', 'signalling pathway', 'signaling cascade'], 'name': 'synonym', 'url': None, 'source': None}, {'type': 'NA', 'value': ['Wikipedia:Signal_transduction', 'MIPS_funcat:30'], 'name': 'xref', 'url': None, 'source': None}, {'type': 'NA', 'value': 'signal transduction', 'name': 'name', 'url': None, 'source': None}, {'type': 'NA', 'value': 'The cellular process in which a signal is conveyed to trigger a change in the activity or state of a cell. Signal transduction begins with reception of a signal (e.g. a ligand binding to a receptor or receptor activation by a stimulus such as light), or for signal transduction in the absence of ligand, signal-withdrawal or the activity of a constitutively active receptor. Signal transduction ends with regulation of a downstream cellular process, e.g. regulation of transcription or regulation of a metabolic process. Signal transduction covers signaling from receptors located on the surface of the cell and signaling via molecules located within the cell. For signaling between cells, signal transduction is restricted to events at and within the receiving cell.', 'name': 'description', 'url': None, 'source': None}, {'type': 'NA', 'value': ['monarch-ontologies', 'go'], 'name': 'provided_by', 'url': None, 'source': None}, {'type': 'NA', 'value': ['goslim_plant', 'goslim_aspergillus', 'goslim_generic', 'goslim_chembl', 'goslim_candida', 'goslim_metagenomics'], 'name': 'subsets', 'url': None, 'source': None}]}, 'GO:0007265': {'category': ['biolink:NamedThing', 'biolink:BiologicalProcess', 'biolink:Occurrent', 'biolink:Pathway'], 'name': 'Ras protein signal transduction', 'attributes': [{'type': 'NA', 'value': 'http://purl.obolibrary.org/obo/GO_0007265', 'name': 'iri', 'url': None, 'source': None}, {'type': 'NA', 'value': ['Ras mediated signal transduction'], 'name': 'synonym', 'url': None, 'source': None}, {'type': 'NA', 'value': 'Ras protein signal transduction', 'name': 'name', 'url': None, 'source': None}, {'type': 'NA', 'value': 'A series of molecular signals within the cell that are mediated by a member of the Ras superfamily of proteins switching to a GTP-bound active state.', 'name': 'description', 'url': None, 'source': None}, {'type': 'NA', 'value': ['monarch-ontologies', 'go'], 'name': 'provided_by', 'url': None, 'source': None}]}, 'NCBIGene:1017': {'category': ['biolink:NamedThing', 'biolink:GenomicEntity', 'biolink:Gene'], 'name': 'CDK2', 'attributes': [{'type': 'NA', 'value': ['cyclin dependent kinase 2', 'cdc2-related protein kinase', 'CDKN2', 'cell division protein kinase 2', 'cyclin-dependent kinase 2', 'p33(CDK2)', 'p33 protein kinase', 'CDK2'], 'name': 'synonym', 'url': None, 'source': None}, {'type': 'NA', 'value': ['ENSEMBL:ENSG00000123374', 'OMIM:116953'], 'name': 'xref', 'url': None, 'source': None}, {'type': 'NA', 'value': ['NCBITaxon:9606', 'NCBITaxon:9606'], 'name': 'in_taxon', 'url': None, 'source': None}, {'type': 'NA', 'value': 'PREFIX_PRIORITIZATION', 'name': 'election_strategy', 'url': None, 'source': None}, {'type': 'NA', 'value': 'CDK2', 'name': 'name', 'url': None, 'source': None}, {'type': 'NA', 'value': ['cyclin dependent kinase 2', 'Cyclin-dependent kinase 2', 'cyclin dependent kinase 2'], 'name': 'description', 'url': None, 'source': None}, {'type': 'NA', 'value': ['ncbigene', 'clinvar', 'biogrid', 'ensembl', 'go', 'hgnc', 'kegg', 'omim', 'string', 'zfin'], 'name': 'provided_by', 'url': None, 'source': None}, {'type': 'NA', 'value': 'True', 'name': 'clique_leader', 'url': None, 'source': None}, {'type': 'NA', 'value': ['owl:Class', 'SO:0000704', 'owl:Class', 'SO:0000704', 'owl:Class'], 'name': 'type', 'url': None, 'source': None}]}}, 'edges': {'MONARCH_NODE:ba798ec62c4f957a1293': {'subject': 'NCBIGene:1017', 'object': 'GO:0007265', 'predicate': 'biolink:actively_involved_in', 'relation': None, 'attributes': [{'type': 'NA', 'value': 'ECO:0000270', 'name': 'has_evidence', 'url': None, 'source': None}, {'type': 'NA', 'value': 'NCBIGene:1017', 'name': 'subject', 'url': None, 'source': None}, {'type': 'NA', 'value': ['go'], 'name': 'provided_by', 'url': None, 'source': None}, {'type': 'NA', 'value': 'OBAN:association', 'name': 'type', 'url': None, 'source': None}, {'type': 'NA', 'value': 'biolink:actively_involved_in', 'name': 'edge_label', 'url': None, 'source': None}, {'type': 'NA', 'value': 'RO:0002331', 'name': 'relation', 'url': None, 'source': None}, {'type': 'NA', 'value': 'GO:0007265', 'name': 'object', 'url': None, 'source': None}]}, 'MONARCH_NODE:b8264de8c8824ca720b8': {'subject': 'NCBIGene:1017', 'object': 'GO:0006977', 'predicate': 'biolink:actively_involved_in', 'relation': None, 'attributes': [{'type': 'NA', 'value': 'ECO:0000304', 'name': 'has_evidence', 'url': None, 'source': None}, {'type': 'NA', 'value': 'NCBIGene:1017', 'name': 'subject', 'url': None, 'source': None}, {'type': 'NA', 'value': ['go'], 'name': 'provided_by', 'url': None, 'source': None}, {'type': 'NA', 'value': 'OBAN:association', 'name': 'type', 'url': None, 'source': None}, {'type': 'NA', 'value': 'biolink:actively_involved_in', 'name': 'edge_label', 'url': None, 'source': None}, {'type': 'NA', 'value': 'RO:0002331', 'name': 'relation', 'url': None, 'source': None}, {'type': 'NA', 'value': 'GO:0006977', 'name': 'object', 'url': None, 'source': None}]}, 'MONARCH_NODE:b46a7c3561a9e50f773c': {'subject': 'NCBIGene:1017', 'object': 'GO:0007165', 'predicate': 'biolink:actively_involved_in', 'relation': None, 'attributes': [{'type': 'NA', 'value': 'ECO:0000318', 'name': 'has_evidence', 'url': None, 'source': None}, {'type': 'NA', 'value': 'NCBIGene:1017', 'name': 'subject', 'url': None, 'source': None}, {'type': 'NA', 'value': ['go'], 'name': 'provided_by', 'url': None, 'source': None}, {'type': 'NA', 'value': 'OBAN:association', 'name': 'type', 'url': None, 'source': None}, {'type': 'NA', 'value': 'biolink:actively_involved_in', 'name': 'edge_label', 'url': None, 'source': None}, {'type': 'NA', 'value': 'RO:0002331', 'name': 'relation', 'url': None, 'source': None}, {'type': 'NA', 'value': 'GO:0007165', 'name': 'object', 'url': None, 'source': None}]}}}, 'results': [{'node_bindings': {'n0': [{'id': 'NCBIGene:1017'}], 'n1': [{'id': 'GO:0006977'}]}, 'edge_bindings': {'e01': [{'id': 'MONARCH_NODE:b8264de8c8824ca720b8'}]}}, {'node_bindings': {'n0': [{'id': 'NCBIGene:1017'}], 'n1': [{'id': 'GO:0007265'}]}, 'edge_bindings': {'e01': [{'id': 'MONARCH_NODE:ba798ec62c4f957a1293'}]}}, {'node_bindings': {'n0': [{'id': 'NCBIGene:1017'}], 'n1': [{'id': 'GO:0007165'}]}, 'edge_bindings': {'e01': [{'id': 'MONARCH_NODE:b46a7c3561a9e50f773c'}]}}]}}, 'line_number': 67}\n"
     ]
    }
   ],
   "source": [
    "print_query_for_source(strider_result,'https://trapi.monarchinitiative.org/query')"
   ]
  },
  {
   "cell_type": "markdown",
   "id": "regular-acting",
   "metadata": {},
   "source": [
    "### Strider Assessment"
   ]
  },
  {
   "cell_type": "markdown",
   "id": "blessed-jonathan",
   "metadata": {},
   "source": [
    "We are only getting results from BTE.  \n",
    "\n",
    "These results are inconsistent, because BTE is heavily throttling.\n",
    "At the moment we have it turned off.\n",
    "See: https://github.com/ranking-agent/strider/issues/149 https://github.com/ranking-agent/strider/issues/158\n",
    "\n",
    "The SRI KG is returning as results 3 GO terms.  For some reason, the results are not getting all the way out here. See: https://github.com/ranking-agent/strider/issues/169\n",
    "\n",
    "CAM-KP is not returning anything for this.  \n",
    "See: https://github.com/NCATS-Tangerine/cam-kp-api/issues/256\n",
    "\n",
    "Some of the BTE results are not valid Pathway Identifiers, see:\n",
    "https://github.com/biothings/biothings_explorer/issues/181\n",
    "\n",
    "We sometimes get 232 results instead of 116 from Strider\n",
    "See: https://github.com/ranking-agent/strider/issues/163"
   ]
  },
  {
   "cell_type": "markdown",
   "id": "tested-completion",
   "metadata": {},
   "source": [
    "## ARAGORN "
   ]
  },
  {
   "cell_type": "code",
   "execution_count": 19,
   "id": "continuing-queen",
   "metadata": {},
   "outputs": [
    {
     "name": "stdout",
     "output_type": "stream",
     "text": [
      "Error, no result field\n"
     ]
    }
   ],
   "source": [
    "start = dt.now()\n",
    "aragorn_result = aragorn(query)\n",
    "end = dt.now()\n",
    "if 'results' in aragorn_result['message']:\n",
    "    print(f\"ARAGORN produced {len(aragorn_result['message']['results'])} results in {end-start}.\")\n",
    "else:\n",
    "    print('Error, no result field')"
   ]
  },
  {
   "cell_type": "code",
   "execution_count": 20,
   "id": "clean-disclaimer",
   "metadata": {},
   "outputs": [],
   "source": [
    "view = GammaViewer(props={\"data\":aragorn_result})\n",
    "display(view)"
   ]
  },
  {
   "cell_type": "markdown",
   "id": "editorial-diabetes",
   "metadata": {},
   "source": [
    "### ARAGORN Assessment"
   ]
  },
  {
   "cell_type": "markdown",
   "id": "compatible-registration",
   "metadata": {},
   "source": [
    "How did we do?"
   ]
  },
  {
   "cell_type": "code",
   "execution_count": 21,
   "id": "opponent-alabama",
   "metadata": {},
   "outputs": [
    {
     "data": {
      "text/plain": [
       "{'message': {'query_graph': {'nodes': {'n0': {'id': 'NCBIGENE:1017',\n",
       "     'category': 'biolink:Gene',\n",
       "     'is_set': False},\n",
       "    'n1': {'category': 'biolink:Pathway', 'is_set': False}},\n",
       "   'edges': {'e01': {'subject': 'n0', 'object': 'n1'}}}},\n",
       " 'error': 'Error detected. Got an empty result from strider, aborting.'}"
      ]
     },
     "execution_count": 21,
     "metadata": {},
     "output_type": "execute_result"
    }
   ],
   "source": [
    "aragorn_result"
   ]
  }
 ],
 "metadata": {
  "kernelspec": {
   "display_name": "Python 3",
   "language": "python",
   "name": "python3"
  },
  "language_info": {
   "codemirror_mode": {
    "name": "ipython",
    "version": 3
   },
   "file_extension": ".py",
   "mimetype": "text/x-python",
   "name": "python",
   "nbconvert_exporter": "python",
   "pygments_lexer": "ipython3",
   "version": "3.9.1"
  }
 },
 "nbformat": 4,
 "nbformat_minor": 5
}
