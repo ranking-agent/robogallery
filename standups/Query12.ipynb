{
 "cells": [
  {
   "cell_type": "markdown",
   "id": "controversial-detroit",
   "metadata": {},
   "source": [
    "# Setup"
   ]
  },
  {
   "cell_type": "code",
   "execution_count": 1,
   "id": "caring-bacteria",
   "metadata": {},
   "outputs": [],
   "source": [
    "import json\n",
    "import requests\n",
    "from datetime import datetime as dt\n",
    "from collections import defaultdict\n",
    "import pandas as pd"
   ]
  },
  {
   "cell_type": "code",
   "execution_count": 2,
   "id": "graphic-exemption",
   "metadata": {},
   "outputs": [],
   "source": [
    "#https://pypi.org/project/gamma-viewer/\n",
    "from gamma_viewer import GammaViewer\n",
    "from IPython.display import display, Markdown"
   ]
  },
  {
   "cell_type": "code",
   "execution_count": 3,
   "id": "ecological-rhythm",
   "metadata": {},
   "outputs": [],
   "source": [
    "def printjson(j):\n",
    "    print(json.dumps(j,indent=4))\n",
    "def print_json(j):\n",
    "    printjson(j)"
   ]
  },
  {
   "cell_type": "code",
   "execution_count": 4,
   "id": "thick-encounter",
   "metadata": {},
   "outputs": [],
   "source": [
    "def post(name,url,message,params=None):\n",
    "    if params is None:\n",
    "        response = requests.post(url,json=message)\n",
    "    else:\n",
    "        response = requests.post(url,json=message,params=params)\n",
    "    if not response.status_code == 200:\n",
    "        print(name, 'error:',response.status_code)\n",
    "        print(response.json())\n",
    "        return {}\n",
    "    return response.json()\n",
    "\n",
    "def automat(db,message):\n",
    "    automat_url = f'https://automat.renci.org/{db}/query'\n",
    "    response = requests.post(automat_url,json=message)\n",
    "    print(response.status_code)\n",
    "    return response.json()\n",
    "\n",
    "def strider(message):\n",
    "    url = 'https://strider.renci.org/query?log_level=DEBUG'\n",
    "    strider_answer = post(strider,url,message)\n",
    "    return strider_answer\n",
    "\n",
    "def aragorn(message, coalesce_type='xnone'):\n",
    "    if coalesce_type == 'xnone':\n",
    "        answer = post('aragorn','https://aragorn.renci.org/query',message)\n",
    "    else:\n",
    "        answer = post('aragorn','https://aragorn.renci.org/query',message, params={'answer_coalesce_type':coalesce_type})\n",
    "    return answer\n",
    "\n",
    "##\n",
    "\n",
    "def bte(message):\n",
    "    url = 'https://api.bte.ncats.io/v1/query'\n",
    "    return post(strider,url,message)\n",
    " \n",
    "def striderandfriends(message):\n",
    "    strider_answer = strider(message)    \n",
    "    coalesced_answer = post('coalesce','https://answercoalesce.renci.org/coalesce/graph',{'message':strider_answer})\n",
    "    omni_answer = post('omnicorp','https://aragorn-ranker.renci.org/omnicorp_overlay',{'message': coalesced_answer})\n",
    "    weighted_answer = post('weight','https://aragorn-ranker.renci.org/weight_correctness',{'message': omni_answer})\n",
    "    scored_answer = post('score','https://aragorn-ranker.renci.org/score',{'message': weighted_answer})\n",
    "    return scored_answer"
   ]
  },
  {
   "cell_type": "code",
   "execution_count": 5,
   "id": "fantastic-antique",
   "metadata": {},
   "outputs": [],
   "source": [
    "def retrieve_ars_results(mid):\n",
    "    message_url = f'https://ars.transltr.io/ars/api/messages/{mid}?trace=y'\n",
    "    response = requests.get(message_url)\n",
    "    j = response.json()\n",
    "    results = {}\n",
    "    for child in j['children']:\n",
    "        if child['actor']['agent'] in ['ara-aragorn', 'ara-aragorn-exp']:\n",
    "            childmessage_id = child['message']\n",
    "            child_url = f'https://ars.transltr.io/ars/api/messages/{childmessage_id}'\n",
    "            child_response = requests.get(child_url).json()\n",
    "            try:\n",
    "                nresults = len(child_response['fields']['data']['message']['results'])\n",
    "                if nresults > 0:\n",
    "                    results[child['actor']['agent']] = {'message':child_response['fields']['data']['message']}\n",
    "            except:\n",
    "                nresults=0\n",
    "            print( child['status'], child['actor']['agent'],nresults )\n",
    "    return results"
   ]
  },
  {
   "cell_type": "code",
   "execution_count": 6,
   "id": "corporate-ambassador",
   "metadata": {},
   "outputs": [],
   "source": [
    "def get_provenance(message):\n",
    "    \"\"\"Given a message with results, find the source of the edges\"\"\"\n",
    "    prov = defaultdict(lambda: defaultdict(int)) # {qedge->{source->count}}\n",
    "    results = message['message']['results']\n",
    "    kg = message['message']['knowledge_graph']['edges']\n",
    "    edge_bindings = [ r['edge_bindings'] for r in results ]\n",
    "    for bindings in edge_bindings:\n",
    "        for qg_e, kg_l in bindings.items():\n",
    "            for kg_e in kg_l:\n",
    "                for att in kg[kg_e['id']]['attributes']:\n",
    "                    if att['name'] == 'provenance':\n",
    "                        source = att['value']\n",
    "                        prov[qg_e][source]+=1\n",
    "    qg_edges = []\n",
    "    sources = []\n",
    "    counts = []\n",
    "    for qg_e in prov:\n",
    "        for source in prov[qg_e]:\n",
    "            qg_edges.append(qg_e)\n",
    "            sources.append(source)\n",
    "            counts.append(prov[qg_e][source])\n",
    "    prov_table = pd.DataFrame({\"QG Edge\":qg_edges, \"Source\":sources, \"Count\":counts})\n",
    "    return prov_table"
   ]
  },
  {
   "cell_type": "markdown",
   "id": "measured-neighborhood",
   "metadata": {},
   "source": [
    "## Query Specific"
   ]
  },
  {
   "cell_type": "code",
   "execution_count": 7,
   "id": "separate-summit",
   "metadata": {},
   "outputs": [],
   "source": [
    "standup_json='standup_12.json'"
   ]
  },
  {
   "cell_type": "code",
   "execution_count": 8,
   "id": "republican-visitor",
   "metadata": {},
   "outputs": [],
   "source": [
    "with open(standup_json,'r') as jsonfile:\n",
    "    standup_info = json.load(jsonfile)"
   ]
  },
  {
   "cell_type": "code",
   "execution_count": 9,
   "id": "polish-consent",
   "metadata": {},
   "outputs": [
    {
     "data": {
      "text/markdown": [
       "# 12. Shared Phenotypes"
      ],
      "text/plain": [
       "<IPython.core.display.Markdown object>"
      ]
     },
     "metadata": {},
     "output_type": "display_data"
    },
    {
     "data": {
      "text/markdown": [
       "Diseases that share phenotypes with Influenza (MONDO:0005812)"
      ],
      "text/plain": [
       "<IPython.core.display.Markdown object>"
      ]
     },
     "metadata": {},
     "output_type": "display_data"
    },
    {
     "name": "stdout",
     "output_type": "stream",
     "text": [
      "Github Issue: https://github.com/NCATSTranslator/testing/issues/55\n"
     ]
    }
   ],
   "source": [
    "display(Markdown(f\"# {standup_info['Query Title']}\"))\n",
    "display(Markdown(f\"{standup_info['Query Description']}\"))\n",
    "print(f'Github Issue: {standup_info[\"github_issue\"]}')"
   ]
  },
  {
   "cell_type": "markdown",
   "id": "institutional-subscriber",
   "metadata": {},
   "source": [
    "The query as run through the ARS:"
   ]
  },
  {
   "cell_type": "code",
   "execution_count": 10,
   "id": "periodic-walnut",
   "metadata": {},
   "outputs": [
    {
     "name": "stdout",
     "output_type": "stream",
     "text": [
      "{\n",
      "    \"message\": {\n",
      "        \"query_graph\": {\n",
      "            \"nodes\": {\n",
      "                \"n0\": {\n",
      "                    \"id\": \"MONDO:0005812\",\n",
      "                    \"category\": \"biolink:Disease\"\n",
      "                },\n",
      "                \"n1\": {\n",
      "                    \"category\": \"biolink:PhenotypicFeature\"\n",
      "                },\n",
      "                \"n2\": {\n",
      "                    \"category\": \"biolink:Disease\"\n",
      "                }\n",
      "            },\n",
      "            \"edges\": {\n",
      "                \"e01\": {\n",
      "                    \"subject\": \"n0\",\n",
      "                    \"object\": \"n1\"\n",
      "                },\n",
      "                \"e02\": {\n",
      "                    \"subject\": \"n1\",\n",
      "                    \"object\": \"n2\"\n",
      "                }\n",
      "            }\n",
      "        }\n",
      "    }\n",
      "}\n"
     ]
    }
   ],
   "source": [
    "query = json.loads(requests.get(standup_info['query_location']).content)\n",
    "printjson(query)"
   ]
  },
  {
   "cell_type": "markdown",
   "id": "thousand-deviation",
   "metadata": {},
   "source": [
    "## ARS Assessment"
   ]
  },
  {
   "cell_type": "code",
   "execution_count": 11,
   "id": "finite-jewel",
   "metadata": {},
   "outputs": [],
   "source": [
    "ARS_Responses = [(dt.strptime(x['ARS_result_date'],'%Y-%m-%d'),x['ARS_result_id']) for x in standup_info['ARS_Results']]\n",
    "ARS_Responses.sort()"
   ]
  },
  {
   "cell_type": "code",
   "execution_count": 12,
   "id": "unlike-spencer",
   "metadata": {},
   "outputs": [
    {
     "data": {
      "text/markdown": [
       "### 2021-04-23 00:00:00"
      ],
      "text/plain": [
       "<IPython.core.display.Markdown object>"
      ]
     },
     "metadata": {},
     "output_type": "display_data"
    },
    {
     "name": "stdout",
     "output_type": "stream",
     "text": [
      "Error ara-aragorn 0\n",
      "Error ara-aragorn-exp 0\n",
      "https://arax.ncats.io/?source=ARS&id=f5f704e4-feb0-43af-ae6d-75905ea35a7c\n"
     ]
    }
   ],
   "source": [
    "for ars_date, ars_id in ARS_Responses:\n",
    "    display(Markdown(f'### {ars_date}'))\n",
    "    _ = retrieve_ars_results(ars_id)\n",
    "    print(f'https://arax.ncats.io/?source=ARS&id={ars_id}')"
   ]
  },
  {
   "cell_type": "markdown",
   "id": "falling-regulation",
   "metadata": {},
   "source": [
    "## Strider Direct"
   ]
  },
  {
   "cell_type": "code",
   "execution_count": 13,
   "id": "assisted-knight",
   "metadata": {},
   "outputs": [
    {
     "name": "stdout",
     "output_type": "stream",
     "text": [
      "Strider produced 9 results in 0:06:25.022325.\n"
     ]
    }
   ],
   "source": [
    "start = dt.now()\n",
    "strider_result = strider(query)\n",
    "end = dt.now()\n",
    "print(f\"Strider produced {len(strider_result['message']['results'])} results in {end-start}.\")"
   ]
  },
  {
   "cell_type": "code",
   "execution_count": 14,
   "id": "silent-accuracy",
   "metadata": {},
   "outputs": [
    {
     "data": {
      "text/html": [
       "<div>\n",
       "<style scoped>\n",
       "    .dataframe tbody tr th:only-of-type {\n",
       "        vertical-align: middle;\n",
       "    }\n",
       "\n",
       "    .dataframe tbody tr th {\n",
       "        vertical-align: top;\n",
       "    }\n",
       "\n",
       "    .dataframe thead th {\n",
       "        text-align: right;\n",
       "    }\n",
       "</style>\n",
       "<table border=\"1\" class=\"dataframe\">\n",
       "  <thead>\n",
       "    <tr style=\"text-align: right;\">\n",
       "      <th></th>\n",
       "      <th>QG Edge</th>\n",
       "      <th>Source</th>\n",
       "      <th>Count</th>\n",
       "    </tr>\n",
       "  </thead>\n",
       "  <tbody>\n",
       "    <tr>\n",
       "      <th>0</th>\n",
       "      <td>e01</td>\n",
       "      <td>https://stars-app.renci.org/sparql-kp/query</td>\n",
       "      <td>9</td>\n",
       "    </tr>\n",
       "    <tr>\n",
       "      <th>1</th>\n",
       "      <td>e02</td>\n",
       "      <td>https://stars-app.renci.org/sparql-kp/query</td>\n",
       "      <td>9</td>\n",
       "    </tr>\n",
       "  </tbody>\n",
       "</table>\n",
       "</div>"
      ],
      "text/plain": [
       "  QG Edge                                       Source  Count\n",
       "0     e01  https://stars-app.renci.org/sparql-kp/query      9\n",
       "1     e02  https://stars-app.renci.org/sparql-kp/query      9"
      ]
     },
     "metadata": {},
     "output_type": "display_data"
    }
   ],
   "source": [
    "prov = get_provenance(strider_result)\n",
    "display(prov)"
   ]
  },
  {
   "cell_type": "code",
   "execution_count": 15,
   "id": "waiting-hybrid",
   "metadata": {},
   "outputs": [],
   "source": [
    "view = GammaViewer(props={\"data\":strider_result})\n",
    "display(view)"
   ]
  },
  {
   "cell_type": "markdown",
   "id": "regular-acting",
   "metadata": {},
   "source": [
    "### Strider Assessment"
   ]
  },
  {
   "cell_type": "markdown",
   "id": "blessed-jonathan",
   "metadata": {},
   "source": [
    "These are terrible answers.  Why is ontology kp the only source here?  Why not SRI KG or biolink/automat?"
   ]
  },
  {
   "cell_type": "markdown",
   "id": "tested-completion",
   "metadata": {},
   "source": [
    "## ARAGORN "
   ]
  },
  {
   "cell_type": "code",
   "execution_count": 16,
   "id": "continuing-queen",
   "metadata": {},
   "outputs": [
    {
     "ename": "KeyError",
     "evalue": "'results'",
     "output_type": "error",
     "traceback": [
      "\u001b[0;31m---------------------------------------------------------------------------\u001b[0m",
      "\u001b[0;31mKeyError\u001b[0m                                  Traceback (most recent call last)",
      "\u001b[0;32m<ipython-input-16-2d0d236f8b4f>\u001b[0m in \u001b[0;36m<module>\u001b[0;34m\u001b[0m\n\u001b[1;32m      2\u001b[0m \u001b[0maragorn_result\u001b[0m \u001b[0;34m=\u001b[0m \u001b[0maragorn\u001b[0m\u001b[0;34m(\u001b[0m\u001b[0mquery\u001b[0m\u001b[0;34m)\u001b[0m\u001b[0;34m\u001b[0m\u001b[0;34m\u001b[0m\u001b[0m\n\u001b[1;32m      3\u001b[0m \u001b[0mend\u001b[0m \u001b[0;34m=\u001b[0m \u001b[0mdt\u001b[0m\u001b[0;34m.\u001b[0m\u001b[0mnow\u001b[0m\u001b[0;34m(\u001b[0m\u001b[0;34m)\u001b[0m\u001b[0;34m\u001b[0m\u001b[0;34m\u001b[0m\u001b[0m\n\u001b[0;32m----> 4\u001b[0;31m \u001b[0mprint\u001b[0m\u001b[0;34m(\u001b[0m\u001b[0;34mf\"ARAGORN produced {len(aragorn_result['message']['results'])} results in {end-start}.\"\u001b[0m\u001b[0;34m)\u001b[0m\u001b[0;34m\u001b[0m\u001b[0;34m\u001b[0m\u001b[0m\n\u001b[0m",
      "\u001b[0;31mKeyError\u001b[0m: 'results'"
     ]
    }
   ],
   "source": [
    "start = dt.now()\n",
    "aragorn_result = aragorn(query)\n",
    "end = dt.now()\n",
    "print(f\"ARAGORN produced {len(aragorn_result['message']['results'])} results in {end-start}.\")"
   ]
  },
  {
   "cell_type": "code",
   "execution_count": null,
   "id": "clean-disclaimer",
   "metadata": {},
   "outputs": [],
   "source": [
    "view = GammaViewer(props={\"data\":aragorn_result})\n",
    "display(view)"
   ]
  },
  {
   "cell_type": "markdown",
   "id": "editorial-diabetes",
   "metadata": {},
   "source": [
    "### ARAGORN Assessment"
   ]
  },
  {
   "cell_type": "markdown",
   "id": "compatible-registration",
   "metadata": {},
   "source": [
    "How did we do?"
   ]
  },
  {
   "cell_type": "code",
   "execution_count": null,
   "id": "graphic-anatomy",
   "metadata": {},
   "outputs": [],
   "source": []
  }
 ],
 "metadata": {
  "kernelspec": {
   "display_name": "Python 3",
   "language": "python",
   "name": "python3"
  },
  "language_info": {
   "codemirror_mode": {
    "name": "ipython",
    "version": 3
   },
   "file_extension": ".py",
   "mimetype": "text/x-python",
   "name": "python",
   "nbconvert_exporter": "python",
   "pygments_lexer": "ipython3",
   "version": "3.9.1"
  }
 },
 "nbformat": 4,
 "nbformat_minor": 5
}
