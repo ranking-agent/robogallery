{
 "cells": [
  {
   "cell_type": "markdown",
   "id": "controversial-detroit",
   "metadata": {},
   "source": [
    "# Setup"
   ]
  },
  {
   "cell_type": "code",
   "execution_count": 1,
   "id": "caring-bacteria",
   "metadata": {},
   "outputs": [],
   "source": [
    "import json\n",
    "import requests\n",
    "from datetime import datetime as dt\n",
    "from collections import defaultdict\n",
    "import pandas as pd"
   ]
  },
  {
   "cell_type": "code",
   "execution_count": 2,
   "id": "graphic-exemption",
   "metadata": {},
   "outputs": [],
   "source": [
    "#https://pypi.org/project/gamma-viewer/\n",
    "from gamma_viewer import GammaViewer\n",
    "from IPython.display import display, Markdown"
   ]
  },
  {
   "cell_type": "code",
   "execution_count": 3,
   "id": "ecological-rhythm",
   "metadata": {},
   "outputs": [],
   "source": [
    "def printjson(j):\n",
    "    print(json.dumps(j,indent=4))\n",
    "def print_json(j):\n",
    "    printjson(j)"
   ]
  },
  {
   "cell_type": "code",
   "execution_count": 4,
   "id": "thick-encounter",
   "metadata": {},
   "outputs": [],
   "source": [
    "def post(name,url,message,params=None):\n",
    "    if params is None:\n",
    "        response = requests.post(url,json=message)\n",
    "    else:\n",
    "        response = requests.post(url,json=message,params=params)\n",
    "    if not response.status_code == 200:\n",
    "        print(name, 'error:',response.status_code)\n",
    "        print(response.json())\n",
    "        return {}\n",
    "    return response.json()\n",
    "\n",
    "def automat(db,message):\n",
    "    automat_url = f'https://automat.renci.org/{db}/query'\n",
    "    response = requests.post(automat_url,json=message)\n",
    "    print(response.status_code)\n",
    "    return response.json()\n",
    "\n",
    "def strider(message):\n",
    "    url = 'https://strider.renci.org/query?log_level=DEBUG'\n",
    "    strider_answer = post(strider,url,message)\n",
    "    return strider_answer\n",
    "\n",
    "def aragorn(message, coalesce_type='xnone'):\n",
    "    if coalesce_type == 'xnone':\n",
    "        answer = post('aragorn','https://aragorn.renci.org/query',message)\n",
    "    else:\n",
    "        answer = post('aragorn','https://aragorn.renci.org/query',message, params={'answer_coalesce_type':coalesce_type})\n",
    "    return answer\n",
    "\n",
    "##\n",
    "\n",
    "def bte(message):\n",
    "    url = 'https://api.bte.ncats.io/v1/query'\n",
    "    return post(strider,url,message)\n",
    "\n",
    "def coalesce(message,method='all'):\n",
    "    url = 'https://answercoalesce.renci.org/coalesce/graph'\n",
    "    return post('AC'+method,url,message)\n",
    "\n",
    "def striderandfriends(message):\n",
    "    strider_answer = strider(message)    \n",
    "    coalesced_answer = post('coalesce','https://answercoalesce.renci.org/coalesce/all',strider_answer)\n",
    "    omni_answer = post('omnicorp','https://aragorn-ranker.renci.org/omnicorp_overlay',coalesced_answer)\n",
    "    weighted_answer = post('weight','https://aragorn-ranker.renci.org/weight_correctness',omni_answer)\n",
    "    scored_answer = post('score','https://aragorn-ranker.renci.org/score',weighted_answer)\n",
    "    return strider_answer,coalesced_answer,omni_answer,weighted_answer,scored_answer"
   ]
  },
  {
   "cell_type": "code",
   "execution_count": 42,
   "id": "legislative-oriental",
   "metadata": {},
   "outputs": [],
   "source": [
    "def print_errors(strider_result):\n",
    "    errorcounts = defaultdict(int)\n",
    "    for logmessage in strider_result['logs']:\n",
    "        if logmessage['level'] == 'ERROR':\n",
    "            jm = json.loads(logmessage['message'])\n",
    "            words = jm['error'].split()\n",
    "            e = \" \".join(words[:-5])\n",
    "            errorcounts[e] += 1\n",
    "    for error,count in errorcounts.items():\n",
    "        print(f'{error} ({count} times)')\n",
    "        \n",
    "def print_queried_sources(strider_result):\n",
    "    querycounts = defaultdict(int)\n",
    "    for logmessage in strider_result['logs']:\n",
    "        j = json.loads(logmessage['message'])\n",
    "        if 'url' in j:\n",
    "            querycounts[j['url']] += 1\n",
    "    for url,count in querycounts.items():\n",
    "        print(f'{url} ({count} times)')\n",
    "        \n",
    "def print_query_for_source(strider_result,url):\n",
    "    for logmessage in strider_result['logs']:\n",
    "        j = json.loads(logmessage['message'])\n",
    "        if 'url' in j and j['url'] == url:\n",
    "            print(j)\n",
    "            return j"
   ]
  },
  {
   "cell_type": "code",
   "execution_count": 6,
   "id": "fantastic-antique",
   "metadata": {},
   "outputs": [],
   "source": [
    "def retrieve_ars_results(mid):\n",
    "    message_url = f'https://ars.transltr.io/ars/api/messages/{mid}?trace=y'\n",
    "    response = requests.get(message_url)\n",
    "    j = response.json()\n",
    "    results = {}\n",
    "    for child in j['children']:\n",
    "        if child['actor']['agent'] in ['ara-aragorn', 'ara-aragorn-exp']:\n",
    "            childmessage_id = child['message']\n",
    "            child_url = f'https://ars.transltr.io/ars/api/messages/{childmessage_id}'\n",
    "            child_response = requests.get(child_url).json()\n",
    "            try:\n",
    "                nresults = len(child_response['fields']['data']['message']['results'])\n",
    "                if nresults > 0:\n",
    "                    results[child['actor']['agent']] = {'message':child_response['fields']['data']['message']}\n",
    "            except:\n",
    "                nresults=0\n",
    "            print( child['status'], child['actor']['agent'],nresults )\n",
    "    return results"
   ]
  },
  {
   "cell_type": "code",
   "execution_count": 7,
   "id": "corporate-ambassador",
   "metadata": {},
   "outputs": [],
   "source": [
    "def get_provenance(message):\n",
    "    \"\"\"Given a message with results, find the source of the edges\"\"\"\n",
    "    prov = defaultdict(lambda: defaultdict(int)) # {qedge->{source->count}}\n",
    "    results = message['message']['results']\n",
    "    kg = message['message']['knowledge_graph']['edges']\n",
    "    edge_bindings = [ r['edge_bindings'] for r in results ]\n",
    "    for bindings in edge_bindings:\n",
    "        for qg_e, kg_l in bindings.items():\n",
    "            for kg_e in kg_l:\n",
    "                for att in kg[kg_e['id']]['attributes']:\n",
    "                    if att['name'] == 'provenance':\n",
    "                        source = att['value']\n",
    "                        prov[qg_e][source]+=1\n",
    "    qg_edges = []\n",
    "    sources = []\n",
    "    counts = []\n",
    "    for qg_e in prov:\n",
    "        for source in prov[qg_e]:\n",
    "            qg_edges.append(qg_e)\n",
    "            sources.append(source)\n",
    "            counts.append(prov[qg_e][source])\n",
    "    prov_table = pd.DataFrame({\"QG Edge\":qg_edges, \"Source\":sources, \"Count\":counts})\n",
    "    return prov_table"
   ]
  },
  {
   "cell_type": "markdown",
   "id": "measured-neighborhood",
   "metadata": {},
   "source": [
    "## Query Specific"
   ]
  },
  {
   "cell_type": "code",
   "execution_count": 8,
   "id": "separate-summit",
   "metadata": {},
   "outputs": [],
   "source": [
    "standup_json='StandupDefinitions/standup_2.json'"
   ]
  },
  {
   "cell_type": "code",
   "execution_count": 9,
   "id": "republican-visitor",
   "metadata": {},
   "outputs": [],
   "source": [
    "with open(standup_json,'r') as jsonfile:\n",
    "    standup_info = json.load(jsonfile)"
   ]
  },
  {
   "cell_type": "code",
   "execution_count": 10,
   "id": "polish-consent",
   "metadata": {},
   "outputs": [
    {
     "data": {
      "text/markdown": [
       "# 2. Chemicals to Gene"
      ],
      "text/plain": [
       "<IPython.core.display.Markdown object>"
      ]
     },
     "metadata": {},
     "output_type": "display_data"
    },
    {
     "data": {
      "text/markdown": [
       "What chemicals are associated with SMS (UniProtKB:P52788)"
      ],
      "text/plain": [
       "<IPython.core.display.Markdown object>"
      ]
     },
     "metadata": {},
     "output_type": "display_data"
    },
    {
     "name": "stdout",
     "output_type": "stream",
     "text": [
      "Github Issue: https://github.com/NCATSTranslator/testing/issues/10\n"
     ]
    }
   ],
   "source": [
    "display(Markdown(f\"# {standup_info['Query Title']}\"))\n",
    "display(Markdown(f\"{standup_info['Query Description']}\"))\n",
    "print(f'Github Issue: {standup_info[\"github_issue\"]}')"
   ]
  },
  {
   "cell_type": "markdown",
   "id": "institutional-subscriber",
   "metadata": {},
   "source": [
    "The query as run through the ARS:"
   ]
  },
  {
   "cell_type": "code",
   "execution_count": 11,
   "id": "periodic-walnut",
   "metadata": {},
   "outputs": [
    {
     "name": "stdout",
     "output_type": "stream",
     "text": [
      "{\n",
      "    \"message\": {\n",
      "        \"query_graph\": {\n",
      "            \"nodes\": {\n",
      "                \"n0\": {\n",
      "                    \"id\": \"UniProtKB:P52788\",\n",
      "                    \"category\": \"biolink:Gene\"\n",
      "                },\n",
      "                \"n1\": {\n",
      "                    \"category\": \"biolink:ChemicalSubstance\"\n",
      "                }\n",
      "            },\n",
      "            \"edges\": {\n",
      "                \"e01\": {\n",
      "                    \"subject\": \"n0\",\n",
      "                    \"object\": \"n1\"\n",
      "                }\n",
      "            }\n",
      "        }\n",
      "    }\n",
      "}\n"
     ]
    }
   ],
   "source": [
    "query = json.loads(requests.get(standup_info['query_location']).content)\n",
    "printjson(query)"
   ]
  },
  {
   "cell_type": "markdown",
   "id": "thousand-deviation",
   "metadata": {},
   "source": [
    "## ARS Assessment"
   ]
  },
  {
   "cell_type": "code",
   "execution_count": 12,
   "id": "finite-jewel",
   "metadata": {},
   "outputs": [],
   "source": [
    "ARS_Responses = [(dt.strptime(x['ARS_result_date'],'%Y-%m-%d'),x['ARS_result_id']) for x in standup_info['ARS_Results']]\n",
    "ARS_Responses.sort()"
   ]
  },
  {
   "cell_type": "code",
   "execution_count": 13,
   "id": "unlike-spencer",
   "metadata": {},
   "outputs": [
    {
     "data": {
      "text/markdown": [
       "### 2021-03-02 00:00:00"
      ],
      "text/plain": [
       "<IPython.core.display.Markdown object>"
      ]
     },
     "metadata": {},
     "output_type": "display_data"
    },
    {
     "name": "stdout",
     "output_type": "stream",
     "text": [
      "Done ara-aragorn 63\n",
      "Done ara-aragorn-exp 0\n",
      "https://arax.ncats.io/?source=ARS&id=d187edcd-f4a1-42e8-9248-eee0cb161fdb\n"
     ]
    },
    {
     "data": {
      "text/markdown": [
       "### 2021-03-16 00:00:00"
      ],
      "text/plain": [
       "<IPython.core.display.Markdown object>"
      ]
     },
     "metadata": {},
     "output_type": "display_data"
    },
    {
     "name": "stdout",
     "output_type": "stream",
     "text": [
      "Done ara-aragorn 119\n",
      "Done ara-aragorn-exp 0\n",
      "https://arax.ncats.io/?source=ARS&id=5ae7b3a8-ab4d-4282-a027-80a7116f1265\n"
     ]
    },
    {
     "data": {
      "text/markdown": [
       "### 2021-03-19 00:00:00"
      ],
      "text/plain": [
       "<IPython.core.display.Markdown object>"
      ]
     },
     "metadata": {},
     "output_type": "display_data"
    },
    {
     "name": "stdout",
     "output_type": "stream",
     "text": [
      "Done ara-aragorn 128\n",
      "Done ara-aragorn-exp 86\n",
      "https://arax.ncats.io/?source=ARS&id=0f16dbfa-444a-409f-a7b2-9d11506b0d1c\n"
     ]
    },
    {
     "data": {
      "text/markdown": [
       "### 2021-03-25 00:00:00"
      ],
      "text/plain": [
       "<IPython.core.display.Markdown object>"
      ]
     },
     "metadata": {},
     "output_type": "display_data"
    },
    {
     "name": "stdout",
     "output_type": "stream",
     "text": [
      "Done ara-aragorn 128\n",
      "Done ara-aragorn-exp 0\n",
      "https://arax.ncats.io/?source=ARS&id=8675552b-34b1-46eb-a4f0-3e34179a1e12\n"
     ]
    }
   ],
   "source": [
    "for ars_date, ars_id in ARS_Responses:\n",
    "    display(Markdown(f'### {ars_date}'))\n",
    "    _ = retrieve_ars_results(ars_id)\n",
    "    print(f'https://arax.ncats.io/?source=ARS&id={ars_id}')"
   ]
  },
  {
   "cell_type": "markdown",
   "id": "falling-regulation",
   "metadata": {},
   "source": [
    "## Strider Direct"
   ]
  },
  {
   "cell_type": "code",
   "execution_count": 14,
   "id": "assisted-knight",
   "metadata": {},
   "outputs": [
    {
     "name": "stdout",
     "output_type": "stream",
     "text": [
      "Strider produced 37 results in 0:01:45.849240.\n"
     ]
    }
   ],
   "source": [
    "start = dt.now()\n",
    "strider_result = strider(query)\n",
    "end = dt.now()\n",
    "print(f\"Strider produced {len(strider_result['message']['results'])} results in {end-start}.\")"
   ]
  },
  {
   "cell_type": "markdown",
   "id": "suburban-intersection",
   "metadata": {},
   "source": [
    "### Provenance"
   ]
  },
  {
   "cell_type": "code",
   "execution_count": 15,
   "id": "silent-accuracy",
   "metadata": {},
   "outputs": [
    {
     "data": {
      "text/html": [
       "<div>\n",
       "<style scoped>\n",
       "    .dataframe tbody tr th:only-of-type {\n",
       "        vertical-align: middle;\n",
       "    }\n",
       "\n",
       "    .dataframe tbody tr th {\n",
       "        vertical-align: top;\n",
       "    }\n",
       "\n",
       "    .dataframe thead th {\n",
       "        text-align: right;\n",
       "    }\n",
       "</style>\n",
       "<table border=\"1\" class=\"dataframe\">\n",
       "  <thead>\n",
       "    <tr style=\"text-align: right;\">\n",
       "      <th></th>\n",
       "      <th>QG Edge</th>\n",
       "      <th>Source</th>\n",
       "      <th>Count</th>\n",
       "    </tr>\n",
       "  </thead>\n",
       "  <tbody>\n",
       "    <tr>\n",
       "      <th>0</th>\n",
       "      <td>e01</td>\n",
       "      <td>https://translator.broadinstitute.org/molepro/...</td>\n",
       "      <td>37</td>\n",
       "    </tr>\n",
       "  </tbody>\n",
       "</table>\n",
       "</div>"
      ],
      "text/plain": [
       "  QG Edge                                             Source  Count\n",
       "0     e01  https://translator.broadinstitute.org/molepro/...     37"
      ]
     },
     "metadata": {},
     "output_type": "display_data"
    }
   ],
   "source": [
    "prov = get_provenance(strider_result)\n",
    "display(prov)"
   ]
  },
  {
   "cell_type": "markdown",
   "id": "frozen-stereo",
   "metadata": {},
   "source": [
    "### Queried sources"
   ]
  },
  {
   "cell_type": "code",
   "execution_count": 16,
   "id": "practical-hunger",
   "metadata": {},
   "outputs": [
    {
     "name": "stdout",
     "output_type": "stream",
     "text": [
      "https://automat.renci.org/ctd/reasonerapi (75 times)\n",
      "https://automat.renci.org/mychem/reasonerapi (16 times)\n",
      "https://automat.renci.org/pharos/reasonerapi (8 times)\n",
      "https://stars-app.renci.org/cam-kp/query (18 times)\n",
      "https://automat.renci.org/cord19-scibite/reasonerapi (2 times)\n",
      "https://translator.broadinstitute.org/molepro/trapi/v1.0/query (2 times)\n",
      "https://api.bte.ncats.io/v1/query (3 times)\n",
      "https://automat.renci.org/hmdb/reasonerapi (2 times)\n",
      "https://automat.renci.org/gtopdb/reasonerapi (1 times)\n"
     ]
    }
   ],
   "source": [
    "print_queried_sources(strider_result)"
   ]
  },
  {
   "cell_type": "markdown",
   "id": "binding-village",
   "metadata": {},
   "source": [
    "### Errors"
   ]
  },
  {
   "cell_type": "code",
   "execution_count": 17,
   "id": "sweet-edgar",
   "metadata": {},
   "outputs": [
    {
     "name": "stdout",
     "output_type": "stream",
     "text": [
      "504 Server Error: Gateway Time-out for url: https://automat.renci.org/kegg/reasonerapi (2 times)\n",
      "504 Server Error: Gateway Time-out for url: https://automat.renci.org/cord19-scigraph/reasonerapi (4 times)\n",
      "504 Server Error: Gateway Time-out for url: https://automat.renci.org/chembio/reasonerapi (2 times)\n",
      "429 Client Error: Too Many Requests for url: https://api.bte.ncats.io/v1/query (121 times)\n"
     ]
    }
   ],
   "source": [
    "print_errors(strider_result)"
   ]
  },
  {
   "cell_type": "markdown",
   "id": "preliminary-argentina",
   "metadata": {},
   "source": [
    "### Results"
   ]
  },
  {
   "cell_type": "code",
   "execution_count": 18,
   "id": "waiting-hybrid",
   "metadata": {},
   "outputs": [],
   "source": [
    "view = GammaViewer(props={\"data\":strider_result})\n",
    "display(view)"
   ]
  },
  {
   "cell_type": "markdown",
   "id": "regular-acting",
   "metadata": {},
   "source": [
    "### Strider Assessment"
   ]
  },
  {
   "cell_type": "markdown",
   "id": "blessed-jonathan",
   "metadata": {},
   "source": [
    "Enter Assessment Here"
   ]
  },
  {
   "cell_type": "code",
   "execution_count": 23,
   "id": "interior-counter",
   "metadata": {},
   "outputs": [
    {
     "name": "stdout",
     "output_type": "stream",
     "text": [
      "{'message': 'Received response from KP', 'url': 'https://automat.renci.org/pharos/reasonerapi', 'request': {'message': {'query_graph': {'nodes': {'n0': {'category': 'biolink:Gene', 'is_set': False, 'id': 'NCBIGene:6611'}, 'n1': {'category': 'biolink:ChemicalSubstance', 'is_set': False}}, 'edges': {'e01': {'subject': 'n0', 'object': 'n1', 'predicate': 'biolink:directly_interacts_with'}}}}}, 'response': {'message': {'query_graph': {'nodes': {'n0': {'id': 'NCBIGene:6611', 'category': 'biolink:Gene', 'is_set': False}, 'n1': {'id': None, 'category': 'biolink:ChemicalSubstance', 'is_set': False}}, 'edges': {'e01': {'subject': 'n0', 'object': 'n1', 'predicate': 'biolink:directly_interacts_with', 'relation': None}}}, 'knowledge_graph': {'nodes': {}, 'edges': {}}, 'results': []}}, 'line_number': 67}\n"
     ]
    }
   ],
   "source": [
    "print_query_for_source(strider_result,'https://automat.renci.org/pharos/reasonerapi')"
   ]
  },
  {
   "cell_type": "code",
   "execution_count": 27,
   "id": "administrative-chocolate",
   "metadata": {},
   "outputs": [],
   "source": [
    "aq={'message': {'query_graph': {'nodes': {'n0': {'category': 'biolink:Gene', 'is_set': False, 'id': 'NCBIGene:6611'}, 'n1': {'category': 'biolink:ChemicalSubstance', 'is_set': False}}, 'edges': {'e01': {'subject': 'n0', 'object': 'n1','predicate':'biolink:related_to'}}}}}"
   ]
  },
  {
   "cell_type": "code",
   "execution_count": 30,
   "id": "chicken-johnston",
   "metadata": {},
   "outputs": [
    {
     "name": "stdout",
     "output_type": "stream",
     "text": [
      "{\n",
      "    \"message\": {\n",
      "        \"query_graph\": {\n",
      "            \"nodes\": {\n",
      "                \"n0\": {\n",
      "                    \"category\": \"biolink:Gene\",\n",
      "                    \"is_set\": false,\n",
      "                    \"id\": \"NCBIGene:6611\"\n",
      "                },\n",
      "                \"n1\": {\n",
      "                    \"category\": \"biolink:ChemicalSubstance\",\n",
      "                    \"is_set\": false\n",
      "                }\n",
      "            },\n",
      "            \"edges\": {\n",
      "                \"e01\": {\n",
      "                    \"subject\": \"n0\",\n",
      "                    \"object\": \"n1\",\n",
      "                    \"predicate\": \"biolink:related_to\"\n",
      "                }\n",
      "            }\n",
      "        }\n",
      "    }\n",
      "}\n"
     ]
    }
   ],
   "source": [
    "print_json(aq)"
   ]
  },
  {
   "cell_type": "code",
   "execution_count": 29,
   "id": "biblical-closing",
   "metadata": {},
   "outputs": [
    {
     "data": {
      "text/plain": [
       "{'message': {'query_graph': {'nodes': {'n0': {'id': 'NCBIGene:6611',\n",
       "     'category': 'biolink:Gene',\n",
       "     'is_set': False},\n",
       "    'n1': {'id': None,\n",
       "     'category': 'biolink:ChemicalSubstance',\n",
       "     'is_set': False}},\n",
       "   'edges': {'e01': {'subject': 'n0',\n",
       "     'object': 'n1',\n",
       "     'predicate': 'biolink:related_to',\n",
       "     'relation': None}}},\n",
       "  'knowledge_graph': {'nodes': {}, 'edges': {}},\n",
       "  'results': []}}"
      ]
     },
     "execution_count": 29,
     "metadata": {},
     "output_type": "execute_result"
    }
   ],
   "source": [
    "ar"
   ]
  },
  {
   "cell_type": "code",
   "execution_count": 43,
   "id": "tribal-midwest",
   "metadata": {},
   "outputs": [
    {
     "name": "stdout",
     "output_type": "stream",
     "text": [
      "{'message': 'Received response from KP', 'url': 'https://stars-app.renci.org/cam-kp/query', 'request': {'message': {'query_graph': {'nodes': {'n0': {'category': 'biolink:Gene', 'is_set': False, 'id': 'UniProtKB:P52788'}, 'n1': {'category': 'biolink:ChemicalSubstance', 'is_set': False}}, 'edges': {'e01': {'subject': 'n0', 'object': 'n1', 'predicate': 'biolink:affects'}}}}}, 'response': {'message': {'query_graph': {'nodes': {'n0': {'id': 'UniProtKB:P52788', 'category': 'biolink:Gene', 'is_set': False}, 'n1': {'category': 'biolink:ChemicalSubstance', 'is_set': False}}, 'edges': {'e01': {'subject': 'n0', 'object': 'n1', 'predicate': 'biolink:affects'}}}, 'knowledge_graph': {'nodes': {'http://purl.obolibrary.org/obo/go/extensions/reacto.owl#REACTO_R-ALL-1237175': {'name': '2-Oxoacid', 'category': ['biolink:NamedThing', 'biolink:BiologicalEntity', 'biolink:MolecularEntity', 'biolink:ChemicalSubstance']}, 'http://purl.obolibrary.org/obo/go/extensions/reacto.owl#REACTO_R-ALL-174390': {'name': 'L-Met', 'category': ['biolink:NamedThing', 'biolink:BiologicalEntity', 'biolink:MolecularEntity', 'biolink:ChemicalSubstance']}, 'http://purl.obolibrary.org/obo/go/extensions/reacto.owl#REACTO_R-HSA-1237083': {'name': 'APIP:Zn++', 'category': ['biolink:NamedThing', 'biolink:BiologicalEntity', 'biolink:OrganismalEntity', 'biolink:AnatomicalEntity', 'biolink:CellularComponent']}, 'http://purl.obolibrary.org/obo/go/extensions/reacto.owl#REACTO_R-HSA-1237095': {'name': 'MRI1', 'category': ['biolink:NamedThing', 'biolink:BiologicalEntity', 'biolink:MolecularEntity', 'biolink:ChemicalSubstance', 'biolink:GenomicEntity', 'biolink:Gene', 'biolink:Protein']}, 'GO:0019509': {'name': 'L-methionine salvage from methylthioadenosine', 'category': ['biolink:NamedThing', 'biolink:BiologicalEntity', 'biolink:PlanetaryEntity', 'biolink:EnvironmentalProcess', 'biolink:BiologicalProcessOrActivity', 'biolink:BiologicalProcess']}, 'http://purl.obolibrary.org/obo/go/extensions/reacto.owl#REACTO_R-HSA-1237147': {'name': 'MTAP trimer', 'category': ['biolink:NamedThing', 'biolink:BiologicalEntity', 'biolink:OrganismalEntity', 'biolink:AnatomicalEntity', 'biolink:CellularComponent']}, 'http://purl.obolibrary.org/obo/go/extensions/reacto.owl#REACTO_R-HSA-1237173': {'name': 'ARD:Fe++', 'category': ['biolink:NamedThing', 'biolink:BiologicalEntity', 'biolink:OrganismalEntity', 'biolink:AnatomicalEntity', 'biolink:CellularComponent']}, 'ENVO:02500000': {'name': 'environmental system process', 'category': ['biolink:NamedThing', 'biolink:PlanetaryEntity', 'biolink:EnvironmentalProcess']}, 'http://purl.obolibrary.org/obo/go/extensions/reacto.owl#REACTO_R-ALL-1237165': {'name': 'MTRIBP', 'category': ['biolink:NamedThing', 'biolink:BiologicalEntity', 'biolink:MolecularEntity', 'biolink:ChemicalSubstance']}, 'http://purl.obolibrary.org/obo/go/extensions/reacto.owl#REACTO_R-ALL-70106': {'name': 'H+', 'category': ['biolink:NamedThing', 'biolink:BiologicalEntity', 'biolink:MolecularEntity', 'biolink:ChemicalSubstance']}, 'NCBIGENE:84245': {'category': ['biolink:NamedThing', 'biolink:BiologicalEntity', 'biolink:MolecularEntity', 'biolink:GenomicEntity', 'biolink:Gene']}, 'GO:1903293': {'name': 'phosphatase complex', 'category': ['biolink:NamedThing', 'biolink:BiologicalEntity', 'biolink:OrganismalEntity', 'biolink:AnatomicalEntity', 'biolink:CellularComponent']}, 'http://purl.obolibrary.org/obo/go/extensions/reacto.owl#REACTO_R-ALL-204635': {'name': 'SPM', 'category': ['biolink:NamedThing', 'biolink:BiologicalEntity', 'biolink:MolecularEntity', 'biolink:ChemicalSubstance']}, 'http://purl.obolibrary.org/obo/go/extensions/reacto.owl#REACTO_R-ALL-29460': {'name': 'HCOOH', 'category': ['biolink:NamedThing', 'biolink:BiologicalEntity', 'biolink:MolecularEntity', 'biolink:ChemicalSubstance']}, 'http://purl.obolibrary.org/obo/go/extensions/reacto.owl#REACTO_R-HSA-1237166': {'name': 'E1:Mg++', 'category': ['biolink:NamedThing', 'biolink:BiologicalEntity', 'biolink:OrganismalEntity', 'biolink:AnatomicalEntity', 'biolink:CellularComponent']}, 'http://purl.obolibrary.org/obo/go/extensions/reacto.owl#REACTO_R-ALL-1237122': {'name': '4MTOBUTA', 'category': ['biolink:NamedThing', 'biolink:BiologicalEntity', 'biolink:MolecularEntity', 'biolink:ChemicalSubstance']}, 'http://purl.obolibrary.org/obo/go/extensions/reacto.owl#REACTO_R-ALL-353560': {'name': 'SPN', 'category': ['biolink:NamedThing', 'biolink:BiologicalEntity', 'biolink:MolecularEntity', 'biolink:ChemicalSubstance']}, 'GO:1990204': {'name': 'oxidoreductase complex', 'category': ['biolink:NamedThing', 'biolink:BiologicalEntity', 'biolink:OrganismalEntity', 'biolink:AnatomicalEntity', 'biolink:CellularComponent']}, 'http://purl.obolibrary.org/obo/go/extensions/reacto.owl#REACTO_R-ALL-353106': {'name': 'MTAD', 'category': ['biolink:NamedThing', 'biolink:BiologicalEntity', 'biolink:MolecularEntity', 'biolink:ChemicalSubstance']}, 'GO:0005829': {'name': 'cytosol', 'category': ['biolink:NamedThing', 'biolink:BiologicalEntity', 'biolink:OrganismalEntity', 'biolink:AnatomicalEntity', 'biolink:CellularComponent']}, 'GO:0046523': {'name': 'S-methyl-5-thioribose-1-phosphate isomerase activity', 'category': ['biolink:NamedThing', 'biolink:BiologicalEntity', 'biolink:BiologicalProcessOrActivity', 'biolink:MolecularActivity']}, 'http://purl.obolibrary.org/obo/go/extensions/reacto.owl#REACTO_R-HSA-70579': {'name': 'PXLP-K259-GOT1 dimer', 'category': ['biolink:NamedThing', 'biolink:BiologicalEntity', 'biolink:OrganismalEntity', 'biolink:AnatomicalEntity', 'biolink:CellularComponent']}, 'GO:0008483': {'name': 'transaminase activity', 'category': ['biolink:NamedThing', 'biolink:BiologicalEntity', 'biolink:BiologicalProcessOrActivity', 'biolink:MolecularActivity']}, 'GO:1902494': {'name': 'catalytic complex', 'category': ['biolink:NamedThing', 'biolink:BiologicalEntity', 'biolink:OrganismalEntity', 'biolink:AnatomicalEntity', 'biolink:CellularComponent']}, 'http://purl.obolibrary.org/obo/go/extensions/reacto.owl#REACTO_R-ALL-29368': {'name': 'O2', 'category': ['biolink:NamedThing', 'biolink:BiologicalEntity', 'biolink:MolecularEntity', 'biolink:ChemicalSubstance']}, 'http://purl.obolibrary.org/obo/go/extensions/reacto.owl#REACTO_R-HSA-351212': {'name': 'SRM', 'category': ['biolink:NamedThing', 'biolink:BiologicalEntity', 'biolink:MolecularEntity', 'biolink:ChemicalSubstance', 'biolink:GenomicEntity', 'biolink:Gene', 'biolink:Protein']}, 'http://purl.obolibrary.org/obo/go/extensions/reacto.owl#REACTO_R-ALL-1237155': {'name': 'Acireductone', 'category': ['biolink:NamedThing', 'biolink:BiologicalEntity', 'biolink:MolecularEntity', 'biolink:ChemicalSubstance']}, 'http://purl.obolibrary.org/obo/go/extensions/reacto.owl#REACTO_R-ALL-1237107': {'name': 'MTRIBUP', 'category': ['biolink:NamedThing', 'biolink:BiologicalEntity', 'biolink:MolecularEntity', 'biolink:ChemicalSubstance']}, 'GO:1990234': {'name': 'transferase complex', 'category': ['biolink:NamedThing', 'biolink:BiologicalEntity', 'biolink:OrganismalEntity', 'biolink:AnatomicalEntity', 'biolink:CellularComponent']}, 'http://purl.obolibrary.org/obo/go/extensions/reacto.owl#REACTO_R-ALL-29356': {'name': 'H2O', 'category': ['biolink:NamedThing', 'biolink:BiologicalEntity', 'biolink:MolecularEntity', 'biolink:ChemicalSubstance']}, 'http://purl.obolibrary.org/obo/go/extensions/reacto.owl#REACTO_R-ALL-29372': {'name': 'Pi', 'category': ['biolink:NamedThing', 'biolink:BiologicalEntity', 'biolink:MolecularEntity', 'biolink:ChemicalSubstance']}, 'http://purl.obolibrary.org/obo/go/extensions/reacto.owl#REACTO_R-ALL-8942986': {'name': 'L-amino acid', 'category': ['biolink:NamedThing', 'biolink:BiologicalEntity', 'biolink:MolecularEntity', 'biolink:ChemicalSubstance']}, 'GO:0017061': {'name': 'S-methyl-5-thioadenosine phosphorylase activity', 'category': ['biolink:NamedThing', 'biolink:BiologicalEntity', 'biolink:BiologicalProcessOrActivity', 'biolink:MolecularActivity']}, 'http://purl.obolibrary.org/obo/go/extensions/reacto.owl#REACTO_R-ALL-1237176': {'name': '2,3-DMPP', 'category': ['biolink:NamedThing', 'biolink:BiologicalEntity', 'biolink:MolecularEntity', 'biolink:ChemicalSubstance']}, 'http://purl.obolibrary.org/obo/go/extensions/reacto.owl#REACTO_R-ALL-83951': {'name': 'Ade', 'category': ['biolink:NamedThing', 'biolink:BiologicalEntity', 'biolink:MolecularEntity', 'biolink:ChemicalSubstance']}, 'GO:0010309': {'name': 'acireductone dioxygenase [iron(II)-requiring] activity', 'category': ['biolink:NamedThing', 'biolink:BiologicalEntity', 'biolink:BiologicalProcessOrActivity', 'biolink:MolecularActivity']}, 'GO:0046570': {'name': 'methylthioribulose 1-phosphate dehydratase activity', 'category': ['biolink:NamedThing', 'biolink:BiologicalEntity', 'biolink:BiologicalProcessOrActivity', 'biolink:MolecularActivity']}, 'GO:0016768': {'name': 'spermine synthase activity', 'category': ['biolink:NamedThing', 'biolink:BiologicalEntity', 'biolink:BiologicalProcessOrActivity', 'biolink:MolecularActivity']}, 'http://purl.obolibrary.org/obo/go/extensions/reacto.owl#REACTO_R-ALL-29610': {'name': 'Putrescine', 'category': ['biolink:NamedThing', 'biolink:BiologicalEntity', 'biolink:MolecularEntity', 'biolink:ChemicalSubstance']}, 'UBERON:0001062': {'name': 'anatomical entity', 'category': ['biolink:NamedThing', 'biolink:BiologicalEntity', 'biolink:OrganismalEntity', 'biolink:AnatomicalEntity']}, 'NCBIGENE:6723': {'category': ['biolink:NamedThing', 'biolink:BiologicalEntity', 'biolink:MolecularEntity', 'biolink:GenomicEntity', 'biolink:Gene']}, 'http://purl.obolibrary.org/obo/go/extensions/reacto.owl#REACTO_R-ALL-353113': {'name': 'SAM', 'category': ['biolink:NamedThing', 'biolink:BiologicalEntity', 'biolink:MolecularEntity', 'biolink:ChemicalSubstance']}, 'http://purl.obolibrary.org/obo/go/extensions/reacto.owl#REACTO_R-HSA-351206': {'name': 'SMS', 'category': ['biolink:NamedThing', 'biolink:BiologicalEntity', 'biolink:MolecularEntity', 'biolink:ChemicalSubstance', 'biolink:GenomicEntity', 'biolink:Gene', 'biolink:Protein']}, 'GO:0004766': {'name': 'spermidine synthase activity', 'category': ['biolink:NamedThing', 'biolink:BiologicalEntity', 'biolink:BiologicalProcessOrActivity', 'biolink:MolecularActivity']}, 'GO:0043874': {'name': 'acireductone synthase activity', 'category': ['biolink:NamedThing', 'biolink:BiologicalEntity', 'biolink:BiologicalProcessOrActivity', 'biolink:MolecularActivity']}, 'NCBIGENE:6611': {'category': ['biolink:NamedThing', 'biolink:BiologicalEntity', 'biolink:MolecularEntity', 'biolink:GenomicEntity', 'biolink:Gene']}}, 'edges': {'6377c86f9ec594811a320322a6adeaeb9273c34c70ce8e8ad9eb70c4dfc7c7c4': {'subject': 'GO:0010309', 'object': 'GO:1990204', 'predicate': 'biolink:enabled_by'}, '4f3c6db4ce8f8191e6a42cb7e28d3b65020b4c7d4fbaadffccee070fd71f219e': {'subject': 'NCBIGENE:6611', 'object': 'NCBIGENE:84245', 'predicate': 'biolink:affects'}, 'ab2d4513134f6af4aa5043ad36c510b528170935c4cc725bced17ca4d9f4a83e': {'subject': 'UBERON:0001062', 'object': 'NCBIGENE:84245', 'predicate': 'biolink:affects'}, '1cfac0d599392fa7678b35c9e22301cbc3d3e2543165d6f3b8fc3db1e8a24016': {'subject': 'http://purl.obolibrary.org/obo/go/extensions/reacto.owl#REACTO_R-HSA-351206', 'object': 'http://purl.obolibrary.org/obo/go/extensions/reacto.owl#REACTO_R-HSA-1237095', 'predicate': 'biolink:affects'}, '5614b42c41c689f76ccd3ae461cbffb1160d9ee5e7ea55520acbff643ae7c714': {'subject': 'ENVO:02500000', 'object': 'http://purl.obolibrary.org/obo/go/extensions/reacto.owl#REACTO_R-ALL-353560', 'predicate': 'biolink:has_output'}, '220b45d9882da94068089314cf34e7b47baec56507f7430a5eb2f195605ded7b': {'subject': 'GO:0004766', 'object': 'http://purl.obolibrary.org/obo/go/extensions/reacto.owl#REACTO_R-ALL-353106', 'predicate': 'biolink:has_output'}, 'a50e0ec98ad4e256b46f0f961a0b3526e01637ee2c1cae758b5f3071c75a4fc6': {'subject': 'GO:0004766', 'object': 'GO:0005829', 'predicate': 'biolink:occurs_in'}, '313bf62571ebe20a104ccc1f2795986c8407ad3781b94f95b0896753ec15c5c4': {'subject': 'ENVO:02500000', 'object': 'UBERON:0001062', 'predicate': 'biolink:enabled_by'}, '8db10ff3ecfc91cb2c70b5b153831801960d7b7ab4974c778a60fc96d4536749': {'subject': 'GO:0016768', 'object': 'http://purl.obolibrary.org/obo/go/extensions/reacto.owl#REACTO_R-HSA-351206', 'predicate': 'biolink:enabled_by'}, '6ceaf666dcc8b5b5b1b36fc04ba2eb30f98b02ec15ddf108207764601dd1231d': {'subject': 'GO:0010309', 'object': 'GO:0008483', 'predicate': 'biolink:precedes'}, 'ca6fa646c0bb84472998a50893e5c7fa10aef63680caa2687c7cc7e5c67818ce': {'subject': 'GO:0046523', 'object': 'NCBIGENE:84245', 'predicate': 'biolink:enabled_by'}, 'f1320343cee913eb97ef85f4b5f68a281d71775bcddccc448a5534c30e3dabb0': {'subject': 'GO:0010309', 'object': 'http://purl.obolibrary.org/obo/go/extensions/reacto.owl#REACTO_R-ALL-1237122', 'predicate': 'biolink:has_output'}, 'cfb6a2279c250524cd43914b130569dce41e599ad409f3c3e268901f51354661': {'subject': 'GO:0046523', 'object': 'http://purl.obolibrary.org/obo/go/extensions/reacto.owl#REACTO_R-ALL-1237165', 'predicate': 'biolink:has_input'}, '9bc7d54a5bbd9194b3a89bf0668c7d6504291ea1b0619ed5876cff4616326474': {'subject': 'GO:0017061', 'object': 'http://purl.obolibrary.org/obo/go/extensions/reacto.owl#REACTO_R-ALL-353106', 'predicate': 'biolink:has_input'}, '7556cb440a80804275de09e9de4f8425e48ceb7c7eece611c8b263e82fce4288': {'subject': 'GO:0008483', 'object': 'http://purl.obolibrary.org/obo/go/extensions/reacto.owl#REACTO_R-HSA-70579', 'predicate': 'biolink:enabled_by'}, 'd3ec95bb87bb63c05e98f31962c33d750a6b1d25fe389ac5dbe3fb58a08dbeea': {'subject': 'GO:0017061', 'object': 'UBERON:0001062', 'predicate': 'biolink:enabled_by'}, '4cbf9ad569458fe3b97b78b9f9eb17f2a3b9ade838e155c1502c8792c6fcba73': {'subject': 'ENVO:02500000', 'object': 'GO:0005829', 'predicate': 'biolink:occurs_in'}, '2642ce3d40f5cc480e25c039c162d29f65efd558df472a58fd139ea979d525d9': {'subject': 'GO:0046523', 'object': 'http://purl.obolibrary.org/obo/go/extensions/reacto.owl#REACTO_R-ALL-1237165', 'predicate': 'biolink:has_output'}, '4e4a14e4cd1f2ce42bb71d0de7c70399b253d4c9870ea3d0dd3c60a7ee358cda': {'subject': 'http://purl.obolibrary.org/obo/go/extensions/reacto.owl#REACTO_R-HSA-351206', 'object': 'NCBIGENE:84245', 'predicate': 'biolink:affects'}, '2a68ecec76f782124e0a1cab33ed51a51beeb366377f9c2e5f533de5da98a94b': {'subject': 'GO:0008483', 'object': 'GO:0019509', 'predicate': 'biolink:part_of'}, 'a21d7feb28bfc2adfd478a0d4bc81cd68a1741a778f23612f745eae632db298d': {'subject': 'ENVO:02500000', 'object': 'http://purl.obolibrary.org/obo/go/extensions/reacto.owl#REACTO_R-ALL-204635', 'predicate': 'biolink:has_output'}, '00e1f7f2062697445e8b6a7ba5d4f353ddec09e1d928d646be246e348940937f': {'subject': 'GO:0010309', 'object': 'http://purl.obolibrary.org/obo/go/extensions/reacto.owl#REACTO_R-ALL-1237155', 'predicate': 'biolink:has_input'}, '5b049ad5fb490365b75af227cdaeebde11d5de8d06ddc2c9d6d3439055c71dbc': {'subject': 'ENVO:02500000', 'object': 'http://purl.obolibrary.org/obo/go/extensions/reacto.owl#REACTO_R-ALL-204635', 'predicate': 'biolink:has_input'}, '7a048ecd3e5fc21a53e8754f04f86761a9ca1af202f4d7748493d39884263496': {'subject': 'ENVO:02500000', 'object': 'http://purl.obolibrary.org/obo/go/extensions/reacto.owl#REACTO_R-ALL-353106', 'predicate': 'biolink:has_output'}, '694d0ffa92c7968354c17f48e047cd0efe217f203035dd22caddb6344fae0aa2': {'subject': 'GO:0046570', 'object': 'GO:0005829', 'predicate': 'biolink:occurs_in'}, '4f5d628db485285285dc568e58c19817e4ec6286d8e68d8a65b73251a32b3b1a': {'subject': 'GO:0043874', 'object': 'http://purl.obolibrary.org/obo/go/extensions/reacto.owl#REACTO_R-ALL-29372', 'predicate': 'biolink:has_output'}, 'c293a195e4e548139797719129762da599f16e3c2d486b01ed344b0ff9bf55b2': {'subject': 'GO:0010309', 'object': 'GO:0005829', 'predicate': 'biolink:occurs_in'}, '3b7a093433ae4c8a5d36629cfd7800cbe32eadd9f8d3c98dc08884b4ff253c23': {'subject': 'GO:0046570', 'object': 'UBERON:0001062', 'predicate': 'biolink:enabled_by'}, '1a7535838c4b5bfecb3fd73bbf45116ef1e4d0981829530b402c9bc03bfe84ae': {'subject': 'UBERON:0001062', 'object': 'http://purl.obolibrary.org/obo/go/extensions/reacto.owl#REACTO_R-HSA-1237095', 'predicate': 'biolink:affects'}, '837253e372186542a419318afef9b25555c5128e99f8e3254ae22a859449ac08': {'subject': 'ENVO:02500000', 'object': 'NCBIGENE:84245', 'predicate': 'biolink:enabled_by'}, '1f5d95e596e0867535b2e1698cf4507c0bbf3e0c17915aea34f91805528037a8': {'subject': 'GO:0046570', 'object': 'GO:1902494', 'predicate': 'biolink:enabled_by'}, 'af548be20d87f02a0c17516b76bc7d9e3202de2b5be7c46981091a45fa4bc6b6': {'subject': 'GO:0043874', 'object': 'UBERON:0001062', 'predicate': 'biolink:enabled_by'}, '08d913104b634e8efa64e0784af6e2a28c39a3035e5f1033d466f52e660f23e5': {'subject': 'GO:0043874', 'object': 'http://purl.obolibrary.org/obo/go/extensions/reacto.owl#REACTO_R-ALL-1237176', 'predicate': 'biolink:has_input'}, 'b0b05b4be1c655d976581963592997e66618cddaa8a0894206a68239af3f7f9c': {'subject': 'GO:0010309', 'object': 'http://purl.obolibrary.org/obo/go/extensions/reacto.owl#REACTO_R-ALL-29368', 'predicate': 'biolink:has_input'}, '3bdab344147d41810e621129e662d48081f7ef59758fbf720355b492c156478d': {'subject': 'GO:0046523', 'object': 'http://purl.obolibrary.org/obo/go/extensions/reacto.owl#REACTO_R-ALL-1237107', 'predicate': 'biolink:has_output'}, '30d3391e80796f8539f862ea55ee5a3c954782a2d852ab50979f0dfafd45599b': {'subject': 'GO:0017061', 'object': 'http://purl.obolibrary.org/obo/go/extensions/reacto.owl#REACTO_R-ALL-29372', 'predicate': 'biolink:has_input'}, '89ccbb8131a5289e54c3c9951e8e4a979e5fcc1ebd1138e0b12b3157588b044e': {'subject': 'GO:0010309', 'object': 'UBERON:0001062', 'predicate': 'biolink:enabled_by'}, '1c17e03f7d4912daa131c95a2608dc51128fb80e5f36a936b2a5828f19037c45': {'subject': 'GO:0016768', 'object': 'http://purl.obolibrary.org/obo/go/extensions/reacto.owl#REACTO_R-ALL-353113', 'predicate': 'biolink:has_input'}, '4dec87830c75c7e0cc33721c2ed521b584afde4ca120caaef131788ff6cf2d9f': {'subject': 'GO:0008483', 'object': 'http://purl.obolibrary.org/obo/go/extensions/reacto.owl#REACTO_R-ALL-1237175', 'predicate': 'biolink:has_output'}, 'a31c5b9781cd7cbf6ec2bb1d20032aa5cfed677b2c8d2deb1ce8d03a8d7aada8': {'subject': 'ENVO:02500000', 'object': 'http://purl.obolibrary.org/obo/go/extensions/reacto.owl#REACTO_R-ALL-1237107', 'predicate': 'biolink:has_output'}, '58ae2a8d348b5d8c01c6d885bb40b6b59a2bbcdd7cd4ab361b813bca418cd9f0': {'subject': 'GO:0008483', 'object': 'http://purl.obolibrary.org/obo/go/extensions/reacto.owl#REACTO_R-ALL-8942986', 'predicate': 'biolink:has_input'}, '9b5c48a0e3c0e64fdcd1add16bb532c67f383279113db221d86e310c7e8bbd47': {'subject': 'ENVO:02500000', 'object': 'http://purl.obolibrary.org/obo/go/extensions/reacto.owl#REACTO_R-ALL-1237165', 'predicate': 'biolink:has_output'}, '5ac8c4cee57135bd81bf3f307f9a0166de52456a8330b73f04d0baf2948ef1d5': {'subject': 'GO:0046523', 'object': 'GO:0019509', 'predicate': 'biolink:part_of'}, '2f60b34ee3c8f2443c94c2d5bd969c35ad65f369369fbc719a5809ad06d145d4': {'subject': 'UBERON:0001062', 'object': 'UBERON:0001062', 'predicate': 'biolink:affects'}, '16f52da1f98f5df7226fd59ca21af29f9ad414905f5f94403e8cf14c3a75606a': {'subject': 'GO:0046523', 'object': 'UBERON:0001062', 'predicate': 'biolink:enabled_by'}, 'ab2aa19eeb9162960062954c49d885aae1cbbddb6b9e02dca8c65f587bbc19cd': {'subject': 'ENVO:02500000', 'object': 'http://purl.obolibrary.org/obo/go/extensions/reacto.owl#REACTO_R-ALL-1237165', 'predicate': 'biolink:has_input'}, '3bf06578b0caa88e1ad0864d2b2a538d9c429c2ba1e3b5d0d980d5c3126f831d': {'subject': 'GO:0004766', 'object': 'http://purl.obolibrary.org/obo/go/extensions/reacto.owl#REACTO_R-ALL-29610', 'predicate': 'biolink:has_input'}, '8cceb38070f6f25b57cf796dd3e6bdca32a4e45b7431c9eefce89f9f2f9a6c53': {'subject': 'NCBIGENE:6611', 'object': 'http://purl.obolibrary.org/obo/go/extensions/reacto.owl#REACTO_R-HSA-1237095', 'predicate': 'biolink:affects'}, '7808321ddf39c2002e33892293838bf89a87b4df69bba2c920f2722b169f9302': {'subject': 'http://purl.obolibrary.org/obo/go/extensions/reacto.owl#REACTO_R-HSA-351206', 'object': 'UBERON:0001062', 'predicate': 'biolink:affects'}, 'e1d8c1f0a7303e0482aa5cf1a8a0af0721897d0582509c0751842398c49bc51a': {'subject': 'GO:0043874', 'object': 'http://purl.obolibrary.org/obo/go/extensions/reacto.owl#REACTO_R-HSA-1237166', 'predicate': 'biolink:enabled_by'}, 'cf8d1df65d33853ee7d443ae069577d9555826e2c5b2b57e6b8bfdaa2f021ef2': {'subject': 'GO:0010309', 'object': 'http://purl.obolibrary.org/obo/go/extensions/reacto.owl#REACTO_R-ALL-29460', 'predicate': 'biolink:has_output'}, '9fafc4ab0d4beae664fa03841c210296fbda243653956ad60311d3684f31741a': {'subject': 'ENVO:02500000', 'object': 'http://purl.obolibrary.org/obo/go/extensions/reacto.owl#REACTO_R-ALL-1237107', 'predicate': 'biolink:has_input'}, '05318e3c92121ad18c4d420a8cff4d747c6fd60c5754f1fcce13ca214a3c6f7b': {'subject': 'ENVO:02500000', 'object': 'http://purl.obolibrary.org/obo/go/extensions/reacto.owl#REACTO_R-ALL-29610', 'predicate': 'biolink:has_input'}, 'd575c3be1684307d114d488df3af5b86f343432fa4fbd4f4869e9bdf5b4b249f': {'subject': 'GO:0016768', 'object': 'NCBIGENE:6611', 'predicate': 'biolink:enabled_by'}, '26da50ebda1b7c1e4e674e0356e91c4f4a263028484b077993c7195cf81d9132': {'subject': 'GO:0043874', 'object': 'http://purl.obolibrary.org/obo/go/extensions/reacto.owl#REACTO_R-ALL-1237155', 'predicate': 'biolink:has_output'}, 'cb6c514aa8463547c7814e98648bc6b1ac05697b393eeb0d619bbdfd7cc50045': {'subject': 'GO:0004766', 'object': 'http://purl.obolibrary.org/obo/go/extensions/reacto.owl#REACTO_R-HSA-351212', 'predicate': 'biolink:enabled_by'}, 'afede4a82c9a94d513dad8db6a88372e2285c617ffa8d3b6d901e05fa1720847': {'subject': 'GO:0043874', 'object': 'GO:0005829', 'predicate': 'biolink:occurs_in'}, '0cb8a75fd9d08dab7eb2bfcad7d11335bfa9d23188723d01c13888ee397b7b62': {'subject': 'GO:0046523', 'object': 'http://purl.obolibrary.org/obo/go/extensions/reacto.owl#REACTO_R-ALL-1237107', 'predicate': 'biolink:has_input'}, 'e8eb00f9c957f5d21e50673f091a2f6635e4d5844523017adc5d09ebb5e5cba9': {'subject': 'GO:0046570', 'object': 'GO:0019509', 'predicate': 'biolink:part_of'}, 'c00cb6c1a7d369c6b17205a22b1991246a10f6dc546f52a08d17ce3a7615a262': {'subject': 'GO:0043874', 'object': 'http://purl.obolibrary.org/obo/go/extensions/reacto.owl#REACTO_R-ALL-70106', 'predicate': 'biolink:has_output'}, 'd44bc4545e4ee35c5686db5e81a5e478ec7dcf45aed506ad02d1c5d7368ac383': {'subject': 'ENVO:02500000', 'object': 'http://purl.obolibrary.org/obo/go/extensions/reacto.owl#REACTO_R-HSA-351206', 'predicate': 'biolink:enabled_by'}, 'e872feb0edf4a22c400b283a53e6e9050fa27d6cea850c6661d8394662435f92': {'subject': 'GO:0017061', 'object': 'GO:1990234', 'predicate': 'biolink:enabled_by'}, 'e45397d3d0e03cd87804e6a49fc9605179a748e87528ae2400a9f492b3624f4a': {'subject': 'ENVO:02500000', 'object': 'GO:0046570', 'predicate': 'biolink:precedes'}, 'da26f7f0e28b8e1039db1ef181905f0da3f5c1bfe245fa6e0d548c34c66b8770': {'subject': 'GO:0046523', 'object': 'GO:0046570', 'predicate': 'biolink:precedes'}, '7d16db098d7dceda089f1a41ac765d5d4e27440d7a2c0135e061e276f1fc9349': {'subject': 'ENVO:02500000', 'object': 'GO:0019509', 'predicate': 'biolink:part_of'}, '64e07418744503da5278e7357ed5e94e6603b360c605492a07dd8d8f4e8b0e77': {'subject': 'GO:0016768', 'object': 'GO:0017061', 'predicate': 'biolink:precedes'}, '36c44e56f3080e9722bde3e0af86a0319d32ce2046d9bc24da9856a10a9ac487': {'subject': 'GO:0046523', 'object': 'GO:0005829', 'predicate': 'biolink:occurs_in'}, 'c85710d758db8a6d949fff863d62a95632c456da547340ccceafdba3c60c4108': {'subject': 'GO:0016768', 'object': 'UBERON:0001062', 'predicate': 'biolink:enabled_by'}, '2e8800a7aaaf8a5ef2317650cefa3e70271480209d38d8b91d9b24751747b73c': {'subject': 'GO:0010309', 'object': 'http://purl.obolibrary.org/obo/go/extensions/reacto.owl#REACTO_R-HSA-1237173', 'predicate': 'biolink:enabled_by'}, 'e76fd0db91a228116da815c5cd725b2496742758ba0877a7034227431c9e01f6': {'subject': 'GO:0010309', 'object': 'GO:0019509', 'predicate': 'biolink:part_of'}, 'f32c5bf619a2151620b92ebd2d0a58df500b5418f90c8aa1a3e3362b13d973e2': {'subject': 'GO:0017061', 'object': 'http://purl.obolibrary.org/obo/go/extensions/reacto.owl#REACTO_R-ALL-1237165', 'predicate': 'biolink:has_output'}, '5539a2b7e2598fc3378c738be9d360bef3208a5193a727983ea55a1fec688821': {'subject': 'GO:0008483', 'object': 'UBERON:0001062', 'predicate': 'biolink:enabled_by'}, 'b66dee96d610a62fa2e8627aeca3f63da24212c5fb1cb0764f664b44e0f94c64': {'subject': 'GO:0046570', 'object': 'http://purl.obolibrary.org/obo/go/extensions/reacto.owl#REACTO_R-ALL-1237176', 'predicate': 'biolink:has_output'}, '78404d86c73e7da5c091761c243503d8f8ff9c66cf1fec9444a6da93c6ec786b': {'subject': 'GO:0008483', 'object': 'GO:1990234', 'predicate': 'biolink:enabled_by'}, '9d00409113dacc47a2e997d41545246a17751d2bff05350bebc84f9de66f756f': {'subject': 'GO:0004766', 'object': 'http://purl.obolibrary.org/obo/go/extensions/reacto.owl#REACTO_R-ALL-353113', 'predicate': 'biolink:has_input'}, 'cd3346614c875b41dc5864e9c5854e7fa4fe484ae3f37296d39282ee284e9795': {'subject': 'GO:0046570', 'object': 'http://purl.obolibrary.org/obo/go/extensions/reacto.owl#REACTO_R-HSA-1237083', 'predicate': 'biolink:enabled_by'}, '689430cc2d208df3e2984e4d3364d18b085006e492c8258277f5d59e8c4e8b64': {'subject': 'GO:0016768', 'object': 'http://purl.obolibrary.org/obo/go/extensions/reacto.owl#REACTO_R-ALL-204635', 'predicate': 'biolink:has_input'}, '0b3da024eacb2fae3192c764d2d6dde01e29e162200f33b1edb718ad36ca09b4': {'subject': 'GO:0004766', 'object': 'GO:0017061', 'predicate': 'biolink:precedes'}, 'f30f484eb89ff45b2db1a78041966f56b0b2103f77461b662e2dace50a952825': {'subject': 'GO:0046570', 'object': 'http://purl.obolibrary.org/obo/go/extensions/reacto.owl#REACTO_R-ALL-29356', 'predicate': 'biolink:has_output'}, 'cab3c803ba995a28ac43a70f968273aefa25365e057b68a0198a2f62a99dc271': {'subject': 'ENVO:02500000', 'object': 'http://purl.obolibrary.org/obo/go/extensions/reacto.owl#REACTO_R-HSA-1237095', 'predicate': 'biolink:enabled_by'}, 'ac2998b73793fe35f32fc1cf9c6dcf89f967d3a812e22a6327e5c473a993d16d': {'subject': 'GO:0046570', 'object': 'http://purl.obolibrary.org/obo/go/extensions/reacto.owl#REACTO_R-ALL-1237107', 'predicate': 'biolink:has_input'}, 'a62ef39642238ee644789237e9090672f209f129199bea081e2166cd44fa1653': {'subject': 'GO:0016768', 'object': 'http://purl.obolibrary.org/obo/go/extensions/reacto.owl#REACTO_R-ALL-353560', 'predicate': 'biolink:has_output'}, 'be85b01f0aa9f9213a8394dd4222a0c3e223e99238868a075cb0d458e15a5dbb': {'subject': 'ENVO:02500000', 'object': 'NCBIGENE:6723', 'predicate': 'biolink:enabled_by'}, '16974cb49c81690fb212dbd77da2160c1e79a1e79d5854f7e0bab4e79256cc8c': {'subject': 'ENVO:02500000', 'object': 'http://purl.obolibrary.org/obo/go/extensions/reacto.owl#REACTO_R-ALL-353113', 'predicate': 'biolink:has_input'}, 'df8151ff28f8c3cad98043a0f1cf3abe47a4edffd5bff08236be0284a93b1a1c': {'subject': 'GO:0046570', 'object': 'GO:0043874', 'predicate': 'biolink:precedes'}, '3e8ac5380baf8e345afcc3837feaf1a5fc8f8a4ef1681122a51e01193a1a3246': {'subject': 'GO:0043874', 'object': 'http://purl.obolibrary.org/obo/go/extensions/reacto.owl#REACTO_R-ALL-29356', 'predicate': 'biolink:has_input'}, '5cacfaf72f3a3df6cbd915d0f17e758afb7a630491a3b614572d4ca1d13a6a46': {'subject': 'GO:0004766', 'object': 'NCBIGENE:6723', 'predicate': 'biolink:enabled_by'}, '52fb02c6d0585f712108901fede1943140daf5fb1fdb967dcb70c7349f9cd0f4': {'subject': 'GO:0004766', 'object': 'http://purl.obolibrary.org/obo/go/extensions/reacto.owl#REACTO_R-ALL-204635', 'predicate': 'biolink:has_output'}, 'd2c42f5a91643e1b96c8e4ac83f8e2a5c33f0f1a3dc6b11b4525eb1e7fb68704': {'subject': 'GO:0017061', 'object': 'GO:0019509', 'predicate': 'biolink:part_of'}, '4a101382ffcf364d379eced8f73ce608ddb79d25f0b250ad4a8b243fa5c6eefd': {'subject': 'GO:0043874', 'object': 'GO:1903293', 'predicate': 'biolink:enabled_by'}, 'd60593dd360cf4bd38529fc517b01d45de31ceaace9b9bb1e23097534a5cacd3': {'subject': 'GO:0008483', 'object': 'GO:0005829', 'predicate': 'biolink:occurs_in'}, '87b516ee82275b9ddaceb97f5a07a58588e9d8b4913615fa19fc07b4827ceee0': {'subject': 'GO:0016768', 'object': 'http://purl.obolibrary.org/obo/go/extensions/reacto.owl#REACTO_R-ALL-353106', 'predicate': 'biolink:has_output'}, 'd85d5b125c20eab1e4d784e32fd41333eccb23fe825d96a5d987c2bbc26de541': {'subject': 'GO:0017061', 'object': 'GO:0005829', 'predicate': 'biolink:occurs_in'}, '101048dc1fbe285e975c30e9de35bc5b02d5e180e9fa22ca4a4b56972255a255': {'subject': 'ENVO:02500000', 'object': 'GO:0017061', 'predicate': 'biolink:precedes'}, '51dd05f2c1a73e57c113278fcf14ce0be8360eabc32fc1cb97bef61b1e737c57': {'subject': 'GO:0008483', 'object': 'http://purl.obolibrary.org/obo/go/extensions/reacto.owl#REACTO_R-ALL-1237122', 'predicate': 'biolink:has_input'}, 'ac5fc978eb7ba64eef4728b8d1b346345596c84f4dbff7c0495ecc3778b1e742': {'subject': 'GO:0004766', 'object': 'UBERON:0001062', 'predicate': 'biolink:enabled_by'}, 'bc56e33af7b23ccada27110d5ad238ee1b14a597ac030cba0969d307924dc799': {'subject': 'GO:0043874', 'object': 'GO:0019509', 'predicate': 'biolink:part_of'}, '59cf029462ce0f03edf438618f534d9f8eb94a7d3b82872a3986f3fca7edf6c4': {'subject': 'ENVO:02500000', 'object': 'http://purl.obolibrary.org/obo/go/extensions/reacto.owl#REACTO_R-HSA-351212', 'predicate': 'biolink:enabled_by'}, '7fecf0b52e05b39e387dfc85d20356c01a49c67d12858edf51f2ad3619844279': {'subject': 'GO:0008483', 'object': 'http://purl.obolibrary.org/obo/go/extensions/reacto.owl#REACTO_R-ALL-174390', 'predicate': 'biolink:has_output'}, 'a5d4f9382847565e76c7a004ef54716147ba2b214f0bc1632601396cb00de9d7': {'subject': 'ENVO:02500000', 'object': 'NCBIGENE:6611', 'predicate': 'biolink:enabled_by'}, 'faef4362efec95721a4a73cba474c4e589126e6c9381c5b8d1535272405634d9': {'subject': 'GO:0016768', 'object': 'GO:0005829', 'predicate': 'biolink:occurs_in'}, '7695427c605a0199d5e8c74f29c3d1a9b8ca8905f95491af3b945605cd2240b3': {'subject': 'NCBIGENE:6611', 'object': 'UBERON:0001062', 'predicate': 'biolink:affects'}, 'ce63b0f8a7ed063a2fda963c7fe419c0a4194ee10137faa561a4d74eeeab1f77': {'subject': 'GO:0017061', 'object': 'http://purl.obolibrary.org/obo/go/extensions/reacto.owl#REACTO_R-ALL-83951', 'predicate': 'biolink:has_output'}, '9915140268c550e157731cc1db00393e2b2e08e48037ecbb2287d56bbb302b27': {'subject': 'GO:0046523', 'object': 'http://purl.obolibrary.org/obo/go/extensions/reacto.owl#REACTO_R-HSA-1237095', 'predicate': 'biolink:enabled_by'}, '48eb00edecefbc40c5dbed2e52a6fa6e2a73c120aadba76dc2b052c91abedb52': {'subject': 'GO:0017061', 'object': 'http://purl.obolibrary.org/obo/go/extensions/reacto.owl#REACTO_R-HSA-1237147', 'predicate': 'biolink:enabled_by'}}}, 'results': [{'node_bindings': {'n0': [{'id': 'http://purl.obolibrary.org/obo/go/extensions/reacto.owl#REACTO_R-HSA-351206'}], 'n1': [{'id': 'http://purl.obolibrary.org/obo/go/extensions/reacto.owl#REACTO_R-HSA-1237095'}]}, 'edge_bindings': {'e01': [{'id': '1cfac0d599392fa7678b35c9e22301cbc3d3e2543165d6f3b8fc3db1e8a24016', 'provenance': 'http://model.geneontology.org/R-HSA-1237112'}]}}, {'node_bindings': {'n0': [{'id': 'NCBIGENE:6611'}], 'n1': [{'id': 'http://purl.obolibrary.org/obo/go/extensions/reacto.owl#REACTO_R-HSA-1237095'}]}, 'edge_bindings': {'e01': [{'id': '8cceb38070f6f25b57cf796dd3e6bdca32a4e45b7431c9eefce89f9f2f9a6c53', 'provenance': 'http://model.geneontology.org/R-HSA-1237112'}]}}, {'node_bindings': {'n0': [{'id': 'UBERON:0001062'}], 'n1': [{'id': 'http://purl.obolibrary.org/obo/go/extensions/reacto.owl#REACTO_R-HSA-1237095'}]}, 'edge_bindings': {'e01': [{'id': '1a7535838c4b5bfecb3fd73bbf45116ef1e4d0981829530b402c9bc03bfe84ae', 'provenance': 'http://model.geneontology.org/R-HSA-1237112'}]}}, {'node_bindings': {'n0': [{'id': 'http://purl.obolibrary.org/obo/go/extensions/reacto.owl#REACTO_R-HSA-351206'}], 'n1': [{'id': 'NCBIGENE:84245'}]}, 'edge_bindings': {'e01': [{'id': '4e4a14e4cd1f2ce42bb71d0de7c70399b253d4c9870ea3d0dd3c60a7ee358cda', 'provenance': 'http://model.geneontology.org/R-HSA-1237112'}]}}, {'node_bindings': {'n0': [{'id': 'NCBIGENE:6611'}], 'n1': [{'id': 'NCBIGENE:84245'}]}, 'edge_bindings': {'e01': [{'id': '4f3c6db4ce8f8191e6a42cb7e28d3b65020b4c7d4fbaadffccee070fd71f219e', 'provenance': 'http://model.geneontology.org/R-HSA-1237112'}]}}, {'node_bindings': {'n0': [{'id': 'UBERON:0001062'}], 'n1': [{'id': 'NCBIGENE:84245'}]}, 'edge_bindings': {'e01': [{'id': 'ab2d4513134f6af4aa5043ad36c510b528170935c4cc725bced17ca4d9f4a83e', 'provenance': 'http://model.geneontology.org/R-HSA-1237112'}]}}, {'node_bindings': {'n0': [{'id': 'http://purl.obolibrary.org/obo/go/extensions/reacto.owl#REACTO_R-HSA-351206'}], 'n1': [{'id': 'UBERON:0001062'}]}, 'edge_bindings': {'e01': [{'id': '7808321ddf39c2002e33892293838bf89a87b4df69bba2c920f2722b169f9302', 'provenance': 'http://model.geneontology.org/R-HSA-1237112'}]}}, {'node_bindings': {'n0': [{'id': 'NCBIGENE:6611'}], 'n1': [{'id': 'UBERON:0001062'}]}, 'edge_bindings': {'e01': [{'id': '7695427c605a0199d5e8c74f29c3d1a9b8ca8905f95491af3b945605cd2240b3', 'provenance': 'http://model.geneontology.org/R-HSA-1237112'}]}}, {'node_bindings': {'n0': [{'id': 'UBERON:0001062'}], 'n1': [{'id': 'UBERON:0001062'}]}, 'edge_bindings': {'e01': [{'id': '2f60b34ee3c8f2443c94c2d5bd969c35ad65f369369fbc719a5809ad06d145d4', 'provenance': 'http://model.geneontology.org/R-HSA-1237112'}]}}]}, 'status': 'Success'}, 'line_number': 67}\n"
     ]
    }
   ],
   "source": [
    "res = print_query_for_source(strider_result,'https://stars-app.renci.org/cam-kp/query')"
   ]
  },
  {
   "cell_type": "code",
   "execution_count": 50,
   "id": "fundamental-theology",
   "metadata": {},
   "outputs": [
    {
     "data": {
      "text/plain": [
       "{'query_graph': {'nodes': {'n0': {'category': 'biolink:Gene',\n",
       "    'is_set': False,\n",
       "    'id': 'UniProtKB:P52788'},\n",
       "   'n1': {'category': 'biolink:ChemicalSubstance', 'is_set': False}},\n",
       "  'edges': {'e01': {'subject': 'n0',\n",
       "    'object': 'n1',\n",
       "    'predicate': 'biolink:affects'}}}}"
      ]
     },
     "execution_count": 50,
     "metadata": {},
     "output_type": "execute_result"
    }
   ],
   "source": [
    "res['request']['message']"
   ]
  },
  {
   "cell_type": "code",
   "execution_count": 55,
   "id": "invisible-agency",
   "metadata": {},
   "outputs": [
    {
     "name": "stdout",
     "output_type": "stream",
     "text": [
      "{'n0': [{'id': 'http://purl.obolibrary.org/obo/go/extensions/reacto.owl#REACTO_R-HSA-351206'}], 'n1': [{'id': 'http://purl.obolibrary.org/obo/go/extensions/reacto.owl#REACTO_R-HSA-1237095'}]}\n",
      "{'n0': [{'id': 'NCBIGENE:6611'}], 'n1': [{'id': 'http://purl.obolibrary.org/obo/go/extensions/reacto.owl#REACTO_R-HSA-1237095'}]}\n",
      "{'n0': [{'id': 'UBERON:0001062'}], 'n1': [{'id': 'http://purl.obolibrary.org/obo/go/extensions/reacto.owl#REACTO_R-HSA-1237095'}]}\n",
      "{'n0': [{'id': 'http://purl.obolibrary.org/obo/go/extensions/reacto.owl#REACTO_R-HSA-351206'}], 'n1': [{'id': 'NCBIGENE:84245'}]}\n",
      "{'n0': [{'id': 'NCBIGENE:6611'}], 'n1': [{'id': 'NCBIGENE:84245'}]}\n",
      "{'n0': [{'id': 'UBERON:0001062'}], 'n1': [{'id': 'NCBIGENE:84245'}]}\n",
      "{'n0': [{'id': 'http://purl.obolibrary.org/obo/go/extensions/reacto.owl#REACTO_R-HSA-351206'}], 'n1': [{'id': 'UBERON:0001062'}]}\n",
      "{'n0': [{'id': 'NCBIGENE:6611'}], 'n1': [{'id': 'UBERON:0001062'}]}\n",
      "{'n0': [{'id': 'UBERON:0001062'}], 'n1': [{'id': 'UBERON:0001062'}]}\n"
     ]
    }
   ],
   "source": [
    "for r in res['response']['message']['results']:\n",
    "    print (r['node_bindings'])"
   ]
  },
  {
   "cell_type": "markdown",
   "id": "tested-completion",
   "metadata": {},
   "source": [
    "## ARAGORN "
   ]
  },
  {
   "cell_type": "code",
   "execution_count": 19,
   "id": "continuing-queen",
   "metadata": {},
   "outputs": [
    {
     "name": "stdout",
     "output_type": "stream",
     "text": [
      "ARAGORN produced 37 results in 0:01:07.387003.\n"
     ]
    }
   ],
   "source": [
    "start = dt.now()\n",
    "aragorn_result = aragorn(query)\n",
    "end = dt.now()\n",
    "if 'results' in aragorn_result['message']:\n",
    "    print(f\"ARAGORN produced {len(aragorn_result['message']['results'])} results in {end-start}.\")\n",
    "else:\n",
    "    print('Error, no result field')"
   ]
  },
  {
   "cell_type": "code",
   "execution_count": 20,
   "id": "clean-disclaimer",
   "metadata": {},
   "outputs": [],
   "source": [
    "view = GammaViewer(props={\"data\":aragorn_result})\n",
    "display(view)"
   ]
  },
  {
   "cell_type": "markdown",
   "id": "editorial-diabetes",
   "metadata": {},
   "source": [
    "### ARAGORN Assessment"
   ]
  },
  {
   "cell_type": "markdown",
   "id": "compatible-registration",
   "metadata": {},
   "source": [
    "How did we do?"
   ]
  }
 ],
 "metadata": {
  "kernelspec": {
   "display_name": "Python 3",
   "language": "python",
   "name": "python3"
  },
  "language_info": {
   "codemirror_mode": {
    "name": "ipython",
    "version": 3
   },
   "file_extension": ".py",
   "mimetype": "text/x-python",
   "name": "python",
   "nbconvert_exporter": "python",
   "pygments_lexer": "ipython3",
   "version": "3.9.1"
  }
 },
 "nbformat": 4,
 "nbformat_minor": 5
}
