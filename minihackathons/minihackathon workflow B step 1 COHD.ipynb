{
 "cells": [
  {
   "cell_type": "markdown",
   "id": "controversial-detroit",
   "metadata": {},
   "source": [
    "# Setup"
   ]
  },
  {
   "cell_type": "code",
   "execution_count": 1,
   "id": "caring-bacteria",
   "metadata": {},
   "outputs": [],
   "source": [
    "import json\n",
    "import requests\n",
    "from datetime import datetime as dt\n",
    "from collections import defaultdict\n",
    "import pandas as pd\n",
    "import copy"
   ]
  },
  {
   "cell_type": "code",
   "execution_count": 2,
   "id": "graphic-exemption",
   "metadata": {},
   "outputs": [],
   "source": [
    "#https://pypi.org/project/gamma-viewer/\n",
    "from gamma_viewer import GammaViewer\n",
    "from IPython.display import display, Markdown"
   ]
  },
  {
   "cell_type": "code",
   "execution_count": 3,
   "id": "ecological-rhythm",
   "metadata": {},
   "outputs": [],
   "source": [
    "def printjson(j):\n",
    "    print(json.dumps(j,indent=4))\n",
    "def print_json(j):\n",
    "    printjson(j)"
   ]
  },
  {
   "cell_type": "code",
   "execution_count": 4,
   "id": "thick-encounter",
   "metadata": {},
   "outputs": [],
   "source": [
    "def post(name,url,message,params=None):\n",
    "    if params is None:\n",
    "        response = requests.post(url,json=message)\n",
    "    else:\n",
    "        response = requests.post(url,json=message,params=params)\n",
    "    if not response.status_code == 200:\n",
    "        print(name, 'error:',response.status_code)\n",
    "        print(response.json())\n",
    "        return {}\n",
    "    return response.json()\n",
    "\n",
    "def automat(db,message):\n",
    "    automat_url = f'https://automat.renci.org/{db}/query'\n",
    "    response = requests.post(automat_url,json=message)\n",
    "    print(response.status_code)\n",
    "    return response.json()\n",
    "\n",
    "def strider(message):\n",
    "    url = 'https://strider.renci.org/1.1/query'\n",
    "    strider_answer = post(strider,url,message)\n",
    "    return strider_answer\n",
    "\n",
    "def aragorn(message, coalesce_type='xnone'):\n",
    "    if coalesce_type == 'xnone':\n",
    "        answer = post('aragorn','https://aragorn.renci.org/1.1/query',message)\n",
    "    else:\n",
    "        answer = post('aragorn','https://aragorn.renci.org/1.1/query',message, params={'answer_coalesce_type':coalesce_type})\n",
    "    return answer\n",
    "\n",
    "##\n",
    "\n",
    "def icees(message):\n",
    "    url = 'https://icees.renci.org:16339/query'\n",
    "    return post(icees,url,message)\n",
    "\n",
    "def bte(message):\n",
    "    url = 'https://api.bte.ncats.io/v1/query'\n",
    "    return post(strider,url,message)\n",
    "\n",
    "def coalesce(message,method='all'):\n",
    "    url = 'https://answercoalesce.renci.org/coalesce/graph'\n",
    "    return post('AC'+method,url,message)\n",
    "\n",
    "def striderandfriends(message):\n",
    "    strider_answer = strider(message)    \n",
    "    coalesced_answer = post('coalesce','https://answercoalesce.renci.org/coalesce/all',strider_answer)\n",
    "    omni_answer = post('omnicorp','https://aragorn-ranker.renci.org/omnicorp_overlay',coalesced_answer)\n",
    "    weighted_answer = post('weight','https://aragorn-ranker.renci.org/weight_correctness',omni_answer)\n",
    "    scored_answer = post('score','https://aragorn-ranker.renci.org/score',weighted_answer)\n",
    "    return strider_answer,coalesced_answer,omni_answer,weighted_answer,scored_answer"
   ]
  },
  {
   "cell_type": "code",
   "execution_count": 5,
   "id": "legislative-oriental",
   "metadata": {},
   "outputs": [],
   "source": [
    "def print_errors(strider_result):\n",
    "    errorcounts = defaultdict(int)\n",
    "    for logmessage in strider_result['logs']:\n",
    "        if logmessage['level'] == 'ERROR':\n",
    "            #jm = json.loads(logmessage['message'])\n",
    "            #words = jm['error'].split()\n",
    "            #e = \" \".join(words[:-5])            \n",
    "            e = logmessage['error']\n",
    "            errorcounts[e] += 1\n",
    "    for error,count in errorcounts.items():\n",
    "        print(f'{error} ({count} times)')\n",
    "        \n",
    "def print_queried_sources(strider_result):\n",
    "    querycounts = defaultdict(int)\n",
    "    for logmessage in strider_result['logs']:\n",
    "        if 'step' in logmessage and isinstance(logmessage['step'],list):\n",
    "            for s in logmessage['step']:\n",
    "                querycounts[s['url']] += 1\n",
    "    for url,count in querycounts.items():\n",
    "        print(f'{url} ({count} times)')\n",
    "        \n",
    "def print_query_for_source(strider_result,url):\n",
    "    for logmessage in strider_result['logs']:\n",
    "        if 'step' in logmessage and isinstance(logmessage['step'],list):\n",
    "            for s in logmessage['step']:\n",
    "                if s['url']==url:\n",
    "                    print(s)"
   ]
  },
  {
   "cell_type": "code",
   "execution_count": 6,
   "id": "fantastic-antique",
   "metadata": {},
   "outputs": [],
   "source": [
    "def retrieve_ars_results(mid):\n",
    "    ars='https://ars-dev.transltr.io'\n",
    "    message_url = f'{ars}/ars/api/messages/{mid}?trace=y'\n",
    "    response = requests.get(message_url)\n",
    "    j = response.json()\n",
    "    results = {}\n",
    "    for child in j['children']:\n",
    "        if child['actor']['agent'] in ['ara-aragorn', 'ara-aragorn-exp']:\n",
    "            childmessage_id = child['message']\n",
    "            child_url = f'{ars}/ars/api/messages/{childmessage_id}'\n",
    "            child_response = requests.get(child_url).json()\n",
    "            try:\n",
    "                nresults = len(child_response['fields']['data']['message']['results'])\n",
    "                if nresults > 0:\n",
    "                    results[child['actor']['agent']] = {'message':child_response['fields']['data']['message']}\n",
    "            except:\n",
    "                nresults=0\n",
    "            print( child['status'], child['actor']['agent'],nresults )\n",
    "    return results"
   ]
  },
  {
   "cell_type": "code",
   "execution_count": 7,
   "id": "corporate-ambassador",
   "metadata": {},
   "outputs": [],
   "source": [
    "def get_provenance(message):\n",
    "    \"\"\"Given a message with results, find the source of the edges\"\"\"\n",
    "    prov = defaultdict(lambda: defaultdict(int)) # {qedge->{source->count}}\n",
    "    results = message['message']['results']\n",
    "    kg = message['message']['knowledge_graph']['edges']\n",
    "    edge_bindings = [ r['edge_bindings'] for r in results ]\n",
    "    for bindings in edge_bindings:\n",
    "        for qg_e, kg_l in bindings.items():\n",
    "            for kg_e in kg_l:\n",
    "                for att in kg[kg_e['id']]['attributes']:\n",
    "                    if att['attribute_type_id'] == 'MetaInformation:Provenance':\n",
    "                        source = att['value']\n",
    "                        prov[qg_e][source]+=1\n",
    "    qg_edges = []\n",
    "    sources = []\n",
    "    counts = []\n",
    "    for qg_e in prov:\n",
    "        for source in prov[qg_e]:\n",
    "            qg_edges.append(qg_e)\n",
    "            sources.append(source)\n",
    "            counts.append(prov[qg_e][source])\n",
    "    prov_table = pd.DataFrame({\"QG Edge\":qg_edges, \"Source\":sources, \"Count\":counts})\n",
    "    return prov_table"
   ]
  },
  {
   "cell_type": "code",
   "execution_count": 8,
   "id": "junior-vehicle",
   "metadata": {},
   "outputs": [],
   "source": [
    "def ac_to_table(aragorn_result,mnode):\n",
    "    #scores = []\n",
    "    answer_node_count = []\n",
    "    merged_count = []\n",
    "    method = []\n",
    "    extra = []\n",
    "    for res_i, result in enumerate(aragorn_result['message']['results']):\n",
    "        #scores.append(result['score'])\n",
    "        answer_node_count.append(len(result['node_bindings']))\n",
    "        merged_count.append(len(result['node_bindings'][mnode]))\n",
    "        try:\n",
    "            method.append(result['node_bindings'][mnode][0]['coalescence_method'])\n",
    "        except:\n",
    "            method.append('Original')\n",
    "    df = pd.DataFrame({'N_Answer_Nodes':answer_node_count, 'N_Merged_Nodes':merged_count, 'Method':method})\n",
    "    return df\n",
    "\n",
    "def filter_to_simple(aragorn_result,mnode):\n",
    "    simple_result = copy.deepcopy(aragorn_result)\n",
    "    simple_result['message']['results'] = list(\n",
    "    filter( lambda x: 'coalescence_method' not in x['node_bindings'][mnode][0], \n",
    "           aragorn_result['message']['results'])\n",
    "    )\n",
    "    print(len(simple_result['message']['results']))\n",
    "    return simple_result\n",
    "\n",
    "def print_nodenames(simple_result,qnode):\n",
    "    #Print the names of the answers\n",
    "    for result in simple_result['message']['results']:\n",
    "        #Each answer has an identifier:\n",
    "        n1_id = result['node_bindings'][qnode][0]['id']\n",
    "        #The information for that identifier is in the KG:\n",
    "        node = simple_result['message']['knowledge_graph']['nodes'][n1_id]\n",
    "        #Each node has a name\n",
    "        print(node['name'])\n",
    "\n",
    "def filter_to_coal(aragorn_result,mnode,method):\n",
    "    #The results that have been coalesced:\n",
    "    coalesced_results = list(\n",
    "        filter( lambda x: 'coalescence_method'  in x['node_bindings'][mnode][0], \n",
    "               aragorn_result['message']['results'])\n",
    "    )\n",
    "    #Those that have been coalesced via a new node (graph coalescence)\n",
    "    graph_coalesced_results = list(\n",
    "        filter( lambda x: x['node_bindings'][mnode][0]['coalescence_method'] == method, coalesced_results)\n",
    "    )\n",
    "    print(len(graph_coalesced_results))\n",
    "    simple_result = copy.deepcopy(aragorn_result)\n",
    "    simple_result['message']['results'] = graph_coalesced_results\n",
    "    return simple_result\n",
    "\n",
    "def filter_to_gc(aragorn_result,mnode):\n",
    "    return filter_to_coal(aragorn_result,mnode,'graph_enrichment')\n",
    "\n",
    "def filter_to_pc(aragorn_result,mnode):\n",
    "    return filter_to_coal(aragorn_result,mnode,'property_enrichment')\n",
    "\n",
    "def print_gc_result(graph,gc_result,node):\n",
    "    print('p_value:', gc_result['node_bindings'][node][0]['p_value'])\n",
    "    maxprint=5\n",
    "    for extra_edge in gc_result['edge_bindings']:\n",
    "        if not extra_edge.startswith('extra_'):\n",
    "            continue\n",
    "        numnodes = len(gc_result['edge_bindings'][extra_edge])\n",
    "        if numnodes == 0:\n",
    "            printjson(gc_result)\n",
    "            return\n",
    "        print ('Merged',numnodes)\n",
    "        nprint = min([numnodes,maxprint])\n",
    "        for eb in gc_result['edge_bindings'][extra_edge][:maxprint]:        \n",
    "            kge = graph['edges'][eb['id']]\n",
    "            subject_node = kge['subject']\n",
    "            object_node = kge['object']\n",
    "            pred = kge['predicate']\n",
    "            print( f\"  {graph['nodes'][subject_node]['name']} -[{pred}]-> {graph['nodes'][object_node]['name']}\")\n",
    "    print('----')\n",
    "    \n",
    "def print_pc_result(knowledge_graph,pc_result,node):\n",
    "    print('p_value:', pc_result['node_bindings'][node][0]['p_values'])\n",
    "    print('properties:', pc_result['node_bindings'][node][0]['properties'])\n",
    "    numnodes = len(pc_result['node_bindings'][node])\n",
    "    print('node count',numnodes)\n",
    "    maxprint=5\n",
    "    nprint = min([numnodes,maxprint])\n",
    "    for node in pc_result['node_bindings'][node][:nprint]:\n",
    "        kgn = knowledge_graph['nodes'][node['id']]\n",
    "        print( f\"  {kgn['name']}\")\n",
    "    if numnodes > maxprint:\n",
    "        print('  ...')\n",
    "    print('----')"
   ]
  },
  {
   "cell_type": "markdown",
   "id": "measured-neighborhood",
   "metadata": {},
   "source": [
    "## Query Specific"
   ]
  },
  {
   "cell_type": "code",
   "execution_count": 9,
   "id": "peripheral-jimmy",
   "metadata": {},
   "outputs": [],
   "source": [
    "query={\n",
    "      \"message\": {\n",
    "        \"query_graph\": {\n",
    "            \"nodes\": {\n",
    "                \"n0\": {\n",
    "                    \"name\": \"drug-induced liver injury\",\n",
    "                    \"ids\": [\n",
    "                        \"SNOMEDCT:197358007\"\n",
    "                    ]\n",
    "                },\n",
    "                \"n1\": {\n",
    "                    \"categories\": [\n",
    "                        \"biolink:DiseaseOrPhenotypicFeature\"\n",
    "                    ],\n",
    "                    \"name\": \"Disease Or Phenotypic Feature\"\n",
    "                },\n",
    "            },\n",
    "            \"edges\": {\n",
    "                \"e0\": {\n",
    "                    \"subject\": \"n0\",\n",
    "                    \"object\": \"n1\",\n",
    "                    \"predicates\": [\n",
    "                        \"biolink:correlated_with\"\n",
    "                    ]\n",
    "                }\n",
    "            }\n",
    "        }\n",
    "    }\n",
    "}\n"
   ]
  },
  {
   "cell_type": "markdown",
   "id": "falling-regulation",
   "metadata": {},
   "source": [
    "## Strider Direct"
   ]
  },
  {
   "cell_type": "code",
   "execution_count": 29,
   "id": "assisted-knight",
   "metadata": {},
   "outputs": [
    {
     "name": "stdout",
     "output_type": "stream",
     "text": [
      "Strider produced 880 results in 0:10:27.719225.\n"
     ]
    }
   ],
   "source": [
    "#query['log_level']='DEBUG'\n",
    "start = dt.now()\n",
    "strider_result = strider(query)\n",
    "end = dt.now()\n",
    "print(f\"Strider produced {len(strider_result['message']['results'])} results in {end-start}.\")"
   ]
  },
  {
   "cell_type": "code",
   "execution_count": 31,
   "id": "thousand-velvet",
   "metadata": {},
   "outputs": [],
   "source": [
    "cohdresult = post('cohd','https://cohd.io/api//query',query)"
   ]
  },
  {
   "cell_type": "code",
   "execution_count": 33,
   "id": "sticky-bloom",
   "metadata": {},
   "outputs": [
    {
     "data": {
      "text/plain": [
       "460"
      ]
     },
     "execution_count": 33,
     "metadata": {},
     "output_type": "execute_result"
    }
   ],
   "source": [
    "len(cohdresult['message']['results'])"
   ]
  },
  {
   "cell_type": "code",
   "execution_count": 38,
   "id": "sitting-resort",
   "metadata": {},
   "outputs": [],
   "source": [
    "n1=[x['node_bindings']['n1'][0]['id'] for x in strider_result['message']['results']]"
   ]
  },
  {
   "cell_type": "code",
   "execution_count": 39,
   "id": "clean-chapter",
   "metadata": {},
   "outputs": [
    {
     "data": {
      "text/plain": [
       "880"
      ]
     },
     "execution_count": 39,
     "metadata": {},
     "output_type": "execute_result"
    }
   ],
   "source": [
    "len(n1)"
   ]
  },
  {
   "cell_type": "code",
   "execution_count": 40,
   "id": "timely-shepherd",
   "metadata": {},
   "outputs": [
    {
     "data": {
      "text/plain": [
       "440"
      ]
     },
     "execution_count": 40,
     "metadata": {},
     "output_type": "execute_result"
    }
   ],
   "source": [
    "len(set(n1))"
   ]
  },
  {
   "cell_type": "code",
   "execution_count": 41,
   "id": "periodic-circus",
   "metadata": {},
   "outputs": [],
   "source": [
    "cohdn1=[x['node_bindings']['n1'][0]['id'] for x in cohdresult['message']['results']]"
   ]
  },
  {
   "cell_type": "code",
   "execution_count": 42,
   "id": "physical-instrumentation",
   "metadata": {},
   "outputs": [
    {
     "data": {
      "text/plain": [
       "(460, 440)"
      ]
     },
     "execution_count": 42,
     "metadata": {},
     "output_type": "execute_result"
    }
   ],
   "source": [
    "len(cohdn1), len(set(cohdn1))"
   ]
  },
  {
   "cell_type": "code",
   "execution_count": 44,
   "id": "above-blackjack",
   "metadata": {},
   "outputs": [
    {
     "name": "stdout",
     "output_type": "stream",
     "text": [
      "MONDO:0001531\n",
      "MONDO:0004805\n",
      "MONDO:0002492\n",
      "UMLS:C1298758\n",
      "MONDO:0001106\n",
      "MONDO:0005570\n",
      "MONDO:0005240\n",
      "MONDO:0002280\n",
      "MONDO:0005281\n",
      "MONDO:0005137\n",
      "MONDO:0003406\n",
      "HP:0002094\n",
      "HP:0001945\n",
      "MONDO:0004335\n",
      "MONDO:0000651\n",
      "MONDO:0005151\n",
      "MONDO:0002050\n"
     ]
    }
   ],
   "source": [
    "from collections import defaultdict\n",
    "n1c = defaultdict(int)\n",
    "for n1 in cohdn1:\n",
    "    n1c[n1] += 1\n",
    "for n1,c in n1c.items():\n",
    "    if c > 1:\n",
    "        print(n1)"
   ]
  },
  {
   "cell_type": "code",
   "execution_count": 45,
   "id": "dress-testing",
   "metadata": {},
   "outputs": [
    {
     "name": "stdout",
     "output_type": "stream",
     "text": [
      "{\n",
      "    \"edge_bindings\": {\n",
      "        \"e0\": [\n",
      "            {\n",
      "                \"id\": \"ke000019\"\n",
      "            }\n",
      "        ]\n",
      "    },\n",
      "    \"node_bindings\": {\n",
      "        \"n0\": [\n",
      "            {\n",
      "                \"id\": \"SNOMEDCT:197358007\"\n",
      "            }\n",
      "        ],\n",
      "        \"n1\": [\n",
      "            {\n",
      "                \"id\": \"MONDO:0001531\"\n",
      "            }\n",
      "        ]\n",
      "    },\n",
      "    \"score\": 2.092464446971226\n",
      "}\n",
      "{\n",
      "    \"edge_bindings\": {\n",
      "        \"e0\": [\n",
      "            {\n",
      "                \"id\": \"ke000039\"\n",
      "            }\n",
      "        ]\n",
      "    },\n",
      "    \"node_bindings\": {\n",
      "        \"n0\": [\n",
      "            {\n",
      "                \"id\": \"SNOMEDCT:197358007\"\n",
      "            }\n",
      "        ],\n",
      "        \"n1\": [\n",
      "            {\n",
      "                \"id\": \"MONDO:0001531\"\n",
      "            }\n",
      "        ]\n",
      "    },\n",
      "    \"score\": 1.7200262510370588\n",
      "}\n",
      "{\n",
      "    \"edge_bindings\": {\n",
      "        \"e0\": [\n",
      "            {\n",
      "                \"id\": \"ke000041\"\n",
      "            }\n",
      "        ]\n",
      "    },\n",
      "    \"node_bindings\": {\n",
      "        \"n0\": [\n",
      "            {\n",
      "                \"id\": \"SNOMEDCT:197358007\"\n",
      "            }\n",
      "        ],\n",
      "        \"n1\": [\n",
      "            {\n",
      "                \"id\": \"MONDO:0001531\"\n",
      "            }\n",
      "        ]\n",
      "    },\n",
      "    \"score\": 1.687521514303167\n",
      "}\n"
     ]
    }
   ],
   "source": [
    "for r in cohdresult['message']['results']:\n",
    "    if r['node_bindings']['n1'][0]['id'] == 'MONDO:0001531':\n",
    "        printjson(r)"
   ]
  },
  {
   "cell_type": "code",
   "execution_count": 47,
   "id": "cellular-income",
   "metadata": {},
   "outputs": [
    {
     "data": {
      "text/plain": [
       "{'attributes': [{'attribute_source': 'infores:cohd',\n",
       "   'attribute_type_id': 'biolink:original_knowledge_source',\n",
       "   'value': 'infores:cohd',\n",
       "   'value_type_id': 'biolink:InformationResource',\n",
       "   'value_url': 'http://cohd.io/api/query'},\n",
       "  {'attribute_source': 'infores:cohd',\n",
       "   'attribute_type_id': 'biolink:supporting_data_source',\n",
       "   'value': 'infores:cohd',\n",
       "   'value_type_id': 'biolink:InformationResource',\n",
       "   'value_url': 'http://cohd.io/api/'},\n",
       "  {'attribute_source': 'infores:cohd',\n",
       "   'attribute_type_id': 'biolink:p_value',\n",
       "   'description': 'Chi-square p-value, unadjusted. http://cohd.io/about.html',\n",
       "   'original_attribute_name': 'p-value',\n",
       "   'value': 1.5422368522852025e-94,\n",
       "   'value_type_id': 'EDAM:data_1669',\n",
       "   'value_url': 'http://edamontology.org/data_1669'},\n",
       "  {'attribute_source': 'infores:cohd',\n",
       "   'attribute_type_id': 'biolink:p_value',\n",
       "   'description': 'Chi-square p-value, Bonferonni adjusted by number of pairs of concepts. http://cohd.io/about.html',\n",
       "   'original_attribute_name': 'p-value adjusted',\n",
       "   'value': 3.0487450272832526e-86,\n",
       "   'value_type_id': 'EDAM:data_1669',\n",
       "   'value_url': 'http://edamontology.org/data_1669'},\n",
       "  {'attribute_source': 'infores:cohd',\n",
       "   'attribute_type_id': 'biolink:has_evidence',\n",
       "   'description': 'Observed-expected frequency ratio. http://cohd.io/about.html',\n",
       "   'original_attribute_name': 'ln_ratio',\n",
       "   'value': 2.9679331843251258,\n",
       "   'value_type_id': 'EDAM:data_1772'},\n",
       "  {'attribute_source': 'infores:cohd',\n",
       "   'attribute_type_id': 'biolink:has_confidence_level',\n",
       "   'description': 'Observed-expected frequency ratio 0.99% confidence interval',\n",
       "   'original_attribute_name': 'ln_ratio_confidence_interval',\n",
       "   'value': [2.092464446971226, 3.5275489722605484],\n",
       "   'value_type_id': 'EDAM:data_0951'},\n",
       "  {'attribute_source': 'infores:cohd',\n",
       "   'attribute_type_id': 'biolink:has_evidence',\n",
       "   'description': 'Relative frequency, relative to the subject node. http://cohd.io/about.html',\n",
       "   'original_attribute_name': 'relative_frequency_subject',\n",
       "   'value': 0.24742268041237114,\n",
       "   'value_type_id': 'EDAM:data_1772'},\n",
       "  {'attribute_source': 'infores:cohd',\n",
       "   'attribute_type_id': 'biolink:has_confidence_level',\n",
       "   'description': 'Relative frequency (subject) 0.99% confidence interval',\n",
       "   'original_attribute_name': 'relative_freq_subject_confidence_interval',\n",
       "   'value': [0.07633587786259542, 0.6363636363636364],\n",
       "   'value_type_id': 'EDAM:data_0951'},\n",
       "  {'attribute_source': 'infores:cohd',\n",
       "   'attribute_type_id': 'biolink:has_evidence',\n",
       "   'description': 'Relative frequency, relative to the object node. http://cohd.io/about.html',\n",
       "   'original_attribute_name': 'relative_frequency_object',\n",
       "   'value': 0.001089472967451995,\n",
       "   'value_type_id': 'EDAM:data_1772'},\n",
       "  {'attribute_source': 'infores:cohd',\n",
       "   'attribute_type_id': 'biolink:has_confidence_level',\n",
       "   'description': 'Relative frequency (object) 0.99% confidence interval',\n",
       "   'original_attribute_name': 'relative_freq_object_confidence_interval',\n",
       "   'value': [0.0004440694524623651, 0.0019496796954786],\n",
       "   'value_type_id': 'EDAM:data_0951'},\n",
       "  {'attribute_source': 'infores:cohd',\n",
       "   'attribute_type_id': 'biolink:has_count',\n",
       "   'description': 'Observed concept count between the pair of subject and object nodes',\n",
       "   'original_attribute_name': 'concept_pair_count',\n",
       "   'value': 24,\n",
       "   'value_type_id': 'EDAM:data_0006'},\n",
       "  {'attribute_source': 'infores:cohd',\n",
       "   'attribute_type_id': 'biolink:has_count',\n",
       "   'description': 'Observed concept count of the subject node',\n",
       "   'original_attribute_name': 'concept_count_subject',\n",
       "   'value': 97,\n",
       "   'value_type_id': 'EDAM:data_0006'},\n",
       "  {'attribute_source': 'infores:cohd',\n",
       "   'attribute_type_id': 'biolink:has_count',\n",
       "   'description': 'Observed concept count of the object node',\n",
       "   'original_attribute_name': 'concept_count_object',\n",
       "   'value': 22029,\n",
       "   'value_type_id': 'EDAM:data_0006'},\n",
       "  {'attribute_source': 'infores:cohd',\n",
       "   'attribute_type_id': 'EDAM:operation_3438',\n",
       "   'description': 'Calculated expected count of concept pair. For ln_ratio. http://cohd.io/about.html',\n",
       "   'original_attribute_name': 'expected_count',\n",
       "   'value': 1.2338269072868562,\n",
       "   'value_type_id': 'EDAM:operation_3438'},\n",
       "  {'attribute_source': 'infores:cohd',\n",
       "   'attribute_type_id': 'biolink:provided_by',\n",
       "   'description': 'Dataset ID within COHD',\n",
       "   'original_attribute_name': 'dataset_id',\n",
       "   'value': 3,\n",
       "   'value_type_id': 'EDAM:data_1048'}],\n",
       " 'object': 'MONDO:0001531',\n",
       " 'predicate': 'biolink:correlated_with',\n",
       " 'subject': 'SNOMEDCT:197358007'}"
      ]
     },
     "execution_count": 47,
     "metadata": {},
     "output_type": "execute_result"
    }
   ],
   "source": [
    "cohdresult['message']['knowledge_graph']['edges']['ke000019']"
   ]
  },
  {
   "cell_type": "code",
   "execution_count": 48,
   "id": "offensive-realtor",
   "metadata": {},
   "outputs": [
    {
     "data": {
      "text/plain": [
       "{'attributes': [{'attribute_source': 'infores:cohd',\n",
       "   'attribute_type_id': 'biolink:original_knowledge_source',\n",
       "   'value': 'infores:cohd',\n",
       "   'value_type_id': 'biolink:InformationResource',\n",
       "   'value_url': 'http://cohd.io/api/query'},\n",
       "  {'attribute_source': 'infores:cohd',\n",
       "   'attribute_type_id': 'biolink:supporting_data_source',\n",
       "   'value': 'infores:cohd',\n",
       "   'value_type_id': 'biolink:InformationResource',\n",
       "   'value_url': 'http://cohd.io/api/'},\n",
       "  {'attribute_source': 'infores:cohd',\n",
       "   'attribute_type_id': 'biolink:p_value',\n",
       "   'description': 'Chi-square p-value, unadjusted. http://cohd.io/about.html',\n",
       "   'original_attribute_name': 'p-value',\n",
       "   'value': 9.771991252825492e-64,\n",
       "   'value_type_id': 'EDAM:data_1669',\n",
       "   'value_url': 'http://edamontology.org/data_1669'},\n",
       "  {'attribute_source': 'infores:cohd',\n",
       "   'attribute_type_id': 'biolink:p_value',\n",
       "   'description': 'Chi-square p-value, Bonferonni adjusted by number of pairs of concepts. http://cohd.io/about.html',\n",
       "   'original_attribute_name': 'p-value adjusted',\n",
       "   'value': 1.9317596836414938e-55,\n",
       "   'value_type_id': 'EDAM:data_1669',\n",
       "   'value_url': 'http://edamontology.org/data_1669'},\n",
       "  {'attribute_source': 'infores:cohd',\n",
       "   'attribute_type_id': 'biolink:has_evidence',\n",
       "   'description': 'Observed-expected frequency ratio. http://cohd.io/about.html',\n",
       "   'original_attribute_name': 'ln_ratio',\n",
       "   'value': 2.7698483755357364,\n",
       "   'value_type_id': 'EDAM:data_1772'},\n",
       "  {'attribute_source': 'infores:cohd',\n",
       "   'attribute_type_id': 'biolink:has_confidence_level',\n",
       "   'description': 'Observed-expected frequency ratio 0.99% confidence interval',\n",
       "   'original_attribute_name': 'ln_ratio_confidence_interval',\n",
       "   'value': [1.7200262510370588, 3.3576350404378554],\n",
       "   'value_type_id': 'EDAM:data_0951'},\n",
       "  {'attribute_source': 'infores:cohd',\n",
       "   'attribute_type_id': 'biolink:has_evidence',\n",
       "   'description': 'Relative frequency, relative to the subject node. http://cohd.io/about.html',\n",
       "   'original_attribute_name': 'relative_frequency_subject',\n",
       "   'value': 0.20618556701030927,\n",
       "   'value_type_id': 'EDAM:data_1772'},\n",
       "  {'attribute_source': 'infores:cohd',\n",
       "   'attribute_type_id': 'biolink:has_confidence_level',\n",
       "   'description': 'Relative frequency (subject) 0.99% confidence interval',\n",
       "   'original_attribute_name': 'relative_freq_subject_confidence_interval',\n",
       "   'value': [0.05343511450381679, 0.5454545454545454],\n",
       "   'value_type_id': 'EDAM:data_0951'},\n",
       "  {'attribute_source': 'infores:cohd',\n",
       "   'attribute_type_id': 'biolink:has_evidence',\n",
       "   'description': 'Relative frequency, relative to the object node. http://cohd.io/about.html',\n",
       "   'original_attribute_name': 'relative_frequency_object',\n",
       "   'value': 0.0008936949819026766,\n",
       "   'value_type_id': 'EDAM:data_1772'},\n",
       "  {'attribute_source': 'infores:cohd',\n",
       "   'attribute_type_id': 'biolink:has_confidence_level',\n",
       "   'description': 'Relative frequency (object) 0.99% confidence interval',\n",
       "   'original_attribute_name': 'relative_freq_object_confidence_interval',\n",
       "   'value': [0.00030603768635509114, 0.001644736842105263],\n",
       "   'value_type_id': 'EDAM:data_0951'},\n",
       "  {'attribute_source': 'infores:cohd',\n",
       "   'attribute_type_id': 'biolink:has_count',\n",
       "   'description': 'Observed concept count between the pair of subject and object nodes',\n",
       "   'original_attribute_name': 'concept_pair_count',\n",
       "   'value': 20,\n",
       "   'value_type_id': 'EDAM:data_0006'},\n",
       "  {'attribute_source': 'infores:cohd',\n",
       "   'attribute_type_id': 'biolink:has_count',\n",
       "   'description': 'Observed concept count of the subject node',\n",
       "   'original_attribute_name': 'concept_count_subject',\n",
       "   'value': 97,\n",
       "   'value_type_id': 'EDAM:data_0006'},\n",
       "  {'attribute_source': 'infores:cohd',\n",
       "   'attribute_type_id': 'biolink:has_count',\n",
       "   'description': 'Observed concept count of the object node',\n",
       "   'original_attribute_name': 'concept_count_object',\n",
       "   'value': 22379,\n",
       "   'value_type_id': 'EDAM:data_0006'},\n",
       "  {'attribute_source': 'infores:cohd',\n",
       "   'attribute_type_id': 'EDAM:operation_3438',\n",
       "   'description': 'Calculated expected count of concept pair. For ln_ratio. http://cohd.io/about.html',\n",
       "   'original_attribute_name': 'expected_count',\n",
       "   'value': 1.2534301311077467,\n",
       "   'value_type_id': 'EDAM:operation_3438'},\n",
       "  {'attribute_source': 'infores:cohd',\n",
       "   'attribute_type_id': 'biolink:provided_by',\n",
       "   'description': 'Dataset ID within COHD',\n",
       "   'original_attribute_name': 'dataset_id',\n",
       "   'value': 3,\n",
       "   'value_type_id': 'EDAM:data_1048'}],\n",
       " 'object': 'MONDO:0001531',\n",
       " 'predicate': 'biolink:correlated_with',\n",
       " 'subject': 'SNOMEDCT:197358007'}"
      ]
     },
     "execution_count": 48,
     "metadata": {},
     "output_type": "execute_result"
    }
   ],
   "source": [
    "cohdresult['message']['knowledge_graph']['edges']['ke000039']"
   ]
  },
  {
   "cell_type": "markdown",
   "id": "suburban-intersection",
   "metadata": {},
   "source": [
    "### Provenance"
   ]
  },
  {
   "cell_type": "code",
   "execution_count": 30,
   "id": "silent-accuracy",
   "metadata": {},
   "outputs": [
    {
     "data": {
      "text/html": [
       "<div>\n",
       "<style scoped>\n",
       "    .dataframe tbody tr th:only-of-type {\n",
       "        vertical-align: middle;\n",
       "    }\n",
       "\n",
       "    .dataframe tbody tr th {\n",
       "        vertical-align: top;\n",
       "    }\n",
       "\n",
       "    .dataframe thead th {\n",
       "        text-align: right;\n",
       "    }\n",
       "</style>\n",
       "<table border=\"1\" class=\"dataframe\">\n",
       "  <thead>\n",
       "    <tr style=\"text-align: right;\">\n",
       "      <th></th>\n",
       "      <th>QG Edge</th>\n",
       "      <th>Source</th>\n",
       "      <th>Count</th>\n",
       "    </tr>\n",
       "  </thead>\n",
       "  <tbody>\n",
       "    <tr>\n",
       "      <th>0</th>\n",
       "      <td>e0</td>\n",
       "      <td>https://cohd.io/api//query</td>\n",
       "      <td>880</td>\n",
       "    </tr>\n",
       "  </tbody>\n",
       "</table>\n",
       "</div>"
      ],
      "text/plain": [
       "  QG Edge                      Source  Count\n",
       "0      e0  https://cohd.io/api//query    880"
      ]
     },
     "metadata": {},
     "output_type": "display_data"
    }
   ],
   "source": [
    "prov = get_provenance(strider_result)\n",
    "display(prov)"
   ]
  },
  {
   "cell_type": "markdown",
   "id": "periodic-edwards",
   "metadata": {},
   "source": [
    "### Queried sources"
   ]
  },
  {
   "cell_type": "code",
   "execution_count": 12,
   "id": "bacterial-dairy",
   "metadata": {},
   "outputs": [],
   "source": [
    "print_queried_sources(strider_result)"
   ]
  },
  {
   "cell_type": "code",
   "execution_count": 14,
   "id": "lightweight-print",
   "metadata": {},
   "outputs": [],
   "source": [
    "levs=[ l['level'] for l in strider_result['logs']]"
   ]
  },
  {
   "cell_type": "code",
   "execution_count": 15,
   "id": "ahead-thesis",
   "metadata": {},
   "outputs": [
    {
     "name": "stdout",
     "output_type": "stream",
     "text": [
      "DEBUG 123\n",
      "WARNING 1129\n",
      "ERROR 6\n"
     ]
    }
   ],
   "source": [
    "n = defaultdict(int)\n",
    "for l in levs:\n",
    "    n[l] += 1\n",
    "for l,c in n.items():\n",
    "    print(l,c)"
   ]
  },
  {
   "cell_type": "markdown",
   "id": "binding-village",
   "metadata": {},
   "source": [
    "### Errors"
   ]
  },
  {
   "cell_type": "code",
   "execution_count": 16,
   "id": "sweet-edgar",
   "metadata": {},
   "outputs": [
    {
     "name": "stdout",
     "output_type": "stream",
     "text": [
      "504 Server Error: Gateway Time-out for url: https://cohd.io/api//query\n",
      "For more information check: https://httpstatuses.com/504 (2 times)\n",
      " (4 times)\n"
     ]
    }
   ],
   "source": [
    "print_errors(strider_result)"
   ]
  },
  {
   "cell_type": "markdown",
   "id": "preliminary-argentina",
   "metadata": {},
   "source": [
    "### Results"
   ]
  },
  {
   "cell_type": "code",
   "execution_count": 17,
   "id": "waiting-hybrid",
   "metadata": {},
   "outputs": [],
   "source": [
    "view = GammaViewer(props={\"data\":strider_result})\n",
    "display(view)"
   ]
  },
  {
   "cell_type": "markdown",
   "id": "regular-acting",
   "metadata": {},
   "source": [
    "### Strider Assessment"
   ]
  },
  {
   "cell_type": "markdown",
   "id": "blessed-jonathan",
   "metadata": {},
   "source": [
    "Enter Assessment Here"
   ]
  },
  {
   "cell_type": "markdown",
   "id": "tested-completion",
   "metadata": {},
   "source": [
    "## ARAGORN "
   ]
  },
  {
   "cell_type": "code",
   "execution_count": 28,
   "id": "continuing-queen",
   "metadata": {},
   "outputs": [
    {
     "ename": "KeyboardInterrupt",
     "evalue": "",
     "output_type": "error",
     "traceback": [
      "\u001b[0;31m---------------------------------------------------------------------------\u001b[0m",
      "\u001b[0;31mKeyboardInterrupt\u001b[0m                         Traceback (most recent call last)",
      "\u001b[0;32m<ipython-input-28-7cd583a8e14a>\u001b[0m in \u001b[0;36m<module>\u001b[0;34m\u001b[0m\n\u001b[1;32m      1\u001b[0m \u001b[0mstart\u001b[0m \u001b[0;34m=\u001b[0m \u001b[0mdt\u001b[0m\u001b[0;34m.\u001b[0m\u001b[0mnow\u001b[0m\u001b[0;34m(\u001b[0m\u001b[0;34m)\u001b[0m\u001b[0;34m\u001b[0m\u001b[0;34m\u001b[0m\u001b[0m\n\u001b[0;32m----> 2\u001b[0;31m \u001b[0maragorn_result\u001b[0m \u001b[0;34m=\u001b[0m \u001b[0maragorn\u001b[0m\u001b[0;34m(\u001b[0m\u001b[0mquery\u001b[0m\u001b[0;34m)\u001b[0m\u001b[0;34m\u001b[0m\u001b[0;34m\u001b[0m\u001b[0m\n\u001b[0m\u001b[1;32m      3\u001b[0m \u001b[0mend\u001b[0m \u001b[0;34m=\u001b[0m \u001b[0mdt\u001b[0m\u001b[0;34m.\u001b[0m\u001b[0mnow\u001b[0m\u001b[0;34m(\u001b[0m\u001b[0;34m)\u001b[0m\u001b[0;34m\u001b[0m\u001b[0;34m\u001b[0m\u001b[0m\n\u001b[1;32m      4\u001b[0m \u001b[0;32mif\u001b[0m \u001b[0;34m'results'\u001b[0m \u001b[0;32min\u001b[0m \u001b[0maragorn_result\u001b[0m\u001b[0;34m[\u001b[0m\u001b[0;34m'message'\u001b[0m\u001b[0;34m]\u001b[0m\u001b[0;34m:\u001b[0m\u001b[0;34m\u001b[0m\u001b[0;34m\u001b[0m\u001b[0m\n\u001b[1;32m      5\u001b[0m     \u001b[0mprint\u001b[0m\u001b[0;34m(\u001b[0m\u001b[0;34mf\"ARAGORN produced {len(aragorn_result['message']['results'])} results in {end-start}.\"\u001b[0m\u001b[0;34m)\u001b[0m\u001b[0;34m\u001b[0m\u001b[0;34m\u001b[0m\u001b[0m\n",
      "\u001b[0;32m<ipython-input-4-c1be1df8a702>\u001b[0m in \u001b[0;36maragorn\u001b[0;34m(message, coalesce_type)\u001b[0m\n\u001b[1;32m     23\u001b[0m \u001b[0;32mdef\u001b[0m \u001b[0maragorn\u001b[0m\u001b[0;34m(\u001b[0m\u001b[0mmessage\u001b[0m\u001b[0;34m,\u001b[0m \u001b[0mcoalesce_type\u001b[0m\u001b[0;34m=\u001b[0m\u001b[0;34m'xnone'\u001b[0m\u001b[0;34m)\u001b[0m\u001b[0;34m:\u001b[0m\u001b[0;34m\u001b[0m\u001b[0;34m\u001b[0m\u001b[0m\n\u001b[1;32m     24\u001b[0m     \u001b[0;32mif\u001b[0m \u001b[0mcoalesce_type\u001b[0m \u001b[0;34m==\u001b[0m \u001b[0;34m'xnone'\u001b[0m\u001b[0;34m:\u001b[0m\u001b[0;34m\u001b[0m\u001b[0;34m\u001b[0m\u001b[0m\n\u001b[0;32m---> 25\u001b[0;31m         \u001b[0manswer\u001b[0m \u001b[0;34m=\u001b[0m \u001b[0mpost\u001b[0m\u001b[0;34m(\u001b[0m\u001b[0;34m'aragorn'\u001b[0m\u001b[0;34m,\u001b[0m\u001b[0;34m'https://aragorn.renci.org/1.1/query'\u001b[0m\u001b[0;34m,\u001b[0m\u001b[0mmessage\u001b[0m\u001b[0;34m)\u001b[0m\u001b[0;34m\u001b[0m\u001b[0;34m\u001b[0m\u001b[0m\n\u001b[0m\u001b[1;32m     26\u001b[0m     \u001b[0;32melse\u001b[0m\u001b[0;34m:\u001b[0m\u001b[0;34m\u001b[0m\u001b[0;34m\u001b[0m\u001b[0m\n\u001b[1;32m     27\u001b[0m         \u001b[0manswer\u001b[0m \u001b[0;34m=\u001b[0m \u001b[0mpost\u001b[0m\u001b[0;34m(\u001b[0m\u001b[0;34m'aragorn'\u001b[0m\u001b[0;34m,\u001b[0m\u001b[0;34m'https://aragorn.renci.org/1.1/query'\u001b[0m\u001b[0;34m,\u001b[0m\u001b[0mmessage\u001b[0m\u001b[0;34m,\u001b[0m \u001b[0mparams\u001b[0m\u001b[0;34m=\u001b[0m\u001b[0;34m{\u001b[0m\u001b[0;34m'answer_coalesce_type'\u001b[0m\u001b[0;34m:\u001b[0m\u001b[0mcoalesce_type\u001b[0m\u001b[0;34m}\u001b[0m\u001b[0;34m)\u001b[0m\u001b[0;34m\u001b[0m\u001b[0;34m\u001b[0m\u001b[0m\n",
      "\u001b[0;32m<ipython-input-4-c1be1df8a702>\u001b[0m in \u001b[0;36mpost\u001b[0;34m(name, url, message, params)\u001b[0m\n\u001b[1;32m      1\u001b[0m \u001b[0;32mdef\u001b[0m \u001b[0mpost\u001b[0m\u001b[0;34m(\u001b[0m\u001b[0mname\u001b[0m\u001b[0;34m,\u001b[0m\u001b[0murl\u001b[0m\u001b[0;34m,\u001b[0m\u001b[0mmessage\u001b[0m\u001b[0;34m,\u001b[0m\u001b[0mparams\u001b[0m\u001b[0;34m=\u001b[0m\u001b[0;32mNone\u001b[0m\u001b[0;34m)\u001b[0m\u001b[0;34m:\u001b[0m\u001b[0;34m\u001b[0m\u001b[0;34m\u001b[0m\u001b[0m\n\u001b[1;32m      2\u001b[0m     \u001b[0;32mif\u001b[0m \u001b[0mparams\u001b[0m \u001b[0;32mis\u001b[0m \u001b[0;32mNone\u001b[0m\u001b[0;34m:\u001b[0m\u001b[0;34m\u001b[0m\u001b[0;34m\u001b[0m\u001b[0m\n\u001b[0;32m----> 3\u001b[0;31m         \u001b[0mresponse\u001b[0m \u001b[0;34m=\u001b[0m \u001b[0mrequests\u001b[0m\u001b[0;34m.\u001b[0m\u001b[0mpost\u001b[0m\u001b[0;34m(\u001b[0m\u001b[0murl\u001b[0m\u001b[0;34m,\u001b[0m\u001b[0mjson\u001b[0m\u001b[0;34m=\u001b[0m\u001b[0mmessage\u001b[0m\u001b[0;34m)\u001b[0m\u001b[0;34m\u001b[0m\u001b[0;34m\u001b[0m\u001b[0m\n\u001b[0m\u001b[1;32m      4\u001b[0m     \u001b[0;32melse\u001b[0m\u001b[0;34m:\u001b[0m\u001b[0;34m\u001b[0m\u001b[0;34m\u001b[0m\u001b[0m\n\u001b[1;32m      5\u001b[0m         \u001b[0mresponse\u001b[0m \u001b[0;34m=\u001b[0m \u001b[0mrequests\u001b[0m\u001b[0;34m.\u001b[0m\u001b[0mpost\u001b[0m\u001b[0;34m(\u001b[0m\u001b[0murl\u001b[0m\u001b[0;34m,\u001b[0m\u001b[0mjson\u001b[0m\u001b[0;34m=\u001b[0m\u001b[0mmessage\u001b[0m\u001b[0;34m,\u001b[0m\u001b[0mparams\u001b[0m\u001b[0;34m=\u001b[0m\u001b[0mparams\u001b[0m\u001b[0;34m)\u001b[0m\u001b[0;34m\u001b[0m\u001b[0;34m\u001b[0m\u001b[0m\n",
      "\u001b[0;32m/opt/anaconda3/envs/minihackathons/lib/python3.9/site-packages/requests/api.py\u001b[0m in \u001b[0;36mpost\u001b[0;34m(url, data, json, **kwargs)\u001b[0m\n\u001b[1;32m    117\u001b[0m     \"\"\"\n\u001b[1;32m    118\u001b[0m \u001b[0;34m\u001b[0m\u001b[0m\n\u001b[0;32m--> 119\u001b[0;31m     \u001b[0;32mreturn\u001b[0m \u001b[0mrequest\u001b[0m\u001b[0;34m(\u001b[0m\u001b[0;34m'post'\u001b[0m\u001b[0;34m,\u001b[0m \u001b[0murl\u001b[0m\u001b[0;34m,\u001b[0m \u001b[0mdata\u001b[0m\u001b[0;34m=\u001b[0m\u001b[0mdata\u001b[0m\u001b[0;34m,\u001b[0m \u001b[0mjson\u001b[0m\u001b[0;34m=\u001b[0m\u001b[0mjson\u001b[0m\u001b[0;34m,\u001b[0m \u001b[0;34m**\u001b[0m\u001b[0mkwargs\u001b[0m\u001b[0;34m)\u001b[0m\u001b[0;34m\u001b[0m\u001b[0;34m\u001b[0m\u001b[0m\n\u001b[0m\u001b[1;32m    120\u001b[0m \u001b[0;34m\u001b[0m\u001b[0m\n\u001b[1;32m    121\u001b[0m \u001b[0;34m\u001b[0m\u001b[0m\n",
      "\u001b[0;32m/opt/anaconda3/envs/minihackathons/lib/python3.9/site-packages/requests/api.py\u001b[0m in \u001b[0;36mrequest\u001b[0;34m(method, url, **kwargs)\u001b[0m\n\u001b[1;32m     59\u001b[0m     \u001b[0;31m# cases, and look like a memory leak in others.\u001b[0m\u001b[0;34m\u001b[0m\u001b[0;34m\u001b[0m\u001b[0;34m\u001b[0m\u001b[0m\n\u001b[1;32m     60\u001b[0m     \u001b[0;32mwith\u001b[0m \u001b[0msessions\u001b[0m\u001b[0;34m.\u001b[0m\u001b[0mSession\u001b[0m\u001b[0;34m(\u001b[0m\u001b[0;34m)\u001b[0m \u001b[0;32mas\u001b[0m \u001b[0msession\u001b[0m\u001b[0;34m:\u001b[0m\u001b[0;34m\u001b[0m\u001b[0;34m\u001b[0m\u001b[0m\n\u001b[0;32m---> 61\u001b[0;31m         \u001b[0;32mreturn\u001b[0m \u001b[0msession\u001b[0m\u001b[0;34m.\u001b[0m\u001b[0mrequest\u001b[0m\u001b[0;34m(\u001b[0m\u001b[0mmethod\u001b[0m\u001b[0;34m=\u001b[0m\u001b[0mmethod\u001b[0m\u001b[0;34m,\u001b[0m \u001b[0murl\u001b[0m\u001b[0;34m=\u001b[0m\u001b[0murl\u001b[0m\u001b[0;34m,\u001b[0m \u001b[0;34m**\u001b[0m\u001b[0mkwargs\u001b[0m\u001b[0;34m)\u001b[0m\u001b[0;34m\u001b[0m\u001b[0;34m\u001b[0m\u001b[0m\n\u001b[0m\u001b[1;32m     62\u001b[0m \u001b[0;34m\u001b[0m\u001b[0m\n\u001b[1;32m     63\u001b[0m \u001b[0;34m\u001b[0m\u001b[0m\n",
      "\u001b[0;32m/opt/anaconda3/envs/minihackathons/lib/python3.9/site-packages/requests/sessions.py\u001b[0m in \u001b[0;36mrequest\u001b[0;34m(self, method, url, params, data, headers, cookies, files, auth, timeout, allow_redirects, proxies, hooks, stream, verify, cert, json)\u001b[0m\n\u001b[1;32m    540\u001b[0m         }\n\u001b[1;32m    541\u001b[0m         \u001b[0msend_kwargs\u001b[0m\u001b[0;34m.\u001b[0m\u001b[0mupdate\u001b[0m\u001b[0;34m(\u001b[0m\u001b[0msettings\u001b[0m\u001b[0;34m)\u001b[0m\u001b[0;34m\u001b[0m\u001b[0;34m\u001b[0m\u001b[0m\n\u001b[0;32m--> 542\u001b[0;31m         \u001b[0mresp\u001b[0m \u001b[0;34m=\u001b[0m \u001b[0mself\u001b[0m\u001b[0;34m.\u001b[0m\u001b[0msend\u001b[0m\u001b[0;34m(\u001b[0m\u001b[0mprep\u001b[0m\u001b[0;34m,\u001b[0m \u001b[0;34m**\u001b[0m\u001b[0msend_kwargs\u001b[0m\u001b[0;34m)\u001b[0m\u001b[0;34m\u001b[0m\u001b[0;34m\u001b[0m\u001b[0m\n\u001b[0m\u001b[1;32m    543\u001b[0m \u001b[0;34m\u001b[0m\u001b[0m\n\u001b[1;32m    544\u001b[0m         \u001b[0;32mreturn\u001b[0m \u001b[0mresp\u001b[0m\u001b[0;34m\u001b[0m\u001b[0;34m\u001b[0m\u001b[0m\n",
      "\u001b[0;32m/opt/anaconda3/envs/minihackathons/lib/python3.9/site-packages/requests/sessions.py\u001b[0m in \u001b[0;36msend\u001b[0;34m(self, request, **kwargs)\u001b[0m\n\u001b[1;32m    653\u001b[0m \u001b[0;34m\u001b[0m\u001b[0m\n\u001b[1;32m    654\u001b[0m         \u001b[0;31m# Send the request\u001b[0m\u001b[0;34m\u001b[0m\u001b[0;34m\u001b[0m\u001b[0;34m\u001b[0m\u001b[0m\n\u001b[0;32m--> 655\u001b[0;31m         \u001b[0mr\u001b[0m \u001b[0;34m=\u001b[0m \u001b[0madapter\u001b[0m\u001b[0;34m.\u001b[0m\u001b[0msend\u001b[0m\u001b[0;34m(\u001b[0m\u001b[0mrequest\u001b[0m\u001b[0;34m,\u001b[0m \u001b[0;34m**\u001b[0m\u001b[0mkwargs\u001b[0m\u001b[0;34m)\u001b[0m\u001b[0;34m\u001b[0m\u001b[0;34m\u001b[0m\u001b[0m\n\u001b[0m\u001b[1;32m    656\u001b[0m \u001b[0;34m\u001b[0m\u001b[0m\n\u001b[1;32m    657\u001b[0m         \u001b[0;31m# Total elapsed time of the request (approximately)\u001b[0m\u001b[0;34m\u001b[0m\u001b[0;34m\u001b[0m\u001b[0;34m\u001b[0m\u001b[0m\n",
      "\u001b[0;32m/opt/anaconda3/envs/minihackathons/lib/python3.9/site-packages/requests/adapters.py\u001b[0m in \u001b[0;36msend\u001b[0;34m(self, request, stream, timeout, verify, cert, proxies)\u001b[0m\n\u001b[1;32m    437\u001b[0m         \u001b[0;32mtry\u001b[0m\u001b[0;34m:\u001b[0m\u001b[0;34m\u001b[0m\u001b[0;34m\u001b[0m\u001b[0m\n\u001b[1;32m    438\u001b[0m             \u001b[0;32mif\u001b[0m \u001b[0;32mnot\u001b[0m \u001b[0mchunked\u001b[0m\u001b[0;34m:\u001b[0m\u001b[0;34m\u001b[0m\u001b[0;34m\u001b[0m\u001b[0m\n\u001b[0;32m--> 439\u001b[0;31m                 resp = conn.urlopen(\n\u001b[0m\u001b[1;32m    440\u001b[0m                     \u001b[0mmethod\u001b[0m\u001b[0;34m=\u001b[0m\u001b[0mrequest\u001b[0m\u001b[0;34m.\u001b[0m\u001b[0mmethod\u001b[0m\u001b[0;34m,\u001b[0m\u001b[0;34m\u001b[0m\u001b[0;34m\u001b[0m\u001b[0m\n\u001b[1;32m    441\u001b[0m                     \u001b[0murl\u001b[0m\u001b[0;34m=\u001b[0m\u001b[0murl\u001b[0m\u001b[0;34m,\u001b[0m\u001b[0;34m\u001b[0m\u001b[0;34m\u001b[0m\u001b[0m\n",
      "\u001b[0;32m/opt/anaconda3/envs/minihackathons/lib/python3.9/site-packages/urllib3/connectionpool.py\u001b[0m in \u001b[0;36murlopen\u001b[0;34m(self, method, url, body, headers, retries, redirect, assert_same_host, timeout, pool_timeout, release_conn, chunked, body_pos, **response_kw)\u001b[0m\n\u001b[1;32m    697\u001b[0m \u001b[0;34m\u001b[0m\u001b[0m\n\u001b[1;32m    698\u001b[0m             \u001b[0;31m# Make the request on the httplib connection object.\u001b[0m\u001b[0;34m\u001b[0m\u001b[0;34m\u001b[0m\u001b[0;34m\u001b[0m\u001b[0m\n\u001b[0;32m--> 699\u001b[0;31m             httplib_response = self._make_request(\n\u001b[0m\u001b[1;32m    700\u001b[0m                 \u001b[0mconn\u001b[0m\u001b[0;34m,\u001b[0m\u001b[0;34m\u001b[0m\u001b[0;34m\u001b[0m\u001b[0m\n\u001b[1;32m    701\u001b[0m                 \u001b[0mmethod\u001b[0m\u001b[0;34m,\u001b[0m\u001b[0;34m\u001b[0m\u001b[0;34m\u001b[0m\u001b[0m\n",
      "\u001b[0;32m/opt/anaconda3/envs/minihackathons/lib/python3.9/site-packages/urllib3/connectionpool.py\u001b[0m in \u001b[0;36m_make_request\u001b[0;34m(self, conn, method, url, timeout, chunked, **httplib_request_kw)\u001b[0m\n\u001b[1;32m    443\u001b[0m                     \u001b[0;31m# Python 3 (including for exceptions like SystemExit).\u001b[0m\u001b[0;34m\u001b[0m\u001b[0;34m\u001b[0m\u001b[0;34m\u001b[0m\u001b[0m\n\u001b[1;32m    444\u001b[0m                     \u001b[0;31m# Otherwise it looks like a bug in the code.\u001b[0m\u001b[0;34m\u001b[0m\u001b[0;34m\u001b[0m\u001b[0;34m\u001b[0m\u001b[0m\n\u001b[0;32m--> 445\u001b[0;31m                     \u001b[0msix\u001b[0m\u001b[0;34m.\u001b[0m\u001b[0mraise_from\u001b[0m\u001b[0;34m(\u001b[0m\u001b[0me\u001b[0m\u001b[0;34m,\u001b[0m \u001b[0;32mNone\u001b[0m\u001b[0;34m)\u001b[0m\u001b[0;34m\u001b[0m\u001b[0;34m\u001b[0m\u001b[0m\n\u001b[0m\u001b[1;32m    446\u001b[0m         \u001b[0;32mexcept\u001b[0m \u001b[0;34m(\u001b[0m\u001b[0mSocketTimeout\u001b[0m\u001b[0;34m,\u001b[0m \u001b[0mBaseSSLError\u001b[0m\u001b[0;34m,\u001b[0m \u001b[0mSocketError\u001b[0m\u001b[0;34m)\u001b[0m \u001b[0;32mas\u001b[0m \u001b[0me\u001b[0m\u001b[0;34m:\u001b[0m\u001b[0;34m\u001b[0m\u001b[0;34m\u001b[0m\u001b[0m\n\u001b[1;32m    447\u001b[0m             \u001b[0mself\u001b[0m\u001b[0;34m.\u001b[0m\u001b[0m_raise_timeout\u001b[0m\u001b[0;34m(\u001b[0m\u001b[0merr\u001b[0m\u001b[0;34m=\u001b[0m\u001b[0me\u001b[0m\u001b[0;34m,\u001b[0m \u001b[0murl\u001b[0m\u001b[0;34m=\u001b[0m\u001b[0murl\u001b[0m\u001b[0;34m,\u001b[0m \u001b[0mtimeout_value\u001b[0m\u001b[0;34m=\u001b[0m\u001b[0mread_timeout\u001b[0m\u001b[0;34m)\u001b[0m\u001b[0;34m\u001b[0m\u001b[0;34m\u001b[0m\u001b[0m\n",
      "\u001b[0;32m/opt/anaconda3/envs/minihackathons/lib/python3.9/site-packages/urllib3/packages/six.py\u001b[0m in \u001b[0;36mraise_from\u001b[0;34m(value, from_value)\u001b[0m\n",
      "\u001b[0;32m/opt/anaconda3/envs/minihackathons/lib/python3.9/site-packages/urllib3/connectionpool.py\u001b[0m in \u001b[0;36m_make_request\u001b[0;34m(self, conn, method, url, timeout, chunked, **httplib_request_kw)\u001b[0m\n\u001b[1;32m    438\u001b[0m                 \u001b[0;31m# Python 3\u001b[0m\u001b[0;34m\u001b[0m\u001b[0;34m\u001b[0m\u001b[0;34m\u001b[0m\u001b[0m\n\u001b[1;32m    439\u001b[0m                 \u001b[0;32mtry\u001b[0m\u001b[0;34m:\u001b[0m\u001b[0;34m\u001b[0m\u001b[0;34m\u001b[0m\u001b[0m\n\u001b[0;32m--> 440\u001b[0;31m                     \u001b[0mhttplib_response\u001b[0m \u001b[0;34m=\u001b[0m \u001b[0mconn\u001b[0m\u001b[0;34m.\u001b[0m\u001b[0mgetresponse\u001b[0m\u001b[0;34m(\u001b[0m\u001b[0;34m)\u001b[0m\u001b[0;34m\u001b[0m\u001b[0;34m\u001b[0m\u001b[0m\n\u001b[0m\u001b[1;32m    441\u001b[0m                 \u001b[0;32mexcept\u001b[0m \u001b[0mBaseException\u001b[0m \u001b[0;32mas\u001b[0m \u001b[0me\u001b[0m\u001b[0;34m:\u001b[0m\u001b[0;34m\u001b[0m\u001b[0;34m\u001b[0m\u001b[0m\n\u001b[1;32m    442\u001b[0m                     \u001b[0;31m# Remove the TypeError from the exception chain in\u001b[0m\u001b[0;34m\u001b[0m\u001b[0;34m\u001b[0m\u001b[0;34m\u001b[0m\u001b[0m\n",
      "\u001b[0;32m/opt/anaconda3/envs/minihackathons/lib/python3.9/http/client.py\u001b[0m in \u001b[0;36mgetresponse\u001b[0;34m(self)\u001b[0m\n\u001b[1;32m   1345\u001b[0m         \u001b[0;32mtry\u001b[0m\u001b[0;34m:\u001b[0m\u001b[0;34m\u001b[0m\u001b[0;34m\u001b[0m\u001b[0m\n\u001b[1;32m   1346\u001b[0m             \u001b[0;32mtry\u001b[0m\u001b[0;34m:\u001b[0m\u001b[0;34m\u001b[0m\u001b[0;34m\u001b[0m\u001b[0m\n\u001b[0;32m-> 1347\u001b[0;31m                 \u001b[0mresponse\u001b[0m\u001b[0;34m.\u001b[0m\u001b[0mbegin\u001b[0m\u001b[0;34m(\u001b[0m\u001b[0;34m)\u001b[0m\u001b[0;34m\u001b[0m\u001b[0;34m\u001b[0m\u001b[0m\n\u001b[0m\u001b[1;32m   1348\u001b[0m             \u001b[0;32mexcept\u001b[0m \u001b[0mConnectionError\u001b[0m\u001b[0;34m:\u001b[0m\u001b[0;34m\u001b[0m\u001b[0;34m\u001b[0m\u001b[0m\n\u001b[1;32m   1349\u001b[0m                 \u001b[0mself\u001b[0m\u001b[0;34m.\u001b[0m\u001b[0mclose\u001b[0m\u001b[0;34m(\u001b[0m\u001b[0;34m)\u001b[0m\u001b[0;34m\u001b[0m\u001b[0;34m\u001b[0m\u001b[0m\n",
      "\u001b[0;32m/opt/anaconda3/envs/minihackathons/lib/python3.9/http/client.py\u001b[0m in \u001b[0;36mbegin\u001b[0;34m(self)\u001b[0m\n\u001b[1;32m    305\u001b[0m         \u001b[0;31m# read until we get a non-100 response\u001b[0m\u001b[0;34m\u001b[0m\u001b[0;34m\u001b[0m\u001b[0;34m\u001b[0m\u001b[0m\n\u001b[1;32m    306\u001b[0m         \u001b[0;32mwhile\u001b[0m \u001b[0;32mTrue\u001b[0m\u001b[0;34m:\u001b[0m\u001b[0;34m\u001b[0m\u001b[0;34m\u001b[0m\u001b[0m\n\u001b[0;32m--> 307\u001b[0;31m             \u001b[0mversion\u001b[0m\u001b[0;34m,\u001b[0m \u001b[0mstatus\u001b[0m\u001b[0;34m,\u001b[0m \u001b[0mreason\u001b[0m \u001b[0;34m=\u001b[0m \u001b[0mself\u001b[0m\u001b[0;34m.\u001b[0m\u001b[0m_read_status\u001b[0m\u001b[0;34m(\u001b[0m\u001b[0;34m)\u001b[0m\u001b[0;34m\u001b[0m\u001b[0;34m\u001b[0m\u001b[0m\n\u001b[0m\u001b[1;32m    308\u001b[0m             \u001b[0;32mif\u001b[0m \u001b[0mstatus\u001b[0m \u001b[0;34m!=\u001b[0m \u001b[0mCONTINUE\u001b[0m\u001b[0;34m:\u001b[0m\u001b[0;34m\u001b[0m\u001b[0;34m\u001b[0m\u001b[0m\n\u001b[1;32m    309\u001b[0m                 \u001b[0;32mbreak\u001b[0m\u001b[0;34m\u001b[0m\u001b[0;34m\u001b[0m\u001b[0m\n",
      "\u001b[0;32m/opt/anaconda3/envs/minihackathons/lib/python3.9/http/client.py\u001b[0m in \u001b[0;36m_read_status\u001b[0;34m(self)\u001b[0m\n\u001b[1;32m    266\u001b[0m \u001b[0;34m\u001b[0m\u001b[0m\n\u001b[1;32m    267\u001b[0m     \u001b[0;32mdef\u001b[0m \u001b[0m_read_status\u001b[0m\u001b[0;34m(\u001b[0m\u001b[0mself\u001b[0m\u001b[0;34m)\u001b[0m\u001b[0;34m:\u001b[0m\u001b[0;34m\u001b[0m\u001b[0;34m\u001b[0m\u001b[0m\n\u001b[0;32m--> 268\u001b[0;31m         \u001b[0mline\u001b[0m \u001b[0;34m=\u001b[0m \u001b[0mstr\u001b[0m\u001b[0;34m(\u001b[0m\u001b[0mself\u001b[0m\u001b[0;34m.\u001b[0m\u001b[0mfp\u001b[0m\u001b[0;34m.\u001b[0m\u001b[0mreadline\u001b[0m\u001b[0;34m(\u001b[0m\u001b[0m_MAXLINE\u001b[0m \u001b[0;34m+\u001b[0m \u001b[0;36m1\u001b[0m\u001b[0;34m)\u001b[0m\u001b[0;34m,\u001b[0m \u001b[0;34m\"iso-8859-1\"\u001b[0m\u001b[0;34m)\u001b[0m\u001b[0;34m\u001b[0m\u001b[0;34m\u001b[0m\u001b[0m\n\u001b[0m\u001b[1;32m    269\u001b[0m         \u001b[0;32mif\u001b[0m \u001b[0mlen\u001b[0m\u001b[0;34m(\u001b[0m\u001b[0mline\u001b[0m\u001b[0;34m)\u001b[0m \u001b[0;34m>\u001b[0m \u001b[0m_MAXLINE\u001b[0m\u001b[0;34m:\u001b[0m\u001b[0;34m\u001b[0m\u001b[0;34m\u001b[0m\u001b[0m\n\u001b[1;32m    270\u001b[0m             \u001b[0;32mraise\u001b[0m \u001b[0mLineTooLong\u001b[0m\u001b[0;34m(\u001b[0m\u001b[0;34m\"status line\"\u001b[0m\u001b[0;34m)\u001b[0m\u001b[0;34m\u001b[0m\u001b[0;34m\u001b[0m\u001b[0m\n",
      "\u001b[0;32m/opt/anaconda3/envs/minihackathons/lib/python3.9/socket.py\u001b[0m in \u001b[0;36mreadinto\u001b[0;34m(self, b)\u001b[0m\n\u001b[1;32m    702\u001b[0m         \u001b[0;32mwhile\u001b[0m \u001b[0;32mTrue\u001b[0m\u001b[0;34m:\u001b[0m\u001b[0;34m\u001b[0m\u001b[0;34m\u001b[0m\u001b[0m\n\u001b[1;32m    703\u001b[0m             \u001b[0;32mtry\u001b[0m\u001b[0;34m:\u001b[0m\u001b[0;34m\u001b[0m\u001b[0;34m\u001b[0m\u001b[0m\n\u001b[0;32m--> 704\u001b[0;31m                 \u001b[0;32mreturn\u001b[0m \u001b[0mself\u001b[0m\u001b[0;34m.\u001b[0m\u001b[0m_sock\u001b[0m\u001b[0;34m.\u001b[0m\u001b[0mrecv_into\u001b[0m\u001b[0;34m(\u001b[0m\u001b[0mb\u001b[0m\u001b[0;34m)\u001b[0m\u001b[0;34m\u001b[0m\u001b[0;34m\u001b[0m\u001b[0m\n\u001b[0m\u001b[1;32m    705\u001b[0m             \u001b[0;32mexcept\u001b[0m \u001b[0mtimeout\u001b[0m\u001b[0;34m:\u001b[0m\u001b[0;34m\u001b[0m\u001b[0;34m\u001b[0m\u001b[0m\n\u001b[1;32m    706\u001b[0m                 \u001b[0mself\u001b[0m\u001b[0;34m.\u001b[0m\u001b[0m_timeout_occurred\u001b[0m \u001b[0;34m=\u001b[0m \u001b[0;32mTrue\u001b[0m\u001b[0;34m\u001b[0m\u001b[0;34m\u001b[0m\u001b[0m\n",
      "\u001b[0;32m/opt/anaconda3/envs/minihackathons/lib/python3.9/ssl.py\u001b[0m in \u001b[0;36mrecv_into\u001b[0;34m(self, buffer, nbytes, flags)\u001b[0m\n\u001b[1;32m   1239\u001b[0m                   \u001b[0;34m\"non-zero flags not allowed in calls to recv_into() on %s\"\u001b[0m \u001b[0;34m%\u001b[0m\u001b[0;34m\u001b[0m\u001b[0;34m\u001b[0m\u001b[0m\n\u001b[1;32m   1240\u001b[0m                   self.__class__)\n\u001b[0;32m-> 1241\u001b[0;31m             \u001b[0;32mreturn\u001b[0m \u001b[0mself\u001b[0m\u001b[0;34m.\u001b[0m\u001b[0mread\u001b[0m\u001b[0;34m(\u001b[0m\u001b[0mnbytes\u001b[0m\u001b[0;34m,\u001b[0m \u001b[0mbuffer\u001b[0m\u001b[0;34m)\u001b[0m\u001b[0;34m\u001b[0m\u001b[0;34m\u001b[0m\u001b[0m\n\u001b[0m\u001b[1;32m   1242\u001b[0m         \u001b[0;32melse\u001b[0m\u001b[0;34m:\u001b[0m\u001b[0;34m\u001b[0m\u001b[0;34m\u001b[0m\u001b[0m\n\u001b[1;32m   1243\u001b[0m             \u001b[0;32mreturn\u001b[0m \u001b[0msuper\u001b[0m\u001b[0;34m(\u001b[0m\u001b[0;34m)\u001b[0m\u001b[0;34m.\u001b[0m\u001b[0mrecv_into\u001b[0m\u001b[0;34m(\u001b[0m\u001b[0mbuffer\u001b[0m\u001b[0;34m,\u001b[0m \u001b[0mnbytes\u001b[0m\u001b[0;34m,\u001b[0m \u001b[0mflags\u001b[0m\u001b[0;34m)\u001b[0m\u001b[0;34m\u001b[0m\u001b[0;34m\u001b[0m\u001b[0m\n",
      "\u001b[0;32m/opt/anaconda3/envs/minihackathons/lib/python3.9/ssl.py\u001b[0m in \u001b[0;36mread\u001b[0;34m(self, len, buffer)\u001b[0m\n\u001b[1;32m   1097\u001b[0m         \u001b[0;32mtry\u001b[0m\u001b[0;34m:\u001b[0m\u001b[0;34m\u001b[0m\u001b[0;34m\u001b[0m\u001b[0m\n\u001b[1;32m   1098\u001b[0m             \u001b[0;32mif\u001b[0m \u001b[0mbuffer\u001b[0m \u001b[0;32mis\u001b[0m \u001b[0;32mnot\u001b[0m \u001b[0;32mNone\u001b[0m\u001b[0;34m:\u001b[0m\u001b[0;34m\u001b[0m\u001b[0;34m\u001b[0m\u001b[0m\n\u001b[0;32m-> 1099\u001b[0;31m                 \u001b[0;32mreturn\u001b[0m \u001b[0mself\u001b[0m\u001b[0;34m.\u001b[0m\u001b[0m_sslobj\u001b[0m\u001b[0;34m.\u001b[0m\u001b[0mread\u001b[0m\u001b[0;34m(\u001b[0m\u001b[0mlen\u001b[0m\u001b[0;34m,\u001b[0m \u001b[0mbuffer\u001b[0m\u001b[0;34m)\u001b[0m\u001b[0;34m\u001b[0m\u001b[0;34m\u001b[0m\u001b[0m\n\u001b[0m\u001b[1;32m   1100\u001b[0m             \u001b[0;32melse\u001b[0m\u001b[0;34m:\u001b[0m\u001b[0;34m\u001b[0m\u001b[0;34m\u001b[0m\u001b[0m\n\u001b[1;32m   1101\u001b[0m                 \u001b[0;32mreturn\u001b[0m \u001b[0mself\u001b[0m\u001b[0;34m.\u001b[0m\u001b[0m_sslobj\u001b[0m\u001b[0;34m.\u001b[0m\u001b[0mread\u001b[0m\u001b[0;34m(\u001b[0m\u001b[0mlen\u001b[0m\u001b[0;34m)\u001b[0m\u001b[0;34m\u001b[0m\u001b[0;34m\u001b[0m\u001b[0m\n",
      "\u001b[0;31mKeyboardInterrupt\u001b[0m: "
     ]
    }
   ],
   "source": [
    "start = dt.now()\n",
    "aragorn_result = aragorn(query)\n",
    "end = dt.now()\n",
    "if 'results' in aragorn_result['message']:\n",
    "    print(f\"ARAGORN produced {len(aragorn_result['message']['results'])} results in {end-start}.\")\n",
    "else:\n",
    "    print('Error, no result field')"
   ]
  },
  {
   "cell_type": "code",
   "execution_count": null,
   "id": "clean-disclaimer",
   "metadata": {},
   "outputs": [],
   "source": [
    "view = GammaViewer(props={\"data\":aragorn_result})\n",
    "display(view)"
   ]
  },
  {
   "cell_type": "code",
   "execution_count": null,
   "id": "portuguese-testing",
   "metadata": {},
   "outputs": [],
   "source": [
    "node='n0' #this might need to change based on the query\n",
    "property_answers = filter_to_pc(aragorn_result,node)\n",
    "for pc_result in property_answers['message']['results']:\n",
    "    print_pc_result(aragorn_result['message']['knowledge_graph'],pc_result,node)"
   ]
  },
  {
   "cell_type": "code",
   "execution_count": null,
   "id": "sealed-produce",
   "metadata": {},
   "outputs": [],
   "source": [
    "property_answers['message']['results'][0]"
   ]
  },
  {
   "cell_type": "code",
   "execution_count": null,
   "id": "directed-label",
   "metadata": {},
   "outputs": [],
   "source": [
    "graph_answers=filter_to_gc(aragorn_result,node)\n",
    "for gc_result in graph_answers['message']['results']:\n",
    "    print_gc_result(aragorn_result['message']['knowledge_graph'],gc_result,node)"
   ]
  },
  {
   "cell_type": "markdown",
   "id": "editorial-diabetes",
   "metadata": {},
   "source": [
    "### ARAGORN Assessment"
   ]
  },
  {
   "cell_type": "markdown",
   "id": "compatible-registration",
   "metadata": {},
   "source": [
    "How did we do?"
   ]
  }
 ],
 "metadata": {
  "kernelspec": {
   "display_name": "Python 3",
   "language": "python",
   "name": "python3"
  },
  "language_info": {
   "codemirror_mode": {
    "name": "ipython",
    "version": 3
   },
   "file_extension": ".py",
   "mimetype": "text/x-python",
   "name": "python",
   "nbconvert_exporter": "python",
   "pygments_lexer": "ipython3",
   "version": "3.9.1"
  }
 },
 "nbformat": 4,
 "nbformat_minor": 5
}
