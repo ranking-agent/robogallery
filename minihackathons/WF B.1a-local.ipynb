{
 "cells": [
  {
   "cell_type": "code",
   "execution_count": 1,
   "id": "compatible-concord",
   "metadata": {},
   "outputs": [],
   "source": [
    "from use_translator import *"
   ]
  },
  {
   "cell_type": "code",
   "execution_count": 2,
   "id": "seven-kingdom",
   "metadata": {},
   "outputs": [],
   "source": [
    "qname = 'workflowB/B.1a_DILI-three-hop-from-disease-or-phenotypic-feature_trapi.json'"
   ]
  },
  {
   "cell_type": "code",
   "execution_count": 3,
   "id": "moved-index",
   "metadata": {},
   "outputs": [],
   "source": [
    "qfile = '/Users/bizon/Projects/SRI/minihackathons/2021-12_demo/'+qname"
   ]
  },
  {
   "cell_type": "code",
   "execution_count": 4,
   "id": "bored-diabetes",
   "metadata": {},
   "outputs": [
    {
     "name": "stdout",
     "output_type": "stream",
     "text": [
      "{\n",
      "    \"message\": {\n",
      "        \"query_graph\": {\n",
      "            \"nodes\": {\n",
      "                \"n0\": {\n",
      "                    \"ids\": [\n",
      "                        \"MONDO:0005359\"\n",
      "                    ],\n",
      "                    \"categories\": [\n",
      "                        \"biolink:DiseaseOrPhenotypicFeature\"\n",
      "                    ]\n",
      "                },\n",
      "                \"n1\": {\n",
      "                    \"categories\": [\n",
      "                        \"biolink:DiseaseOrPhenotypicFeature\"\n",
      "                    ]\n",
      "                },\n",
      "                \"n2\": {\n",
      "                    \"categories\": [\n",
      "                        \"biolink:Gene\"\n",
      "                    ]\n",
      "                },\n",
      "                \"n3\": {\n",
      "                    \"categories\": [\n",
      "                        \"biolink:ChemicalEntity\"\n",
      "                    ]\n",
      "                }\n",
      "            },\n",
      "            \"edges\": {\n",
      "                \"e01\": {\n",
      "                    \"subject\": \"n0\",\n",
      "                    \"object\": \"n1\",\n",
      "                    \"predicates\": [\n",
      "                        \"biolink:has_real_world_evidence_of_association_with\"\n",
      "                    ]\n",
      "                },\n",
      "                \"e02\": {\n",
      "                    \"subject\": \"n2\",\n",
      "                    \"object\": \"n1\",\n",
      "                    \"predicates\": [\n",
      "                        \"biolink:gene_associated_with_condition\"\n",
      "                    ]\n",
      "                },\n",
      "                \"e03\": {\n",
      "                    \"subject\": \"n2\",\n",
      "                    \"object\": \"n3\",\n",
      "                    \"predicates\": [\n",
      "                        \"biolink:related_to\"\n",
      "                    ]\n",
      "                }\n",
      "            }\n",
      "        }\n",
      "    }\n",
      "}\n"
     ]
    }
   ],
   "source": [
    "with open(qfile,'r') as inf:\n",
    "    query = json.load(inf)\n",
    "printjson(query)"
   ]
  },
  {
   "cell_type": "code",
   "execution_count": 6,
   "id": "spiritual-creativity",
   "metadata": {},
   "outputs": [
    {
     "name": "stdout",
     "output_type": "stream",
     "text": [
      "aragorn error: 500\n",
      "{'message': {'query_graph': {'nodes': {'n0': {'ids': ['MONDO:0005359'], 'categories': ['biolink:DiseaseOrPhenotypicFeature'], 'is_set': False, 'constraints': None}, 'n1': {'ids': None, 'categories': ['biolink:DiseaseOrPhenotypicFeature'], 'is_set': False, 'constraints': None}, 'n2': {'ids': None, 'categories': ['biolink:Gene'], 'is_set': False, 'constraints': None}, 'n3': {'ids': None, 'categories': ['biolink:ChemicalEntity'], 'is_set': False, 'constraints': None}}, 'edges': {'e01': {'subject': 'n0', 'object': 'n1', 'predicates': ['biolink:has_real_world_evidence_of_association_with'], 'relation': None, 'constraints': None}, 'e02': {'subject': 'n2', 'object': 'n1', 'predicates': ['biolink:gene_associated_with_condition'], 'relation': None, 'constraints': None}, 'e03': {'subject': 'n2', 'object': 'n3', 'predicates': ['biolink:related_to'], 'relation': None, 'constraints': None}}}, 'knowledge_graph': None, 'results': None}, 'logs': [{'timestamp': '2021-08-18T13:00:38.357691', 'level': 'ERROR', 'code': None, 'message': 'strider error: HTML error status code 500 returned.'}, {'timestamp': '2021-08-18T13:11:39.326612', 'level': 'ERROR', 'code': None, 'message': 'answer_coalesce error: HTML error status code 404 returned.'}, {'timestamp': '2021-08-18T17:11:39.656964', 'level': 'ERROR', 'code': None, 'message': \"Exception: 'NoneType' object is not subscriptable\"}, {'timestamp': '2021-08-18T13:11:39.674593', 'level': 'ERROR', 'code': None, 'message': 'omnicorp error: HTML error status code 500 returned.'}, {'timestamp': '2021-08-18T17:11:39.902430', 'level': 'ERROR', 'code': None, 'message': \"Exception: 'NoneType' object is not subscriptable\"}, {'timestamp': '2021-08-18T13:11:39.720521', 'level': 'ERROR', 'code': None, 'message': 'weight error: HTML error status code 500 returned.'}, {'timestamp': '2021-08-18T17:11:39.948872', 'level': 'ERROR', 'code': None, 'message': \"Exception: 'NoneType' object is not subscriptable\"}, {'timestamp': '2021-08-18T13:11:39.764058', 'level': 'ERROR', 'code': None, 'message': 'score error: HTML error status code 500 returned.'}], 'status': None, 'workflow': ['lookup', 'enrich_results', 'connect_knodes', 'score']}\n"
     ]
    }
   ],
   "source": [
    "ar = local_aragorn(query)"
   ]
  },
  {
   "cell_type": "code",
   "execution_count": null,
   "id": "congressional-documentary",
   "metadata": {},
   "outputs": [],
   "source": []
  }
 ],
 "metadata": {
  "kernelspec": {
   "display_name": "Python 3",
   "language": "python",
   "name": "python3"
  },
  "language_info": {
   "codemirror_mode": {
    "name": "ipython",
    "version": 3
   },
   "file_extension": ".py",
   "mimetype": "text/x-python",
   "name": "python",
   "nbconvert_exporter": "python",
   "pygments_lexer": "ipython3",
   "version": "3.9.1"
  }
 },
 "nbformat": 4,
 "nbformat_minor": 5
}
