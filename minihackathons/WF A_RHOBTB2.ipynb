{
 "cells": [
  {
   "cell_type": "markdown",
   "id": "southwest-flush",
   "metadata": {},
   "source": [
    "https://github.com/NCATSTranslator/minihackathons/issues/105\n",
    "\n",
    "Extra node bindings:\n",
    "https://github.com/ranking-agent/strider/issues/239\n",
    "\n",
    "Multiple inputs:\n",
    "https://github.com/ranking-agent/strider/issues/223"
   ]
  },
  {
   "cell_type": "code",
   "execution_count": 1,
   "id": "compatible-concord",
   "metadata": {},
   "outputs": [],
   "source": [
    "from use_translator import *"
   ]
  },
  {
   "cell_type": "code",
   "execution_count": 8,
   "id": "bored-diabetes",
   "metadata": {},
   "outputs": [],
   "source": [
    "query = {\n",
    "    \"message\": {\n",
    "        \"query_graph\": {\n",
    "            \"edges\": {\n",
    "                \"e01\": {\n",
    "                    \"object\": \"n0\",\n",
    "                    \"subject\": \"n1\",\n",
    "                    \"predicates\": [\n",
    "                        \"biolink:entity_regulates_entity\"\n",
    "                    ]\n",
    "                }\n",
    "            },\n",
    "            \"nodes\": {\n",
    "                \"n0\": {\n",
    "                    \"ids\": [\n",
    "                        \"NCBIGene:23221\"\n",
    "                    ],\n",
    "                    \"categories\": [\n",
    "                        \"biolink:Gene\"\n",
    "                    ]\n",
    "                },\n",
    "                \"n1\": {\n",
    "                    \"categories\": [\n",
    "                        \"biolink:Gene\"\n",
    "                    ]\n",
    "                }\n",
    "            }\n",
    "        }\n",
    "    }\n",
    "}"
   ]
  },
  {
   "cell_type": "code",
   "execution_count": 10,
   "id": "qualified-jumping",
   "metadata": {},
   "outputs": [
    {
     "name": "stdout",
     "output_type": "stream",
     "text": [
      "strider returned in 0:00:03.576486s\n",
      "Num Results: 0\n",
      "405 Client Error: Method Not Allowed for url: http://chp.thayer.dartmouth.edu/query/\n",
      "For more information check: https://httpstatuses.com/405 (1 times)\n"
     ]
    }
   ],
   "source": [
    "query['log_level']='DEBUG'\n",
    "sr = strider(query) "
   ]
  },
  {
   "cell_type": "code",
   "execution_count": 11,
   "id": "fewer-forty",
   "metadata": {},
   "outputs": [
    {
     "data": {
      "text/plain": [
       "[{'timestamp': '2021-08-12T15:20:00.209085',\n",
       "  'level': 'DEBUG',\n",
       "  'code': None,\n",
       "  'message': None,\n",
       "  'step': 'e01',\n",
       "  'description': 'Executing step: '},\n",
       " {'timestamp': '2021-08-12T15:20:00.177616',\n",
       "  'level': 'DEBUG',\n",
       "  'code': None,\n",
       "  'message': None,\n",
       "  'step': 'e01',\n",
       "  'data': {'node_bindings': {'n0': [{'id': 'NCBIGene:23221'}]},\n",
       "   'edge_bindings': {}},\n",
       "  'description': 'Recieved results from KPs'},\n",
       " {'timestamp': '2021-08-12T15:20:00.143020',\n",
       "  'level': 'DEBUG',\n",
       "  'code': None,\n",
       "  'message': None,\n",
       "  'plan': ['e01']},\n",
       " {'timestamp': '2021-08-12T15:19:59.592268',\n",
       "  'level': 'ERROR',\n",
       "  'code': None,\n",
       "  'message': 'Response Error contacting KP',\n",
       "  'response': {'status_code': 405,\n",
       "   'headers': {'server': 'nginx/1.19.0',\n",
       "    'date': 'Thu, 12 Aug 2021 15:20:00 GMT',\n",
       "    'content-type': 'application/json',\n",
       "    'content-length': '40',\n",
       "    'connection': 'keep-alive',\n",
       "    'vary': 'Accept, Cookie',\n",
       "    'allow': 'POST, OPTIONS',\n",
       "    'x-frame-options': 'DENY',\n",
       "    'x-content-type-options': 'nosniff',\n",
       "    'referrer-policy': 'same-origin'},\n",
       "   'data': '{\"detail\":\"Method \\\\\"GET\\\\\" not allowed.\"}'},\n",
       "  'request': {'method': 'GET',\n",
       "   'url': 'http://chp.thayer.dartmouth.edu/query/',\n",
       "   'headers': {'host': 'chp.thayer.dartmouth.edu',\n",
       "    'accept': '*/*',\n",
       "    'accept-encoding': 'gzip, deflate',\n",
       "    'connection': 'keep-alive',\n",
       "    'user-agent': 'python-httpx/0.18.2',\n",
       "    'content-type': 'application/json'},\n",
       "   'data': ''},\n",
       "  'error': '405 Client Error: Method Not Allowed for url: http://chp.thayer.dartmouth.edu/query/\\nFor more information check: https://httpstatuses.com/405'},\n",
       " {'timestamp': '2021-08-12T15:19:59.150580',\n",
       "  'level': 'DEBUG',\n",
       "  'code': None,\n",
       "  'message': None,\n",
       "  'step': 'e01',\n",
       "  'description': 'Executing step: '},\n",
       " {'timestamp': '2021-08-12T15:19:59.128089',\n",
       "  'level': 'DEBUG',\n",
       "  'code': None,\n",
       "  'message': None,\n",
       "  'step': 'e01',\n",
       "  'data': {'node_bindings': {'n0': [{'id': 'MONDO:0005148'}]},\n",
       "   'edge_bindings': {}},\n",
       "  'description': 'Recieved results from KPs'},\n",
       " {'timestamp': '2021-08-12T15:19:59.092532',\n",
       "  'level': 'DEBUG',\n",
       "  'code': None,\n",
       "  'message': None,\n",
       "  'plan': ['e01']},\n",
       " {'timestamp': '2021-08-12T15:19:57.688317',\n",
       "  'level': 'DEBUG',\n",
       "  'code': None,\n",
       "  'message': 'Generating plan'},\n",
       " {'timestamp': '2021-08-12T15:19:57.636836',\n",
       "  'level': 'DEBUG',\n",
       "  'code': None,\n",
       "  'message': 'Contacting node normalizer to get categorys for curies'},\n",
       " {'timestamp': '2021-08-12T15:19:57.558097',\n",
       "  'level': 'DEBUG',\n",
       "  'code': None,\n",
       "  'message': 'Initialized strider worker'}]"
      ]
     },
     "execution_count": 11,
     "metadata": {},
     "output_type": "execute_result"
    }
   ],
   "source": [
    "sr['logs']"
   ]
  },
  {
   "cell_type": "code",
   "execution_count": 5,
   "id": "spiritual-creativity",
   "metadata": {},
   "outputs": [
    {
     "name": "stdout",
     "output_type": "stream",
     "text": [
      "aragorn returned in 0:00:29.063916s\n",
      "Num Results: 4\n",
      "kgraph not returned from Columbia Open Health Data (COHD) (19 times)\n",
      "qgraph not returned from SPOKE KP (1 times)\n",
      "500 Server Error: INTERNAL SERVER ERROR for url: https://spokekp.healthdatascience.cloud/api/v1.1/query\n",
      "For more information check: https://httpstatuses.com/500 (22 times)\n",
      "500 Server Error: INTERNAL SERVER ERROR for url: https://translator.broadinstitute.org/genetics_provider/trapi/v1.1/query\n",
      "For more information check: https://httpstatuses.com/500 (22 times)\n",
      "502 Server Error: Bad Gateway for url: https://covid.cohd.io/api//query\n",
      "For more information check: https://httpstatuses.com/502 (22 times)\n",
      " (53 times)\n"
     ]
    }
   ],
   "source": [
    "ar = aragorn(query)"
   ]
  },
  {
   "cell_type": "code",
   "execution_count": 8,
   "id": "recovered-seattle",
   "metadata": {},
   "outputs": [
    {
     "name": "stdout",
     "output_type": "stream",
     "text": [
      "https://arax.ncats.io/?source=ARS&id=9215f655-c50b-4ba4-b9fe-1dd315d174fc\n"
     ]
    },
    {
     "data": {
      "text/plain": [
       "'9215f655-c50b-4ba4-b9fe-1dd315d174fc'"
      ]
     },
     "execution_count": 8,
     "metadata": {},
     "output_type": "execute_result"
    }
   ],
   "source": [
    "submit_to_ars(query)"
   ]
  },
  {
   "cell_type": "code",
   "execution_count": 10,
   "id": "neither-ultimate",
   "metadata": {},
   "outputs": [],
   "source": [
    "view = GammaViewer(props={\"data\":sr})\n",
    "display(view)"
   ]
  },
  {
   "cell_type": "code",
   "execution_count": 11,
   "id": "consolidated-ecuador",
   "metadata": {},
   "outputs": [
    {
     "data": {
      "text/plain": [
       "{'node_bindings': {'n00': [{'id': 'DRUGBANK:DB00472'},\n",
       "   {'id': 'PUBCHEM.COMPOUND:3386'}],\n",
       "  'n01': [{'id': 'MONDO:0005267'}]},\n",
       " 'edge_bindings': {'e00': [{'id': '78c320483d33'}]},\n",
       " 'score': None}"
      ]
     },
     "execution_count": 11,
     "metadata": {},
     "output_type": "execute_result"
    }
   ],
   "source": [
    "sr['message']['results'][0]"
   ]
  },
  {
   "cell_type": "code",
   "execution_count": null,
   "id": "broken-indonesia",
   "metadata": {},
   "outputs": [],
   "source": []
  }
 ],
 "metadata": {
  "kernelspec": {
   "display_name": "Python 3",
   "language": "python",
   "name": "python3"
  },
  "language_info": {
   "codemirror_mode": {
    "name": "ipython",
    "version": 3
   },
   "file_extension": ".py",
   "mimetype": "text/x-python",
   "name": "python",
   "nbconvert_exporter": "python",
   "pygments_lexer": "ipython3",
   "version": "3.9.1"
  }
 },
 "nbformat": 4,
 "nbformat_minor": 5
}
