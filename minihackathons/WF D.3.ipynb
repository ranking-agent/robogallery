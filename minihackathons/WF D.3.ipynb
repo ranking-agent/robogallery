{
 "cells": [
  {
   "cell_type": "markdown",
   "id": "southwest-flush",
   "metadata": {},
   "source": [
    "https://github.com/NCATSTranslator/minihackathons/issues/105\n",
    "\n",
    "Extra node bindings:\n",
    "https://github.com/ranking-agent/strider/issues/239\n",
    "\n",
    "Multiple inputs:\n",
    "https://github.com/ranking-agent/strider/issues/223"
   ]
  },
  {
   "cell_type": "code",
   "execution_count": 1,
   "id": "compatible-concord",
   "metadata": {},
   "outputs": [],
   "source": [
    "from use_translator import *"
   ]
  },
  {
   "cell_type": "code",
   "execution_count": 4,
   "id": "bored-diabetes",
   "metadata": {},
   "outputs": [],
   "source": [
    "query = {\"message\": {\n",
    "    \"knowledge_graph\": {\n",
    "      \"edges\": {},\n",
    "      \"nodes\": {}\n",
    "    },\n",
    "    \"query_graph\": {\n",
    "      \"edges\": {\n",
    "        \"e00\": {\n",
    "          \"object\": \"n01\",\n",
    "          \"subject\": \"n00\"\n",
    "        }\n",
    "      },\n",
    "      \"nodes\": {\n",
    "        \"n00\": {\n",
    "          \"ids\": [\n",
    "            \"DRUGBANK:DB00215\",\n",
    "            \"DRUGBANK:DB01175\",\n",
    "            \"DRUGBANK:DB00472\",\n",
    "            \"DRUGBANK:DB00176\",\n",
    "            \"DRUGBANK:DB00715\",\n",
    "            \"DRUGBANK:DB01104\"\n",
    "          ]\n",
    "        },\n",
    "        \"n01\": {\n",
    "          \"categories\": [\n",
    "            \"biolink:Disease\"\n",
    "          ],\n",
    "          \"ids\": [\n",
    "            \"DOID:114\"\n",
    "          ]\n",
    "        }\n",
    "      }\n",
    "    },\n",
    "    \"results\": []\n",
    "  }}"
   ]
  },
  {
   "cell_type": "code",
   "execution_count": 6,
   "id": "qualified-jumping",
   "metadata": {},
   "outputs": [
    {
     "name": "stdout",
     "output_type": "stream",
     "text": [
      "strider returned in 0:00:46.975414s\n",
      "Num Results: 3\n",
      "500 Server Error: INTERNAL SERVER ERROR for url: https://spokekp.healthdatascience.cloud/api/v1.1/query\n",
      "For more information check: https://httpstatuses.com/500 (12 times)\n",
      "400 Client Error: BAD REQUEST for url: https://cohd.io/api//query\n",
      "For more information check: https://httpstatuses.com/400 (12 times)\n",
      "400 Client Error: BAD REQUEST for url: https://covid.cohd.io/api//query\n",
      "For more information check: https://httpstatuses.com/400 (12 times)\n"
     ]
    }
   ],
   "source": [
    "sr = strider(query) "
   ]
  },
  {
   "cell_type": "code",
   "execution_count": 7,
   "id": "spiritual-creativity",
   "metadata": {},
   "outputs": [
    {
     "name": "stdout",
     "output_type": "stream",
     "text": [
      "aragorn returned in 0:00:47.385572s\n",
      "Num Results: 3\n",
      "500 Server Error: INTERNAL SERVER ERROR for url: https://spokekp.healthdatascience.cloud/api/v1.1/query\n",
      "For more information check: https://httpstatuses.com/500 (12 times)\n",
      "400 Client Error: BAD REQUEST for url: https://covid.cohd.io/api//query\n",
      "For more information check: https://httpstatuses.com/400 (12 times)\n",
      "400 Client Error: BAD REQUEST for url: https://cohd.io/api//query\n",
      "For more information check: https://httpstatuses.com/400 (12 times)\n",
      "Missing error message (1 times)\n"
     ]
    }
   ],
   "source": [
    "ar = aragorn(query)"
   ]
  },
  {
   "cell_type": "code",
   "execution_count": 8,
   "id": "recovered-seattle",
   "metadata": {},
   "outputs": [
    {
     "name": "stdout",
     "output_type": "stream",
     "text": [
      "https://arax.ncats.io/?source=ARS&id=9215f655-c50b-4ba4-b9fe-1dd315d174fc\n"
     ]
    },
    {
     "data": {
      "text/plain": [
       "'9215f655-c50b-4ba4-b9fe-1dd315d174fc'"
      ]
     },
     "execution_count": 8,
     "metadata": {},
     "output_type": "execute_result"
    }
   ],
   "source": [
    "submit_to_ars(query)"
   ]
  },
  {
   "cell_type": "code",
   "execution_count": 10,
   "id": "neither-ultimate",
   "metadata": {},
   "outputs": [],
   "source": [
    "view = GammaViewer(props={\"data\":sr})\n",
    "display(view)"
   ]
  },
  {
   "cell_type": "code",
   "execution_count": 11,
   "id": "consolidated-ecuador",
   "metadata": {},
   "outputs": [
    {
     "data": {
      "text/plain": [
       "{'node_bindings': {'n00': [{'id': 'DRUGBANK:DB00472'},\n",
       "   {'id': 'PUBCHEM.COMPOUND:3386'}],\n",
       "  'n01': [{'id': 'MONDO:0005267'}]},\n",
       " 'edge_bindings': {'e00': [{'id': '78c320483d33'}]},\n",
       " 'score': None}"
      ]
     },
     "execution_count": 11,
     "metadata": {},
     "output_type": "execute_result"
    }
   ],
   "source": [
    "sr['message']['results'][0]"
   ]
  },
  {
   "cell_type": "code",
   "execution_count": null,
   "id": "broken-indonesia",
   "metadata": {},
   "outputs": [],
   "source": []
  }
 ],
 "metadata": {
  "kernelspec": {
   "display_name": "Python 3",
   "language": "python",
   "name": "python3"
  },
  "language_info": {
   "codemirror_mode": {
    "name": "ipython",
    "version": 3
   },
   "file_extension": ".py",
   "mimetype": "text/x-python",
   "name": "python",
   "nbconvert_exporter": "python",
   "pygments_lexer": "ipython3",
   "version": "3.9.1"
  }
 },
 "nbformat": 4,
 "nbformat_minor": 5
}
