{
 "cells": [
  {
   "cell_type": "markdown",
   "id": "southwest-flush",
   "metadata": {},
   "source": [
    "https://github.com/NCATSTranslator/minihackathons/issues/99\n"
   ]
  },
  {
   "cell_type": "code",
   "execution_count": 1,
   "id": "compatible-concord",
   "metadata": {},
   "outputs": [],
   "source": [
    "from use_translator import *"
   ]
  },
  {
   "cell_type": "code",
   "execution_count": 12,
   "id": "bored-diabetes",
   "metadata": {},
   "outputs": [],
   "source": [
    "query = {\"log_level\":\"WARNING\",\n",
    "         \"message\": {\n",
    "    \"query_graph\": {\n",
    "      \"edges\": {\n",
    "        \"e00\": {\n",
    "          \"object\": \"n01\",\n",
    "          \"subject\": \"n00\"\n",
    "        },\n",
    "        \"e01\": {\n",
    "          \"object\": \"n02\",\n",
    "          \"subject\": \"n01\"\n",
    "        }\n",
    "      },\n",
    "      \"nodes\": {\n",
    "        \"n00\": {\n",
    "          \"categories\": [\n",
    "            \"biolink:ChemicalEntity\"\n",
    "          ],\n",
    "          \"ids\": [\n",
    "            \"DRUGBANK:DB00215\",\n",
    "            \"DRUGBANK:DB01175\",\n",
    "            \"DRUGBANK:DB00472\",\n",
    "            \"DRUGBANK:DB00176\",\n",
    "            \"DRUGBANK:DB00715\",\n",
    "            \"DRUGBANK:DB01104\"\n",
    "          ]\n",
    "        },\n",
    "        \"n01\": {\n",
    "          \"categories\": [\n",
    "            \"biolink:Gene\"\n",
    "          ]\n",
    "        },\n",
    "        \"n02\": {\n",
    "          \"categories\": [\n",
    "            \"biolink:Disease\"\n",
    "          ],\n",
    "          \"ids\": [\n",
    "            \"DOID:114\"\n",
    "          ]\n",
    "        }\n",
    "      }\n",
    "    }\n",
    "  }\n",
    "        }"
   ]
  },
  {
   "cell_type": "code",
   "execution_count": 13,
   "id": "qualified-jumping",
   "metadata": {},
   "outputs": [
    {
     "name": "stdout",
     "output_type": "stream",
     "text": [
      "strider returned in 0:01:24.879748s\n",
      "Num Results: 248\n",
      "Could not find preferred prefixes for at least one of: ['biolink:Protein', 'biolink:GeneProductMixin', 'biolink:Polypeptide', 'biolink:ThingWithTaxon', 'biolink:BiologicalEntity', 'biolink:NamedThing', 'biolink:Entity', 'biolink:GeneOrGeneProduct', 'biolink:MacromolecularMachineMixin'] (275 times)\n",
      "0:01:24.891353\n"
     ]
    }
   ],
   "source": [
    "start = dt.now()\n",
    "try:\n",
    "    sr = strider(query) \n",
    "except:\n",
    "    pass\n",
    "end = dt.now()\n",
    "print(end-start)"
   ]
  },
  {
   "cell_type": "code",
   "execution_count": 15,
   "id": "entitled-winter",
   "metadata": {},
   "outputs": [
    {
     "name": "stdout",
     "output_type": "stream",
     "text": [
      "aragorn returned in 0:01:33.645880s\n",
      "Num Results: 362\n",
      "Automat Covidkop KG (trapi v-1.1.2) took >60 seconds to respond (9 times)\n",
      "Automat Robokop KG (trapi v-1.1.2) took >60 seconds to respond (7 times)\n",
      "Could not find preferred prefixes for at least one of: ['biolink:ChemicalEntity', 'biolink:PhysicalEssence', 'biolink:NamedThing', 'biolink:Entity', 'biolink:PhysicalEssenceOrOccurrent'] (2 times)\n",
      "Could not find preferred prefixes for at least one of: ['biolink:Protein', 'biolink:GeneProductMixin', 'biolink:Polypeptide', 'biolink:ThingWithTaxon', 'biolink:BiologicalEntity', 'biolink:NamedThing', 'biolink:Entity', 'biolink:GeneOrGeneProduct', 'biolink:MacromolecularMachineMixin'] (275 times)\n"
     ]
    }
   ],
   "source": [
    "ar = aragorn(query)"
   ]
  },
  {
   "cell_type": "code",
   "execution_count": null,
   "id": "formal-microphone",
   "metadata": {},
   "outputs": [],
   "source": []
  }
 ],
 "metadata": {
  "kernelspec": {
   "display_name": "Python 3",
   "language": "python",
   "name": "python3"
  },
  "language_info": {
   "codemirror_mode": {
    "name": "ipython",
    "version": 3
   },
   "file_extension": ".py",
   "mimetype": "text/x-python",
   "name": "python",
   "nbconvert_exporter": "python",
   "pygments_lexer": "ipython3",
   "version": "3.9.1"
  }
 },
 "nbformat": 4,
 "nbformat_minor": 5
}
