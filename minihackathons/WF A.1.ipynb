{
 "cells": [
  {
   "cell_type": "code",
   "execution_count": 7,
   "id": "compatible-concord",
   "metadata": {},
   "outputs": [],
   "source": [
    "from use_translator import *"
   ]
  },
  {
   "cell_type": "code",
   "execution_count": 8,
   "id": "seven-kingdom",
   "metadata": {},
   "outputs": [],
   "source": [
    "qname = 'workflowA/A.1_RHOBTB2.json'"
   ]
  },
  {
   "cell_type": "code",
   "execution_count": 9,
   "id": "moved-index",
   "metadata": {},
   "outputs": [],
   "source": [
    "qfile = '/Users/bizon/Projects/SRI/minihackathons/2021-12_demo/'+qname"
   ]
  },
  {
   "cell_type": "code",
   "execution_count": 10,
   "id": "bored-diabetes",
   "metadata": {},
   "outputs": [
    {
     "name": "stdout",
     "output_type": "stream",
     "text": [
      "{\n",
      "    \"message\": {\n",
      "        \"query_graph\": {\n",
      "            \"edges\": {\n",
      "                \"e01\": {\n",
      "                    \"object\": \"n0\",\n",
      "                    \"subject\": \"n1\",\n",
      "                    \"predicates\": [\n",
      "                        \"biolink:entity_negatively_regulates_entity\"\n",
      "                    ]\n",
      "                }\n",
      "            },\n",
      "            \"nodes\": {\n",
      "                \"n0\": {\n",
      "                    \"ids\": [\n",
      "                        \"NCBIGene:23221\"\n",
      "                    ],\n",
      "                    \"categories\": [\n",
      "                        \"biolink:Gene\"\n",
      "                    ]\n",
      "                },\n",
      "                \"n1\": {\n",
      "                    \"categories\": [\n",
      "                        \"biolink:Gene\"\n",
      "                    ]\n",
      "                }\n",
      "            }\n",
      "        }\n",
      "    }\n",
      "}\n"
     ]
    }
   ],
   "source": [
    "with open(qfile,'r') as inf:\n",
    "    query = json.load(inf)\n",
    "printjson(query)"
   ]
  },
  {
   "cell_type": "code",
   "execution_count": 12,
   "id": "qualified-jumping",
   "metadata": {},
   "outputs": [
    {
     "name": "stdout",
     "output_type": "stream",
     "text": [
      "strider returned in 0:00:03.689520s\n",
      "Num Results: 4\n"
     ]
    }
   ],
   "source": [
    "sr = strider(query) "
   ]
  },
  {
   "cell_type": "code",
   "execution_count": 14,
   "id": "spiritual-creativity",
   "metadata": {},
   "outputs": [
    {
     "name": "stdout",
     "output_type": "stream",
     "text": [
      "aragorn returned in 0:00:03.285291s\n",
      "Num Results: 0\n"
     ]
    }
   ],
   "source": [
    "ar = aragorn(query)"
   ]
  },
  {
   "cell_type": "code",
   "execution_count": null,
   "id": "single-novel",
   "metadata": {},
   "outputs": [],
   "source": []
  }
 ],
 "metadata": {
  "kernelspec": {
   "display_name": "Python 3",
   "language": "python",
   "name": "python3"
  },
  "language_info": {
   "codemirror_mode": {
    "name": "ipython",
    "version": 3
   },
   "file_extension": ".py",
   "mimetype": "text/x-python",
   "name": "python",
   "nbconvert_exporter": "python",
   "pygments_lexer": "ipython3",
   "version": "3.9.1"
  }
 },
 "nbformat": 4,
 "nbformat_minor": 5
}
