{
 "cells": [
  {
   "cell_type": "code",
   "execution_count": 1,
   "id": "compatible-concord",
   "metadata": {},
   "outputs": [],
   "source": [
    "from use_translator import *"
   ]
  },
  {
   "cell_type": "code",
   "execution_count": 5,
   "id": "adapted-viking",
   "metadata": {},
   "outputs": [],
   "source": [
    "qname = 'workflowA/A.2_RHOBTB2_twohop.json'"
   ]
  },
  {
   "cell_type": "code",
   "execution_count": 6,
   "id": "young-documentation",
   "metadata": {},
   "outputs": [],
   "source": [
    "qfile = '/Users/bizon/Projects/SRI/minihackathons/2021-12_demo/'+qname"
   ]
  },
  {
   "cell_type": "code",
   "execution_count": 12,
   "id": "bored-diabetes",
   "metadata": {},
   "outputs": [
    {
     "name": "stdout",
     "output_type": "stream",
     "text": [
      "{\n",
      "    \"message\": {\n",
      "        \"query_graph\": {\n",
      "            \"edges\": {\n",
      "                \"e01\": {\n",
      "                    \"object\": \"n0\",\n",
      "                    \"subject\": \"n1\",\n",
      "                    \"predicates\": [\n",
      "                        \"biolink:entity_regulates_entity\"\n",
      "                    ]\n",
      "                },\n",
      "                \"e02\": {\n",
      "                    \"object\": \"n1\",\n",
      "                    \"subject\": \"n2\",\n",
      "                    \"predicates\": [\n",
      "                        \"biolink:related_to\"\n",
      "                    ]\n",
      "                }\n",
      "            },\n",
      "            \"nodes\": {\n",
      "                \"n0\": {\n",
      "                    \"ids\": [\n",
      "                        \"NCBIGene:23221\"\n",
      "                    ],\n",
      "                    \"categories\": [\n",
      "                        \"biolink:Gene\"\n",
      "                    ]\n",
      "                },\n",
      "                \"n1\": {\n",
      "                    \"categories\": [\n",
      "                        \"biolink:Gene\"\n",
      "                    ]\n",
      "                },\n",
      "                \"n2\": {\n",
      "                    \"categories\": [\n",
      "                        \"biolink:SmallMolecule\"\n",
      "                    ]\n",
      "                }\n",
      "            }\n",
      "        }\n",
      "    }\n",
      "}\n"
     ]
    }
   ],
   "source": [
    "with open(qfile,'r') as inf:\n",
    "    query = json.load(inf)\n",
    "printjson(query)"
   ]
  },
  {
   "cell_type": "code",
   "execution_count": 15,
   "id": "qualified-jumping",
   "metadata": {},
   "outputs": [
    {
     "name": "stdout",
     "output_type": "stream",
     "text": [
      "strider returned in 0:00:06.713041s\n",
      "Num Results: 0\n"
     ]
    }
   ],
   "source": [
    "sr = strider(query) "
   ]
  },
  {
   "cell_type": "code",
   "execution_count": 14,
   "id": "spiritual-creativity",
   "metadata": {},
   "outputs": [
    {
     "name": "stdout",
     "output_type": "stream",
     "text": [
      "aragorn returned in 0:00:07.402278s\n",
      "Num Results: 0\n"
     ]
    }
   ],
   "source": [
    "ar = aragorn(query)"
   ]
  },
  {
   "cell_type": "code",
   "execution_count": null,
   "id": "chemical-strand",
   "metadata": {},
   "outputs": [],
   "source": []
  }
 ],
 "metadata": {
  "kernelspec": {
   "display_name": "Python 3",
   "language": "python",
   "name": "python3"
  },
  "language_info": {
   "codemirror_mode": {
    "name": "ipython",
    "version": 3
   },
   "file_extension": ".py",
   "mimetype": "text/x-python",
   "name": "python",
   "nbconvert_exporter": "python",
   "pygments_lexer": "ipython3",
   "version": "3.9.1"
  }
 },
 "nbformat": 4,
 "nbformat_minor": 5
}
