{
 "cells": [
  {
   "cell_type": "code",
   "execution_count": 14,
   "metadata": {},
   "outputs": [],
   "source": [
    "import requests\n",
    "import json"
   ]
  },
  {
   "cell_type": "code",
   "execution_count": 27,
   "metadata": {},
   "outputs": [],
   "source": [
    "def one_hop_message(curiea,typea,typeb,edgetype,reverse=False):\n",
    "    query_graph = {\n",
    "    \"nodes\": [\n",
    "        {\n",
    "            \"id\": \"a\",\n",
    "            \"type\": typea,\n",
    "            \"curie\": curiea\n",
    "        },\n",
    "        {\n",
    "            \"id\": \"b\",\n",
    "            \"type\": typeb\n",
    "        }\n",
    "    ],\n",
    "    \"edges\": [\n",
    "        {\n",
    "            \"id\": \"ab\",\n",
    "            \"source_id\": \"a\",\n",
    "            \"target_id\": \"b\"\n",
    "        }\n",
    "    ]\n",
    "    }\n",
    "    if edgetype is not None:\n",
    "        query_graph['edges'][0]['type'] = edgetype\n",
    "        if reverse:\n",
    "            query_graph['edges'][0]['source_id'] = 'b'\n",
    "            query_graph['edges'][0]['target_id'] = 'a'\n",
    "    message = {\"message\": {\"query_graph\": query_graph,\n",
    "                          'knowledge_graph':{\"nodes\": [], \"edges\": [],}, \n",
    "                           'results':[{\"node_bindings\": [],\"edge_bindings\": []}]}}\n",
    "    return message"
   ]
  },
  {
   "cell_type": "code",
   "execution_count": 84,
   "metadata": {},
   "outputs": [],
   "source": [
    "def striderandfriends(message):\n",
    "    url = 'http://robokop.renci.org:5781/query'\n",
    "    response = requests.post(url,json=message)\n",
    "    if not response.status_code == 200:\n",
    "        print('strider:',response.status_code)\n",
    "        return {}\n",
    "    strider_answer = response.json()\n",
    "    numanswers = len(strider_answer['results'])\n",
    "    if (numanswers == 0) or ((numanswers == 1) and (len(strider_answer['results'][0]['node_bindings'])==0)):\n",
    "        print('no answers')\n",
    "        return {}\n",
    "    #Strider for some reason doesn't return the query graph\n",
    "    strider_answer['query_graph'] = message['message']['query_graph']\n",
    "    message2 = {'message': strider_answer}\n",
    "    weight_url = 'https://aragorn-ranker.renci.org/weight_correctness'\n",
    "    response = requests.post(weight_url, json = message2)\n",
    "    if not response.status_code == 200:\n",
    "        print('weight:',response.status_code)\n",
    "        return message2\n",
    "    message3 = {'message': response.json()}\n",
    "    score_url = 'https://aragorn-ranker.renci.org/score'\n",
    "    response = requests.post(score_url, json = message3)\n",
    "    if not response.status_code == 200:\n",
    "        print('score:',response.status_code)\n",
    "        return message3\n",
    "    answercoalesce_url =  'https://answercoalesce.renci.org/coalesce'\n",
    "    params = {'method':'graph'}\n",
    "    message4 = {'message': response.json()}\n",
    "    p_r = requests.post(url,json=message4,params=params)\n",
    "    if not response.status_code == 200:\n",
    "        print('ac:',response.status_code)\n",
    "        return message4\n",
    "    return p_r.json()"
   ]
  },
  {
   "cell_type": "code",
   "execution_count": 43,
   "metadata": {},
   "outputs": [
    {
     "name": "stdout",
     "output_type": "stream",
     "text": [
      "no answers\n"
     ]
    }
   ],
   "source": [
    "#Drugs that treat schizophrenia\n",
    "#message = one_hop_message('MONDO:0005090','disease','chemical_substance','treats',reverse=True)\n",
    "message= one_hop_message('MONDO:0005015','disease','chemical_substance','treats',reverse=True)\n",
    "results = striderandfriends(message)\n",
    "#print(results)"
   ]
  },
  {
   "cell_type": "code",
   "execution_count": 70,
   "metadata": {},
   "outputs": [],
   "source": [
    "#Target for aspirin\n",
    "message= one_hop_message('CHEBI:15365','chemical_substance','gene','related_to')\n",
    "results = striderandfriends(message)"
   ]
  },
  {
   "cell_type": "code",
   "execution_count": 78,
   "metadata": {},
   "outputs": [
    {
     "name": "stdout",
     "output_type": "stream",
     "text": [
      "no answers\n"
     ]
    }
   ],
   "source": [
    "#genes that cause cystic fibrosis\n",
    "message= one_hop_message('MONDO:0009061','disease','gene','causes',reverse=True)\n",
    "results = striderandfriends(message)"
   ]
  },
  {
   "cell_type": "code",
   "execution_count": 85,
   "metadata": {},
   "outputs": [
    {
     "name": "stdout",
     "output_type": "stream",
     "text": [
      "no answers\n"
     ]
    }
   ],
   "source": [
    "#phenotypes of Charcot Marie Tooth\n",
    "message = one_hop_message('MONDO:0015626','disease','phenotypic_feature','has_phenotype')\n",
    "results = striderandfriends(message)"
   ]
  },
  {
   "cell_type": "code",
   "execution_count": 87,
   "metadata": {},
   "outputs": [
    {
     "name": "stdout",
     "output_type": "stream",
     "text": [
      "no answers\n"
     ]
    }
   ],
   "source": [
    "#What cells are in the brain?\n",
    "message = one_hop_message('UBERON:0000955','anatomical_entity','cell','part_of',reverse=True)\n",
    "results = striderandfriends(message)"
   ]
  },
  {
   "cell_type": "code",
   "execution_count": 88,
   "metadata": {},
   "outputs": [
    {
     "name": "stdout",
     "output_type": "stream",
     "text": [
      "no answers\n"
     ]
    }
   ],
   "source": [
    "#which genes enable glycolipid binding?\n",
    "message = one_hop_message('GO:0051861','molecular_activity','gene','enabled_by')\n",
    "results = striderandfriends(message)"
   ]
  },
  {
   "cell_type": "code",
   "execution_count": 89,
   "metadata": {},
   "outputs": [
    {
     "name": "stdout",
     "output_type": "stream",
     "text": [
      "no answers\n"
     ]
    }
   ],
   "source": [
    "#what part of the body does vasculitis affect?\n",
    "message = one_hop_message('MONDO:0018882','disease','anatomical_entity','affects')\n",
    "results = striderandfriends(message)"
   ]
  },
  {
   "cell_type": "code",
   "execution_count": null,
   "metadata": {},
   "outputs": [],
   "source": []
  }
 ],
 "metadata": {
  "kernelspec": {
   "display_name": "Python 3",
   "language": "python",
   "name": "python3"
  },
  "language_info": {
   "codemirror_mode": {
    "name": "ipython",
    "version": 3
   },
   "file_extension": ".py",
   "mimetype": "text/x-python",
   "name": "python",
   "nbconvert_exporter": "python",
   "pygments_lexer": "ipython3",
   "version": "3.8.5"
  }
 },
 "nbformat": 4,
 "nbformat_minor": 4
}
