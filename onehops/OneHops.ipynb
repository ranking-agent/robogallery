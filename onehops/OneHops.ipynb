{
 "cells": [
  {
   "cell_type": "code",
   "execution_count": 37,
   "metadata": {},
   "outputs": [],
   "source": [
    "import requests\n",
    "import json"
   ]
  },
  {
   "cell_type": "code",
   "execution_count": 38,
   "metadata": {},
   "outputs": [],
   "source": [
    "from gamma_viewer import GammaViewer\n",
    "from IPython.display import display"
   ]
  },
  {
   "cell_type": "code",
   "execution_count": 2,
   "metadata": {},
   "outputs": [],
   "source": [
    "def one_hop_message(curiea,typea,typeb,edgetype,reverse=False):\n",
    "    query_graph = {\n",
    "    \"nodes\": [\n",
    "        {\n",
    "            \"id\": \"a\",\n",
    "            \"type\": typea,\n",
    "            \"curie\": curiea\n",
    "        },\n",
    "        {\n",
    "            \"id\": \"b\",\n",
    "            \"type\": typeb\n",
    "        }\n",
    "    ],\n",
    "    \"edges\": [\n",
    "        {\n",
    "            \"id\": \"ab\",\n",
    "            \"source_id\": \"a\",\n",
    "            \"target_id\": \"b\"\n",
    "        }\n",
    "    ]\n",
    "    }\n",
    "    if edgetype is not None:\n",
    "        query_graph['edges'][0]['type'] = edgetype\n",
    "        if reverse:\n",
    "            query_graph['edges'][0]['source_id'] = 'b'\n",
    "            query_graph['edges'][0]['target_id'] = 'a'\n",
    "    message = {\"message\": {\"query_graph\": query_graph,\n",
    "                          'knowledge_graph':{\"nodes\": [], \"edges\": [],}, \n",
    "                           'results':[]}}\n",
    "    return message"
   ]
  },
  {
   "cell_type": "code",
   "execution_count": 83,
   "metadata": {},
   "outputs": [],
   "source": [
    "def automat(db,message):\n",
    "    automat_url = f'https://automat.renci.org/{db}/query'\n",
    "    response = requests.post(automat_url,json=message['message'])\n",
    "    print(response.status_code)\n",
    "    return response.json()\n",
    "\n",
    "def post(name,url,message,params=None):\n",
    "    if params is None:\n",
    "        response = requests.post(url,json=message)\n",
    "    else:\n",
    "        response = requests.post(url,json=message,params=params)\n",
    "    if not response.status_code == 200:\n",
    "        print(name, 'error:',response.status_code)\n",
    "        return {}\n",
    "    return response.json()\n",
    "\n",
    "def strider(message):\n",
    "    url = 'http://robokop.renci.org:5781/query'\n",
    "    strider_answer = post(strider,url,message)\n",
    "    numanswers = len(strider_answer['results'])\n",
    "    if (numanswers == 0) or ((numanswers == 1) and (len(strider_answer['results'][0]['node_bindings'])==0)):\n",
    "        print('no answers')\n",
    "        return {}\n",
    "    #Strider for some reason doesn't return the query graph\n",
    "    strider_answer['query_graph'] = message['message']['query_graph']\n",
    "    return strider_answer\n",
    "    \n",
    "def striderandfriends(message):\n",
    "    strider_answer = strider(message)\n",
    "    omni_answer = post('omnicorp','https://aragorn-ranker.renci.org/omnicorp_overlay',{'message': strider_answer})\n",
    "    weighted_answer = post('weight','https://aragorn-ranker.renci.org/weight_correctness',{'message': omni_answer})\n",
    "    scored_answer = post('score','https://aragorn-ranker.renci.org/score',{'message': weighted_answer})\n",
    "    coalesced_answer = post('coalesce','https://answercoalesce.renci.org/coalesce',scored_answer,params={'method':'graph'})\n",
    "    return strider_answer,scored_answer,coalesced_answer"
   ]
  },
  {
   "cell_type": "code",
   "execution_count": 84,
   "metadata": {},
   "outputs": [
    {
     "name": "stdout",
     "output_type": "stream",
     "text": [
      "{'id': 'extra_qn_0', 'type': ['named_thing', 'biological_entity', 'disease', 'disease_or_phenotypic_feature']}\n"
     ]
    }
   ],
   "source": [
    "#Drugs that treat schizophrenia\n",
    "message = one_hop_message('MONDO:0005090','disease','chemical_substance','treats',reverse=True)\n",
    "answer,scored,results = striderandfriends(message)\n",
    "#print(answer['query_graph'])\n",
    "#have to do some minor surgery to get the viewer to work\n",
    "del scored['query_graph']['nodes'][1]['curie']\n",
    "del results['query_graph']['nodes'][1]['curie']\n",
    "etypes = results['query_graph']['nodes'][2]['type'] \n",
    "print(results['query_graph']['nodes'][2])\n",
    "results['query_graph']['nodes'][2]['type'] = etypes[-1]"
   ]
  },
  {
   "cell_type": "code",
   "execution_count": 81,
   "metadata": {},
   "outputs": [
    {
     "data": {
      "text/plain": [
       "{'nodes': [{'id': 'a', 'curie': 'MONDO:0005090', 'type': 'disease'},\n",
       "  {'id': 'b', 'type': 'chemical_substance', 'set': True},\n",
       "  {'id': 'extra_qn_0', 'type': 'e'}],\n",
       " 'edges': [{'id': 'ab', 'source_id': 'b', 'target_id': 'a', 'type': 'treats'},\n",
       "  {'id': 'extra_qe_0', 'source_id': 'b', 'target_id': 'extra_qn_0'}]}"
      ]
     },
     "execution_count": 81,
     "metadata": {},
     "output_type": "execute_result"
    }
   ],
   "source": [
    "results['query_graph']"
   ]
  },
  {
   "cell_type": "code",
   "execution_count": 76,
   "metadata": {},
   "outputs": [],
   "source": [
    "view = GammaViewer(props={\"data\":results})\n",
    "display(view)"
   ]
  },
  {
   "cell_type": "code",
   "execution_count": 6,
   "metadata": {},
   "outputs": [],
   "source": [
    "#Target for aspirin\n",
    "message= one_hop_message('CHEBI:15365','chemical_substance','gene','related_to')\n",
    "results = striderandfriends(message)"
   ]
  },
  {
   "cell_type": "code",
   "execution_count": 26,
   "metadata": {},
   "outputs": [
    {
     "name": "stdout",
     "output_type": "stream",
     "text": [
      "{}\n"
     ]
    }
   ],
   "source": [
    "print(json.dumps(results,indent=4))"
   ]
  },
  {
   "cell_type": "code",
   "execution_count": 7,
   "metadata": {},
   "outputs": [],
   "source": [
    "#genes that cause cystic fibrosis\n",
    "message= one_hop_message('MONDO:0009061','disease','gene','causes',reverse=True)\n",
    "results = striderandfriends(message)"
   ]
  },
  {
   "cell_type": "code",
   "execution_count": 8,
   "metadata": {},
   "outputs": [],
   "source": [
    "#phenotypes of Charcot Marie Tooth\n",
    "message = one_hop_message('MONDO:0015626','disease','phenotypic_feature','has_phenotype')\n",
    "results = striderandfriends(message)"
   ]
  },
  {
   "cell_type": "code",
   "execution_count": 9,
   "metadata": {},
   "outputs": [],
   "source": [
    "#What cells are in the brain?\n",
    "message = one_hop_message('UBERON:0000955','anatomical_entity','cell','part_of',reverse=True)\n",
    "results = striderandfriends(message)"
   ]
  },
  {
   "cell_type": "code",
   "execution_count": 10,
   "metadata": {},
   "outputs": [],
   "source": [
    "#which genes enable glycolipid binding?\n",
    "message = one_hop_message('GO:0051861','molecular_activity','gene','enabled_by')\n",
    "results = striderandfriends(message)"
   ]
  },
  {
   "cell_type": "code",
   "execution_count": 17,
   "metadata": {},
   "outputs": [
    {
     "name": "stdout",
     "output_type": "stream",
     "text": [
      "500\n",
      "{'message': {'query_graph': {'nodes': [{'id': 'a', 'type': 'disease', 'curie': 'MONDO:0018882'}, {'id': 'b', 'type': 'anatomical_entity'}], 'edges': [{'id': 'ab', 'source_id': 'a', 'target_id': 'b', 'type': 'biolink:affects'}]}, 'knowledge_graph': {'nodes': [], 'edges': []}, 'results': []}}\n",
      "{'error': ''}\n"
     ]
    }
   ],
   "source": [
    "#what part of the body does vasculitis affect?\n",
    "message = one_hop_message('MONDO:0018882','disease','anatomical_entity','biolink:affects')\n",
    "results = automat('uberongraph',message)\n",
    "#results = striderandfriends(message)\n",
    "print(message)\n",
    "print(results)"
   ]
  },
  {
   "cell_type": "code",
   "execution_count": 12,
   "metadata": {},
   "outputs": [
    {
     "name": "stdout",
     "output_type": "stream",
     "text": [
      "no answers\n",
      "{'query_graph': {'nodes': [{'id': 'a', 'curie': 'MONDO:0005015', 'type': 'disease'}, {'id': 'b', 'curie': None, 'type': 'disease'}], 'edges': [{'id': 'ab', 'source_id': 'b', 'target_id': 'a', 'type': 'subclass_of'}]}, 'knowledge_graph': {'nodes': [], 'edges': []}, 'results': []}\n"
     ]
    }
   ],
   "source": [
    "#what are the types of diabetes?\n",
    "message = one_hop_message('MONDO:0005015','disease','disease','subclass_of',reverse=True)\n",
    "results = striderandfriends(message)"
   ]
  },
  {
   "cell_type": "code",
   "execution_count": null,
   "metadata": {},
   "outputs": [],
   "source": []
  }
 ],
 "metadata": {
  "kernelspec": {
   "display_name": "Python 3",
   "language": "python",
   "name": "python3"
  },
  "language_info": {
   "codemirror_mode": {
    "name": "ipython",
    "version": 3
   },
   "file_extension": ".py",
   "mimetype": "text/x-python",
   "name": "python",
   "nbconvert_exporter": "python",
   "pygments_lexer": "ipython3",
   "version": "3.8.5"
  }
 },
 "nbformat": 4,
 "nbformat_minor": 4
}
